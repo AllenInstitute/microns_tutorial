{
 "cells": [
  {
   "cell_type": "markdown",
   "id": "26c56379-b4e4-414b-a7e6-b74e8b67136a",
   "metadata": {},
   "source": [
    "---\n",
    "title: \"Python Tools\"\n",
    "draft: false\n",
    "format: \n",
    "    html:\n",
    "        toc: true\n",
    "bibliography: references.bib\n",
    "---"
   ]
  },
  {
   "cell_type": "markdown",
   "id": "01d46597-f20a-4397-94a0-e2542ffca260",
   "metadata": {},
   "source": [
    "\n",
    "![Connectome Annotation Versioning Engine (CAVE) a computational infrastructure developed to manage, proofread, and analyze large connetomic datasets efficiently and collaboratively](img/proofreading_annotating_analysis.png)\n",
    "\n",
    "\n",
    "\n",
    "The MICrONS dataset, spanning one cubic millimeter of mouse cortex, is comprised of petabytes of data from 1) *in vivo* functional imaging, 2) electron microscopy images at nanometer resolution, 3) dense segmentation of 200,000 brain cells, and 4) half a billion synapses, and 5) hundreds of thousands of other annotations to label the data.\n",
    "\n",
    "To enable systematic analysis without downloading hundreds of gigabytes of data, users can selectively access cloud-based data programmatically through a collection of open source Python clients:\n",
    "\n",
    "\n",
    "| Tool Name | Data Products | URLs | \n",
    "| :-- | :-- | :---- |\n",
    "| cloud-volume | EM imagery, voxel segmentation, and meshes | https://github.com/seung-lab/cloud-volume |\n",
    "| MeshParty | EM meshes and skeletons | https://github.com/CAVEconnectome/MeshParty |\n",
    "| CAVEclient | EM structural annotations (synapses, cell-types, etc.) segmentation edits, local geometric properties | https://github.com/CAVEconnectome/CAVEclient |\n",
    "| microns-nda | Functional imaging DataJoint database | https://github.com/cajal/microns-nda-access |\n",
    "\n",
    ": Data Access Tools, as of 2025\n",
    "\n",
    "\n",
    "The functional data, including calcium traces, stimuli, behavioural measures and more, are available in a DataJoint database that can be accessed using [DataJoint’s Python API](https://datajoint.com/docs/), or is available as neurodata without borders (NWB) files on the [Distributed Archives for Neurophysiology Data Integration (DANDI) Archive](https://dandiarchive.org/dandiset/000402). \n",
    "\n",
    "EM imagery and segmentation volumes are hosted on Google or AWS servers, and accessed with the python client [cloud-volume](https://github.com/seung-lab/cloud-volume). Mesh files describing the shape of cells can be downloaded with cloud-volume, which also provides features for convenient mesh analysis, skeletonization and visualization. \n",
    "\n",
    "These meshes can be decomposed and richly annotated for automated proofreading and morphological analysis of processes and spines using [NEURD](https://github.com/reimerlab/NEURD). For more, see reference: [@celii_neurd_2025]\n",
    "\n",
    "Annotations on the structural data, such as synapses and cell body locations, can be queried via CAVE client, a Python interface to the **Connectome Annotation Versioning Engine (CAVE)** APIs. CAVE encompasses a set of microservices for collaborative proofreading and analysis of large-scale volumetric data. For more, see reference: [@dorkenwald_cave_2025]\n",
    "\n",
    "<h4>The Quickstart Notebooks in this section provide an introduction to CAVE, and examples of how to interact with CAVEclient, MeshParty, and cloud-volume.</h4>\n",
    "\n",
    "::::{.grid}\n",
    "\n",
    ":::{.g-col-2}\n",
    "![](img/cave_icon.png)\n",
    ":::\n",
    "\n",
    ":::{.g-col-4}\n",
    "![](img/aibs_logo.png)\n",
    ":::\n",
    "\n",
    ":::{.g-col-4}\n",
    "![](img/Princeton_logo.png)\n",
    ":::\n",
    "\n",
    "::::\n",
    "\n"
   ]
  }
 ],
 "metadata": {
  "kernelspec": {
   "display_name": "microns2025",
   "language": "python",
   "name": "microns2025"
  },
  "language_info": {
   "codemirror_mode": {
    "name": "ipython",
    "version": 3
   },
   "file_extension": ".py",
   "mimetype": "text/x-python",
   "name": "python",
   "nbconvert_exporter": "python",
   "pygments_lexer": "ipython3",
   "version": "3.11.11"
  }
 },
 "nbformat": 4,
 "nbformat_minor": 5
}
