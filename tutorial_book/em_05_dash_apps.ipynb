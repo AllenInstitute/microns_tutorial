{
 "cells": [
  {
   "cell_type": "markdown",
   "id": "ab064c07-3dcf-4e86-8558-c50c7bd2827f",
   "metadata": {
    "tags": []
   },
   "source": [
    "---\n",
    "title: \"Dash Apps\"\n",
    "format: \n",
    "    html:\n",
    "        toc: true\n",
    "bibliography: references.bib\n",
    "---"
   ]
  },
  {
   "cell_type": "markdown",
   "id": "f72669a9-d223-4e16-823e-1cfdf4ce5ceb",
   "metadata": {},
   "source": [
    "We have created two webapps to help explore and visualize the data.\n",
    "\n",
    "These apps were created using the [Dash](https://plotly.com/dash/) framework, hence the name."
   ]
  },
  {
   "cell_type": "markdown",
   "id": "8b1ff5f3-c332-4068-a1b6-b8afc304f027",
   "metadata": {},
   "source": [
    "## Table Viewer\n",
    "\n",
    "The [**Table Viewer**](https://minnie.microns-daf.com/dash/datastack/minnie65_public/apps/table_viewer/?datastack=%22minnie65_public%22) app allows you to query individual tables in the database, filter them, and visualize the results in Neuroglancer.\n",
    "\n",
    "![Table viewer input options](img/table-viewer.png)\n"
   ]
  },
  {
   "cell_type": "markdown",
   "id": "0f02b9b2-16d6-4ba7-85df-54ae18acd768",
   "metadata": {},
   "source": [
    "In the Table Viewer, you first select one of the tables from a dropdown in the upper left side.\n",
    "\n",
    "The `Live Query` option is not relevent for the public data.\n",
    "\n",
    "Filter options allow you to limit the query to a subset of the data, if desired.\n",
    "Note that filtering can occur in the tables afterward as well.\n",
    "\n",
    "The `Cell IDs` field lets you put in one or more root IDs, cell IDs (i.e. \"Nucleus ID\"), or IDs from the annotation table being queried.\n",
    "Note that if you use this option, you havet to set the dropdown to the appropriate ID type.\n",
    "\n",
    "The `Value Search` field lets you search for a particular value, such as a specific cell type.\n",
    "\n",
    "Once you have selected your table and set any pre-query filters, click the `Submit` button to run the query.\n",
    "When the query is done, a green bar will appear below the query input stating that it's showing the state of the table you queried.\n",
    "\n",
    "The first set of controls allow you to build a Neuroglancer link for the whole table using the \"Generate Link\" button.\n",
    "\n",
    "Optionally, if you would like to make a link where different values of a given column — example, different cell types — are shown in different layers, you can turn on the \"Group Annotations\" toggle on the right and select the column you want to use for groupings.\n",
    "\n",
    "After setting these controls, click the \"Generate Link\" button to create the Neuroglancer link.\n",
    "\n",
    "![Table viewer query results.](img/table-viewer-table.png)"
   ]
  },
  {
   "cell_type": "markdown",
   "id": "1865ad5d-0a93-4646-8df2-b3b93cc04cd0",
   "metadata": {},
   "source": [
    "The table itself is shown below the controls.\n",
    "You can sort the table by clicking on the column headers, and filter the table by typing in the filter box below the column headers.  \n",
    "\n",
    "For example, if you want to find only cells with cell type \"5P-NP\" in a cell type column, simply type `5P-NP` in the box under the column header. Similarly, to find only cells whose nucleus volume is greater than 500, type `>500` in the box under the `volume` column header in a table with nucleus information.\n",
    "\n",
    "In addition, individual rows can be selected by clicking on the checkbox to the left of the row.\n",
    "\n",
    "The left button along the top is a Neuroglancer link specific to the selected rows, if present, or the table as filtered if no rows are selected.\n",
    "\n",
    "The orange button will deselect all checkboxes, and the \"Export to CSV\" will download the table as filtered to a CSV.\n",
    "\n",
    "::: {.callout-warning}\n",
    "If the table is too large (well beyond 10,000 rows), there are too many annotations to show in Neuroglancer and no link will be automatically generated.\n",
    ":::"
   ]
  },
  {
   "cell_type": "markdown",
   "id": "9ec33377-a4ad-429c-a1f7-0f1b624e8eb7",
   "metadata": {},
   "source": [
    "## Connectivity and Cell Type Viewer\n",
    "\n",
    "The other tool is the [**Connectivity Viewer**](https://minnie.microns-daf.com/dash/datastack/minnie65_public/apps/connectivity/?datastack=%22minnie65_public%22), which is designed to let you glance at the synaptic output or input of a given cell and group connectivity by cell type or other annotations."
   ]
  },
  {
   "cell_type": "markdown",
   "id": "c6457e2e-8925-44ae-8e9f-5de2be1f5265",
   "metadata": {},
   "source": [
    "![Connectivity viewer input options.](img/connectivity-viewer-top.png)"
   ]
  },
  {
   "cell_type": "markdown",
   "id": "911c7334-45b9-49c7-9947-4b53d9d7f3be",
   "metadata": {},
   "source": [
    "Along the top, you can enter an ID (either a root ID or a cell ID) and, optionally, a table to use to define cell types for synaptic partners.\n",
    "::: {.callout-note}\n",
    "Note that if you want to use cell IDs from the nucleus detection table, you must select the `Nucleus ID` option from the dropdown next to the entry box.\n",
    ":::\n",
    "\n",
    "There are several tables to choose from, though the most informative will be one of the [cell type classification tables](programmatic_access/em_py_03_annotation_tables.html#cell-type-tables). The `aibs_metamodel_celltypes_v661` has the greatest coverage of the dataset, and is described in [@elabbady2022]. \n",
    "\n",
    "The table `aibs_metamodel_mtypes_v661_v2` is the most current version version of the cell type classification, described in [@schneider-mizell2023].\n",
    "\n",
    "Pressing \"Submit\" will query the database for the cell and its synapses."
   ]
  },
  {
   "cell_type": "markdown",
   "id": "3dd88ec6-d472-4d99-84e6-351729e3802b",
   "metadata": {},
   "source": [
    "Once completed, you will see the bar under the input options turn green and report the data that it is displaying.\n",
    "For example, if we query root id `864691135408247241` and the default cell type table, we will see the following:\n",
    "\n",
    "![](img/connectivity-viewer-success.png)\n",
    "\n",
    "Importantly, the data displayed below will match whatever is in this bar — if your query takes a long time or fails for some reason (i.e.bad internet, server error), the tables displayed might be stale.\n",
    "\n",
    "There are two locations the resulting data is displayed, as we'll see below.\n",
    "First, a bar of tabs allows you to quickly visualize the data in different ways.\n",
    "Second, the table can present synaptic partners in a more detailed way."
   ]
  },
  {
   "cell_type": "markdown",
   "id": "d85e3a2e-45a3-4ee4-919d-e303486586b4",
   "metadata": {},
   "source": [
    "### Visualization tabs\n",
    "\n",
    "The first and default option in the tabs is **Tables Only** which doesn't actually show any data.\n",
    "This is merely a placeholder to let you look directly at the tablular data below.\n",
    "\n",
    "The next tab, **Plots** lets you visualize the synaptic output of a neuron.\n",
    "\n",
    "We focus on synaptic output only right now, because the data quality is such that automated dendritic reconstructions are reliable, but automated axon reconstructions are not (see [Proofreading section](em_03_proofreading.html)).\n",
    "Because of that, if a neuron has been proofread we trust the cell types of its postsynaptic partners as a group but do not trust the cell types of its presynaptic partners."
   ]
  },
  {
   "cell_type": "markdown",
   "id": "0a150363-46c0-41a0-85c2-b438a2fea6d1",
   "metadata": {},
   "source": [
    "![Plot view. Left, violin plot of the synaptic distribution of the queried cell. Blue/left is the distribution of the cortical depth of input synapses along, red/right is the distribution of cortical depth of synaptic outputs. Approximate layers are shown. Center, a scatterplot with a dot for each synaptic output of the queried cell that is onto a target with a unique cell body (i.e. no dendritic fragments and no cells erroneously merged into other cells). The y-axis is the depth of the synapse itself, while the x-axis is the depth of the cell body of the target neuron. If a cell body categroy is selected, the dots are colored by the cell type of the target neuron. Right, a bar plot showing of the number of synapses onto target cell types.](img/connectivity-viewer-plots.png)"
   ]
  },
  {
   "cell_type": "markdown",
   "id": "d1f59953-8cce-4227-815b-d5b0f844a660",
   "metadata": {},
   "source": [
    "These plots are designed to give you a quick overview of a cell's synaptic outputs.\n",
    "\n",
    "To add a particularly cell type column, use the `Color by value:` dropdown below the row of plots to select a column to color by.\n",
    "\n",
    "These plots are handled in [Plotly](https://plotly.com/python/), so you can hover over the plots to see more information, and you can click and drag to zoom in on a particular region and save by clicking on the camera icon. For the scatterplot, you can also turn on and off individual types by clicking on the legend.\n"
   ]
  },
  {
   "cell_type": "markdown",
   "id": "0a8989a4-2a9c-4de3-9ae6-61eab50fab2a",
   "metadata": {},
   "source": [
    "The next tab, **Neuroglancer Links** lets you visualize the synapses of a neuron in Neuroglancer.\n",
    "\n",
    "![Neuroglancer links. From left to right: Show all synaptic inputs to the cell, show all synaptic inputs to the cell grouped into different layers by value in the associated table (e.g. cell type), show all synaptic outputs of the cell, show all synaptic outputs of the cell grouped into different layers by value in the associated table (e.g. cell type).\n",
    "Below the dropdown specifies which column to use if grouping annotations. The `Include No Type` toggle specifies whether to show synapses with cells that have no cell type annotation in the grouped cases.](img/connectivity-viewer-ngl.png)\n",
    "\n",
    "The Neuroglancer links generated by these buttons will span all synapses of the queried cell, and do not reflect the filtering in the table below.\n",
    "The synapse annotations are also associated with the synaptic partners, making it easy to browse through a broad sampling of synaptic connectivity."
   ]
  },
  {
   "cell_type": "markdown",
   "id": "45ce7ce3-8298-49c0-9ccc-ab0e88041d40",
   "metadata": {},
   "source": [
    "### Connectivity Table\n",
    "\n",
    "The table below shows a table of all synaptic partners.\n",
    "\n",
    "![Table view options.](img/connectivity-viewer-table-view.png)\n",
    "\n",
    "One of the first things you can see in the table viewer is that it is split into two tabs, **Input** and **Output**, with the tab names for each showing the total number of synapses in each category.\n",
    "\n",
    "To move between them, just click the tab you want.\n",
    "\n",
    "Above the Input/Ouput tabs is a link to the Neuroglancer view of the synapses show in the table, after filtering and/or selecting a subset of rows.\n",
    "\n",
    "The table view here is similar to in the Annotation Table Viewer described above.\n",
    "You can sort the table by clicking column headers, filter the table using the row underneath the headers, and select individual rows.\n",
    "If you select individual rows, the Neuroglancer link will group all synapses from each partner together, making it particularly easy to see how synaptic connectivity relates to neuronal anatomy.\n",
    "\n",
    "The default sorting of the table is by total number of synapses, but note that both summed total synapse size (`net_size`) and average synapse size (`mean_size`) are also shown.\n",
    "These can be particularly important values when thinking about connectivity between excitatory neurons.\n",
    "\n",
    "A CSV file of the entire table can be downloaded by clicking the \"Export to CSV\" button."
   ]
  }
 ],
 "metadata": {
  "kernelspec": {
   "display_name": "microns",
   "language": "python",
   "name": "microns"
  },
  "language_info": {
   "codemirror_mode": {
    "name": "ipython",
    "version": 3
   },
   "file_extension": ".py",
   "mimetype": "text/x-python",
   "name": "python",
   "nbconvert_exporter": "python",
   "pygments_lexer": "ipython3",
   "version": "3.8.17"
  }
 },
 "nbformat": 4,
 "nbformat_minor": 5
}
