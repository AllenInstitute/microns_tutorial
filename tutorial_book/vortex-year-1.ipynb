{
 "cells": [
  {
   "cell_type": "markdown",
   "id": "1bcd02e7-67ce-4c50-b546-281b3e7186ef",
   "metadata": {},
   "source": [
    "---\n",
    "title: \"VORTEX Outcomes - Year 1\"\n",
    "draft: true\n",
    "format: \n",
    "    html:\n",
    "        toc: true\n",
    "bibliography: references.bib\n",
    "---"
   ]
  },
  {
   "cell_type": "markdown",
   "id": "b40cbae1-9211-4c97-ab86-927b2a8adf1c",
   "metadata": {},
   "source": [
    "## Year 1 \n",
    "\n",
    "Completed requests recieved during the first half of Year 1 [See: Proposals Received](vortex-overview.html#scientific-proposals-recieved)\n",
    "\n",
    "Includes data releases: [Y1: 1078](release_manifests/version-1078.html) "
   ]
  },
  {
   "cell_type": "markdown",
   "id": "ecddbecb-1cea-4358-b0cc-eec35567b422",
   "metadata": {},
   "source": [
    "## Project Outcomes"
   ]
  },
  {
   "cell_type": "markdown",
   "id": "3e8a8176-e9d7-4e4a-82fc-f4435e815445",
   "metadata": {},
   "source": [
    "To replace:\n",
    "\n",
    "1. pie grid  \n",
    "2. v1078 - v943 heatmap  \n",
    "3. v1078 - v943 sankey  \n",
    "4. astrocyte render (point to example code)  \n",
    "5. myelination cell (point to example code)  "
   ]
  },
  {
   "cell_type": "markdown",
   "id": "050adfa3-edfb-4eed-ac1b-a7b62a3571bf",
   "metadata": {},
   "source": [
    "### Year 1: Period 1 \n",
    "\n",
    "::::{.grid}\n",
    "\n",
    ":::{.g-col-6}\n",
    "\n",
    "| SSG Rank | Task                                          | Outcome                                               |\n",
    "| :------- | :-------------------------------------------- | ----------------------------------------------------- |\n",
    "| 1.6      | Axon extension of functionally recorded cells | Added 111 cells                                       |\n",
    "| 2.0      | Proofread 'cleaning' of astrocytes            | Added 12 cells                                        |\n",
    "| 2.6      | Vasculature Analysis support                  | New public resource                                   |\n",
    "| 3.4      | Annotation of parvalbumin interneurons        | 53517 spine annotations  <br>73237 myelin annotations |\n",
    "| 4.6      | Axon extension of putative Chodl cells        | Incomplete in Y1                                      |\n",
    "\n",
    ": VORTEX Proofreading Plans | Year 1 Period 1 {.light .hover}\n",
    "\n",
    ":::\n",
    "\n",
    ":::{.g-col-6}\n",
    "\n",
    "![Proofreading edits by type](img/edit_annotation_chart_y1_p1.png)\n",
    "\n",
    ":::\n",
    "\n",
    "::::"
   ]
  },
  {
   "cell_type": "markdown",
   "id": "4928266a-9497-48fb-88a3-9ab72ac9d45e",
   "metadata": {},
   "source": [
    "<h3> Axon extension of functionally recorded cells </h3>\n",
    "\n",
    "Proofreading and extending functionally coregistered pyramidal cells\n",
    "\n",
    "![Synaptic connectivity added: version 943 to 1078](img/proofreading_connectivity_counts_y1_p1.png)\n",
    "\n",
    "\n",
    "![Proofreading status upgraded: version 943 to 1078](img/proofreading_upgrades_y1_p1.png){width=750}\n",
    "\n",
    "Queried from CAVE table: `proofreading_status_and_strategy`:\n",
    "\n",
    "```python\n",
    "# Standard query\n",
    "client.materialize.query_table('proofreading_status_and_strategy')\n",
    "\n",
    "# Content-aware query\n",
    "client.materialize.tables.proofreading_status_and_strategy(status_axon='t').query()\n",
    "```"
   ]
  },
  {
   "cell_type": "markdown",
   "id": "9183d02a-658d-43dc-9ff8-65126b23a25b",
   "metadata": {},
   "source": [
    "<h3> Proofread 'cleaning' of astrocytes </h3>\n",
    "\n",
    "Selecting quality astrocytes within the V1 Column, and clean to remove false-merges: 12 astrocytes, 7 cleaned\n",
    "\n",
    "![Six physically apposed 'cleaned' astrocytes](img/proof_astrocytes_v1078_highest_res.png)\n",
    "\n",
    "CAVE table: `vortex_astrocyte_proofreading_status` \n",
    "\n",
    "```python\n",
    "# Standard query\n",
    "client.materialize.query_table('vortex_astrocyte_proofreading_status')\n",
    "\n",
    "# Content-aware query\n",
    "client.materialize.tables.vortex_astrocyte_proofreading_status(status='clean').query()\n",
    "```\n"
   ]
  },
  {
   "cell_type": "markdown",
   "id": "734e0724-896e-4b3b-8881-5c58f854a377",
   "metadata": {},
   "source": [
    "<h3> Annotation of parvalbumin interneurons </h3>\n",
    "\n",
    "Manual annotation of **spine** and **shaft** synaptic targets of basket cells: 53517 annotations\n",
    "\n",
    "Queried from CAVE table: `vortex_compartment_targets` \n",
    "\n",
    "```python\n",
    "# Standard query\n",
    "client.materialize.query_table('vortex_compartment_targets', limit=10)\n",
    "\n",
    "# Content-aware query\n",
    "client.materialize.tables.vortex_compartment_targets(pre_pt_root_id=example_root_id).query()\n",
    "```\n",
    "\n",
    "Manual annotation of **myelination** and **nodes of Ranvier** along basket cell axons: 73237 annotations\n",
    "\n",
    "![Myelination annotated along basket cell (putative PV) axon](img/myelinated_bc_scale3.gif){width=750}\n",
    "\n",
    "CAVE table: `vortex_manual_myelination_v0` \n",
    "\n",
    "```python\n",
    "# Standard query\n",
    "client.materialize.query_table('vortex_manual_myelination_v0', limit=10)\n",
    "\n",
    "# Content-aware query\n",
    "client.materialize.tables.vortex_manual_myelination_v0(valid_id=example_root_id).query()\n",
    "```\n",
    "\n",
    "\n",
    "CAVE table: `vortex_manual_nodes_of_ranvier` \n",
    "\n",
    "```python\n",
    "# Standard query\n",
    "client.materialize.query_table('vortex_manual_nodes_of_ranvier')\n",
    "\n",
    "# Content-aware query\n",
    "client.materialize.tables.vortex_manual_nodes_of_ranvier(valid_id=example_root_id).query()\n",
    "```\n"
   ]
  }
 ],
 "metadata": {
  "kernelspec": {
   "display_name": "microns2025",
   "language": "python",
   "name": "microns2025"
  },
  "language_info": {
   "codemirror_mode": {
    "name": "ipython",
    "version": 3
   },
   "file_extension": ".py",
   "mimetype": "text/x-python",
   "name": "python",
   "nbconvert_exporter": "python",
   "pygments_lexer": "ipython3",
   "version": "3.11.11"
  }
 },
 "nbformat": 4,
 "nbformat_minor": 5
}
