{
 "cells": [
  {
   "cell_type": "markdown",
   "id": "bc4557d9-920b-4fd9-90dc-14a42297b3ba",
   "metadata": {},
   "source": [
    "---\n",
    "title: \"Ultrastructure\"\n",
    "format: \n",
    "    html:\n",
    "        toc: true \n",
    "        code-fold: false\n",
    "execute:\n",
    "    eval: False\n",
    "    warning: False\n",
    "jupyter: python3\n",
    "---"
   ]
  },
  {
   "cell_type": "markdown",
   "id": "43ab9432-d5da-41ef-b98f-c0af50af07d9",
   "metadata": {
    "tags": []
   },
   "source": [
    "::: {.callout-important}\n",
    "## Under construction\n",
    ":::"
   ]
  },
  {
   "cell_type": "markdown",
   "id": "615c972e-ac4b-4f62-8a6e-6e86de409cf4",
   "metadata": {},
   "source": [
    "![An EM cutout showing numerous biological structures such as mitochondria, synapses, myelin, nuclei, and endoplasmic reticulum](../../img/ultrastructure.png)"
   ]
  },
  {
   "cell_type": "markdown",
   "id": "d07e3891-57c7-4603-8640-a43ae59760d9",
   "metadata": {},
   "source": [
    "## Ultrastructure Resources\n",
    "\n",
    "Electron microscopy allows one to see very high resolution features called the \"ultrastructure\" of the cell, such as organelles and microtubules.\n",
    "However, when first seeing EM images, it can be difficult to know the biological meaning of what you are looking at.\n",
    "\n",
    "Here are a couple of resources with several examples of particular structures imaged with EM:\n",
    "\n",
    "* [SynapseWeb](https://synapseweb.clm.utexas.edu/tutorials). This website from the Harris lab at UT Austin offers a number of annotated examples of EM images, in particular the [Atlas of Ultrastructural Neurocytology](https://synapseweb.clm.utexas.edu/atlas).\n",
    "* [Brain Ultrastructure: Putting the Pieces Together](https://www.brainfacts.org/brain-anatomy-and-function/anatomy/2012/brain-ultrastructure-putting-the-pieces-together). This short paper has some particularly clear pictures of less common structures like neurites undergoing autophagy.\n",
    "\n",
    "However, note that EM imagery can look very different when imaged with different imaging techniques, sectioning methods or staining protocols, and thus the exact appearance can vary between datasets.\n",
    "In addition, the same structure imaged in different planes can look different, particularly in anisotropic approaches like serial section EM where the x/y resolution is much finer than the z resolution."
   ]
  },
  {
   "cell_type": "markdown",
   "id": "651fe44e-f059-463a-a8a4-9883e1adb075",
   "metadata": {},
   "source": []
  },
  {
   "cell_type": "markdown",
   "id": "840753a5-2448-44fb-aa4e-6ff691c3e8a1",
   "metadata": {},
   "source": []
  }
 ],
 "metadata": {
  "kernelspec": {
   "display_name": "microns",
   "language": "python",
   "name": "microns"
  },
  "language_info": {
   "codemirror_mode": {
    "name": "ipython",
    "version": 3
   },
   "file_extension": ".py",
   "mimetype": "text/x-python",
   "name": "python",
   "nbconvert_exporter": "python",
   "pygments_lexer": "ipython3",
   "version": "3.8.17"
  }
 },
 "nbformat": 4,
 "nbformat_minor": 5
}
