{
 "cells": [
  {
   "cell_type": "markdown",
   "id": "f664da01-7638-4212-9bdc-ea3ab5ef5f7b",
   "metadata": {},
   "source": [
    "---\n",
    "title: \"Skeletons\"\n",
    "format: \n",
    "    html:\n",
    "        toc: true \n",
    "        code-fold: false\n",
    "execute:\n",
    "    eval: False\n",
    "    warning: False\n",
    "jupyter: python3\n",
    "bibliography: [../references.bib]\n",
    "---"
   ]
  },
  {
   "cell_type": "code",
   "execution_count": 3,
   "id": "6d11f07e",
   "metadata": {
    "tags": [
     "remove-cell"
    ]
   },
   "outputs": [],
   "source": [
    "import os\n",
    "import caveclient\n",
    "try:\n",
    "    os.makedirs('~/.cloudvolume/secrets')\n",
    "except:\n",
    "    pass\n",
    "cglob = caveclient.CAVEclient(global_only=True)\n",
    "cglob.auth.save_token(token=os.environ.get('API_SECRET'), overwrite=True)\n",
    "del cglob"
   ]
  },
  {
   "cell_type": "markdown",
   "id": "c02016fa-6630-4173-a820-96704367dcdf",
   "metadata": {},
   "source": [
    "::: {.callout-important}\n",
    "## Under construction\n",
    "To add interactive visualization and code outputs\n",
    ":::"
   ]
  },
  {
   "cell_type": "markdown",
   "id": "80b57cee-8c34-4924-b022-c5431ce4fcbb",
   "metadata": {},
   "source": [
    "# Skeletons \n",
    "\n",
    "Often in thinking about neurons, you want to measure things along a linear dimension of a neuron.\n",
    "\n",
    "However, the segmentation is a full complex 3d shape that makes this non-trivial.\n",
    "There are methods for reducing the shape of a segmented neuron down to a linear tree like structure usually referred to as a skeleton. We have precalculated skeletons for a large number of cells in the dataset, including all the proofread cells, and many of the excitatory cells with a single soma in the dataset, and these are available on the harddrives and in the aws directory.\n",
    "\n",
    "These skeletons are stored in an h5 file format, and also contain annotations on the skeletons that have the synapses, which skeleton nodes are axon and which are dendrite, and which are likely the apical dendrite of excitatory neurons.\n",
    "\n",
    "![Cartoon illustration of \"level 2\" graph and skeletons](../img/skeleton-cartoon.png)"
   ]
  },
  {
   "cell_type": "markdown",
   "id": "ce2e9ceb-fe20-478f-9a9e-db41e4122b45",
   "metadata": {},
   "source": [
    "In order to understand these skeletons, you have to understand how large scale EM data is represented. Portions of 3d space are broken up into chunks, such as the grid in the image above. Neurons, such as the cartoon green cell above, span many chunks. \n",
    "\n",
    "Components of the segmentation that live within a single chunk are called level 2 ids, this is because in fact the chunks get iteratively combined into larger chunks, until the chunks span the whole volume. \n",
    "\n",
    "We call this the **PyChunkedGraph** or **PCG**, after the library which we use to store and interact with this represenation. Level 0 is the voxels, level 1 refers to the grouping of voxels within the chunk (also known as supervoxels) and level 2 are the groups of supervoxels within a chunk. A segmentation result can be thought of as a graph at any of these levels, where the voxels, supervoxels, or level 2 ids that are part of the same object are connected. In the above diagram, the PCG level 2 graph is represented as the light red lines.\n",
    "\n",
    "Such graphs are useful in that they track all the parts of the neuron that are connected to one another, but they aren't skeletons, because the graph is not directed, and isn't a simple branching structure.\n",
    "\n",
    "In order to turn them into a skeleton we have to run an algorithm, that finds a tree like structure that covers the graph and gets close to every node. This is called the TEASAR algorithm and you can read more about how to skeletonize graphs in the [MeshParty documentation](https://meshparty.readthedocs.io/en/latest/guide/skeletons.html#skeletonization).\n",
    "\n",
    "The result of the algorithm, when applied to a level 2 graph, is a linear tree (like the dotted purple one shown above), where a subset of the level 2 chunks are vertices in that tree, but all the unused level 2 nodes \"near\" a vertex (red unfilled circles) on the graph are mapped to one of the skeleton vertices (black arrows). This means there are two sets of indices, mesh indices, and skeleton indices, which have a mapping between them (see diagram above).\n",
    "\n",
    "The Meshwork library allows us to easily store these representations and helps us relate them to each other. A Meshwork object is a data structure that is designed to have three main components that are kept in sync with mesh and skeleton indices:\n",
    "\n",
    "* `mesh`: the graph of PCG level2 ID nodes that are skeletonized, stored as a standard meshparty mesh. Note that this is not the high resolution mesh that you see in neuroglancer.\n",
    "* `skeleton`: a meshparty skeleton,\n",
    "* `anno`: is a class that holds dataframes and adds some extra info to keep track of indexing."
   ]
  },
  {
   "cell_type": "markdown",
   "id": "166fa020-5f61-4fc6-b63c-bcd3795ac68f",
   "metadata": {},
   "source": [
    "## Working with Meshwork Files\n",
    "\n",
    "Loading a meshwork file imports the level 2 graph (the \"mesh\"), the skeleton, and a collection of associated annotations."
   ]
  },
  {
   "cell_type": "code",
   "execution_count": 5,
   "id": "27ef5c6f-ed17-4d81-99e7-877636f4a59c",
   "metadata": {
    "tags": []
   },
   "outputs": [],
   "source": [
    "from meshparty import meshwork\n",
    "nrn = meshwork.load_meshwork(mesh_filename)"
   ]
  },
  {
   "cell_type": "markdown",
   "id": "093b27ee-ee28-4dc7-b422-deb6b60e5478",
   "metadata": {},
   "source": [
    "The main three properties of the meshwork object are:\n",
    "\n",
    "* `nrn.mesh` : The l2graph representation of the reconstruction.\n",
    "* `nrn.skeleton` : The skeleton representation of the reconstruction.\n",
    "* `nrn.anno` : A table of annotation dataframes and associated metadata that links them to specific vertices in the mesh and skeleton."
   ]
  },
  {
   "cell_type": "markdown",
   "id": "4465751e-77e6-4cb6-a4bd-af344dee22d8",
   "metadata": {},
   "source": [
    "## Meshwork nrn.mesh vs nrn.skeleton\n",
    "Skeletons are \"tree-like\", where every vertex (except the root vertex) has a single parent that is closer to the root than it, and any number of child vertices. Because of this, for a skeleton there are well-defined directions \"away from root\" and \"towards root\" and few types of vertices have special names:\n",
    "\n",
    "* `Branch point`: vertices with two or more children, where a neuronal process splits.\n",
    "* `End point`: vertices with no childen, where a neuronal process ends.\n",
    "* `Root point`: The one vertex with no parent node. By convention, we typically set the root vertex at the cell body, so these are equivalent to \"away from soma\" and \"towards soma\".\n",
    "* `Segment`: A collection of vertices along an unbranched region, between one branch point and the next end point or branch point downstream.\n",
    "\n",
    "Meshes are arbitrary collections of vertices and edges, but do not have a notion of \"parent\" or \"child\" \"branch point\" or \"end point\". Here, this means the \"mesh\" used here includes a vertex for every level 2 chunk, even where it is thick like at a cell body or very thick dendrite. However, by default this means that there is not always a well-defined notion of parent or child nodes, or towards or away from root.\n",
    "\n",
    "In contrast \"Meshes\" (really, graphs of connected vertices) do not have a unique \"inward\" and \"outward\" direction. For the sake of rapid skeletonization, the \"meshes\" we use here are really the graph of level 2 vertices as described above. These aren't a mesh in the visualization sense of the section on [downloading Meshes](em:meshes), but have the same data representation.\n",
    "\n",
    "To handle this, the meshwork object associates each mesh vertices with a single nearby skeleton vertex, and each skeleton vertex is associated with one or more mesh vertices. By representing data this way, annotations like synapses can be directly associated with a mesh vertex (because synapses can be anywhere on the object) and then mapped to the skeleton in order to enjoy the topological benefits of the skeleton representation."
   ]
  },
  {
   "cell_type": "code",
   "execution_count": null,
   "id": "22f0dafb-515a-4cb7-92f4-95dca78df483",
   "metadata": {},
   "outputs": [],
   "source": [
    "# By the definition of skeleton vs mesh, we would expect that mesh contains more vertices than the skeleton. \n",
    "# We can see this by looking at the size of the skeleton vertex location array vs the size of the mesh vertex location array.\n",
    "\n",
    "print('Skeleton vertices array length:', len(nrn.skeleton.vertices))\n",
    "print('Mesh vertices array length:', len(nrn.mesh.vertices))"
   ]
  },
  {
   "cell_type": "code",
   "execution_count": null,
   "id": "326b3006-a7a2-4e7e-a465-885cdeb6425a",
   "metadata": {},
   "outputs": [],
   "source": [
    "# Let us try to visualize the skeleton:\n",
    "# Visualize the whole skeleton \n",
    "\n",
    "# here's a simple way to plot vertices of the skeleton\n",
    "import matplotlib.pyplot as plt\n",
    "from mpl_toolkits import mplot3d\n",
    "%matplotlib notebook \n",
    "\n",
    "fig = plt.figure(figsize=(6, 6))\n",
    "ax = plt.axes(projection='3d')\n",
    "ax.scatter3D(nrn.skeleton.vertices[:,0], nrn.skeleton.vertices[:,1], nrn.skeleton.vertices[:,2], s=1)"
   ]
  },
  {
   "cell_type": "markdown",
   "id": "284b7c53-62f1-4b5a-9204-81ce7a235016",
   "metadata": {},
   "source": [
    "![Scatterplot of skeleton vertices as a point cloud](../img/skeleton_scatterplot.png)"
   ]
  },
  {
   "cell_type": "markdown",
   "id": "85a015ef-d0e1-40c8-85cf-a071ca165a21",
   "metadata": {},
   "source": [
    "## Skeleton Properties and Methods\n",
    "To plot this skeleton in a more sophisticated way, you have to start thinking of it as a graph, and the meshwork object has a bunch of tools and properties to help you utilize the skeleton graph.\n",
    "\n",
    "Let's list some of the most useful ones below You access each of these with nrn.skeleton.* Use the ? to read more details about each one\n",
    "\n",
    "**Properties**\n",
    "\n",
    "* `branch_points``: a list of skeleton vertices which are branches\n",
    "* `root`: the skeleton vertice which is the soma\n",
    "* `distance_to_root`: an array the length of vertices which tells you how far away from the root each vertex is\n",
    "* `root_position`: the position of the root node in nanometers\n",
    "* `end_points`: the tips of the neuron\n",
    "* `cover_paths`: a list of arrays containing vertex indices that describe individual paths that in total cover the neuron without repeating a vertex. Each path starts at an end point and continues toward root, stopping once it gets to a vertex already listed in a previously defined path. Paths are ordered to start with the end points farthest from root first. Each skeleton vertex appears in exactly one cover path.\n",
    "* `csgraph`: a scipy.sparse.csr.csr_matrix containing a graph representation of the skeleton. Useful to do more advanced graph operations and algorithms. https://docs.scipy.org/doc/scipy/reference/sparse.csgraph.html\n",
    "* `kdtree`: a scipy.spatial.ckdtree.cKDTree containing the vertices of skeleton as a kdtree. Useful for quickly finding points that are nearby. https://docs.scipy.org/doc/scipy/reference/generated/scipy.spatial.cKDTree.html\n",
    "\n",
    "**Methods**\n",
    "\n",
    "* `path_length(paths=None)`: the path length of the whole neuron if no arguments, or pass a list of paths to get the path length of that. A path is just a list of vertices which are connected by edges.\n",
    "* `path_to_root(vertex_index)`: returns the path to the root from the passed vertex\n",
    "* `path_between(source_index, target_index)`: the shortest path between the source vertex index and the target vertex index\n",
    "* `child_nodes(vertex_indices)`: a list of arrays listing the children of the vertex indices passed in\n",
    "* `parent_nodes(vertex_indices)`: an array listing the parent of the vertex indices passed in"
   ]
  },
  {
   "cell_type": "code",
   "execution_count": null,
   "id": "2cc2e81f-5704-4fc9-94a3-55117f70fc4b",
   "metadata": {},
   "outputs": [],
   "source": [
    "# A better way to plot a neuron is to use cover_paths\n",
    "# and plot those as 3d lines\n",
    "def plot_neuron_skeleton(neuron, ax, c='b', linewidth=1):\n",
    "\n",
    "    for cover_path in neuron.skeleton.cover_paths:\n",
    "        path_verts = neuron.skeleton.vertices[cover_path,:]\n",
    "        ax.plot(path_verts[:,0], path_verts[:,1], path_verts[:,2], c=c, linewidth=linewidth)\n",
    "\n",
    "fig = plt.figure(figsize=(6, 6))\n",
    "ax = plt.axes(projection='3d')\n",
    "plot_neuron_skeleton(nrn, ax)"
   ]
  },
  {
   "cell_type": "markdown",
   "id": "f4eceb78-720a-4049-a0d5-cd75d57b0cb1",
   "metadata": {},
   "source": [
    "## Indexing And Selecting Sets of Points\n",
    "\n",
    "The meshworks object contains a mesh with lots of vertices and a skeleton which holds a subset of these vertices. Therefore, in python these points have different \"indices\" in the mesh and skeleton. For example, if the mesh contains 10000 vertices, the indexing of those would run from 0 - 9999. The skeleton, which contains a subset of 100 of these would have indexing from 0-99. How would you figure out which of the mesh vertices these correspond to?\n",
    "\n",
    "Luckily, we have some really nifty functions that help us distinguish those:\n",
    "\n",
    "Let us first look at some attributes in the meshworks objects:\n",
    "\n",
    "A few nifty function for subselecting points: `downstream points` and `path_between``.\n",
    "For a given point, downstream points are defined as points on paths from endpoints to the root which are further than the given point. For example, if the skeleton path is : A-B-C-D-E where A is the root, D and E are downstream points of C. With branching, this can be more complex. To find the downstream points from say the 9th branch point, we can do:"
   ]
  },
  {
   "cell_type": "code",
   "execution_count": null,
   "id": "48f6b75f-75bf-409e-bbc5-fb09606c4149",
   "metadata": {},
   "outputs": [],
   "source": [
    "# Downstream points\n",
    "nrn.downstream_of(nrn.branch_points[9])"
   ]
  },
  {
   "cell_type": "markdown",
   "id": "82ac36f4-4af0-41bf-9e76-da16176e8a58",
   "metadata": {},
   "source": [
    "`path_between` returns the vertices from one point to another. For example, we can get the every mesh vertex from the end point 5 to the root point. As a quick visualization, we can look at the distance to root along the, showing that it is descreasing."
   ]
  },
  {
   "cell_type": "code",
   "execution_count": null,
   "id": "3188c89c-40fc-431e-b422-9d16c3c34b5e",
   "metadata": {},
   "outputs": [],
   "source": [
    "fig, ax = plt.subplots()\n",
    "ax.plot(\n",
    "    nrn.distance_to_root(\n",
    "        nrn.path_between(\n",
    "            nrn.end_points[5],\n",
    "            nrn.root,\n",
    "        )\n",
    "    ) / 1_000,\n",
    ")\n",
    "\n",
    "ax.set_ylabel('Distance from root ($\\mu m$)')\n",
    "ax.set_ylabel('Vertex along path')"
   ]
  },
  {
   "cell_type": "markdown",
   "id": "4cfea538-9ea0-4c91-8c3e-7212c00a4936",
   "metadata": {},
   "source": [
    "![Distance to root along graph path indicated above. Note that this flattens out at zero because \"distance\" is computed along the skeleton and many graph vertices in the level 2 graph are associated with the soma vertex of the skeleton](../img/distance_to_root.png)"
   ]
  },
  {
   "cell_type": "markdown",
   "id": "2782978a-60ad-4167-87b7-099e30c367a3",
   "metadata": {},
   "source": [
    "## Masking\n",
    "Just like meshes, we can mask the meshwork object. Like all basic meshwork functions, the expected input is in mesh vertices. Importantly, doing so will be synchronized across the mesh, the skeleton, and annotations."
   ]
  },
  {
   "cell_type": "code",
   "execution_count": null,
   "id": "18fc99cc-67fc-4652-b0b6-c1fcb0fd072b",
   "metadata": {},
   "outputs": [],
   "source": [
    "# Let's now use masking to highlight one particular cover path.\n",
    "\n",
    "fig = plt.figure(figsize=(6, 6))\n",
    "ax = plt.axes(projection=\"3d\")\n",
    "\n",
    "plot_neuron_skeleton(nrn, ax, \"b\")\n",
    "\n",
    "nrn.reset_mask()  # This just makes sure we are working with the same baseline object.\n",
    "\n",
    "# This will make a mask with only the vertices in the first cover path.\n",
    "with neuron.mask_context(nrn.skeleton.cover_paths[0].to_mesh_mask) as nrnf:\n",
    "  plot_neuron_skeleton(nrnf, ax, \"r\", linewidth=2)\n",
    "  ax.scatter(\n",
    "      nrnf.skeleton.root_position[0],\n",
    "      nrnf.skeleton.root_position[1],\n",
    "      nrnf.skeleton.root_position[2],\n",
    "  )"
   ]
  },
  {
   "cell_type": "markdown",
   "id": "32d7b44b-e229-46bc-a555-2eb71e0c6e74",
   "metadata": {},
   "source": [
    "While `mask_context` acts to mask the skeleton and then unmasks it at the end of operations, you can also just mask a skeleton and let it stay that way.\n",
    "In that case, use the `nrn.apply_mask` function.\n",
    "\n",
    "::: {.callout-warning}\n",
    "Do not use the `nrn.mesh.apply_mask` or `nrn.skeleton.apply_mask` functions, which will not synchronize the mask across the mesh, skeleton, and annotations.\n",
    ":::\n",
    "\n",
    "![](../img/branch_plot.png)"
   ]
  },
  {
   "cell_type": "markdown",
   "id": "6073b4c9-3bee-49cc-a375-cf3b3bc99066",
   "metadata": {},
   "source": [
    "## Annotations\n",
    "\n",
    "`nrn.anno` has set of annotation tables containing some additional information for analysis.\n",
    "Each annotation table has both a Pandas DataFrame object storing data and additional information that allow the rows of the DataFrame to be mapped to mesh and skeleton vertices.\n",
    "For the neurons that have been pre-computed, there is a consisent set of annotation tables:\n",
    "\n",
    "* `post_syn`: Postsynaptic sites (inputs) for the cell\n",
    "* `pre_syn`: Presynaptic sites (outputs) for the cell\n",
    "* `is_axon`: List of vertices that have been labeled as part of the axon\n",
    "* `lvl2_ids`: Gives the PCG level 2 id for each mesh vertex, largely for book-keeping reasons.\n",
    "* `segment_properties`: For each vertex, information about the approximate radius, surface area, volume, and length of the segment it is on.\n",
    "* `vol_prop`: For every vertex, information about the volume and surface area of the level 2 id it is associated with.\n",
    "\n",
    "To access one of the DataFrames, use the name of the table as an attribute of the `anno` object and then get the `.df` property. For example, to get the postsynaptic sites, we can do:"
   ]
  },
  {
   "cell_type": "code",
   "execution_count": null,
   "id": "82e578f0",
   "metadata": {},
   "outputs": [],
   "source": [
    "from meshparty import meshwork\n",
    "nrn = meshwork.load_meshwork('data/864691134940133219_skel.h5')\n",
    "nrn.anno.post_syn.df.head()"
   ]
  },
  {
   "cell_type": "markdown",
   "id": "cdeb9f0a",
   "metadata": {},
   "source": [
    "However, in addition to these rows, you can also easily get the mesh vertex index or skeleton vertex index that a row corresponds to with `nrn.anno.post_syn.mesh_index` or `nrn.anno.post_syn.skel_index` respectively.\n",
    "This seems small, but it allows you to integrate skeleton-like measurements with annotations trivially.\n",
    "\n",
    "For example, to get the distance from the cell body for each postsynaptic site, we can do:"
   ]
  },
  {
   "cell_type": "code",
   "execution_count": null,
   "id": "d9c08fe9",
   "metadata": {},
   "outputs": [],
   "source": [
    "nrn.distance_to_root(nrn.anno.post_syn.mesh_index)"
   ]
  },
  {
   "cell_type": "markdown",
   "id": "477e2997",
   "metadata": {},
   "source": [
    "::: {.callout-note}\n",
    "Note that the `nrn.distance_to_root`, like all basic meshwork object functions, expects a mesh vertex index rather than a skeleton vertex index.\n",
    ":::\n",
    "\n",
    "A common pattern is to copy a synapse dataframe and then add columns to it.\n",
    "For example, to add the distance to root to the postsynaptic sites, we can do:"
   ]
  },
  {
   "cell_type": "code",
   "execution_count": null,
   "id": "1de1bd16",
   "metadata": {},
   "outputs": [],
   "source": [
    "syn_df = nrn.anno.pre_syn.df.copy()\n",
    "syn_df['dist_to_root'] = nrn.distance_to_root(nrn.anno.pre_syn.mesh_index)"
   ]
  },
  {
   "cell_type": "markdown",
   "id": "c2e44ebd",
   "metadata": {},
   "source": [
    "### Filtering Annotations by Skeleton Arbor\n",
    "\n",
    "Each annotation table has a 'filter_query' method that takes a boolean mesh mask and returns only those rows of the dataframe associated with those particular locations on the mesh. \n",
    "\n",
    "Let's use what we learned above in two examples: first, getting all input synapses within 50 microns of the root and second, getting all input synapses on one particular branch off of the soma."
   ]
  },
  {
   "cell_type": "code",
   "execution_count": null,
   "id": "0de1bdc3",
   "metadata": {},
   "outputs": [],
   "source": [
    "dtr = nrn.distance_to_root() / 1_000   # Convert from nanometers to microns\n",
    "nrn.anno.post_syn.filter_query( dtr < 50).df"
   ]
  },
  {
   "cell_type": "markdown",
   "id": "1467e71a",
   "metadata": {},
   "source": [
    "We can also use one set of annotations as an input to filter query from another set of annotations. For example, due to errors in segmentation or mistakes in synapse detection, there can be synaptic outputs on the dendrite. However, if we have an `is_axon` annotation that simply contains a collection of vertices that correspond to the cell's axon. \n",
    "\n",
    "We can use this annotation to create a mask and filter out all of the synapses that are not on the axon."
   ]
  },
  {
   "cell_type": "code",
   "execution_count": null,
   "id": "4249594d",
   "metadata": {},
   "outputs": [],
   "source": [
    "axon_mask = nrn.anno.is_axon.mesh_mask\n",
    "nrn.anno.pre_syn.filter_query(~axon_mask).df # The \"~\" is a logical not operation that flips True and False"
   ]
  },
  {
   "cell_type": "markdown",
   "id": "305c7faa",
   "metadata": {},
   "source": [
    "As a sanity check, we can use `nglui` to see if these synapses we have labeled as being on the axon are all where we expect."
   ]
  },
  {
   "cell_type": "code",
   "execution_count": null,
   "id": "41cd9af9",
   "metadata": {},
   "outputs": [],
   "source": [
    "import os\n",
    "from caveclient import CAVEclient\n",
    "from nglui.statebuilder.helpers import make_synapse_neuroglancer_link\n",
    "\n",
    "client = CAVEclient('minnie65_public')\n",
    "\n",
    "make_synapse_neuroglancer_link(\n",
    "    nrn.anno.pre_syn.filter_query(axon_mask).df,\n",
    "    client,\n",
    "    return_as=\"html\"\n",
    ")"
   ]
  },
  {
   "cell_type": "markdown",
   "id": "658450f5",
   "metadata": {},
   "source": [
    "(Click one of the synapse annotations to load the neuron mesh).\n",
    "\n",
    "Another common example might be to pick one of the child nodes of the soma and get all of the synapses on that branch. We can do this by using the `nrn.skeleton.get_child_nodes` function to get the skeleton vertex indices of the child nodes and then use that to filter the synapses."
   ]
  },
  {
   "cell_type": "code",
   "execution_count": null,
   "id": "8133e82f",
   "metadata": {},
   "outputs": [],
   "source": [
    "branch_index = 0 # Let's just use the first child vertex of the root node, which is at the soma by default.\n",
    "branch_inds = nrn.downstream_of(nrn.child_index(nrn.root)[branch_index])\n",
    "branch_mask = branch_inds.to_mesh_mask\n",
    "\n",
    "make_synapse_neuroglancer_link(\n",
    "    nrn.anno.post_syn.filter_query(branch_mask).df,\n",
    "    client,\n",
    "    return_as=\"html\"\n",
    ")"
   ]
  }
 ],
 "metadata": {
  "kernelspec": {
   "display_name": "microns",
   "language": "python",
   "name": "microns"
  },
  "language_info": {
   "codemirror_mode": {
    "name": "ipython",
    "version": 3
   },
   "file_extension": ".py",
   "mimetype": "text/x-python",
   "name": "python",
   "nbconvert_exporter": "python",
   "pygments_lexer": "ipython3",
   "version": "3.8.17"
  }
 },
 "nbformat": 4,
 "nbformat_minor": 5
}
