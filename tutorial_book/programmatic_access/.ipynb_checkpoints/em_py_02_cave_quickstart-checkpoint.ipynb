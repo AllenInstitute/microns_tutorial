{
 "cells": [
  {
   "cell_type": "markdown",
   "id": "32761f34",
   "metadata": {},
   "source": [
    "(em:query-tables-section)=\n",
    "# Programmatic Access\n",
    "\n",
    "```{important}\n",
    "Before using any programmatic access to the data, [you first need to set up your CAVEclient token](em-content:cave-setup).\n",
    "```"
   ]
  },
  {
   "cell_type": "code",
   "execution_count": null,
   "id": "588e44fb",
   "metadata": {
    "tags": [
     "remove-cell"
    ]
   },
   "outputs": [],
   "source": [
    "import os\n",
    "import caveclient\n",
    "try:\n",
    "    os.makedirs('~/.cloudvolume/secrets')\n",
    "except:\n",
    "    pass\n",
    "cglob = caveclient.CAVEclient(global_only=True)\n",
    "cglob.auth.save_token(token=os.environ.get('API_SECRET'), overwrite=True)\n",
    "del cglob"
   ]
  },
  {
   "cell_type": "markdown",
   "id": "6e839112",
   "metadata": {},
   "source": [
    "## CAVEclient\n",
    "\n",
    "Most programmatic access to the CAVE services occurs through CAVEclient, a Python client to access various types of data from the online services.\n",
    "\n",
    "Full documentation for CAVEclient [is available here](http://caveclient.readthedocs.io).\n",
    "\n",
    "To initialize a caveclient, we give it a **datastack**, which is a name that defines a particular combination of imagery, segmentation, and annotation database.\n",
    "For the MICrONs public data, we use the datastack name `minnie65_public`."
   ]
  },
  {
   "cell_type": "code",
   "execution_count": null,
   "id": "3ebc5ac7",
   "metadata": {},
   "outputs": [],
   "source": [
    "import os\n",
    "from caveclient import CAVEclient\n",
    "datastack_name = 'minnie65_public'\n",
    "client = CAVEclient(datastack_name)\n",
    "\n",
    "# Show the description of the datastack\n",
    "client.info.get_datastack_info()['description']"
   ]
  },
  {
   "cell_type": "markdown",
   "id": "940805db",
   "metadata": {},
   "source": [
    "## CAVEclient Basics\n",
    "\n",
    "The most frequent use of the CAVEclient is to query the database for annotations like synapses.\n",
    "All database functions are under the `client.materialize` property.\n",
    "To see what tables are available, use the `get_tables` function:"
   ]
  },
  {
   "cell_type": "code",
   "execution_count": null,
   "id": "65009f3a",
   "metadata": {},
   "outputs": [],
   "source": [
    "client.materialize.get_tables()"
   ]
  },
  {
   "cell_type": "markdown",
   "id": "4e372724",
   "metadata": {},
   "source": [
    "For each table, you can see the metadata describing that table.\n",
    "For example, let's look at the `nucleus_detection_v0` table:"
   ]
  },
  {
   "cell_type": "code",
   "execution_count": null,
   "id": "7703a2d7",
   "metadata": {},
   "outputs": [],
   "source": [
    "client.materialize.get_table_metadata('nucleus_detection_v0')"
   ]
  },
  {
   "cell_type": "markdown",
   "id": "6473b919",
   "metadata": {},
   "source": [
    "You get a dictionary of values. Two fields are particularly important: the `description`, which offers a text description of the contents of the table and `voxel_resolution` which defines how the coordinates in the table are defined, in nm/voxel.\n",
    "\n",
    "(em:query-tables)=\n",
    "## Querying Tables\n",
    "\n",
    "\n",
    "To get the contents of a table, use the `query_table` function.\n",
    "This will return the whole contents of a table without any filtering, up to for a maximum limit of 200,000 rows.\n",
    "The table is returned as a Pandas DataFrame and you can immediately use standard Pandas function on it."
   ]
  },
  {
   "cell_type": "code",
   "execution_count": null,
   "id": "003abc71",
   "metadata": {},
   "outputs": [],
   "source": [
    "cell_type_df = client.materialize.query_table('nucleus_detection_v0')\n",
    "cell_type_df.head()"
   ]
  },
  {
   "cell_type": "markdown",
   "id": "4ae419bb",
   "metadata": {},
   "source": [
    "```{important}\n",
    "While most tables are small enough to be returned in full, the synapse table has hundreds of millions of rows and is too large to download this way\n",
    "```\n",
    "\n",
    "Tables have a collection of columns, some of which specify point in space (columns ending in `_position`), some a root id (ending in `_root_id`), and others that contain other information about the object at that point.\n",
    "Before describing some of the most important tables in the database, it's useful to know about a few advanced options that apply when querying any table.\n",
    "\n",
    "* `desired_resolution` : This parameter allows you to convert the columns specifying spatial points to different resolutions.\n",
    "Many tables are stored at a resolution of 4x4x40 nm/voxel, for example, but you can convert to nanometers by setting `desired_resolution=[1,1,1]`.\n",
    "* `split_positions` : This parameter allows you to split the columns specifying spatial points into separate columns for each dimension.\n",
    "The new column names will be the original column name with `_x`, `_y`, and `_z` appended.\n",
    "* `select_columns` : This parameter allows you to get only a subset of columns from the table.\n",
    "Once you know exactly what you want, this can save you some cleanup.\n",
    "* `limit` : This parameter allows you to limit the number of rows returned.\n",
    "If you are just testing out a query or trying to inspect the kind of data within a table, you can set this to a small number to make sure it works before downloading the whole table.\n",
    "Note that this will show a warning so that you don't accidentally limit your query when you don't mean to.\n",
    "\n",
    "For example, using all of these together:"
   ]
  },
  {
   "cell_type": "code",
   "execution_count": null,
   "id": "acfa352d",
   "metadata": {},
   "outputs": [],
   "source": [
    "cell_type_df = client.materialize.query_table('nucleus_detection_v0', split_positions=True, desired_resolution=[1,1,1], select_columns=['pt_position', 'pt_root_id'], limit=10)\n",
    "cell_type_df"
   ]
  },
  {
   "cell_type": "markdown",
   "id": "bf7f500e",
   "metadata": {},
   "source": [
    "## Filtering Queries\n",
    "\n",
    "Filtering tables so that you only get data about certain rows back is a very common operation.\n",
    "While there are filtering options in the `query_table` function ([see documentation for more details](https://caveclient.readthedocs.io/en/latest/guide/materialization.html)), a more\n",
    "unified filter interface is available through a \"table manager\" interface.\n",
    "Rather than passing a table name to the `query_table` function, `client.materialize.tables` has a subproperty for each table in the database that can be used to filter that table.\n",
    "The general pattern for usage is\n",
    "\n",
    "``` python\n",
    "client.materialize.tables.{table_name}({filter options}).query({format and timestamp options})\n",
    "```\n",
    "\n",
    "where `{table_name}` is the name of the table you want to filter, `{filter options}` is a collection of arguments for filtering the query, and `{format and timestamp options}` are those parameters controlling the format and timestamp of the query.\n",
    "\n",
    "For example, let's look at the table `aibs_soma_nuc_metamodel_preds_v117`, which has cell type predictions across the dataset.\n",
    "We can get the whole table as a DataFrame:"
   ]
  },
  {
   "cell_type": "code",
   "execution_count": null,
   "id": "16a8223a",
   "metadata": {
    "tags": [
     "remove-stderr"
    ]
   },
   "outputs": [],
   "source": [
    "cell_type_df = client.materialize.tables.aibs_soma_nuc_metamodel_preds_v117().query()\n",
    "cell_type_df.head()"
   ]
  },
  {
   "cell_type": "markdown",
   "id": "d68d9059",
   "metadata": {},
   "source": [
    "and we can add similar formatting options as in the last section to the query function:"
   ]
  },
  {
   "cell_type": "code",
   "execution_count": null,
   "id": "2819259e",
   "metadata": {
    "tags": [
     "remove-stderr"
    ]
   },
   "outputs": [],
   "source": [
    "cell_type_df = client.materialize.tables.aibs_soma_nuc_metamodel_preds_v117().query(split_positions=True, desired_resolution=[1,1,1], select_columns=['pt_position', 'pt_root_id', 'cell_type'], limit=10)\n",
    "cell_type_df"
   ]
  },
  {
   "cell_type": "markdown",
   "id": "a963240d",
   "metadata": {},
   "source": [
    "However, now we can also filter the table to get only cells that are predicted to have cell type `\"BC\"` (for \"basket cell\")."
   ]
  },
  {
   "cell_type": "code",
   "execution_count": null,
   "id": "1375a2ea",
   "metadata": {
    "tags": [
     "remove-stderr"
    ]
   },
   "outputs": [],
   "source": [
    "my_cell_type = \"BC\"\n",
    "client.materialize.tables.aibs_soma_nuc_metamodel_preds_v117(cell_type=my_cell_type).query()"
   ]
  },
  {
   "cell_type": "markdown",
   "id": "e347251e",
   "metadata": {},
   "source": [
    "or maybe we just want the cell types for a particular collection of root ids:"
   ]
  },
  {
   "cell_type": "code",
   "execution_count": null,
   "id": "acd0d226",
   "metadata": {
    "tags": [
     "remove-stderr"
    ]
   },
   "outputs": [],
   "source": [
    "my_root_ids = [864691135771677771, 864691135560505569, 864691136723556861]\n",
    "client.materialize.tables.aibs_soma_nuc_metamodel_preds_v117(pt_root_id=my_root_ids).query()"
   ]
  },
  {
   "cell_type": "markdown",
   "id": "93c6e347",
   "metadata": {},
   "source": [
    "You can get a list of all parameters than be used for querying with the standard IPython/Jupyter docstring functionality, e.g. `client.materialize.tables.aibs_soma_nuc_metamodel_preds_v117`.\n",
    "\n",
    "```{note}\n",
    "Use of this functionality will show a brief warning that the interface is experimental. This is because the interface is still being developed and may change in the near future in response to user feedback.\n",
    "```\n",
    "\n",
    "## Querying Synapses\n",
    "\n",
    "While synapses are stored as any other table in the database, in this case `synapses_pni_2`, this table is much larger than any other table at more than 337 million rows, and it works best when queried in a different way.\n",
    "The `synapse_query` function allows you to query the synapse table in a more convenient way than most other tables.\n",
    "In particular, the `pre_ids` and `post_ids` let you specify which root id (or collection of root ids) you want to query, with pre_ids indicating the collection of presynaptic neurons and post_ids the collection of postsynaptic neurons.\n",
    "Using both `pre_ids` and `post_ids` in one call is effectively a logical AND, returning only those synapses from neurons in the list of `pre_ids` that target neurons in the list of `post_ids`.\n",
    "Let's look at one particular example."
   ]
  },
  {
   "cell_type": "code",
   "execution_count": null,
   "id": "453c2056",
   "metadata": {
    "tags": [
     "remove-stderr"
    ]
   },
   "outputs": [],
   "source": [
    "my_root_id = 864691135808473885\n",
    "syn_df = client.materialize.synapse_query(pre_ids=my_root_id)\n",
    "print(f\"Total number of output synapses for {my_root_id}: {len(syn_df)}\")\n",
    "syn_df.head()"
   ]
  },
  {
   "cell_type": "markdown",
   "id": "34b37b0e",
   "metadata": {},
   "source": [
    "Note that synapse queries always return the list of every synapse between the neurons in the query, even if there are multiple synapses between the same pair of neurons.\n",
    "\n",
    "A common pattern to generate a list of connections between unique pairs of neurons is to group by the root ids of the presynaptic and postsynaptic neurons and then count the number of synapses between them.\n",
    "For example, to get the number of synapses from this neuron onto every other neuron, ordered"
   ]
  },
  {
   "cell_type": "code",
   "execution_count": null,
   "id": "1231811e",
   "metadata": {},
   "outputs": [],
   "source": [
    "syn_df.groupby(\n",
    "  ['pre_pt_root_id', 'post_pt_root_id']\n",
    ").count()[['id']].rename(\n",
    "  columns={'id': 'syn_count'}\n",
    ").sort_values(\n",
    "  by='syn_count',\n",
    "  ascending=False,\n",
    ")\n",
    "# Note that the 'id' part here is just a way to quickly extract one column.\n",
    "# This could be any of the remaining column names, but `id` is often convenient because it is common to all tables."
   ]
  }
 ],
 "metadata": {
  "kernelspec": {
   "display_name": "Python 3",
   "language": "python",
   "name": "allensdk"
  }
 },
 "nbformat": 4,
 "nbformat_minor": 5
}
