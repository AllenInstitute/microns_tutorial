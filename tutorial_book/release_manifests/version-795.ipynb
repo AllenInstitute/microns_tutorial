{
 "cells": [
  {
   "cell_type": "markdown",
   "id": "26c56379-b4e4-414b-a7e6-b74e8b67136a",
   "metadata": {},
   "source": [
    "---\n",
    "title: \"795 (Aug 2023)\"\n",
    "draft: false\n",
    "format: \n",
    "    html:\n",
    "        toc: true\n",
    "execute:\n",
    "    eval: False\n",
    "    warning: False\n",
    "jupyter: python3\n",
    "bibliography: ../references.bib\n",
    "---"
   ]
  },
  {
   "cell_type": "code",
   "execution_count": 1,
   "id": "4cb8faab-5c0d-4c15-b823-33ab12618957",
   "metadata": {},
   "outputs": [],
   "source": [
    "#| echo: false\n",
    "from caveclient import CAVEclient\n",
    "client = CAVEclient('minnie65_public')"
   ]
  },
  {
   "cell_type": "code",
   "execution_count": 1,
   "id": "8e5f9fc5-4e60-42ac-b0e8-e770f0b9abd0",
   "metadata": {},
   "outputs": [],
   "source": [
    "#| echo: false\n",
    "# v795_tables = client.materialize.get_tables(version=795)\n",
    "\n",
    "# v661_tables = client.materialize.get_tables(version=661)\n",
    "\n",
    "# print(set(v661_tables) - set(v795_tables))\n",
    "\n",
    "# set(v795_tables) - set(v661_tables)"
   ]
  },
  {
   "cell_type": "markdown",
   "id": "e651e490-ee55-48d8-82c6-a81d3d137b41",
   "metadata": {},
   "source": [
    "Data Release v795 (August 23, 2023) is the first quarterly release of 2024. \n",
    "\n",
    "This version ADDS the following tables\n",
    "\n",
    " * `aibs_metamodel_celltypes_v661` : Cell type prediction from the soma and nucleus model \n",
    "\n",
    " * `aibs_metamodel_mtypes_v661_v2` and `allen_column_mtypes_v2` : Cell type prediction from dendritic features and connectivity motifs\n",
    "\n",
    " * `allen_minnie_extra_types` : \n",
    "\n",
    " * `l5et_column`, `bodor_pt_cells`, `bodor_pt_target_proofread`, and `pt_synapse_targets` : tables associated with [@bodor_agnes_l_synaptic_2023]. \n",
    "\n",
    " * `cell_edits_v661` :  a count of the number of edits associated with each nucleus, as of version 661\n",
    "\n",
    "The following tables from previous versions  are included:\n",
    "\n",
    " * `synapses_pni_2` ( [v117](version-117.html) )\n",
    " * `nucleus_detection_v0` ( [v117](version-117.html) )\n",
    " * `aibs_soma_nuc_metamodel_preds_v117` ( [v343](version-343.html) )\n",
    " * `proofreading_status_public_release` ( [v343](version-343.html) )\n",
    " * `allen_v1_column_types_slanted_ref`( [v661](version-661.html) )\n",
    " * `aibs_column_nonneuronal_ref` ( [v661](version-661.html) )\n",
    " * `aibs_soma_nuc_exc_mtype_preds_v117` ( [v661](version-661.html) )\n",
    " * `allen_column_mtypes_v1` ( [v661](version-661.html) )\n",
    " * `apl_functional_coreg_forward_v5` ( [v661](version-661.html) )\n",
    " * `baylor_gnn_cell_type_fine_model_v2` ( [v661](version-661.html) )\n",
    " * `baylor_log_reg_cell_type_coarse_v1` ( [v661](version-661.html) )\n",
    " * `coregistration_manual_v3` ( [v661](version-661.html) )\n",
    " * `nucleus_alternative_points` ( [v661](version-661.html) )\n",
    " * `nucleus_ref_neuron_svm` ( [v661](version-661.html) )\n",
    "\n",
    "The following tables have been REMOVED (removed tables still available in version 661):\n",
    "\n",
    " * `connectivity_groups_v507`"
   ]
  },
  {
   "cell_type": "code",
   "execution_count": 2,
   "id": "d41839aa-cfd2-4069-b1c6-aff899f482ac",
   "metadata": {},
   "outputs": [
    {
     "data": {
      "text/plain": [
       "datetime.datetime(2023, 8, 23, 8, 10, 1, 404268, tzinfo=datetime.timezone.utc)"
      ]
     },
     "execution_count": 2,
     "metadata": {},
     "output_type": "execute_result"
    }
   ],
   "source": [
    "# report timestamp metadata on the version of interest\n",
    "client.materialize.get_version_metadata(795)['time_stamp']"
   ]
  },
  {
   "cell_type": "markdown",
   "id": "0e74e94a-171f-4100-b6e5-e1fdf5c03517",
   "metadata": {},
   "source": [
    "## Automated Cell types\n",
    "\n",
    "### Soma and nucleus model\n",
    "\n",
    "{{< include ../_annotation_tables/_aibs_metamodel_celltypes_v661.qmd >}}\n",
    "\n",
    "For more on how to interpret the table, see [Annotation Tables](../annotation-tables.html).\n",
    "\n",
    "### Dendritic features and connectivity motifs\n",
    "\n",
    "{{< include ../_annotation_tables/_aibs_metamodel_mtypes_v661_v2.qmd >}}\n",
    "\n",
    "### Dendritic features and connectivity motifs of V1 column\n",
    "\n",
    "{{< include ../_annotation_tables/_allen_column_mtypes_v2.qmd >}}\n",
    "\n",
    "For more on how to interpret the table, see [Annotation Tables](../annotation-tables.html).\n",
    "\n",
    "## Manual Cell types\n",
    "\n",
    "### manual cell typing outside V1 column\n",
    "\n",
    "{{< include ../_annotation_tables/_allen_minnie_extra_types.qmd >}}\n",
    "\n",
    "## Publication: Bodor et al.\n",
    "\n",
    "### L5 extratelencephalic cells\n",
    "\n",
    "{{< include ../_annotation_tables/_l5et_column.qmd  >}}\n",
    "\n",
    "### L5 pyramidal tract cells\n",
    "\n",
    "{{< include ../_annotation_tables/_bodor_pt_cells.qmd  >}}\n",
    "\n",
    "### Targets of L5 PT cells\n",
    "\n",
    "{{< include ../_annotation_tables/_pt_synapse_targets.qmd  >}}\n",
    "\n",
    "### Proofread targets of L5 PT cells\n",
    "\n",
    "{{< include ../_annotation_tables/_bodor_pt_target_proofread.qmd  >}}\n",
    "\n",
    "## Count of cell edits\n",
    "\n",
    "{{< include ../_annotation_tables/_cell_edits_v661.qmd >}}"
   ]
  }
 ],
 "metadata": {
  "kernelspec": {
   "display_name": "microns2025",
   "language": "python",
   "name": "microns2025"
  },
  "language_info": {
   "codemirror_mode": {
    "name": "ipython",
    "version": 3
   },
   "file_extension": ".py",
   "mimetype": "text/x-python",
   "name": "python",
   "nbconvert_exporter": "python",
   "pygments_lexer": "ipython3",
   "version": "3.11.11"
  }
 },
 "nbformat": 4,
 "nbformat_minor": 5
}
