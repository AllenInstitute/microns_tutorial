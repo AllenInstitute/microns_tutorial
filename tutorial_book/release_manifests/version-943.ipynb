{
 "cells": [
  {
   "cell_type": "markdown",
   "id": "26c56379-b4e4-414b-a7e6-b74e8b67136a",
   "metadata": {},
   "source": [
    "---\n",
    "title: \"943 (Jan 2024)\"\n",
    "format: \n",
    "    html:\n",
    "        toc: true\n",
    "---"
   ]
  },
  {
   "cell_type": "markdown",
   "id": "e651e490-ee55-48d8-82c6-a81d3d137b41",
   "metadata": {},
   "source": [
    "Data Release v943 (January 22, 2024) is the first quarterly release of 2024. \n",
    "\n",
    "This version ADDS the following tables\n",
    "\n",
    " * `functional_properties_v3_bcm` : functional properties for each of the coregistered neurons\n",
    "\n",
    " * `coregistration_manual_v4` : an update to the manual coregistration between functionally recorded units and EM cells \n",
    "\n",
    "It includes all other tables as of v795, with the following exceptions (removed tables still available in version 795):\n",
    "\n",
    "* \n",
    "\n",
    "A flat segmentation of the meshes at version 943 is available at: `precomputed://gs://iarpa_microns/minnie/minnie65/seg_m943`"
   ]
  },
  {
   "cell_type": "markdown",
   "id": "0e74e94a-171f-4100-b6e5-e1fdf5c03517",
   "metadata": {},
   "source": [
    "## Functional properties of coregistered cells\n",
    "{{< include ../_annotation_tables/_functional_properties_v3_bcm.qmd >}}\n",
    "\n",
    "For more on how to interpret the table, see [Annotation Tables](../annotation-tables.html).\n",
    "\n",
    "## Manual Coregistration\n",
    "{{< include ../_annotation_tables/_coregistration_manual_v4.qmd >}}\n",
    "\n",
    "For more on how to interpret the table, see [Annotation Tables](../annotation-tables.html)."
   ]
  },
  {
   "cell_type": "markdown",
   "id": "3a939785-3211-4a98-810b-a53e339d22c1",
   "metadata": {},
   "source": [
    "\n",
    "\n"
   ]
  }
 ],
 "metadata": {
  "kernelspec": {
   "display_name": "microns2025",
   "language": "python",
   "name": "microns2025"
  },
  "language_info": {
   "codemirror_mode": {
    "name": "ipython",
    "version": 3
   },
   "file_extension": ".py",
   "mimetype": "text/x-python",
   "name": "python",
   "nbconvert_exporter": "python",
   "pygments_lexer": "ipython3",
   "version": "3.11.11"
  }
 },
 "nbformat": 4,
 "nbformat_minor": 5
}
