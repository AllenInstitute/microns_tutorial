{
 "cells": [
  {
   "cell_type": "markdown",
   "id": "26c56379-b4e4-414b-a7e6-b74e8b67136a",
   "metadata": {},
   "source": [
    "---\n",
    "title: \"943 (Jan 2024)\"\n",
    "format: \n",
    "    html:\n",
    "        toc: true\n",
    "execute:\n",
    "    eval: False\n",
    "    warning: False\n",
    "jupyter: python3\n",
    "bibliography: ../references.bib\n",
    "---"
   ]
  },
  {
   "cell_type": "code",
   "execution_count": 1,
   "id": "10e4fcfd-0a5e-4d61-916c-cbc77e6fcdad",
   "metadata": {},
   "outputs": [],
   "source": [
    "#| echo: false\n",
    "from caveclient import CAVEclient\n",
    "client = CAVEclient('minnie65_public')"
   ]
  },
  {
   "cell_type": "code",
   "execution_count": 5,
   "id": "fb21a8f0-c3c3-4107-b821-805587661eb6",
   "metadata": {},
   "outputs": [],
   "source": [
    "#| echo: false\n",
    "# v943_tables = client.materialize.get_tables(version=943)\n",
    "\n",
    "# v795_tables = client.materialize.get_tables(version=795)\n",
    "\n",
    "# print(set(v795_tables) - set(v943_tables))\n",
    "\n",
    "# set(v943_tables) - set(v795_tables)"
   ]
  },
  {
   "cell_type": "markdown",
   "id": "e651e490-ee55-48d8-82c6-a81d3d137b41",
   "metadata": {},
   "source": [
    "Data Release v943 (January 22, 2024) is the first quarterly release of 2024. \n",
    "\n",
    "This version ADDS the following tables\n",
    "\n",
    " * `functional_properties_v3_bcm` : functional properties for each of the coregistered neurons\n",
    "\n",
    " * `coregistration_manual_v4` : an update to the manual coregistration between functionally recorded units and EM cells\n",
    "\n",
    " * `apl_functional_coreg_vess_fwd`,  `coregistration_auto_phase3_fwd`, and `coregistration_auto_phase3_fwd_apl_vess_combined` : a set of tables that interact to build the automated coregistration model\n",
    "\n",
    " * A **flat segmentation** of the meshes is also available\n",
    "\n",
    "The following tables from previous versions  are included:\n",
    "\n",
    " * `synapses_pni_2` ( [v117](version-117.html) )\n",
    " * `nucleus_detection_v0` ( [v117](version-117.html) )\n",
    " * `proofreading_status_public_release` ( [v343](version-343.html) )\n",
    " * `allen_v1_column_types_slanted_ref`( [v661](version-661.html) )\n",
    " * `aibs_column_nonneuronal_ref` ( [v661](version-661.html) )\n",
    " * `baylor_log_reg_cell_type_coarse_v1` ( [v661](version-661.html) )\n",
    " * `coregistration_manual_v3` ( [v661](version-661.html) )\n",
    " * `nucleus_alternative_points` ( [v661](version-661.html) )\n",
    " * `nucleus_ref_neuron_svm` ( [v661](version-661.html) )\n",
    " * `allen_column_mtypes_v2` ( [v795](version-795.html) )\n",
    " * `aibs_metamodel_celltypes_v661` ( [v795](version-795.html) )\n",
    " * `aibs_metamodel_mtypes_v661_v2` ( [v795](version-795.html) )\n",
    " * `l5et_column`, `bodor_pt_cells`, `bodor_pt_target_proofread`, and `pt_synapse_targets` ( [v795](version-795.html) )\n",
    "\n",
    "The following tables have been REMOVED (removed tables still available in version 795):\n",
    "\n",
    " * `apl_functional_coreg_forward_v5` : removed and superseded by `coregistration_auto_phase3_fwd_apl_vess_combined`\n",
    "\n",
    " * `aibs_soma_nuc_metamodel_preds_v117` : removed and superseded by `aibs_metamodel_celltypes_v661`\n",
    "\n",
    " * `allen_minnie_extra_types` \n",
    "\n",
    " * `aibs_soma_nuc_exc_mtype_preds_v117` : removed and superseded by `aibs_metamodel_mtypes_v661_v2`\n",
    "\n",
    " * `allen_column_mtypes_v1` : removed and superseded by `allen_column_mtypes_v2`\n",
    "\n",
    " * `cell_edits_v661`\n",
    "\n",
    " * `baylor_gnn_cell_type_fine_model_v2` \n",
    "\n",
    "\n",
    "Information about the version 943 release can be queried with the following:"
   ]
  },
  {
   "cell_type": "code",
   "execution_count": 2,
   "id": "32fdb30f-2c73-464a-a7dc-422f28fbd945",
   "metadata": {},
   "outputs": [
    {
     "data": {
      "text/plain": [
       "datetime.datetime(2024, 1, 22, 8, 10, 1, 497934, tzinfo=datetime.timezone.utc)"
      ]
     },
     "execution_count": 2,
     "metadata": {},
     "output_type": "execute_result"
    }
   ],
   "source": [
    "# report timestamp metadata on the version of interest\n",
    "client.materialize.get_version_metadata(943)['time_stamp']"
   ]
  },
  {
   "cell_type": "markdown",
   "id": "0e74e94a-171f-4100-b6e5-e1fdf5c03517",
   "metadata": {},
   "source": [
    "## Functional properties of coregistered cells\n",
    "{{< include ../_annotation_tables/_functional_properties_v3_bcm.qmd >}}\n",
    "\n",
    "For more on how to interpret the table, see [Annotation Tables](../annotation-tables.html).\n",
    "\n",
    "## Manual Coregistration\n",
    "{{< include ../_annotation_tables/_coregistration_manual_v4.qmd >}}\n",
    "\n",
    "For more on how to interpret the table, see [Annotation Tables](../annotation-tables.html).\n",
    "\n",
    "\n",
    "## Automated Coregistration\n",
    "{{< include ../_annotation_tables/_coregistration_auto_phase3_fwd_apl_vess_combined.qmd >}}\n",
    "\n",
    "For more on how to interpret the table, see [Annotation Tables](../annotation-tables.html)."
   ]
  },
  {
   "cell_type": "markdown",
   "id": "4c23901f-201f-4ce5-a0e6-bf67b0529476",
   "metadata": {},
   "source": [
    "## Flat Segmentation\n",
    "\n",
    "| Name | Volume | Cloudpath | Short Description | Type (size) |\n",
    "| :-- | :-- | :--- | :-- | :-- |\n",
    "| Proofread Segmentation (v943) | **minnie65** | `https://storage.googleapis.com/iarpa_microns/minnie/minnie65/seg_m943` | Mulit-resolution flat / static cellular segmentation voxels and meshes from 8,8,40 nm and above | Precomputed Shareded Compressed Segmentation (12 TB) |\n",
    "\n",
    ": minnie65 flat segmentation v943\n",
    "\n",
    "This contains the fixed state of the cellular segmentation at each version, where each voxel has been assigned an ID which is unique to each cellular object at 8,8,40, along with downsampled versions. Not all objects have been proofread, but a summary of the most focused efforts on cells can be found in the proofreading status metadata.  In addition the mesh folder contains meshes of each object available at 3 different levels of downsampling.  Folder contains many files, for download use cloud-volume, tensor-store, for bulk download use igneous, AWS CLI or gsutil CLI."
   ]
  }
 ],
 "metadata": {
  "kernelspec": {
   "display_name": "microns2025",
   "language": "python",
   "name": "microns2025"
  },
  "language_info": {
   "codemirror_mode": {
    "name": "ipython",
    "version": 3
   },
   "file_extension": ".py",
   "mimetype": "text/x-python",
   "name": "python",
   "nbconvert_exporter": "python",
   "pygments_lexer": "ipython3",
   "version": "3.11.11"
  }
 },
 "nbformat": 4,
 "nbformat_minor": 5
}
