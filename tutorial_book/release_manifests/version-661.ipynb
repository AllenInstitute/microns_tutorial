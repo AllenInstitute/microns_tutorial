{
 "cells": [
  {
   "cell_type": "markdown",
   "id": "26c56379-b4e4-414b-a7e6-b74e8b67136a",
   "metadata": {},
   "source": [
    "---\n",
    "title: \"661 (Jun 2023)\"\n",
    "draft: true\n",
    "format: \n",
    "    html:\n",
    "        toc: true\n",
    "execute:\n",
    "    eval: False\n",
    "    warning: False\n",
    "jupyter: python3\n",
    "bibliography: ../references.bib\n",
    "---"
   ]
  },
  {
   "cell_type": "code",
   "execution_count": 2,
   "id": "25cd9eec-59fa-49e7-9f18-13a93265efbd",
   "metadata": {},
   "outputs": [],
   "source": [
    "#| echo: false\n",
    "from caveclient import CAVEclient\n",
    "client = CAVEclient('minnie65_public')"
   ]
  },
  {
   "cell_type": "code",
   "execution_count": 3,
   "id": "8e5f9fc5-4e60-42ac-b0e8-e770f0b9abd0",
   "metadata": {},
   "outputs": [
    {
     "name": "stdout",
     "output_type": "stream",
     "text": [
      "{'func_unit_em_match_release', 'functional_coreg', 'nucleus_neuron_svm', 'aibs_column_nonneuronal', 'allen_v1_column_types_slanted'}\n"
     ]
    },
    {
     "data": {
      "text/plain": [
       "{'aibs_column_nonneuronal_ref',\n",
       " 'aibs_soma_nuc_exc_mtype_preds_v117',\n",
       " 'allen_column_mtypes_v1',\n",
       " 'allen_v1_column_types_slanted_ref',\n",
       " 'apl_functional_coreg_forward_v5',\n",
       " 'baylor_gnn_cell_type_fine_model_v2',\n",
       " 'baylor_log_reg_cell_type_coarse_v1',\n",
       " 'connectivity_groups_v507',\n",
       " 'coregistration_manual_v3',\n",
       " 'nucleus_alternative_points',\n",
       " 'nucleus_ref_neuron_svm'}"
      ]
     },
     "execution_count": 3,
     "metadata": {},
     "output_type": "execute_result"
    }
   ],
   "source": [
    "#| echo: false\n",
    "v343_tables = client.materialize.get_tables(version=343)\n",
    "# print(v343_tables)\n",
    "\n",
    "v661_tables = client.materialize.get_tables(version=661)\n",
    "# print(v661_tables)\n",
    "\n",
    "print(set(v343_tables) - set(v661_tables))\n",
    "\n",
    "set(v661_tables) - set(v343_tables)"
   ]
  },
  {
   "cell_type": "markdown",
   "id": "e651e490-ee55-48d8-82c6-a81d3d137b41",
   "metadata": {},
   "source": [
    "Data Release v661 (April 6, 2023) is the first quarterly release of 2023. \n",
    "\n",
    "This version ADDS the following tables\n",
    "\n",
    " * `allen_v1_column_types_slanted_ref`: manual annotations of neuron class and subclass in the **V1 column**\n",
    "\n",
    " * `aibs_column_nonneuronal_ref` : manual annotations of non-neuron cell types in the **V1 column**\n",
    "\n",
    " * `aibs_soma_nuc_exc_mtype_preds_v117` : excitatory M-type predictions for cells throughout the entire dataset\n",
    "\n",
    " * `allen_column_mtypes_v1` : M-type predictions for cells in the **V1 column**\n",
    "\n",
    " * `apl_functional_coreg_forward_v5` : automated coregistration of EM centroids to functional units\n",
    "\n",
    " * `baylor_gnn_cell_type_fine_model_v2` : automated cell type based on dendritic features \n",
    "\n",
    " * `baylor_log_reg_cell_type_coarse_v1` : automated cell type based on dendritic features \n",
    "\n",
    " * `coregistration_manual_v3` : manual coregistration of EM centroids to functional units\n",
    "\n",
    " * `connectivity_groups_v507` :\n",
    "\n",
    " * `nucleus_alternative_points` : manual adjustment to the `nucleus_detection_v0` table for a subset of cells where the centroid is outside of the segmentation\n",
    "\n",
    " * `nucleus_ref_neuron_svm` : outputs of a classifier describing which nucleus detections are likely neurons, as a reference on table `nucleus_detection_v0`\n",
    "\n",
    "The following tables from previous versions  are included:\n",
    "\n",
    " * `synapses_pni_2` ( [v117](version-117.html) )\n",
    " * `nucleus_detection_v0` ( [v117](version-117.html) )\n",
    " * `aibs_soma_nuc_metamodel_preds_v117` ( [v343](version-343.html) )\n",
    " * `proofreading_status_public_release` ( [v343](version-343.html) )\n",
    "\n",
    "The following tables have been REMOVED (removed tables still available in version 343):\n",
    "\n",
    " * `func_unit_em_match_release` : removed and superseded by `coregistration_manual_v3`\n",
    "\n",
    " * `functional_coreg` : removed and superseded by `coregistration_manual_v3`\n",
    "\n",
    " * `nucleus_neuron_svm` : removed and replaced with `nucleus_ref_neuron_svm`\n",
    "\n",
    " * `aibs_column_nonneuronal` : removed and replaced with `aibs_column_nonneuronal_ref`\n",
    "\n",
    " * `allen_v1_column_types_slanted` : removed and replaced with `allen_v1_column_types_slanted_ref`\n",
    "\n",
    "Information about the version 661 release can be queried with the following:"
   ]
  },
  {
   "cell_type": "code",
   "execution_count": 4,
   "id": "91311eb3-350f-498d-9a19-c9c075af0be7",
   "metadata": {},
   "outputs": [
    {
     "data": {
      "text/plain": [
       "datetime.datetime(2023, 4, 6, 20, 17, 9, 199182, tzinfo=datetime.timezone.utc)"
      ]
     },
     "execution_count": 4,
     "metadata": {},
     "output_type": "execute_result"
    }
   ],
   "source": [
    "# report timestamp metadata on the version of interest\n",
    "client.materialize.get_version_metadata(661)['time_stamp']"
   ]
  },
  {
   "cell_type": "markdown",
   "id": "16251733-2de1-4cb8-a2b9-fb672a354383",
   "metadata": {},
   "source": [
    "## Manual Cell Types (V1 Column)\n",
    "\n",
    "### Neurons \n",
    "{{< include ../_annotation_tables/_allen_v1_column_types_slanted_ref.qmd >}}\n",
    "\n",
    "### Non-neurons\n",
    "{{< include ../_annotation_tables/_aibs_column_nonneuronal_ref.qmd >}}\n",
    "\n",
    "For more on how to interpret the table, see [Annotation Tables](../annotation-tables.html).\n",
    "\n",
    "## Automated Cell Types\n",
    "\n",
    "### mtypes \n",
    "include ../_annotation_tables/_aibs_soma_nuc_exc_mtype_preds_v117.qmd >}}\n",
    "\n",
    "### mtypes (V1 Column)\n",
    "include ../_annotation_tables/_allen_column_mtypes_v1.qmd >}}\n",
    "\n",
    "\n",
    "## Functional Coregistration\n",
    "\n",
    "### Manual Coregistration\n",
    "include ../_annotation_tables/_coregistration_manual_v3.qmd >}}\n",
    "\n",
    "\n",
    "### Automated Coregistration\n",
    "include ../_annotation_tables/_pl_functional_coreg_forward_v5.qmd >}}\n"
   ]
  },
  {
   "cell_type": "markdown",
   "id": "3a939785-3211-4a98-810b-a53e339d22c1",
   "metadata": {},
   "source": [
    "\n",
    "\n"
   ]
  }
 ],
 "metadata": {
  "kernelspec": {
   "display_name": "microns2025",
   "language": "python",
   "name": "microns2025"
  },
  "language_info": {
   "codemirror_mode": {
    "name": "ipython",
    "version": 3
   },
   "file_extension": ".py",
   "mimetype": "text/x-python",
   "name": "python",
   "nbconvert_exporter": "python",
   "pygments_lexer": "ipython3",
   "version": "3.11.11"
  }
 },
 "nbformat": 4,
 "nbformat_minor": 5
}
