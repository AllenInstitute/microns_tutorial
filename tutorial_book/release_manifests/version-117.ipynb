{
 "cells": [
  {
   "cell_type": "markdown",
   "id": "26c56379-b4e4-414b-a7e6-b74e8b67136a",
   "metadata": {},
   "source": [
    "---\n",
    "title: \"117 (Jun 2021)\"\n",
    "draft: false\n",
    "format: \n",
    "    html:\n",
    "        toc: true\n",
    "execute:\n",
    "    eval: False\n",
    "    warning: False\n",
    "jupyter: python3\n",
    "bibliography: ../references.bib\n",
    "---"
   ]
  },
  {
   "cell_type": "code",
   "execution_count": 5,
   "id": "21d39587-78a9-4cfe-935e-91d913fdceed",
   "metadata": {},
   "outputs": [],
   "source": [
    "#| echo: false\n",
    "from caveclient import CAVEclient\n",
    "client = CAVEclient('minnie65_public')"
   ]
  },
  {
   "cell_type": "markdown",
   "id": "e651e490-ee55-48d8-82c6-a81d3d137b41",
   "metadata": {},
   "source": [
    "Data Release v117 (June 11, 2021) is the first public release of the dataset.\n",
    "\n",
    "This version introduces the following CAVE tables:\n",
    "\n",
    " * `synapses_pni_2` : a table associated with the synapse segmentation\n",
    "\n",
    " * `nucleus_detection_v0` : a table associated with the nucleus segmentation\n",
    "\n",
    " * `nucleus_neuron_svm` : outputs of a classifier describing which nucleus detections are likely neurons\n",
    "\n",
    " * `allen_soma_coarse_cell_class_model_v1` : outputs of a classifier predicting cell type based on soma and nucleus features.\n",
    "\n",
    " * A **flat segmentation** of the meshes is also available\n",
    "\n",
    "This data release coincides with the release of many of the [Static Data Repositories](../static-repositories.html), including:\n",
    "\n",
    " * [Electron Microscopy Imagery](../static-repositories.html#electron-microscopy-images)\n",
    " * [Cellular segmentation](../static-repositories.html#cellular-segmentation)\n",
    " * [Synapse segmentation](../static-repositories.html#synaptic-cleft-segmentation)\n",
    " * [Nucleus segmentation](../static-repositories.html#nucleus-segmentation)\n",
    " * [Functional data](../static-repositories.html#functional-data)\n",
    "\n",
    "Information about the version 117 release can be queried with the following:"
   ]
  },
  {
   "cell_type": "code",
   "execution_count": 4,
   "id": "e60b0f0c-8607-4af3-8599-f6cf2e115a71",
   "metadata": {},
   "outputs": [
    {
     "data": {
      "text/plain": [
       "datetime.datetime(2021, 6, 11, 8, 10, 0, 215114, tzinfo=datetime.timezone.utc)"
      ]
     },
     "execution_count": 4,
     "metadata": {},
     "output_type": "execute_result"
    }
   ],
   "source": [
    "# report timestamp metadata on the version of interest\n",
    "client.materialize.get_version_metadata(117)['time_stamp']"
   ]
  },
  {
   "cell_type": "markdown",
   "id": "0e74e94a-171f-4100-b6e5-e1fdf5c03517",
   "metadata": {},
   "source": [
    "## Synapse Table\n",
    "{{< include ../_annotation_tables/_synapses_pni_2.qmd >}}\n",
    "\n",
    "For more on how to interpret the table, see [Annotation Tables](../annotation-tables.html).\n",
    "\n",
    "## Nucleus Table\n",
    "{{< include ../_annotation_tables/_nucleus_detection_v0.qmd >}}\n",
    "\n",
    "For more on how to interpret the table, see [Annotation Tables](../annotation-tables.html).\n",
    "\n",
    "## Neuron Nucleus Table\n",
    "{{< include ../_annotation_tables/_nucleus_neuron_svm.qmd >}}\n",
    "\n",
    "\n",
    "## Automated cell-type classifier (coarse, version 1)\n",
    "{{< include ../_annotation_tables/_allen_soma_coarse_cell_class_model_v1.qmd >}}"
   ]
  },
  {
   "cell_type": "markdown",
   "id": "996793d4-6a70-44d3-9520-ec605f88ef6a",
   "metadata": {},
   "source": [
    "## Flat Segmentation\n",
    "\n",
    "| Name | Volume | Cloudpath | Short Description | Type (size) |\n",
    "| :-- | :-- | :--- | :-- | :-- |\n",
    "| Proofread Segmentation (v117) | **minnie65** | `https://storage.googleapis.com/iarpa_microns/minnie/minnie65/seg` | Mulit-resolution flat / static cellular segmentation voxels and meshes from 8,8,40 nm and above | Precomputed Shareded Compressed Segmentation (12 TB) |\n",
    "\n",
    ": minnie65 flat segmentation v117\n",
    "\n",
    "This contains the fixed state of the cellular segmentation at each version, where each voxel has been assigned an ID which is unique to each cellular object at 8,8,40, along with downsampled versions. Not all objects have been proofread, but a summary of the most focused efforts on cells can be found in the proofreading status metadata.  In addition the mesh folder contains meshes of each object available at 3 different levels of downsampling.  Folder contains many files, for download use cloud-volume, tensor-store, for bulk download use igneous, AWS CLI or gsutil CLI."
   ]
  },
  {
   "cell_type": "markdown",
   "id": "3a939785-3211-4a98-810b-a53e339d22c1",
   "metadata": {},
   "source": [
    "\n",
    "\n"
   ]
  }
 ],
 "metadata": {
  "kernelspec": {
   "display_name": "microns2025",
   "language": "python",
   "name": "microns2025"
  },
  "language_info": {
   "codemirror_mode": {
    "name": "ipython",
    "version": 3
   },
   "file_extension": ".py",
   "mimetype": "text/x-python",
   "name": "python",
   "nbconvert_exporter": "python",
   "pygments_lexer": "ipython3",
   "version": "3.11.11"
  }
 },
 "nbformat": 4,
 "nbformat_minor": 5
}
