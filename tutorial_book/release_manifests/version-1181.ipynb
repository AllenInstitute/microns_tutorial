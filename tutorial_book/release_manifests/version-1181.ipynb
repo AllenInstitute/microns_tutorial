{
 "cells": [
  {
   "cell_type": "markdown",
   "id": "26c56379-b4e4-414b-a7e6-b74e8b67136a",
   "metadata": {},
   "source": [
    "---\n",
    "title: \"1181 (Sep 2024)\"\n",
    "format: \n",
    "    html:\n",
    "        toc: true\n",
    "---"
   ]
  },
  {
   "cell_type": "markdown",
   "id": "e651e490-ee55-48d8-82c6-a81d3d137b41",
   "metadata": {},
   "source": [
    "Data Release v1181 (September 16, 2024) is the third quarterly release of 2024.\n",
    "\n",
    "The following tables have updated status or entries, from VORTEX proofreading and annotations\n",
    "\n",
    " * `proofreading_status_and_strategy` (newly proofread cells and upgraded cell status)\n",
    "\n",
    " * `vortex_compartment_targets` (new manual annotations)\n",
    "\n",
    " * `vortex_astrocyte_proofreading_status ` (upgraded cell status)\n",
    "\n",
    "\n",
    "It includes all other tables as of v1078, with the following exceptions (removed tables still available in version 1078):\n",
    "\n",
    " * `proofreading_status_public_release ` (REMOVED and superseded by `proofreading_status_and_strategy`)\n",
    "\n",
    " * `manual_coregistration_v3` (REMOVED and superseded by `manual_coregistration_v4`)\n",
    "\n",
    " * `nucleus_neuron_svm` (redundant with cell typing tables and `nucleus_detection_v0`)\n"
   ]
  },
  {
   "cell_type": "markdown",
   "id": "7fe492c7-5bdc-41e0-9328-98d448f2b1f1",
   "metadata": {},
   "source": [
    "## VORTEX Efforts\n",
    "\n",
    "### Proofreading Status and Strategy\n",
    "{{< include ../_annotation_tables/_proofreading_status_and_strategy.qmd >}}\n",
    "\n",
    "\n",
    "### VORTEX synapse compartments\n",
    "{{< include ../_annotation_tables/_vortex_compartment_targets.qmd >}}\n",
    "\n",
    "\n",
    "### VORTEX proofread astrocytes\n",
    "{{< include ../_annotation_tables/_vortex_astrocyte_proofreading_status.qmd >}}\n",
    "\n",
    "For more on how to interpret the table, see [Annotation Tables](../annotation-tables.html)\n"
   ]
  },
  {
   "cell_type": "markdown",
   "id": "3a939785-3211-4a98-810b-a53e339d22c1",
   "metadata": {},
   "source": [
    "\n",
    "\n"
   ]
  }
 ],
 "metadata": {
  "kernelspec": {
   "display_name": "microns2025",
   "language": "python",
   "name": "microns2025"
  },
  "language_info": {
   "codemirror_mode": {
    "name": "ipython",
    "version": 3
   },
   "file_extension": ".py",
   "mimetype": "text/x-python",
   "name": "python",
   "nbconvert_exporter": "python",
   "pygments_lexer": "ipython3",
   "version": "3.11.11"
  }
 },
 "nbformat": 4,
 "nbformat_minor": 5
}
