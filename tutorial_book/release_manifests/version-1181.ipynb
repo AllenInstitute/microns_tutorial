{
 "cells": [
  {
   "cell_type": "markdown",
   "id": "26c56379-b4e4-414b-a7e6-b74e8b67136a",
   "metadata": {},
   "source": [
    "---\n",
    "title: \"1181 (Sep 2024)\"\n",
    "format: \n",
    "    html:\n",
    "        toc: true\n",
    "execute:\n",
    "    eval: False\n",
    "    warning: False\n",
    "jupyter: python3\n",
    "bibliography: ../references.bib\n",
    "---"
   ]
  },
  {
   "cell_type": "code",
   "execution_count": 3,
   "id": "44c79dc4-312d-42d2-b5e2-e5df4b74d8d6",
   "metadata": {},
   "outputs": [],
   "source": [
    "#| echo: false\n",
    "from caveclient import CAVEclient\n",
    "client = CAVEclient('minnie65_public')"
   ]
  },
  {
   "cell_type": "code",
   "execution_count": 6,
   "id": "f2081141-cc7c-4dbe-9fc3-3280b3f788c0",
   "metadata": {},
   "outputs": [],
   "source": [
    "#| echo: false\n",
    "# v1181_tables = client.materialize.get_tables(version=1181)\n",
    "\n",
    "# v1078_tables = client.materialize.get_tables(version=1078)\n",
    "\n",
    "# print(set(v1078_tables) - set(v1181_tables))\n",
    "\n",
    "# set(v1181_tables) - set(v1078_tables)"
   ]
  },
  {
   "cell_type": "code",
   "execution_count": 1,
   "id": "7573b92a-f59d-49bd-81a4-b095c57b0cb3",
   "metadata": {},
   "outputs": [],
   "source": [
    "#| echo: false\n",
    "from caveclient import CAVEclient\n",
    "client = CAVEclient('minnie65_public')"
   ]
  },
  {
   "cell_type": "markdown",
   "id": "e651e490-ee55-48d8-82c6-a81d3d137b41",
   "metadata": {},
   "source": [
    "Data Release v1181 (September 16, 2024) is the third quarterly release of 2024.\n",
    "\n",
    "This release added no new tables.\n",
    "\n",
    "The following tables have updated status or entries, from VORTEX proofreading and annotations:\n",
    "\n",
    " * `proofreading_status_and_strategy` (newly proofread cells and upgraded cell status)\n",
    "\n",
    " * `vortex_compartment_targets` (new manual annotations)\n",
    "\n",
    " * `vortex_astrocyte_proofreading_status ` (upgraded cell status)\n",
    "\n",
    "The following tables from previous versions  are included:\n",
    "\n",
    " * `synapses_pni_2` ( [v117](version-117.html) )\n",
    " * `nucleus_detection_v0` ( [v117](version-117.html) )\n",
    " * `allen_v1_column_types_slanted_ref`( [v661](version-661.html) )\n",
    " * `aibs_column_nonneuronal_ref` ( [v661](version-661.html) )\n",
    " * `baylor_log_reg_cell_type_coarse_v1` ( [v661](version-661.html) )\n",
    " * `nucleus_alternative_points` ( [v661](version-661.html) )\n",
    " * `allen_column_mtypes_v2` ( [v795](version-795.html) )\n",
    " * `aibs_metamodel_celltypes_v661` ( [v795](version-795.html) )\n",
    " * `aibs_metamodel_mtypes_v661_v2` ( [v795](version-795.html) )\n",
    " * `l5et_column`, `bodor_pt_cells`, `bodor_pt_target_proofread`, and `pt_synapse_targets` ( [v795](version-795.html) )\n",
    " * `functional_properties_v3_bcm` ( [v943](version-943.html) )\n",
    " * `coregistration_manual_v4` ( [v943](version-943.html) )\n",
    " * `apl_functional_coreg_vess_fwd`,  `coregistration_auto_phase3_fwd`, and `coregistration_auto_phase3_fwd_apl_vess_combined` ( [v943](version-943.html) )\n",
    " * `proofreading_status_and_strategy` ( [v1078](version-1078.html) )\n",
    " * `vortex_astrocyte_proofreading_status` ( [v1078](version-1078.html) )\n",
    " * `vortex_compartment_targets` ( [v1078](version-1078.html) )\n",
    " * `vortex_manual_myelination_v0`, `vortex_manual_nodes_of_ranvier` ( [v1078](version-1078.html) )\n",
    " * `nucleus_functional_area_assignment`( [v1078](version-1078.html) )\n",
    " * `synapse_target_structure` ( [v1078](version-1078.html) )\n",
    "\n",
    "The following tables have been REMOVED (removed tables still available in version 1078):\n",
    "\n",
    " * `proofreading_status_public_release ` : removed and superseded by `proofreading_status_and_strategy`\n",
    "\n",
    " * `manual_coregistration_v3` : removed and superseded by `manual_coregistration_v4`\n",
    "\n",
    " * `nucleus_neuron_svm` : removed as redundant with cell typing tables and `nucleus_detection_v0`\n",
    "\n",
    "Information about the version 1181 release can be queried with the following:\n"
   ]
  },
  {
   "cell_type": "code",
   "execution_count": 2,
   "id": "9848d63e-f52a-4880-a720-1b271abb1d84",
   "metadata": {},
   "outputs": [
    {
     "data": {
      "text/plain": [
       "datetime.datetime(2024, 9, 16, 10, 10, 1, 121167, tzinfo=datetime.timezone.utc)"
      ]
     },
     "execution_count": 2,
     "metadata": {},
     "output_type": "execute_result"
    }
   ],
   "source": [
    "# report timestamp metadata on the version of interest\n",
    "client.materialize.get_version_metadata(1181)['time_stamp']"
   ]
  },
  {
   "cell_type": "markdown",
   "id": "7fe492c7-5bdc-41e0-9328-98d448f2b1f1",
   "metadata": {},
   "source": [
    "## VORTEX Efforts\n",
    "\n",
    "### Proofreading Status and Strategy\n",
    "{{< include ../_annotation_tables/_proofreading_status_and_strategy.qmd >}}\n",
    "\n",
    "\n",
    "### VORTEX synapse compartments\n",
    "{{< include ../_annotation_tables/_vortex_compartment_targets.qmd >}}\n",
    "\n",
    "\n",
    "### VORTEX proofread astrocytes\n",
    "{{< include ../_annotation_tables/_vortex_astrocyte_proofreading_status.qmd >}}\n",
    "\n",
    "For more on how to interpret the table, see [Annotation Tables](../annotation-tables.html)\n"
   ]
  },
  {
   "cell_type": "markdown",
   "id": "3a939785-3211-4a98-810b-a53e339d22c1",
   "metadata": {},
   "source": [
    "\n",
    "\n"
   ]
  }
 ],
 "metadata": {
  "kernelspec": {
   "display_name": "microns2025",
   "language": "python",
   "name": "microns2025"
  },
  "language_info": {
   "codemirror_mode": {
    "name": "ipython",
    "version": 3
   },
   "file_extension": ".py",
   "mimetype": "text/x-python",
   "name": "python",
   "nbconvert_exporter": "python",
   "pygments_lexer": "ipython3",
   "version": "3.11.11"
  }
 },
 "nbformat": 4,
 "nbformat_minor": 5
}
