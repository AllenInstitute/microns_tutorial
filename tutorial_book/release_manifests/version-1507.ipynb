{
 "cells": [
  {
   "cell_type": "markdown",
   "id": "26c56379-b4e4-414b-a7e6-b74e8b67136a",
   "metadata": {},
   "source": [
    "---\n",
    "title: \"1507 (Jul 2025)\"\n",
    "format: \n",
    "    html:\n",
    "        toc: true\n",
    "draft: true\n",
    "execute:\n",
    "    eval: False\n",
    "    warning: False\n",
    "jupyter: python3\n",
    "bibliography: ../references.bib\n",
    "---"
   ]
  },
  {
   "cell_type": "code",
   "execution_count": 1,
   "id": "18ea9a1b-6ed2-4930-a062-9ee5038c50e0",
   "metadata": {},
   "outputs": [],
   "source": [
    "#| echo: false\n",
    "from caveclient import CAVEclient\n",
    "client = CAVEclient('minnie65_public')"
   ]
  },
  {
   "cell_type": "code",
   "execution_count": 3,
   "id": "dd60d5c9-a1d1-4f9f-985c-a83be77fb0cb",
   "metadata": {},
   "outputs": [],
   "source": [
    "#| echo: false\n",
    "\n",
    "# v1412_tables = client.materialize.get_tables(version=1412)\n",
    "# v1507_tables = client.materialize.get_tables(version=1507)\n",
    "\n",
    "# print(set(v1507_tables) - set(v1412_tables))\n",
    "\n",
    "# priint(set(v1412_tables) - set(v1507_tables))"
   ]
  },
  {
   "cell_type": "markdown",
   "id": "e651e490-ee55-48d8-82c6-a81d3d137b41",
   "metadata": {},
   "source": [
    "Data Release v1507 (July 31, 2025) is the third quarterly release of 2025. \n",
    "\n",
    "This version ADDS the following tables\n",
    "\n",
    " * `digital_twin_properties_bcm_coreg_v4`: Functional properties computed from the digital twin model [@wang_foundation_2025] merged with `coregistration_manual_v4`\n",
    "\n",
    " * `digital_twin_properties_bcm_coreg_auto_phase3_fwd_v2`: Functional properties computed from the digital twin model [@wang_foundation_2025] merged with `coregistration_auto_phase3_fwd_v2`\n",
    "\n",
    " * `digital_twin_properties_bcm_coreg_apl_vess_fwd`: Functional properties computed from the digital twin model [@wang_foundation_2025] merged with `apl_functional_coreg_vess_fwd`\n",
    "\n",
    " * `vortex_peptidergic_proofreading_status`: selected proofreading of putative neuromodulatory axons, distinguished by boutons with large secretory vesicles. Labeled as part of the VORTEX effort\n",
    "\n",
    "The following tables have updated status or entries, from VORTEX proofreading and annotations\n",
    "\n",
    " * `proofreading_status_and_strategy` (newly proofread cells and upgraded cell status)\n",
    "\n",
    " * `vortex_thalamic_proofreading_status` (newly proofread cells and upgraded cell status)\n",
    "\n",
    "The following tables from previous versions  are included:\n",
    "\n",
    " * `synapses_pni_2` ( [v117](version-117.html) )\n",
    " * `nucleus_detection_v0` ( [v117](version-117.html) )\n",
    " * `allen_v1_column_types_slanted_ref`( [v661](version-661.html) )\n",
    " * `aibs_column_nonneuronal_ref` ( [v661](version-661.html) )\n",
    " * `baylor_log_reg_cell_type_coarse_v1` ( [v661](version-661.html) )\n",
    " * `nucleus_alternative_points` ( [v661](version-661.html) )\n",
    " * `allen_column_mtypes_v2` ( [v795](version-795.html) )\n",
    " * `aibs_metamodel_celltypes_v661` ( [v795](version-795.html) )\n",
    " * `aibs_metamodel_mtypes_v661_v2` ( [v795](version-795.html) )\n",
    " * `l5et_column`, `bodor_pt_cells`, `bodor_pt_target_proofread`, and `pt_synapse_targets` ( [v795](version-795.html) )\n",
    " * `functional_properties_v3_bcm` ( [v943](version-943.html) )\n",
    " * `coregistration_manual_v4` ( [v943](version-943.html) )\n",
    " * `apl_functional_coreg_vess_fwd` ( [v943](version-943.html) )\n",
    " * `proofreading_status_and_strategy` ( [v1078](version-1078.html) )\n",
    " * `vortex_astrocyte_proofreading_status` ( [v1078](version-1078.html) )\n",
    " * `vortex_compartment_targets` ( [v1078](version-1078.html) )\n",
    " * `vortex_manual_myelination_v0`, `vortex_manual_nodes_of_ranvier` ( [v1078](version-1078.html) )\n",
    " * `nucleus_functional_area_assignment`( [v1078](version-1078.html) )\n",
    " * `synapse_target_structure` ( [v1078](version-1078.html) )\n",
    " * `synapse_target_predictions_ssa` ( [v1300](version-1300.html) )\n",
    " * `coregistration_auto_phase3_fwd_apl_vess_combined_v2` ( [v1300](version-1300.html) )\n",
    " * `coregistration_auto_phase3_fwd_v2` ( [v1300](version-1300.html) )\n",
    " * `cg_cell_type_calls`, `gamlin_2023_mcs`, `gamlin_2023_mcs_met_types` ( [v1300](version-1300.html) )\n",
    " * `vortex_thalamic_proofreading_status` ( [v1412](version-1412.html) )\n",
    " * `multi_input_spine_predictions_ssa` ( [v1412](version-1412.html) )\n",
    "\n",
    "\n",
    "The following tables have been REMOVED (removed tables still available in version 1412):\n",
    "\n",
    " * `functional_properties_v3_bcm` : removed and superseded by `digital_twin_properties_bcm_coreg_v4`\n",
    "\n",
    "\n",
    "Information about the version 1507 release can be queried with the following:"
   ]
  },
  {
   "cell_type": "code",
   "execution_count": 2,
   "id": "d4b45ac1-201b-43af-9698-a13612b3a51d",
   "metadata": {},
   "outputs": [
    {
     "data": {
      "text/plain": [
       "datetime.datetime(2025, 7, 31, 8, 10, 1, 117494, tzinfo=datetime.timezone.utc)"
      ]
     },
     "execution_count": 2,
     "metadata": {},
     "output_type": "execute_result"
    }
   ],
   "source": [
    "# report timestamp metadata on the version of interest\n",
    "client.materialize.get_version_metadata(1507)['time_stamp']"
   ]
  },
  {
   "cell_type": "markdown",
   "id": "2778062d-0f1a-403e-b3d2-53fbf58a7c9e",
   "metadata": {},
   "source": [
    "## Functional digital twin properties\n",
    "\n",
    "### Merged to manual coregistration\n",
    "\n",
    "{{< include ../_annotation_tables/_digital_twin_properties_bcm_coreg_v4.qmd >}}\n",
    "\n",
    "### Merged to Automatic Coregistration\n",
    "\n",
    "Table name: `digital_twin_properties_bcm_coreg_auto_phase3_fwd_v2`\n",
    "\n",
    "Follows the same scheme as `digital_twin_properties_bcm_coreg_v4`, but uses the coregistration information from: `coregistration_auto_phase3_fwd_v2`.\n",
    "\n",
    "```python\n",
    "# Standard query\n",
    "client.materialize.query_table('digital_twin_properties_bcm_coreg_auto_phase3_fwd_v2')\n",
    "\n",
    "# Content-aware query\n",
    "client.materialize.tables.digital_twin_properties_bcm_coreg_auto_phase3_fwd_v2(id=example_nucleus_id).query()\n",
    "```\n",
    "\n",
    "Table name: `digital_twin_properties_bcm_coreg_apl_vess_fwd`\n",
    "\n",
    "Follows the same scheme as `digital_twin_properties_bcm_coreg_v4`, but uses the coregistration information from: `apl_functional_coreg_vess_fwd`.\n",
    "\n",
    "```python\n",
    "# Standard query\n",
    "client.materialize.query_table('digital_twin_properties_bcm_coreg_apl_vess_fwd')\n",
    "\n",
    "# Content-aware query\n",
    "client.materialize.tables.digital_twin_properties_bcm_coreg_apl_vess_fwd(id=example_nucleus_id).query()\n",
    "```\n"
   ]
  },
  {
   "cell_type": "markdown",
   "id": "7fe492c7-5bdc-41e0-9328-98d448f2b1f1",
   "metadata": {},
   "source": [
    "## VORTEX Efforts\n",
    "\n",
    "### Proofreading Status and Strategy\n",
    "\n",
    "{{< include ../_annotation_tables/_proofreading_status_and_strategy.qmd >}}\n",
    "\n",
    "\n",
    "### VORTEX proofread neuromodulatory axons\n",
    "\n",
    "{{< include ../_annotation_tables/_vortex_peptidergic_proofreading_status.qmd >}}\n",
    "\n",
    "For more on how to interpret the table, see [Annotation Tables](../annotation-tables.html)\n"
   ]
  },
  {
   "cell_type": "markdown",
   "id": "3a939785-3211-4a98-810b-a53e339d22c1",
   "metadata": {},
   "source": [
    "\n",
    "\n"
   ]
  }
 ],
 "metadata": {
  "kernelspec": {
   "display_name": "microns2025",
   "language": "python",
   "name": "microns2025"
  },
  "language_info": {
   "codemirror_mode": {
    "name": "ipython",
    "version": 3
   },
   "file_extension": ".py",
   "mimetype": "text/x-python",
   "name": "python",
   "nbconvert_exporter": "python",
   "pygments_lexer": "ipython3",
   "version": "3.11.11"
  }
 },
 "nbformat": 4,
 "nbformat_minor": 5
}
