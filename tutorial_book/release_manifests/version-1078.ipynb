{
 "cells": [
  {
   "cell_type": "markdown",
   "id": "26c56379-b4e4-414b-a7e6-b74e8b67136a",
   "metadata": {},
   "source": [
    "---\n",
    "title: \"1078 (Jun 2024)\"\n",
    "format: \n",
    "    html:\n",
    "        toc: true\n",
    "---"
   ]
  },
  {
   "cell_type": "markdown",
   "id": "e651e490-ee55-48d8-82c6-a81d3d137b41",
   "metadata": {},
   "source": [
    "Data Release v1078 (June 5, 2024) is the second quarterly release of 2024. \n",
    "\n",
    "This version ADDS the following tables\n",
    "\n",
    " * `proofreading_status_and_strategy`: an updated proofreading table, superseding `proofreading_status_public_release`\n",
    "\n",
    " * `vortex_astrocyte_proofreading_status` : selected proofreading of astrocytes, as part of the VORTEX effort\n",
    "\n",
    " * `vortex_compartment_targets` : manual labels on the synaptic target compartment (spine, shaft, soma, etc.), as part of the VORTEX effort\n",
    "\n",
    " * `vortex_manual_myelination_v0` : manual labels on the myelination status of axons, as part of the VORTEX effort\n",
    "\n",
    " * `vortex_manual_nodes_of_ranvier` : manual labels on the nodes of Ranvier on myelinated axons, as part of the VORTEX effort\n",
    "\n",
    " * `nucleus_functional_area_assignment` : inferred brain area for all nuclei in the dataset\n",
    "\n",
    "It includes all other tables as of v661, with the following exceptions (removed tables still available in version 1181):\n",
    "\n",
    "* \n"
   ]
  },
  {
   "cell_type": "markdown",
   "id": "7fe492c7-5bdc-41e0-9328-98d448f2b1f1",
   "metadata": {},
   "source": [
    "## VORTEX Efforts\n",
    "\n",
    "### Proofreading Status and Strategy\n",
    "{{< include ../_annotation_tables/_proofreading_status_and_strategy.qmd >}}\n",
    "\n",
    "### VORTEX proofread astrocytes\n",
    "{{< include ../_annotation_tables/_vortex_astrocyte_proofreading_status.qmd >}}\n",
    "\n",
    "### VORTEX synapse compartments\n",
    "{{< include ../_annotation_tables/_vortex_compartment_targets.qmd >}}\n",
    "\n",
    "### VORTEX manual myelin\n",
    "{{< include ../_annotation_tables/_vortex_manual_myelination_v0.qmd >}}\n",
    "\n",
    "### VORTEX nodes of Ranvier\n",
    "{{< include ../_annotation_tables/_vortex_manual_nodes_of_ranvier.qmd >}}\n",
    "\n",
    "For more on how to interpret the table, see [Annotation Tables](../annotation-tables.html)\n"
   ]
  },
  {
   "cell_type": "markdown",
   "id": "0e74e94a-171f-4100-b6e5-e1fdf5c03517",
   "metadata": {},
   "source": [
    "## Functional area nucleus look-up\n",
    "{{< include ../_annotation_tables/_nucleus_functional_area_assignment.qmd >}}\n",
    "\n",
    "For more on how to interpret the table, see [Annotation Tables](../annotation-tables.html)."
   ]
  },
  {
   "cell_type": "markdown",
   "id": "3a939785-3211-4a98-810b-a53e339d22c1",
   "metadata": {},
   "source": [
    "\n",
    "\n"
   ]
  }
 ],
 "metadata": {
  "kernelspec": {
   "display_name": "microns2025",
   "language": "python",
   "name": "microns2025"
  },
  "language_info": {
   "codemirror_mode": {
    "name": "ipython",
    "version": 3
   },
   "file_extension": ".py",
   "mimetype": "text/x-python",
   "name": "python",
   "nbconvert_exporter": "python",
   "pygments_lexer": "ipython3",
   "version": "3.11.11"
  }
 },
 "nbformat": 4,
 "nbformat_minor": 5
}
