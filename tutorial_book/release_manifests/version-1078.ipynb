{
 "cells": [
  {
   "cell_type": "markdown",
   "id": "26c56379-b4e4-414b-a7e6-b74e8b67136a",
   "metadata": {},
   "source": [
    "---\n",
    "title: \"1078 (Jun 2024)\"\n",
    "format: \n",
    "    html:\n",
    "        toc: true\n",
    "execute:\n",
    "    eval: False\n",
    "    warning: False\n",
    "jupyter: python3\n",
    "bibliography: ../references.bib\n",
    "---"
   ]
  },
  {
   "cell_type": "code",
   "execution_count": 2,
   "id": "2e69592b-f374-4cdd-96dd-aa21fb836048",
   "metadata": {},
   "outputs": [],
   "source": [
    "#| echo: false\n",
    "from caveclient import CAVEclient\n",
    "client = CAVEclient('minnie65_public')"
   ]
  },
  {
   "cell_type": "code",
   "execution_count": 5,
   "id": "3f2676b6-354f-4cb9-9afa-dc4cefb0df19",
   "metadata": {},
   "outputs": [],
   "source": [
    "#| echo: false\n",
    "# v943_tables = client.materialize.get_tables(version=943)\n",
    "\n",
    "# v1078_tables = client.materialize.get_tables(version=1078)\n",
    "\n",
    "# print(set(v943_tables) - set(v1078_tables))\n",
    "\n",
    "# set(v1078_tables) - set(v943_tables)"
   ]
  },
  {
   "cell_type": "markdown",
   "id": "e651e490-ee55-48d8-82c6-a81d3d137b41",
   "metadata": {},
   "source": [
    "Data Release v1078 (June 5, 2024) is the second quarterly release of 2024. \n",
    "\n",
    "This version ADDS the following tables\n",
    "\n",
    " * `proofreading_status_and_strategy`: an updated proofreading table, superseding `proofreading_status_public_release`\n",
    "\n",
    " * `vortex_astrocyte_proofreading_status` : selected proofreading of astrocytes, as part of the VORTEX effort\n",
    "\n",
    " * `vortex_compartment_targets` : manual labels on the synaptic target compartment (spine, shaft, soma, etc.), as part of the VORTEX effort\n",
    "\n",
    " * `vortex_manual_myelination_v0` : manual labels on the myelination status of axons, as part of the VORTEX effort\n",
    "\n",
    " * `vortex_manual_nodes_of_ranvier` : manual labels on the nodes of Ranvier on myelinated axons, as part of the VORTEX effort\n",
    "\n",
    " * `nucleus_functional_area_assignment` : inferred brain area for all nuclei in the dataset\n",
    "\n",
    " * `synapse_target_structure` : a prediction on the target compartment of a synapse\n",
    "\n",
    "The following tables from previous versions  are included:\n",
    "\n",
    " * `synapses_pni_2` ( [v117](version-117.html) )\n",
    " * `nucleus_detection_v0` ( [v117](version-117.html) )\n",
    " * `proofreading_status_public_release` ( [v343](version-343.html) )\n",
    " * `allen_v1_column_types_slanted_ref`( [v661](version-661.html) )\n",
    " * `aibs_column_nonneuronal_ref` ( [v661](version-661.html) )\n",
    " * `baylor_log_reg_cell_type_coarse_v1` ( [v661](version-661.html) )\n",
    " * `coregistration_manual_v3` ( [v661](version-661.html) )\n",
    " * `nucleus_alternative_points` ( [v661](version-661.html) )\n",
    " * `nucleus_ref_neuron_svm` ( [v661](version-661.html) )\n",
    " * `allen_column_mtypes_v2` ( [v795](version-795.html) )\n",
    " * `aibs_metamodel_celltypes_v661` ( [v795](version-795.html) )\n",
    " * `aibs_metamodel_mtypes_v661_v2` ( [v795](version-795.html) )\n",
    " * `l5et_column`, `bodor_pt_cells`, `bodor_pt_target_proofread`, and `pt_synapse_targets` ( [v795](version-795.html) )\n",
    " * `functional_properties_v3_bcm` ( [v943](version-943.html) )\n",
    " * `coregistration_manual_v4` ( [v943](version-943.html) )\n",
    " * `apl_functional_coreg_vess_fwd`,  `coregistration_auto_phase3_fwd`, and `coregistration_auto_phase3_fwd_apl_vess_combined` ( [v943](version-943.html) )\n",
    "\n",
    "Information about the version 1078 release can be queried with the following:"
   ]
  },
  {
   "cell_type": "code",
   "execution_count": 3,
   "id": "a19919bd-6cfd-4067-96a3-2ed009a74a2d",
   "metadata": {},
   "outputs": [
    {
     "data": {
      "text/plain": [
       "datetime.datetime(2024, 6, 5, 10, 10, 1, 203215, tzinfo=datetime.timezone.utc)"
      ]
     },
     "execution_count": 3,
     "metadata": {},
     "output_type": "execute_result"
    }
   ],
   "source": [
    "# report timestamp metadata on the version of interest\n",
    "client.materialize.get_version_metadata(1078)['time_stamp']"
   ]
  },
  {
   "cell_type": "markdown",
   "id": "7fe492c7-5bdc-41e0-9328-98d448f2b1f1",
   "metadata": {},
   "source": [
    "## VORTEX Efforts\n",
    "\n",
    "### Proofreading Status and Strategy\n",
    "{{< include ../_annotation_tables/_proofreading_status_and_strategy.qmd >}}\n",
    "\n",
    "### VORTEX proofread astrocytes\n",
    "{{< include ../_annotation_tables/_vortex_astrocyte_proofreading_status.qmd >}}\n",
    "\n",
    "### VORTEX synapse compartments\n",
    "{{< include ../_annotation_tables/_vortex_compartment_targets.qmd >}}\n",
    "\n",
    "### VORTEX manual myelin\n",
    "{{< include ../_annotation_tables/_vortex_manual_myelination_v0.qmd >}}\n",
    "\n",
    "### VORTEX nodes of Ranvier\n",
    "{{< include ../_annotation_tables/_vortex_manual_nodes_of_ranvier.qmd >}}\n",
    "\n",
    "For more on how to interpret the table, see [Annotation Tables](../annotation-tables.html)\n"
   ]
  },
  {
   "cell_type": "markdown",
   "id": "0e74e94a-171f-4100-b6e5-e1fdf5c03517",
   "metadata": {},
   "source": [
    "## Functional area nucleus look-up\n",
    "{{< include ../_annotation_tables/_nucleus_functional_area_assignment.qmd >}}\n",
    "\n",
    "For more on how to interpret the table, see [Annotation Tables](../annotation-tables.html)."
   ]
  },
  {
   "cell_type": "markdown",
   "id": "4b1cdaa3-d834-407b-bd14-171e5f1114e9",
   "metadata": {},
   "source": [
    "## Synapse target structure\n",
    "{{< include ../_annotation_tables/_synapse_target_structure.qmd >}}\n",
    "\n",
    "For more on how to interpret the table, see [Annotation Tables](../annotation-tables.html)."
   ]
  }
 ],
 "metadata": {
  "kernelspec": {
   "display_name": "microns2025",
   "language": "python",
   "name": "microns2025"
  },
  "language_info": {
   "codemirror_mode": {
    "name": "ipython",
    "version": 3
   },
   "file_extension": ".py",
   "mimetype": "text/x-python",
   "name": "python",
   "nbconvert_exporter": "python",
   "pygments_lexer": "ipython3",
   "version": "3.11.11"
  }
 },
 "nbformat": 4,
 "nbformat_minor": 5
}
