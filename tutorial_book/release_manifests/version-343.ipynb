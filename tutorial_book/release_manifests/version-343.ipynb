{
 "cells": [
  {
   "cell_type": "markdown",
   "id": "26c56379-b4e4-414b-a7e6-b74e8b67136a",
   "metadata": {},
   "source": [
    "---\n",
    "title: \"343 (Feb 2022)\"\n",
    "draft: false\n",
    "format: \n",
    "    html:\n",
    "        toc: true\n",
    "execute:\n",
    "    eval: False\n",
    "    warning: False\n",
    "jupyter: python3\n",
    "bibliography: ../references.bib\n",
    "---"
   ]
  },
  {
   "cell_type": "code",
   "execution_count": 1,
   "id": "4d88cb9e-152b-42e0-8335-89789bc37dcd",
   "metadata": {},
   "outputs": [],
   "source": [
    "#| echo: false\n",
    "from caveclient import CAVEclient\n",
    "client = CAVEclient('minnie65_public')"
   ]
  },
  {
   "cell_type": "code",
   "execution_count": 12,
   "id": "375a140b-80dd-4140-b0e8-d00894413a98",
   "metadata": {},
   "outputs": [],
   "source": [
    "#| echo: false\n",
    "# v117_tables = client.materialize.get_tables(version=117)\n",
    "# # print(v117_tables)\n",
    "\n",
    "# v343_tables = client.materialize.get_tables(version=343)\n",
    "# # print(v343_tables)\n",
    "\n",
    "# print(set(v117_tables) - set(v343_tables))\n",
    "\n",
    "# set(v343_tables) - set(v117_tables)"
   ]
  },
  {
   "cell_type": "markdown",
   "id": "e651e490-ee55-48d8-82c6-a81d3d137b41",
   "metadata": {},
   "source": [
    "Data Release v343 (February 24, 2022) is the first update to the public datastack. \n",
    "\n",
    "This version ADDS the following tables\n",
    "\n",
    " * `allen_v1_column_types_slanted` : manual annotations of neuron class and subclass in the **V1 column**\n",
    "\n",
    " * `aibs_column_nonneuronal` : manual annotations of non-neuron cell types in the **V1 column**\n",
    "\n",
    " * `aibs_soma_nuc_metamodel_preds_v117` : cell type predictions from an automated classifer on cells in the **V1 column**\n",
    "\n",
    " * `func_unit_em_match_release` : a table of 200 EM centroids manually matched to Baylor `unit_ids` in the functional scans\n",
    "\n",
    " * `functional_coreg` : a table of 9608 EM centroids manually matched to Baylor `unit_ids` in the functional scans\n",
    "\n",
    " * `proofreading_status_public_release` : the proofreading status of cells in the dataset, including all neurons in the **V1 column**\n",
    "\n",
    " *  A **flat segmentation** of the meshes is also available\n",
    "\n",
    "The following tables from previous versions  are included:\n",
    "\n",
    " * `synapses_pni_2` ( [v117](version-117.html) )\n",
    " * `nucleus_detection_v0` ( [v117](version-117.html) )\n",
    " * `nucleus_neuron_svm` ( [v117](version-117.html) )\n",
    "\n",
    "The following tables have been REMOVED (removed tables still available in version 117):\n",
    "\n",
    "* `allen_soma_coarse_cell_class_model_v1` : removed and superseded by `aibs_soma_nuc_metamodel_preds_v117`\n",
    "\n",
    "\n",
    "Information about the version 343 release can be queried with the following:"
   ]
  },
  {
   "cell_type": "code",
   "execution_count": 11,
   "id": "37698497-2ffd-4500-8591-6c422b58e1fe",
   "metadata": {},
   "outputs": [
    {
     "data": {
      "text/plain": [
       "datetime.datetime(2022, 2, 24, 8, 10, 0, 184668, tzinfo=datetime.timezone.utc)"
      ]
     },
     "execution_count": 11,
     "metadata": {},
     "output_type": "execute_result"
    }
   ],
   "source": [
    "# report timestamp metadata on the version of interest\n",
    "client.materialize.get_version_metadata(343)['time_stamp']"
   ]
  },
  {
   "cell_type": "markdown",
   "id": "0e74e94a-171f-4100-b6e5-e1fdf5c03517",
   "metadata": {},
   "source": [
    "## Manual Cell Types (V1 Column)\n",
    "\n",
    "### Neurons \n",
    "{{< include ../_annotation_tables/_allen_v1_column_types_slanted.qmd >}}\n",
    "\n",
    "### Non-neurons\n",
    "{{< include ../_annotation_tables/_aibs_column_nonneuronal.qmd >}}\n",
    "\n",
    "## Automated cell-type classifier\n",
    "{{< include ../_annotation_tables/_aibs_soma_nuc_metamodel_preds_v117.qmd >}}\n",
    "\n",
    "## Coregistration\n",
    "{{< include ../_annotation_tables/_func_unit_em_match_release.qmd >}}\n",
    "\n",
    "{{< include ../_annotation_tables/_functional_coreg.qmd >}}\n",
    "\n",
    "## Proofreading Status\n",
    "{{< include ../_annotation_tables/_proofreading_status_public_release.qmd >}}\n",
    "\n",
    "For more on how to interpret the table, see [Annotation Tables](../annotation-tables.html)."
   ]
  },
  {
   "cell_type": "markdown",
   "id": "8aec24fc-d6c2-4d46-96c6-e70c71b6a2bf",
   "metadata": {},
   "source": [
    "## Flat Segmentation\n",
    "\n",
    "| Name | Volume | Cloudpath | Short Description | Type (size) |\n",
    "| :-- | :-- | :--- | :-- | :-- |\n",
    "| Proofread Segmentation (v343) | **minnie65** | `https://storage.googleapis.com/iarpa_microns/minnie/minnie65/seg_m343` | Mulit-resolution flat / static cellular segmentation voxels and meshes from 8,8,40 nm and above | Precomputed Shareded Compressed Segmentation (12 TB) |\n",
    "\n",
    ": minnie65 flat segmentation v343\n",
    "\n",
    "This contains the fixed state of the cellular segmentation at each version, where each voxel has been assigned an ID which is unique to each cellular object at 8,8,40, along with downsampled versions. Not all objects have been proofread, but a summary of the most focused efforts on cells can be found in the proofreading status metadata.  In addition the mesh folder contains meshes of each object available at 3 different levels of downsampling.  Folder contains many files, for download use cloud-volume, tensor-store, for bulk download use igneous, AWS CLI or gsutil CLI."
   ]
  },
  {
   "cell_type": "markdown",
   "id": "3a939785-3211-4a98-810b-a53e339d22c1",
   "metadata": {},
   "source": [
    "\n",
    "\n"
   ]
  }
 ],
 "metadata": {
  "kernelspec": {
   "display_name": "microns2025",
   "language": "python",
   "name": "microns2025"
  },
  "language_info": {
   "codemirror_mode": {
    "name": "ipython",
    "version": 3
   },
   "file_extension": ".py",
   "mimetype": "text/x-python",
   "name": "python",
   "nbconvert_exporter": "python",
   "pygments_lexer": "ipython3",
   "version": "3.11.11"
  }
 },
 "nbformat": 4,
 "nbformat_minor": 5
}
