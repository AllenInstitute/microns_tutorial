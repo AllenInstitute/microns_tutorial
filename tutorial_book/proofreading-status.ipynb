{
 "cells": [
  {
   "cell_type": "markdown",
   "id": "8a40142b-a529-46e2-8370-070e3f133d35",
   "metadata": {},
   "source": [
    "---\n",
    "title: \"Proofreading Status\"\n",
    "draft: true\n",
    "format: \n",
    "    html:\n",
    "        toc: true\n",
    "        page-layout: full\n",
    "bibliography: references.bib\n",
    "---"
   ]
  },
  {
   "cell_type": "markdown",
   "id": "f13805a8-296f-4168-93d9-3b59a7111730",
   "metadata": {},
   "source": [
    ":::{.panel-tabset}\n",
    "\n",
    "## Cell type\n",
    ":::{.grid}\n",
    "\n",
    "::::{.g-col-7}\n",
    "\n",
    "<iframe src=\"_plotting/_local_figures/v1412_ct_heatmap.html\" width=\"101%\" height=\"650px\" style=\"border-width: 0px; border-color: white; display: block; margin: 0 auto;\"></iframe>\n",
    "\n",
    "::::\n",
    "\n",
    "::::{.g-col-5}\n",
    "<iframe src=\"_plotting/_local_figures/v1412_ct_bar.html\" width=\"101%\" height=\"650px\" style=\"border-width: 0px; border-color: white; display: block; margin: 0 auto;\"></iframe>\n",
    "\n",
    "::::\n",
    "\n",
    ":::\n",
    "\n",
    "## Morphology Type\n",
    ":::{.grid}\n",
    "\n",
    "::::{.g-col-7}\n",
    "\n",
    "<iframe src=\"_plotting/_local_figures/v1412_mtype_heatmap.html\" width=\"101%\" height=\"650px\" style=\"border-width: 0px; border-color: white; display: block; margin: 0 auto;\"></iframe>\n",
    "\n",
    "::::\n",
    "\n",
    "::::{.g-col-5}\n",
    "<iframe src=\"_plotting/_local_figures/v1412_mtype_bar.html\" width=\"101%\" height=\"650px\" style=\"border-width: 0px; border-color: white; display: block; margin: 0 auto;\"></iframe>\n",
    "\n",
    "::::\n",
    "\n",
    ":::\n",
    "\n",
    ":::"
   ]
  }
 ],
 "metadata": {
  "kernelspec": {
   "display_name": "microns2025",
   "language": "python",
   "name": "microns2025"
  },
  "language_info": {
   "codemirror_mode": {
    "name": "ipython",
    "version": 3
   },
   "file_extension": ".py",
   "mimetype": "text/x-python",
   "name": "python",
   "nbconvert_exporter": "python",
   "pygments_lexer": "ipython3",
   "version": "3.11.11"
  }
 },
 "nbformat": 4,
 "nbformat_minor": 5
}
