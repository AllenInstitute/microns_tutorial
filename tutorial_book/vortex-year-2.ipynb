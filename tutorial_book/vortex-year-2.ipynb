{
 "cells": [
  {
   "cell_type": "markdown",
   "id": "e8d4b5b3-8d07-4fc9-aae3-7a30a6ee2171",
   "metadata": {},
   "source": [
    "---\n",
    "title: \"Project Outcomes - Year 2\"\n",
    "draft: false\n",
    "format: \n",
    "    html:\n",
    "        toc: true\n",
    "bibliography: references.bib\n",
    "---"
   ]
  },
  {
   "cell_type": "markdown",
   "id": "3c1b1ae3-fbf7-4676-bd7e-13d7965c33f6",
   "metadata": {},
   "source": [
    "## Year 2: Period 1 \n",
    "\n",
    "Projects completed in the first period of Year 2. Addressing requests recieved during the second half of Year 1. [See: Proposals Received](vortex-overview.html#scientific-proposals-recieved)\n",
    "\n",
    "Includes data releases: [Y2: 1181](release_manifests/version-1181.html) and [Y2: 1300](release_manifests/version-1300.html)\n",
    "\n",
    "::::{.grid}\n",
    "\n",
    ":::{.g-col-6}\n",
    "\n",
    "| SSG Rank | Task                                        | Outcome                                               |\n",
    "| :------- | :------------------------------------------ | ----------------------------------------------------- |\n",
    "| 1.3      | Forward-tracing of pyramidal cell axons     | Added 546 cells                                       |\n",
    "| 1.7      | Annotation of basket cell spine targets     | Added 31502 spine annotations <br>on 5 cells          |\n",
    "| 2        | Annotation of pyramidal spine input         | Added 35938 spine annotations <br>on 8 cells          |\n",
    "| 3.7      | Annotation of basket cell myelin            | 53517 spine annotations  <br>73237 myelin annotations |\n",
    "| 5        | Annotation of spine input  within microglia | Released automated spine-detection resource           |\n",
    "| 5        | OPC proofreading and annotation             | Incomplete in Y2                                      |\n",
    "| 5.7      | Annotation of myelin (any cell type)        | Added 26393 myelin annotations                        |\n",
    "\n",
    ": VORTEX Proofreading Plans | Year 2 Period 1 {.light .hover}\n",
    "\n",
    ":::\n",
    "\n",
    ":::{.g-col-6}\n",
    "\n",
    "<iframe src=\"img/interactives/proofreading_pie_y2_p1.html\" width=\"110%\" height=\"550px\" style=\"border-width: 0px; border-color: white; display: block; margin: 0 auto;\"></iframe>\n",
    ":::\n",
    "\n",
    "::::"
   ]
  },
  {
   "cell_type": "markdown",
   "id": "0654d654-a4b5-4d74-901d-afcf22711df7",
   "metadata": {},
   "source": [
    "<h3> Axon extension of functionally recorded cells </h3>\n",
    "\n",
    "Proofreading and extending functionally coregistered pyramidal cells, which were a combination of excitatory cell types in different superficial layers.\n",
    "\n",
    "<center> Synaptic connectivity added from version 1078 to 1300: </center>"
   ]
  },
  {
   "cell_type": "markdown",
   "id": "d4124fe6-4e64-4247-8bf4-e199f876bec9",
   "metadata": {},
   "source": [
    ":::{.panel-tabset}\n",
    "\n",
    "## Cell type\n",
    ":::{.grid}\n",
    "\n",
    "::::{.g-col-7}\n",
    "\n",
    "<iframe src=\"img/interactives/diff_ct_heatmap_y2_p1.html\" width=\"101%\" height=\"550px\" style=\"border-width: 0px; border-color: white; display: block; margin: 0 auto;\"></iframe>\n",
    "\n",
    "::::\n",
    "\n",
    "::::{.g-col-5}\n",
    "<iframe src=\"img/interactives/diff_ct_bar_y2_p1.html\" width=\"101%\" height=\"550px\" style=\"border-width: 0px; border-color: white; display: block; margin: 0 auto;\"></iframe>\n",
    "\n",
    "::::\n",
    "\n",
    ":::\n",
    "\n",
    "## Morphology Type\n",
    ":::{.grid}\n",
    "\n",
    "::::{.g-col-7}\n",
    "\n",
    "<iframe src=\"img/interactives/diff_mtype_heatmap_y2_p1.html\" width=\"101%\" height=\"550px\" style=\"border-width: 0px; border-color: white; display: block; margin: 0 auto;\"></iframe>\n",
    "\n",
    "::::\n",
    "\n",
    "::::{.g-col-5}\n",
    "<iframe src=\"img/interactives/diff_mtype_bar_y2_p1.html\" width=\"101%\" height=\"550px\" style=\"border-width: 0px; border-color: white; display: block; margin: 0 auto;\"></iframe>\n",
    "\n",
    "::::\n",
    "\n",
    ":::\n",
    "\n",
    ":::"
   ]
  },
  {
   "cell_type": "markdown",
   "id": "cbc44279-28d5-4d99-889f-43230e2e2b3d",
   "metadata": {},
   "source": [
    "\n",
    "<iframe src=\"img/interactives/proofreading_upgrades_bar_y2_p1.html\" width=\"101%\" height=\"450px\" style=\"border-width: 0px; border-color: white; display: block; margin: 0 auto;\"></iframe>"
   ]
  },
  {
   "cell_type": "markdown",
   "id": "5fdea0aa-304f-42e3-abcd-e19033b2210e",
   "metadata": {},
   "source": [
    "Queried from CAVE table: `proofreading_status_and_strategy`:\n",
    "\n",
    "```python\n",
    "# Standard query\n",
    "client.materialize.query_table('proofreading_status_and_strategy')\n",
    "\n",
    "# Content-aware query\n",
    "client.materialize.tables.proofreading_status_and_strategy(status_axon='t').query()\n",
    "```"
   ]
  },
  {
   "cell_type": "markdown",
   "id": "98da967b-5358-4498-a3a6-7802afa7b888",
   "metadata": {},
   "source": [
    "<h3> Convergence of inputs from functionally coregistered cells </h3>"
   ]
  },
  {
   "cell_type": "markdown",
   "id": "c8622655-ceb6-46ee-9f19-40ef2101a3ff",
   "metadata": {},
   "source": [
    "With the combined effort across Year 1 (1078) and Year 2 (1300), VORTEX proofreading has doubled the number of synapses between excitatory cells, and tripled the number of coregistered-coregistered connections.\n",
    "\n",
    "\n",
    "<center> Improvement in connectivity between functionally-coregistered pyramidal cells</center>\n",
    "\n",
    "<iframe src=\"img/interactives/coreg_bar_y2_p1.html\" width=\"101%\" height=\"470px\" style=\"border-width: 0px; border-color: white; display: block; margin: 0 auto;\"></iframe>"
   ]
  },
  {
   "cell_type": "markdown",
   "id": "dba790a9-2872-4475-bc9f-4ecbb50399d4",
   "metadata": {},
   "source": [
    "This connectivity combined with the derived visual functional properties, means we can evaluate the convergence of inputs such as preferred orientation of visual stimuli:\n",
    "\n",
    ":::{.grid}\n",
    "\n",
    "::::{.g-col-8}\n",
    "\n",
    "<center>Interactive: Preferred orientation of functionally-characterized cell inputs</center>\n",
    "\n",
    "<iframe src=\"img/interactives/coregistered_orientation_303048.html\" width=\"101%\" height=\"550px\" style=\"border-width: 0px; border-color: white; display: block; margin: 0 auto;\"></iframe>\n",
    "\n",
    "::::\n",
    "\n",
    "::::{.g-col-4}\n",
    "|  \n",
    "|  \n",
    "|  \n",
    "|  \n",
    "|  \n",
    "|  \n",
    "![](img/interactives/orientation_wheel.png)\n",
    "\n",
    "::::\n",
    "\n",
    ":::\n",
    "\n",
    "For an example of how to generate this plot, see Gallery"
   ]
  },
  {
   "cell_type": "markdown",
   "id": "c5a6f4ed-3795-4a5e-8e48-cad580d43c9a",
   "metadata": {},
   "source": [
    "<h3> Annotation of spine synapses </h3>\n",
    "\n",
    "Manual annotation of **spine** and **shaft** synaptic targets of 1) basket cells, and 2) inputs onto pyramidal cells: 67440 annotations\n",
    "\n",
    "![Dense manual annotations on the inputs to a pyramidal cell](img/manual_synapses_spine_shaft_soma.png){width=600 fig-align=\"left\"}\n",
    "\n",
    "Queried from CAVE table: `vortex_compartment_targets` \n",
    "\n",
    "```python\n",
    "# Standard query\n",
    "client.materialize.query_table('vortex_compartment_targets', limit=10)\n",
    "\n",
    "# Content-aware query\n",
    "client.materialize.tables.vortex_compartment_targets(pre_pt_root_id=example_root_id).query()\n",
    "```\n",
    "\n",
    "Provided ground truth for a new **automatic classifier**:\n",
    "\n",
    "```python\n",
    "# Standard query\n",
    "client.materialize.query_table('synapse_target_predictions_ssa', limit=10)\n",
    "\n",
    "# Content-aware query\n",
    "client.materialize.tables.synapse_target_predictions_ssa(post_pt_root_id=example_root_id).query()\n",
    "```\n"
   ]
  },
  {
   "cell_type": "markdown",
   "id": "9a18d8d7-5275-4346-8b4f-8edb04237d73",
   "metadata": {},
   "source": [
    "<h3> Annotation of myelin </h3>\n",
    "\n",
    "Manual annotation of **myelination** and **nodes of Ranvier** 1) along basket cell axons, and 2) dense annotations within a subvolume: 26393 annotations\n",
    "\n",
    "CAVE table: `vortex_manual_myelination_v0` \n",
    "\n",
    "```python\n",
    "# Standard query\n",
    "client.materialize.query_table('vortex_manual_myelination_v0', limit=10)\n",
    "\n",
    "# Content-aware query\n",
    "client.materialize.tables.vortex_manual_myelination_v0(valid_id=example_root_id).query()\n",
    "```\n",
    "\n",
    "\n",
    "CAVE table: `vortex_manual_nodes_of_ranvier` \n",
    "\n",
    "```python\n",
    "# Standard query\n",
    "client.materialize.query_table('vortex_manual_nodes_of_ranvier')\n",
    "\n",
    "# Content-aware query\n",
    "client.materialize.tables.vortex_manual_nodes_of_ranvier(valid_id=example_root_id).query()\n",
    "```"
   ]
  },
  {
   "cell_type": "markdown",
   "id": "80339c76-81f9-4996-ba27-ce0259b02e1f",
   "metadata": {},
   "source": [
    "## Year 2 Period 2\n",
    "\n",
    "Projects completed in Year 2. Addressing requests recieved during the first half of Year 2 [See: Proposals Received](vortex-overview.html#scientific-proposals-recieved)\n",
    "\n",
    "Includes data releases: [Y2: 1412](release_manifests/version-1412.html) and Y2: 1500 (upcoming)"
   ]
  },
  {
   "cell_type": "markdown",
   "id": "03302d55-e8dd-48dc-b006-6161c218867c",
   "metadata": {},
   "source": [
    "| SSG Rank | Task                                          | Outcome                                            |\n",
    "| :------- | :-------------------------------------------- | -------------------------------------------------- |\n",
    "| 2        | Axon proofreading of excitatory cells         | Added 300 cells in the V1 column                   |\n",
    "| 3        | Axon proofreading of inhibitory cells         | Added Y putative basket cells around the V1 column |\n",
    "| 3.5      | Astrocyte proofreadng: remove neurites        | Cleaned 100 astrocytes in the V1 column            |\n",
    "| 3.75     | Axon proofreading of thalamocortical axons    | Added 14 axons, improved 12 axons                  |\n",
    "| 4.5      | Annotate dense core vesicles                  | Incomplete                                         |\n",
    "| 4.75     | Annotate microglia lysosomes                  | Incomplete                                         |\n",
    "| 5        | Characterize neuromodulatory synapses         | Added 26393 myelin annotations                     |\n",
    "| 7        | Axon proofreading of neuromodulatory synapses | Ongoing                                            |"
   ]
  }
 ],
 "metadata": {
  "kernelspec": {
   "display_name": "microns2025",
   "language": "python",
   "name": "microns2025"
  },
  "language_info": {
   "codemirror_mode": {
    "name": "ipython",
    "version": 3
   },
   "file_extension": ".py",
   "mimetype": "text/x-python",
   "name": "python",
   "nbconvert_exporter": "python",
   "pygments_lexer": "ipython3",
   "version": "3.11.11"
  }
 },
 "nbformat": 4,
 "nbformat_minor": 5
}
