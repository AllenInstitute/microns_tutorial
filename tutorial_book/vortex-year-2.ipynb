{
 "cells": [
  {
   "cell_type": "markdown",
   "id": "e8d4b5b3-8d07-4fc9-aae3-7a30a6ee2171",
   "metadata": {},
   "source": [
    "---\n",
    "title: \"VORTEX Outcomes - Year 2\"\n",
    "draft: true\n",
    "format: \n",
    "    html:\n",
    "        toc: true\n",
    "bibliography: references.bib\n",
    "---"
   ]
  },
  {
   "cell_type": "markdown",
   "id": "826cf54b-2156-4fce-be66-c2ce87d1cdff",
   "metadata": {},
   "source": [
    "## Year 2 Period 1 \n",
    "\n",
    "Completed requests recieved during the second half of Year 1. [See: Proposals Received](vortex-overview.html#scientific-proposals-recieved)\n",
    "\n",
    "Includes data releases: [Y2: 1181](release_manifests/version-1181.html) and [Y2: 1300](release_manifests/version-1300.html)"
   ]
  },
  {
   "cell_type": "markdown",
   "id": "850dcd9a-1ff2-4095-8e30-47ee0313f6d2",
   "metadata": {},
   "source": [
    "### To replace:\n",
    "\n",
    "1. pie grid  \n",
    "2. v1300 - v1078 heatmap  \n",
    "3. v1300 - v1078 sankey\n",
    "4. coregistration bar graph\n",
    "5. orientation on dendritic spines (point to example code)\n"
   ]
  },
  {
   "cell_type": "markdown",
   "id": "3c1b1ae3-fbf7-4676-bd7e-13d7965c33f6",
   "metadata": {},
   "source": [
    "### Year 1: Period 1 \n",
    "\n",
    "::::{.grid}\n",
    "\n",
    ":::{.g-col-6}\n",
    "\n",
    "| SSG Rank | Task                                        | Outcome                                               |\n",
    "| :------- | :------------------------------------------ | ----------------------------------------------------- |\n",
    "| 1.3      | Forward-tracing of pyramidal cell axons     | Added 547 cells                                       |\n",
    "| 1.7      | Annotation of basket cell spine targets     | Added 31502 spine annotations <br>on 5 cells          |\n",
    "| 2        | Annotation of pyramidal spine input         | Added 35938 spine annotations <br>on 8 cells          |\n",
    "| 3.7      | Annotation of basket cell myelin            | 53517 spine annotations  <br>73237 myelin annotations |\n",
    "| 5        | Annotation of spine input  within microglia | Released automated spine-detection resource           |\n",
    "| 5        | OPC proofreading and annotation             | Incomplete in Y2                                      |\n",
    "| 5.7      | Annotation of myelin (any cell type)        | Added 26393 myelin annotations                        |\n",
    "\n",
    ": VORTEX Proofreading Plans | Year 1 Period 1 {.light .hover}\n",
    "\n",
    ":::\n",
    "\n",
    ":::{.g-col-6}\n",
    "\n",
    "![Proofreading edits by type](img/edit_annotation_chart_y1_p2.png)\n",
    "\n",
    ":::\n",
    "\n",
    "::::"
   ]
  },
  {
   "cell_type": "markdown",
   "id": "aa70f018-b9fa-4644-9261-598cc7fa869f",
   "metadata": {},
   "source": [
    "<h3> Axon extension of functionally recorded cells </h3>\n",
    "\n",
    "Proofreading and extending functionally coregistered pyramidal cells\n",
    "\n",
    "![Synaptic connectivity added: version 1078 to 1300](img/proofreading_connectivity_counts_y1_p2.png)\n",
    "\n",
    "\n",
    "![Proofreading status upgraded: version 1078 to 1300](img/proofreading_upgrades_y1_p2.png){width=750}\n",
    "\n",
    "With the combined effort across Year 1 and Year 2, VORTEX proofreading has doubled the number of synapses between excitatory cells, and tripled the number of coregistered-coregistered connections\n",
    "\n",
    "\n",
    "![Improvement in connectivity between functionally-coregistered pyramidal cells](img/proof_cell_coreg_syn_y1_p2.png)\n",
    "\n",
    "Queried from CAVE table: `proofreading_status_and_strategy`:\n",
    "\n",
    "```python\n",
    "# Standard query\n",
    "client.materialize.query_table('proofreading_status_and_strategy')\n",
    "\n",
    "# Content-aware query\n",
    "client.materialize.tables.proofreading_status_and_strategy(status_axon='t').query()\n",
    "```"
   ]
  },
  {
   "cell_type": "markdown",
   "id": "c5a6f4ed-3795-4a5e-8e48-cad580d43c9a",
   "metadata": {},
   "source": [
    "<h3> Annotation of spine synapses </h3>\n",
    "\n",
    "Manual annotation of **spine** and **shaft** synaptic targets of 1) basket cells, and 2) inputs onto pyramidal cells: 67440 annotations\n",
    "\n",
    "![Dense manual annotations on the inputs to a pyramidal cell](img/manual_synapses_spine_shaft_soma.png)\n",
    "\n",
    "Queried from CAVE table: `vortex_compartment_targets` \n",
    "\n",
    "```python\n",
    "# Standard query\n",
    "client.materialize.query_table('vortex_compartment_targets', limit=10)\n",
    "\n",
    "# Content-aware query\n",
    "client.materialize.tables.vortex_compartment_targets(pre_pt_root_id=example_root_id).query()\n",
    "```\n",
    "\n",
    "Provided ground truth for a new **automatic classifier**:\n",
    "\n",
    "```python\n",
    "# Standard query\n",
    "client.materialize.query_table('synapse_target_predictions_ssa', limit=10)\n",
    "\n",
    "# Content-aware query\n",
    "client.materialize.tables.synapse_target_predictions_ssa(post_pt_root_id=example_root_id).query()\n",
    "```\n"
   ]
  },
  {
   "cell_type": "markdown",
   "id": "9a18d8d7-5275-4346-8b4f-8edb04237d73",
   "metadata": {},
   "source": [
    "<h3> Annotation of myelin </h3>\n",
    "\n",
    "Manual annotation of **myelination** and **nodes of Ranvier** 1) along basket cell axons, and 2) dense annotations within a subvolume: 26393 annotations\n",
    "\n",
    "CAVE table: `vortex_manual_myelination_v0` \n",
    "\n",
    "```python\n",
    "# Standard query\n",
    "client.materialize.query_table('vortex_manual_myelination_v0', limit=10)\n",
    "\n",
    "# Content-aware query\n",
    "client.materialize.tables.vortex_manual_myelination_v0(valid_id=example_root_id).query()\n",
    "```\n",
    "\n",
    "\n",
    "CAVE table: `vortex_manual_nodes_of_ranvier` \n",
    "\n",
    "```python\n",
    "# Standard query\n",
    "client.materialize.query_table('vortex_manual_nodes_of_ranvier')\n",
    "\n",
    "# Content-aware query\n",
    "client.materialize.tables.vortex_manual_nodes_of_ranvier(valid_id=example_root_id).query()\n",
    "```"
   ]
  },
  {
   "cell_type": "markdown",
   "id": "80339c76-81f9-4996-ba27-ce0259b02e1f",
   "metadata": {},
   "source": [
    "## Year 2 Period 2\n",
    "\n",
    "Completed requests recieved during the first half of year 2\n",
    "\n",
    "Includes data releases: [Y2: 1412](release_manifests/version-1412.html) and Y2: 1500"
   ]
  },
  {
   "cell_type": "markdown",
   "id": "eeb6e483-7853-4c8b-aa41-ca27e2a744be",
   "metadata": {},
   "source": [
    "### To generate:\n",
    "\n",
    "1. pie grid  \n",
    "2. v1500 - v1300 heatmap  \n",
    "3. v1500 - v1300 sankey\n",
    "4. astrocyte column render (example code)\n",
    "5. thalamic connectivity\n",
    "6. putative neuromodulators? (ask nuno)\n"
   ]
  },
  {
   "cell_type": "markdown",
   "id": "03302d55-e8dd-48dc-b006-6161c218867c",
   "metadata": {},
   "source": [
    "| SSG Rank | Task                                          | Outcome                                            |\n",
    "| :------- | :-------------------------------------------- | -------------------------------------------------- |\n",
    "| 2        | Axon proofreading of excitatory cells         | Added 300 cells in the V1 column                   |\n",
    "| 3        | Axon proofreading of inhibitory cells         | Added Y putative basket cells around the V1 column |\n",
    "| 3.5      | Astrocyte proofreadng: remove neurites        | Cleaned 100 astrocytes in the V1 column            |\n",
    "| 3.75     | Axon proofreading of thalamocortical axons    | Added 14 axons, improved 12 axons                  |\n",
    "| 4.5      | Annotate dense core vesicles                  | Incomplete                                         |\n",
    "| 4.75     | Annotate microglia lysosomes                  | Incomplete                                         |\n",
    "| 5        | Characterize neuromodulatory synapses         | Added 26393 myelin annotations                     |\n",
    "| 7        | Axon proofreading of neuromodulatory synapses | Ongoing                                            |"
   ]
  }
 ],
 "metadata": {
  "kernelspec": {
   "display_name": "microns2025",
   "language": "python",
   "name": "microns2025"
  },
  "language_info": {
   "codemirror_mode": {
    "name": "ipython",
    "version": 3
   },
   "file_extension": ".py",
   "mimetype": "text/x-python",
   "name": "python",
   "nbconvert_exporter": "python",
   "pygments_lexer": "ipython3",
   "version": "3.11.11"
  }
 },
 "nbformat": 4,
 "nbformat_minor": 5
}
