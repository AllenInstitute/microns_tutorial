{
 "cells": [
  {
   "cell_type": "markdown",
   "id": "26c56379-b4e4-414b-a7e6-b74e8b67136a",
   "metadata": {},
   "source": [
    "---\n",
    "title: \"Materialization and Versioning\"\n",
    "draft: false\n",
    "format: \n",
    "    html:\n",
    "        toc: true\n",
    "bibliography: references.bib\n",
    "---"
   ]
  },
  {
   "cell_type": "markdown",
   "id": "881f75ab-974d-454d-9c2b-9ef34e9d6186",
   "metadata": {},
   "source": [
    "<h3> The MICrONS Dataset is public and open access, ready for analysis. But: manual edits to the segmentation continue to improve data quality.</h3>\n",
    "\n",
    "When beginning your analysis in the MICrONS dataset, it is important to understand:\n",
    "\n",
    " 1. Why the data changes\n",
    " 2. What types of data change with time\n",
    " 3. How to set the version for your analysis\n",
    " 4. How to cross-reference data across time\n",
    "\n",
    "The data is regularly **versioned**; that is, a long-term copy of the dataset is made available for users. We highly recommend setting the version or **timestamp** in your analysis for future consistency. \n",
    "\n",
    "However, even if you do not set the version, there is a **lineage graph** of changes to the dataset. Meaning, you can find the past version of your cell, annotation table, mesh, skeleton etc. as long as you know the **root id** of the object you are interested in--or the date at which you performed an analysis.\n",
    "\n",
    "## Why the data changes\n",
    "\n",
    "The automatic segmentation from EM imagery to 3D reconstruction was largely effective, and the only way to process data at this scale [@the_microns_consortium_functional_2025]. However, due to imaging defects and the nature of thin, branching axons, the automated methods do make mistakes that have large impacts on the biological accuracy of the reconstructions. \n",
    "\n",
    "[Manual Proofreading](proofreading.html), or the correction of segmentation and adding of annotations, is an [ongoing effort](vortex-overview.html). \n",
    "\n",
    "Different aspects of the data require different level of manual intervention. For example, the segmentation methods produced highly accurate dendritic arbors before proofreading, enabling morphological identification of broad cell types. Most dendritic spines are properly associated with their dendritic trunk. Recovery of larger-caliber axons, those of inhibitory neurons, and the initial portions of excitatory neurons was also typically successful. Owing to the high frequency of imaging defects in the shallower and deeper portions of the dataset, processes near the pia and white matter often contain errors. Many non-neuronal objects are also well-segmented, including astrocytes, microglia and blood vessels. The two subvolumes of the dataset were segmented separately, but the alignment between the two is sufficient for manually tracing between them.\n",
    "\n",
    "**Changes to the dataset represent an improvement in accuracy, and reflect an investment in the long-term usefulness of this open-access resource**. \n",
    "\n",
    "## What types of data change with time\n",
    "\n",
    "**Proofreading** edits to the segmentation change what **supervoxels** (groups of locally aggregated voxels) are associated with what segmented object. Any time the supervoxel is associated with a different segmented object, all of the `id`s upstream of that supervoxel will update. In practice, this means the 18-digit segmentation id or `pt_root_id` of your neuron or microglia or axon etc. will change every time it is proofread.\n",
    "\n",
    "![a, Automated segmentation overlaid on EM data. Each color represents an individual putative cell. b, Different colors represent supervoxels that make up putative cells. c, Supervoxels belonging to a particular neuron, with an overlaid cartoon of its supervoxel graph. These data corresponds to the framed square in a and the full panel in b. d, One-dimensional representation of the supervoxel graph. The ChunkedGraph data structure adds an octree structure to the graph to store the connected component information. Each abstract node (black nodes in levels >1) represents the connected component in the spatially underlying graph. ](img/nature/nature_cave_fig_2 a-d.png)\n",
    "\n",
    "<p><center> Figure from [@dorkenwald_cave_2025] </center></p>\n",
    "\n",
    "\n",
    "The `pt_root_id` is always associated with the same collection of supervoxels, and therefore the same mesh and same skeleton. But if that `pt_root_id` is *expired*, then you may not find that object in current **Annotation Tables**, **Synapse Connectivity Tables**, and Neuroglancer views of the *current* version of the dataset (default).\n",
    "\n",
    "Creating a new `pt_root_id` for an edited object is the only way to have the flexibility of both **merging** two or more segments that should be connected (for example: extending an axon) and **splitting** an object into two, as in the following example:\n",
    " \n",
    "![f, To submit a split operation, users place labels for each side of the split (top right). The backend system first connects each set of labels on each side by identifying supervoxels between them in the graph (left). The extended sets are used to identify the edges needed to be cut with a maximum-flow minimum-cut algorithm.](img/nature/nature_cave_fig_2 f.png){width=400}\n",
    "\n",
    "<p><center> Figure from [@dorkenwald_cave_2025] </center></p>\n",
    "\n",
    "But this also means we can track the histories of what `id`s used to be part of which segmented objects, which helps for finding the same cell, axon, or arbitrary segment across time. See **Lineage Graphs** below for details."
   ]
  },
  {
   "cell_type": "markdown",
   "id": "6f31ccf5-4d51-43ed-acc7-8202c4794c58",
   "metadata": {},
   "source": [
    "## How to set the version of your analysis\n",
    "\n",
    "Most programmatic access to the CAVE services occurs through CAVEclient, a Python client to access various types of data from the online services.\n",
    "\n",
    "Full documentation for CAVEclient [is available here](http://caveclient.readthedocs.io).\n",
    "\n",
    "::: {.callout-important}\n",
    "#### Initial Setup\n",
    "Before using any programmatic access to the data, [you first need to set up your CAVEclient token](em_py_01_caveclient_setup.html).\n",
    ":::\n",
    "\n",
    "To initialize a caveclient, we give it a **datastack**, which is a name that defines a particular combination of imagery, segmentation, and annotation database.\n",
    "For the MICrONs public data, we use the datastack name `minnie65_public`."
   ]
  },
  {
   "cell_type": "code",
   "execution_count": 7,
   "id": "afc3fa46-afd4-4a2b-a40a-7ab85fe3cd08",
   "metadata": {},
   "outputs": [
    {
     "data": {
      "text/plain": [
       "[1300, 1078, 117, 661, 343, 1181, 795, 943]"
      ]
     },
     "execution_count": 7,
     "metadata": {},
     "output_type": "execute_result"
    }
   ],
   "source": [
    "from caveclient import CAVEclient\n",
    "from datetime import datetime, timezone\n",
    "\n",
    "# initialize cave client\n",
    "client = CAVEclient('minnie65_public')\n",
    "\n",
    "# see the available materialization versions\n",
    "client.materialize.get_versions()"
   ]
  },
  {
   "cell_type": "markdown",
   "id": "7cfa7898-9055-4a06-9f92-f8a7ccc12a52",
   "metadata": {},
   "source": [
    "And these are their associated timestamps (all timestamps are in UTC):\n",
    "\n"
   ]
  },
  {
   "cell_type": "code",
   "execution_count": 2,
   "id": "279e72ef-678f-408e-b8fe-e79b34779ba9",
   "metadata": {},
   "outputs": [
    {
     "name": "stdout",
     "output_type": "stream",
     "text": [
      "Version 1300: 2025-01-13 10:10:01.286229+00:00\n",
      "Version 1078: 2024-06-05 10:10:01.203215+00:00\n",
      "Version 117: 2021-06-11 08:10:00.215114+00:00\n",
      "Version 661: 2023-04-06 20:17:09.199182+00:00\n",
      "Version 343: 2022-02-24 08:10:00.184668+00:00\n",
      "Version 1181: 2024-09-16 10:10:01.121167+00:00\n",
      "Version 795: 2023-08-23 08:10:01.404268+00:00\n",
      "Version 943: 2024-01-22 08:10:01.497934+00:00\n"
     ]
    }
   ],
   "source": [
    "for version in client.materialize.get_versions():\n",
    "    print(f\"Version {version}: {client.materialize.get_timestamp(version)}\")"
   ]
  },
  {
   "cell_type": "markdown",
   "id": "32473fce-f7eb-4fce-9434-eb893a677879",
   "metadata": {},
   "source": [
    "You can set the overall materialization version for the dataset using `client.version`. This will ensure all of the subsequent CAVE queries are performed at the same materialization, so you will get consistency between, for example, a cell type query and a synapse query."
   ]
  },
  {
   "cell_type": "code",
   "execution_count": 3,
   "id": "c50f2606-e2d8-47aa-acd7-44397e9cdb02",
   "metadata": {
    "tags": []
   },
   "outputs": [],
   "source": [
    "# set materialization version, for consistency\n",
    "client.version = 1300 # current public as of 1/13/2025"
   ]
  },
  {
   "cell_type": "markdown",
   "id": "d1370bff-97d8-4790-9b3b-aaf4616f2492",
   "metadata": {},
   "source": [
    "However, you can also set individual queries to a different version with optional argument `materialization_version`. For more about table queries, see [CAVE Query Cell Types](quickstart_notebooks/02-cave-query-cell-types.html)."
   ]
  },
  {
   "cell_type": "code",
   "execution_count": 4,
   "id": "48927998-633f-48da-8866-32382ce19df3",
   "metadata": {},
   "outputs": [
    {
     "data": {
      "text/html": [
       "<div>\n",
       "<style scoped>\n",
       "    .dataframe tbody tr th:only-of-type {\n",
       "        vertical-align: middle;\n",
       "    }\n",
       "\n",
       "    .dataframe tbody tr th {\n",
       "        vertical-align: top;\n",
       "    }\n",
       "\n",
       "    .dataframe thead th {\n",
       "        text-align: right;\n",
       "    }\n",
       "</style>\n",
       "<table border=\"1\" class=\"dataframe\">\n",
       "  <thead>\n",
       "    <tr style=\"text-align: right;\">\n",
       "      <th></th>\n",
       "      <th>id</th>\n",
       "      <th>created</th>\n",
       "      <th>superceded_id</th>\n",
       "      <th>valid</th>\n",
       "      <th>volume</th>\n",
       "      <th>pt_supervoxel_id</th>\n",
       "      <th>pt_root_id</th>\n",
       "      <th>pt_position</th>\n",
       "      <th>bb_start_position</th>\n",
       "      <th>bb_end_position</th>\n",
       "    </tr>\n",
       "  </thead>\n",
       "  <tbody>\n",
       "    <tr>\n",
       "      <th>92393</th>\n",
       "      <td>391995</td>\n",
       "      <td>2020-09-28 22:43:43.204393+00:00</td>\n",
       "      <td>NaN</td>\n",
       "      <td>t</td>\n",
       "      <td>143.598387</td>\n",
       "      <td>96695656953309967</td>\n",
       "      <td>864691135736903556</td>\n",
       "      <td>[232304, 127728, 16737]</td>\n",
       "      <td>[nan, nan, nan]</td>\n",
       "      <td>[nan, nan, nan]</td>\n",
       "    </tr>\n",
       "    <tr>\n",
       "      <th>77241</th>\n",
       "      <td>437922</td>\n",
       "      <td>2020-09-28 22:43:14.122531+00:00</td>\n",
       "      <td>NaN</td>\n",
       "      <td>t</td>\n",
       "      <td>94.680515</td>\n",
       "      <td>100231274366863259</td>\n",
       "      <td>864691135090300591</td>\n",
       "      <td>[258080, 255920, 19317]</td>\n",
       "      <td>[nan, nan, nan]</td>\n",
       "      <td>[nan, nan, nan]</td>\n",
       "    </tr>\n",
       "    <tr>\n",
       "      <th>23906</th>\n",
       "      <td>308570</td>\n",
       "      <td>2020-09-28 22:41:28.612416+00:00</td>\n",
       "      <td>NaN</td>\n",
       "      <td>t</td>\n",
       "      <td>77.572833</td>\n",
       "      <td>91223731514852491</td>\n",
       "      <td>864691135373378760</td>\n",
       "      <td>[192272, 253488, 19393]</td>\n",
       "      <td>[nan, nan, nan]</td>\n",
       "      <td>[nan, nan, nan]</td>\n",
       "    </tr>\n",
       "  </tbody>\n",
       "</table>\n",
       "</div>"
      ],
      "text/plain": [
       "           id                          created  superceded_id valid  \\\n",
       "92393  391995 2020-09-28 22:43:43.204393+00:00            NaN     t   \n",
       "77241  437922 2020-09-28 22:43:14.122531+00:00            NaN     t   \n",
       "23906  308570 2020-09-28 22:41:28.612416+00:00            NaN     t   \n",
       "\n",
       "           volume    pt_supervoxel_id          pt_root_id  \\\n",
       "92393  143.598387   96695656953309967  864691135736903556   \n",
       "77241   94.680515  100231274366863259  864691135090300591   \n",
       "23906   77.572833   91223731514852491  864691135373378760   \n",
       "\n",
       "                   pt_position bb_start_position  bb_end_position  \n",
       "92393  [232304, 127728, 16737]   [nan, nan, nan]  [nan, nan, nan]  \n",
       "77241  [258080, 255920, 19317]   [nan, nan, nan]  [nan, nan, nan]  \n",
       "23906  [192272, 253488, 19393]   [nan, nan, nan]  [nan, nan, nan]  "
      ]
     },
     "execution_count": 4,
     "metadata": {},
     "output_type": "execute_result"
    }
   ],
   "source": [
    "nuc_v661 = client.materialize.tables.nucleus_detection_v0().query(materialization_version=661)\n",
    "\n",
    "nuc_v661.sample(3)"
   ]
  },
  {
   "cell_type": "markdown",
   "id": "9c91e5f1-d2b1-4d88-82ab-b4a99ba79353",
   "metadata": {},
   "source": [
    "You can even do the same thing with an arbitrary timestamp, using optional argument `timestamp`. However, due to how the ChunkedGraph operates, this will be more time-intensive than looking up a specific materialized version."
   ]
  },
  {
   "cell_type": "code",
   "execution_count": 5,
   "id": "730e4285-80d5-4e12-bfac-dd2141ef20bc",
   "metadata": {},
   "outputs": [
    {
     "name": "stdout",
     "output_type": "stream",
     "text": [
      "CPU times: total: 688 ms\n",
      "Wall time: 59.2 s\n"
     ]
    },
    {
     "data": {
      "text/html": [
       "<div>\n",
       "<style scoped>\n",
       "    .dataframe tbody tr th:only-of-type {\n",
       "        vertical-align: middle;\n",
       "    }\n",
       "\n",
       "    .dataframe tbody tr th {\n",
       "        vertical-align: top;\n",
       "    }\n",
       "\n",
       "    .dataframe thead th {\n",
       "        text-align: right;\n",
       "    }\n",
       "</style>\n",
       "<table border=\"1\" class=\"dataframe\">\n",
       "  <thead>\n",
       "    <tr style=\"text-align: right;\">\n",
       "      <th></th>\n",
       "      <th>id</th>\n",
       "      <th>valid</th>\n",
       "      <th>volume</th>\n",
       "      <th>pt_supervoxel_id</th>\n",
       "      <th>pt_root_id</th>\n",
       "      <th>pt_position</th>\n",
       "      <th>bb_start_position</th>\n",
       "      <th>bb_end_position</th>\n",
       "    </tr>\n",
       "  </thead>\n",
       "  <tbody>\n",
       "    <tr>\n",
       "      <th>37886</th>\n",
       "      <td>253051</td>\n",
       "      <td>t</td>\n",
       "      <td>91.884913</td>\n",
       "      <td>0</td>\n",
       "      <td>0</td>\n",
       "      <td>[177456, 79216, 24517]</td>\n",
       "      <td>[nan, nan, nan]</td>\n",
       "      <td>[nan, nan, nan]</td>\n",
       "    </tr>\n",
       "    <tr>\n",
       "      <th>47218</th>\n",
       "      <td>291916</td>\n",
       "      <td>t</td>\n",
       "      <td>237.901906</td>\n",
       "      <td>91205108066569853</td>\n",
       "      <td>864691136174955526</td>\n",
       "      <td>[192128, 114608, 15436]</td>\n",
       "      <td>[nan, nan, nan]</td>\n",
       "      <td>[nan, nan, nan]</td>\n",
       "    </tr>\n",
       "    <tr>\n",
       "      <th>44601</th>\n",
       "      <td>268785</td>\n",
       "      <td>t</td>\n",
       "      <td>128.630948</td>\n",
       "      <td>87488484222419503</td>\n",
       "      <td>864691135293082636</td>\n",
       "      <td>[165216, 210992, 18093]</td>\n",
       "      <td>[nan, nan, nan]</td>\n",
       "      <td>[nan, nan, nan]</td>\n",
       "    </tr>\n",
       "  </tbody>\n",
       "</table>\n",
       "</div>"
      ],
      "text/plain": [
       "           id valid      volume   pt_supervoxel_id          pt_root_id  \\\n",
       "37886  253051     t   91.884913                  0                   0   \n",
       "47218  291916     t  237.901906  91205108066569853  864691136174955526   \n",
       "44601  268785     t  128.630948  87488484222419503  864691135293082636   \n",
       "\n",
       "                   pt_position bb_start_position  bb_end_position  \n",
       "37886   [177456, 79216, 24517]   [nan, nan, nan]  [nan, nan, nan]  \n",
       "47218  [192128, 114608, 15436]   [nan, nan, nan]  [nan, nan, nan]  \n",
       "44601  [165216, 210992, 18093]   [nan, nan, nan]  [nan, nan, nan]  "
      ]
     },
     "execution_count": 5,
     "metadata": {},
     "output_type": "execute_result"
    }
   ],
   "source": [
    "%%time\n",
    "nuc_v661 = client.materialize.tables.nucleus_detection_v0().query(timestamp=datetime(2023,4,6,20))\n",
    "\n",
    "nuc_v661.sample(3)"
   ]
  },
  {
   "cell_type": "markdown",
   "id": "de3854f4-b2a5-46f8-880b-14639c9195d9",
   "metadata": {},
   "source": [
    "### How set the timestamp to an expired version\n",
    "Materialization versions expire at regular intervals. Indeed, every version between our major long-term public releases existed at some point, but has since expired.\n",
    "\n",
    "This does not mean the data from those versions is gone. \n",
    "\n",
    "It does mean it takes longer to materialize data from that date, because the chunkedgraph has to calculate differences between an extant materialized version and the requested time. In order to materialize data from an expired version, you must set the optional timestamp argument in every query:"
   ]
  },
  {
   "cell_type": "code",
   "execution_count": 17,
   "id": "b82ffddd-f58c-48e4-90e2-0fba2ac78566",
   "metadata": {},
   "outputs": [
    {
     "name": "stderr",
     "output_type": "stream",
     "text": [
      "201 - \"Limited query to 100 rows\n"
     ]
    },
    {
     "data": {
      "text/html": [
       "<div>\n",
       "<style scoped>\n",
       "    .dataframe tbody tr th:only-of-type {\n",
       "        vertical-align: middle;\n",
       "    }\n",
       "\n",
       "    .dataframe tbody tr th {\n",
       "        vertical-align: top;\n",
       "    }\n",
       "\n",
       "    .dataframe thead th {\n",
       "        text-align: right;\n",
       "    }\n",
       "</style>\n",
       "<table border=\"1\" class=\"dataframe\">\n",
       "  <thead>\n",
       "    <tr style=\"text-align: right;\">\n",
       "      <th></th>\n",
       "      <th>id</th>\n",
       "      <th>valid</th>\n",
       "      <th>volume</th>\n",
       "      <th>pt_supervoxel_id</th>\n",
       "      <th>pt_root_id</th>\n",
       "      <th>pt_position</th>\n",
       "      <th>bb_start_position</th>\n",
       "      <th>bb_end_position</th>\n",
       "    </tr>\n",
       "  </thead>\n",
       "  <tbody>\n",
       "    <tr>\n",
       "      <th>0</th>\n",
       "      <td>11294</td>\n",
       "      <td>t</td>\n",
       "      <td>49.112842</td>\n",
       "      <td>73556435283294116</td>\n",
       "      <td>864691135269406572</td>\n",
       "      <td>[63968, 218032, 20683]</td>\n",
       "      <td>[nan, nan, nan]</td>\n",
       "      <td>[nan, nan, nan]</td>\n",
       "    </tr>\n",
       "    <tr>\n",
       "      <th>1</th>\n",
       "      <td>11300</td>\n",
       "      <td>t</td>\n",
       "      <td>323.577446</td>\n",
       "      <td>73626116832723681</td>\n",
       "      <td>864691135151717168</td>\n",
       "      <td>[64400, 213072, 20630]</td>\n",
       "      <td>[nan, nan, nan]</td>\n",
       "      <td>[nan, nan, nan]</td>\n",
       "    </tr>\n",
       "    <tr>\n",
       "      <th>2</th>\n",
       "      <td>11301</td>\n",
       "      <td>t</td>\n",
       "      <td>277.511864</td>\n",
       "      <td>0</td>\n",
       "      <td>0</td>\n",
       "      <td>[64496, 219104, 20408]</td>\n",
       "      <td>[nan, nan, nan]</td>\n",
       "      <td>[nan, nan, nan]</td>\n",
       "    </tr>\n",
       "  </tbody>\n",
       "</table>\n",
       "</div>"
      ],
      "text/plain": [
       "      id valid      volume   pt_supervoxel_id          pt_root_id  \\\n",
       "0  11294     t   49.112842  73556435283294116  864691135269406572   \n",
       "1  11300     t  323.577446  73626116832723681  864691135151717168   \n",
       "2  11301     t  277.511864                  0                   0   \n",
       "\n",
       "              pt_position bb_start_position  bb_end_position  \n",
       "0  [63968, 218032, 20683]   [nan, nan, nan]  [nan, nan, nan]  \n",
       "1  [64400, 213072, 20630]   [nan, nan, nan]  [nan, nan, nan]  \n",
       "2  [64496, 219104, 20408]   [nan, nan, nan]  [nan, nan, nan]  "
      ]
     },
     "execution_count": 17,
     "metadata": {},
     "output_type": "execute_result"
    }
   ],
   "source": [
    "# set the timestamp of a version that may or may not exist\n",
    "example_timestamp = datetime(2022, 2, 24, 8, 10, 0, 184668, tzinfo=timezone.utc)\n",
    "\n",
    "# example table query\n",
    "nuc_timestamp = client.materialize.tables.nucleus_detection_v0().query(timestamp=example_timestamp, limit=100)\n",
    "nuc_timestamp.head(3)"
   ]
  },
  {
   "cell_type": "code",
   "execution_count": 22,
   "id": "46761e13-2fa5-4aaf-888c-a1f9f3de1933",
   "metadata": {},
   "outputs": [
    {
     "data": {
      "text/html": [
       "<div>\n",
       "<style scoped>\n",
       "    .dataframe tbody tr th:only-of-type {\n",
       "        vertical-align: middle;\n",
       "    }\n",
       "\n",
       "    .dataframe tbody tr th {\n",
       "        vertical-align: top;\n",
       "    }\n",
       "\n",
       "    .dataframe thead th {\n",
       "        text-align: right;\n",
       "    }\n",
       "</style>\n",
       "<table border=\"1\" class=\"dataframe\">\n",
       "  <thead>\n",
       "    <tr style=\"text-align: right;\">\n",
       "      <th></th>\n",
       "      <th>id</th>\n",
       "      <th>valid</th>\n",
       "      <th>pre_pt_supervoxel_id</th>\n",
       "      <th>pre_pt_root_id</th>\n",
       "      <th>post_pt_supervoxel_id</th>\n",
       "      <th>post_pt_root_id</th>\n",
       "      <th>size</th>\n",
       "      <th>pre_pt_position</th>\n",
       "      <th>post_pt_position</th>\n",
       "      <th>ctr_pt_position</th>\n",
       "    </tr>\n",
       "  </thead>\n",
       "  <tbody>\n",
       "    <tr>\n",
       "      <th>0</th>\n",
       "      <td>507533913</td>\n",
       "      <td>t</td>\n",
       "      <td>120060554860852929</td>\n",
       "      <td>864691132931221450</td>\n",
       "      <td>120060554860853553</td>\n",
       "      <td>0</td>\n",
       "      <td>420</td>\n",
       "      <td>[402320, 146520, 23899]</td>\n",
       "      <td>[402354, 146594, 23900]</td>\n",
       "      <td>[402350, 146558, 23899]</td>\n",
       "    </tr>\n",
       "    <tr>\n",
       "      <th>1</th>\n",
       "      <td>512239447</td>\n",
       "      <td>t</td>\n",
       "      <td>107692559937453733</td>\n",
       "      <td>864691134764563389</td>\n",
       "      <td>107692560004163297</td>\n",
       "      <td>0</td>\n",
       "      <td>1300</td>\n",
       "      <td>[312342, 272446, 16895]</td>\n",
       "      <td>[312272, 272510, 16899]</td>\n",
       "      <td>[312298, 272460, 16898]</td>\n",
       "    </tr>\n",
       "    <tr>\n",
       "      <th>4</th>\n",
       "      <td>416272231</td>\n",
       "      <td>t</td>\n",
       "      <td>110295859874434808</td>\n",
       "      <td>864691135385181117</td>\n",
       "      <td>110295859874440074</td>\n",
       "      <td>0</td>\n",
       "      <td>1884</td>\n",
       "      <td>[330842, 269600, 16654]</td>\n",
       "      <td>[330878, 269532, 16662]</td>\n",
       "      <td>[330854, 269538, 16663]</td>\n",
       "    </tr>\n",
       "  </tbody>\n",
       "</table>\n",
       "</div>"
      ],
      "text/plain": [
       "          id valid  pre_pt_supervoxel_id      pre_pt_root_id  \\\n",
       "0  507533913     t    120060554860852929  864691132931221450   \n",
       "1  512239447     t    107692559937453733  864691134764563389   \n",
       "4  416272231     t    110295859874434808  864691135385181117   \n",
       "\n",
       "   post_pt_supervoxel_id  post_pt_root_id  size          pre_pt_position  \\\n",
       "0     120060554860853553                0   420  [402320, 146520, 23899]   \n",
       "1     107692560004163297                0  1300  [312342, 272446, 16895]   \n",
       "4     110295859874440074                0  1884  [330842, 269600, 16654]   \n",
       "\n",
       "          post_pt_position          ctr_pt_position  \n",
       "0  [402354, 146594, 23900]  [402350, 146558, 23899]  \n",
       "1  [312272, 272510, 16899]  [312298, 272460, 16898]  \n",
       "4  [330878, 269532, 16662]  [330854, 269538, 16663]  "
      ]
     },
     "execution_count": 22,
     "metadata": {},
     "output_type": "execute_result"
    }
   ],
   "source": [
    "# example synapse query\n",
    "syn_timestamp = client.materialize.synapse_query(post_ids=nuc_timestamp.pt_root_id, timestamp=example_timestamp)\n",
    "syn_timestamp.head(3)"
   ]
  },
  {
   "cell_type": "markdown",
   "id": "0127c5ec-a426-4ad2-beee-db881453c683",
   "metadata": {},
   "source": [
    "### Timestamps for all public release versions\n",
    "Long-term releases are made available for analysis, but are not permanent. You can lookup the timestamp associated with any version here.\n",
    "\n",
    "| Version | Timestamp |\n",
    "| :-- | :------ |\n",
    "| 117 | datetime(2021, 6, 11, 8, 10, 0, 215114, tzinfo=datetime.timezone.utc) |\n",
    "| 343 | datetime(2022, 2, 24, 8, 10, 0, 184668, tzinfo=datetime.timezone.utc) |\n",
    "| 661 | datetime(2023, 4, 6, 20, 17, 9, 199182, tzinfo=datetime.timezone.utc) |\n",
    "| 795 | datetime(2023, 8, 23, 8, 10, 1, 404268, tzinfo=datetime.timezone.utc) |\n",
    "| 943 | datetime(2024, 1, 22, 8, 10, 1, 497934, tzinfo=datetime.timezone.utc) |\n",
    "| 1078 | datetime(2024, 6, 5, 10, 10, 1, 203215, tzinfo=datetime.timezone.utc) |\n",
    "| 1181 | datetime(2024, 9, 16, 10, 10, 1, 121167, tzinfo=datetime.timezone.utc) |\n",
    "| 1300 | datetime(2025, 1, 13, 10, 10, 1, 286229, tzinfo=datetime.timezone.utc) \n",
    "\n",
    ": CAVEclient materialization version timestamps (as datetime.datetime objects)\n"
   ]
  },
  {
   "cell_type": "markdown",
   "id": "e6d4d122-8bb3-456d-9d0a-d82b945c594a",
   "metadata": {},
   "source": [
    "## How to cross-reference across time\n",
    "\n",
    "### Lineage Graphs\n",
    "\n",
    "[CAVEclient](python-tools.html) combines materialized snapshots with ChunkedGraph-based tracking of neuron edit histories to facilitate analysis queries for arbitrary time points. The ChunkedGraph tracks the edit lineage of neurons as they are being proofread, allowing us to map any segment used in a query to the closest available snapshot time point. This produces an overinclusive set of segments with which we query the snapshot database. \n",
    "\n",
    "\n",
    "![a, Edits change the assignment of synapses to segment IDs. Each of the four synapses is assigned to the segment IDs (colors) according to the presynaptic and postsynaptic points (point, bar). The identity of the segments changes through proofreading (time passed: ΔT) indicated by different colors. The lineage graph shows the current segment ID (color) for each point in time.](img/nature/nature_cave_fig_5 a.png){width=400}\n",
    "\n",
    "<p><center> Figure from [@dorkenwald_cave_2025] </center></p>\n",
    "\n",
    "When we query the ‘live’ database for all changes to annotations since the used materialization snapshot and add them to the set of annotations. The resulting set of annotations is then mapped back to the query timestamp using the lineage graph and supervoxel to root lookups and finally reduced to only include the queried set of root IDs.\n",
    "\n",
    "![b, Analysis queries are not necessarily aligned to exported snapshots. Queries for other time points are supported by on-the-fly delta updates from both the annotations and segmentation through the use of the lineage graph.](img/nature/nature_cave_fig_5 b.png)\n",
    "\n",
    "<p><center> Figure from [@dorkenwald_cave_2025] </center></p>\n",
    "\n",
    "<h4>Example querying the ChunkedGraph history for a root id</h4>\n",
    "\n",
    "::: {.callout-important}\n",
    "#### Initial Setup\n",
    "Before using any programmatic access to the data, [you first need to set up your CAVEclient token](em_py_01_caveclient_setup.html).\n",
    ":::"
   ]
  },
  {
   "cell_type": "code",
   "execution_count": 19,
   "id": "799b0b55-5d6e-4b11-88e0-23fa5a0c6e21",
   "metadata": {},
   "outputs": [
    {
     "data": {
      "text/plain": [
       "datetime.datetime(2025, 1, 13, 10, 10, 1, 286229, tzinfo=datetime.timezone.utc)"
      ]
     },
     "execution_count": 19,
     "metadata": {},
     "output_type": "execute_result"
    }
   ],
   "source": [
    "from caveclient import CAVEclient\n",
    "from datetime import datetime\n",
    "\n",
    "# initialize cave client\n",
    "client = CAVEclient('minnie65_public')\n",
    "\n",
    "# return the current timestamp\n",
    "client.materialize.get_timestamp()"
   ]
  },
  {
   "cell_type": "markdown",
   "id": "dd39287f-81b9-41f9-83ba-0a88429c00c0",
   "metadata": {},
   "source": [
    "Most commonly, what you will want is to look-up the current root id for a `pt_root_id` in a previous analysis. This is not always a trivial thing to do, for example in the case of a multi-soma object that has been manually split. Which of the two new cells was your original cell of interest?\n",
    "\n",
    "The ChunkedGraph will make its best guess, given supervoxel overlap, with the function `suggest_latest_roots()`"
   ]
  },
  {
   "cell_type": "code",
   "execution_count": 27,
   "id": "dcc4a640-8f1e-4224-9395-e9cfb9be4e24",
   "metadata": {},
   "outputs": [
    {
     "data": {
      "text/plain": [
       "np.int64(864691135970572133)"
      ]
     },
     "execution_count": 27,
     "metadata": {},
     "output_type": "execute_result"
    }
   ],
   "source": [
    "example_id = 864691135919440816\n",
    "\n",
    "# Access the ChunkedGraph service of caveclient\n",
    "client.chunkedgraph.suggest_latest_roots(example_id, timestamp = client.materialize.get_timestamp())"
   ]
  },
  {
   "cell_type": "markdown",
   "id": "f929b01b-1412-4391-a92b-6e54f434290a",
   "metadata": {},
   "source": [
    "Now we have updated `pt_root_id` for our cell, at the current materialized version.\n",
    "\n",
    "If you want to run this for a large number of root ids, you can first check if the `pt_root_id`s are current to your CAVEclient materialization version using `is_latest_roots()`, and then only update the ids that have expired:"
   ]
  },
  {
   "cell_type": "code",
   "execution_count": 29,
   "id": "bc13e8cd-7d60-4920-87f1-11f908bf86de",
   "metadata": {},
   "outputs": [
    {
     "name": "stdout",
     "output_type": "stream",
     "text": [
      "[False]\n"
     ]
    },
    {
     "data": {
      "text/plain": [
       "array([datetime.datetime(2023, 2, 1, 8, 47, 29, 891000, tzinfo=<UTC>)],\n",
       "      dtype=object)"
      ]
     },
     "execution_count": 29,
     "metadata": {},
     "output_type": "execute_result"
    }
   ],
   "source": [
    "# Check if roots are current\n",
    "print(client.chunkedgraph.is_latest_roots(example_id))\n",
    "\n",
    "# See when the id was generated (when the segment was last edited)\n",
    "client.chunkedgraph.get_root_timestamps(example_id)"
   ]
  },
  {
   "cell_type": "markdown",
   "id": "150fba3a-6313-4bda-8a49-b1f9e3a78354",
   "metadata": {},
   "source": [
    "Using the `timestamp` argument, you can also lookup the suggested root at any arbitrary time. Here we use the timestamp for a different materialization, verion 943:"
   ]
  },
  {
   "cell_type": "code",
   "execution_count": 30,
   "id": "9211ec58-7ea0-471f-8106-a5f2d87035fe",
   "metadata": {},
   "outputs": [
    {
     "data": {
      "text/plain": [
       "np.int64(864691135808631069)"
      ]
     },
     "execution_count": 30,
     "metadata": {},
     "output_type": "execute_result"
    }
   ],
   "source": [
    "client.chunkedgraph.suggest_latest_roots(example_id, \n",
    "                                         timestamp=client.materialize.get_version_metadata(943)['time_stamp']\n",
    "                                        )"
   ]
  },
  {
   "cell_type": "markdown",
   "id": "92122881-5278-426c-a9c8-c0bdc5740660",
   "metadata": {},
   "source": [
    " Sometimes you may want to check the lineage graph for a cell of interest, to better understand what was edited and why. You can access this and more advanced features from the `get_lineage_graph()`. See the [ChunkedGraph documentation](https://caveconnectome.github.io/CAVEclient/tutorials/chunkedgraph/) for more use cases.\n",
    "\n",
    " ```python\n",
    "client.chunkedgraph.get_lineage_graph(example_id)\n",
    "```"
   ]
  },
  {
   "cell_type": "markdown",
   "id": "9082ce8e-492d-401b-9848-a0134e653fa1",
   "metadata": {},
   "source": [
    "### Static annotations\n",
    "\n",
    "The [CAVEclient](python-tools.html) Materialization Engine updates segmentation data and creates databases that combine spatial annotation points and segmentation information. \n",
    "\n",
    "The live database is written to by the [Annotation service](https://caveconnectome.github.io/CAVEclient/tutorials/annotation/) and is actively managed by the [Materialization service](https://caveconnectome.github.io/CAVEclient/tutorials/materialization/) to keep root IDs up to date for all BoundSpatialPoints in all tables. Snapshotted databases are copies of a time-locked state of the ‘live’ database’s segmentation and annotation information used to facilitate consistent querying.\n",
    "\n",
    "This means if you use a static **annotation** label to index your analysis, for example a `nucleus_id` or a `synapse_id` which do not undergo proofreading, you can look up the current `pt_root_id` at any time by asking CAVEclient to materialize the new segmentation under the static point.\n",
    "\n",
    "Using our example cell from above, let's find its nucleus id. If we try to query the nucleus table with the expired id, we will return no result:"
   ]
  },
  {
   "cell_type": "code",
   "execution_count": 32,
   "id": "fb9e1dbf-908f-4344-88ab-abce04df077c",
   "metadata": {},
   "outputs": [
    {
     "data": {
      "text/html": [
       "<div>\n",
       "<style scoped>\n",
       "    .dataframe tbody tr th:only-of-type {\n",
       "        vertical-align: middle;\n",
       "    }\n",
       "\n",
       "    .dataframe tbody tr th {\n",
       "        vertical-align: top;\n",
       "    }\n",
       "\n",
       "    .dataframe thead th {\n",
       "        text-align: right;\n",
       "    }\n",
       "</style>\n",
       "<table border=\"1\" class=\"dataframe\">\n",
       "  <thead>\n",
       "    <tr style=\"text-align: right;\">\n",
       "      <th></th>\n",
       "      <th>id</th>\n",
       "      <th>created</th>\n",
       "      <th>superceded_id</th>\n",
       "      <th>valid</th>\n",
       "      <th>volume</th>\n",
       "      <th>pt_supervoxel_id</th>\n",
       "      <th>pt_root_id</th>\n",
       "      <th>pt_position</th>\n",
       "      <th>bb_start_position</th>\n",
       "      <th>bb_end_position</th>\n",
       "    </tr>\n",
       "  </thead>\n",
       "  <tbody>\n",
       "  </tbody>\n",
       "</table>\n",
       "</div>"
      ],
      "text/plain": [
       "Empty DataFrame\n",
       "Columns: [id, created, superceded_id, valid, volume, pt_supervoxel_id, pt_root_id, pt_position, bb_start_position, bb_end_position]\n",
       "Index: []"
      ]
     },
     "execution_count": 32,
     "metadata": {},
     "output_type": "execute_result"
    }
   ],
   "source": [
    "example_id = 864691135919440816\n",
    "\n",
    "client.materialize.tables.nucleus_detection_v0(pt_root_id=example_id).query()"
   ]
  },
  {
   "cell_type": "markdown",
   "id": "06df7782-6af6-498f-b962-1397a58e0a2e",
   "metadata": {},
   "source": [
    "<p></p>\n",
    "\n",
    "This is expected, since the example id is *expired* at the time of this materialization. Instead, let's query the version we know this id existed at: version 661"
   ]
  },
  {
   "cell_type": "code",
   "execution_count": 33,
   "id": "352e5ca1-7808-4a3b-b114-a9e55417a701",
   "metadata": {},
   "outputs": [
    {
     "data": {
      "text/html": [
       "<div>\n",
       "<style scoped>\n",
       "    .dataframe tbody tr th:only-of-type {\n",
       "        vertical-align: middle;\n",
       "    }\n",
       "\n",
       "    .dataframe tbody tr th {\n",
       "        vertical-align: top;\n",
       "    }\n",
       "\n",
       "    .dataframe thead th {\n",
       "        text-align: right;\n",
       "    }\n",
       "</style>\n",
       "<table border=\"1\" class=\"dataframe\">\n",
       "  <thead>\n",
       "    <tr style=\"text-align: right;\">\n",
       "      <th></th>\n",
       "      <th>id</th>\n",
       "      <th>created</th>\n",
       "      <th>superceded_id</th>\n",
       "      <th>valid</th>\n",
       "      <th>volume</th>\n",
       "      <th>pt_supervoxel_id</th>\n",
       "      <th>pt_root_id</th>\n",
       "      <th>pt_position</th>\n",
       "      <th>bb_start_position</th>\n",
       "      <th>bb_end_position</th>\n",
       "    </tr>\n",
       "  </thead>\n",
       "  <tbody>\n",
       "    <tr>\n",
       "      <th>0</th>\n",
       "      <td>260620</td>\n",
       "      <td>2020-09-28 22:44:52.109195+00:00</td>\n",
       "      <td>NaN</td>\n",
       "      <td>t</td>\n",
       "      <td>292.154409</td>\n",
       "      <td>88605588438852384</td>\n",
       "      <td>864691135919440816</td>\n",
       "      <td>[173584, 145120, 21127]</td>\n",
       "      <td>[nan, nan, nan]</td>\n",
       "      <td>[nan, nan, nan]</td>\n",
       "    </tr>\n",
       "  </tbody>\n",
       "</table>\n",
       "</div>"
      ],
      "text/plain": [
       "       id                          created  superceded_id valid      volume  \\\n",
       "0  260620 2020-09-28 22:44:52.109195+00:00            NaN     t  292.154409   \n",
       "\n",
       "    pt_supervoxel_id          pt_root_id              pt_position  \\\n",
       "0  88605588438852384  864691135919440816  [173584, 145120, 21127]   \n",
       "\n",
       "  bb_start_position  bb_end_position  \n",
       "0   [nan, nan, nan]  [nan, nan, nan]  "
      ]
     },
     "execution_count": 33,
     "metadata": {},
     "output_type": "execute_result"
    }
   ],
   "source": [
    "client.materialize.tables.nucleus_detection_v0(pt_root_id=example_id).query(materialization_version=661)"
   ]
  },
  {
   "cell_type": "markdown",
   "id": "4aa5ce9a-b743-420b-a122-a8d7c92514bd",
   "metadata": {},
   "source": [
    "This returns both the expected `pt_root_id` 864691135919440816, and the `id` from  the `nucleus_detection_v0` -- better known as the `nucleus_id`.\n",
    "\n",
    "Given the `nucleus_id`, we can now query the current materialized version for the current root id."
   ]
  },
  {
   "cell_type": "code",
   "execution_count": 34,
   "id": "22dbe5e7-ff72-44d2-b8ca-d8f1b81de0d7",
   "metadata": {},
   "outputs": [
    {
     "data": {
      "text/html": [
       "<div>\n",
       "<style scoped>\n",
       "    .dataframe tbody tr th:only-of-type {\n",
       "        vertical-align: middle;\n",
       "    }\n",
       "\n",
       "    .dataframe tbody tr th {\n",
       "        vertical-align: top;\n",
       "    }\n",
       "\n",
       "    .dataframe thead th {\n",
       "        text-align: right;\n",
       "    }\n",
       "</style>\n",
       "<table border=\"1\" class=\"dataframe\">\n",
       "  <thead>\n",
       "    <tr style=\"text-align: right;\">\n",
       "      <th></th>\n",
       "      <th>id</th>\n",
       "      <th>created</th>\n",
       "      <th>superceded_id</th>\n",
       "      <th>valid</th>\n",
       "      <th>volume</th>\n",
       "      <th>pt_supervoxel_id</th>\n",
       "      <th>pt_root_id</th>\n",
       "      <th>pt_position</th>\n",
       "      <th>bb_start_position</th>\n",
       "      <th>bb_end_position</th>\n",
       "    </tr>\n",
       "  </thead>\n",
       "  <tbody>\n",
       "    <tr>\n",
       "      <th>0</th>\n",
       "      <td>260620</td>\n",
       "      <td>2020-09-28 22:44:52.109195+00:00</td>\n",
       "      <td>NaN</td>\n",
       "      <td>t</td>\n",
       "      <td>292.154409</td>\n",
       "      <td>88605588438852384</td>\n",
       "      <td>864691135970572133</td>\n",
       "      <td>[173584, 145120, 21127]</td>\n",
       "      <td>[nan, nan, nan]</td>\n",
       "      <td>[nan, nan, nan]</td>\n",
       "    </tr>\n",
       "  </tbody>\n",
       "</table>\n",
       "</div>"
      ],
      "text/plain": [
       "       id                          created  superceded_id valid      volume  \\\n",
       "0  260620 2020-09-28 22:44:52.109195+00:00            NaN     t  292.154409   \n",
       "\n",
       "    pt_supervoxel_id          pt_root_id              pt_position  \\\n",
       "0  88605588438852384  864691135970572133  [173584, 145120, 21127]   \n",
       "\n",
       "  bb_start_position  bb_end_position  \n",
       "0   [nan, nan, nan]  [nan, nan, nan]  "
      ]
     },
     "execution_count": 34,
     "metadata": {},
     "output_type": "execute_result"
    }
   ],
   "source": [
    "nuc_id = client.materialize.tables.nucleus_detection_v0(pt_root_id=example_id).query(materialization_version=661)['id']\n",
    "\n",
    "client.materialize.tables.nucleus_detection_v0(id=nuc_id).query()"
   ]
  },
  {
   "cell_type": "markdown",
   "id": "dfca3c12-829e-40b1-b0bf-84c8ce4ee0a7",
   "metadata": {},
   "source": [
    "This returns the same `pt_root_id` as the lineage graph example above. But, it has the benefit of guaranteeing the id belongs to your cell of interest and not an arbitrary chunk of the previous segmented object.\n",
    "\n",
    "<h4>If you are working with a neuron, glial cell, or any cell that has a nucleus detection, we recommend using the `nucleus_id` as your identifier rather than the `pt_root_id`.</h4>\n",
    "\n",
    "<h4>If you do use `pt_root_id`, be sure to note the dataset materialization version in your analysis.</h4>"
   ]
  }
 ],
 "metadata": {
  "kernelspec": {
   "display_name": "microns2025",
   "language": "python",
   "name": "microns2025"
  },
  "language_info": {
   "codemirror_mode": {
    "name": "ipython",
    "version": 3
   },
   "file_extension": ".py",
   "mimetype": "text/x-python",
   "name": "python",
   "nbconvert_exporter": "python",
   "pygments_lexer": "ipython3",
   "version": "3.11.11"
  }
 },
 "nbformat": 4,
 "nbformat_minor": 5
}
