{
 "cells": [
  {
   "cell_type": "markdown",
   "id": "26c56379-b4e4-414b-a7e6-b74e8b67136a",
   "metadata": {},
   "source": [
    "---\n",
    "title: \"Materialization and Versioning\"\n",
    "draft: false\n",
    "format: \n",
    "    html:\n",
    "        toc: true\n",
    "bibliography: references.bib\n",
    "---"
   ]
  },
  {
   "cell_type": "markdown",
   "id": "881f71d2-dddf-4aae-bdb9-64f6fb5d92b9",
   "metadata": {},
   "source": [
    "::: {.callout-warning}\n",
    "\n",
    "## Archiving versions: v343, v661, v795\n",
    "We have begun archiving release versions that are more 2 years old. All publicly released annotation data is available as a static download. See: [Access archived data versions](materialization-version.html#access-archived-data-versions) for details.\n",
    "\n",
    "You can continue to access older versions of materialization and segmentation by setting the `timestamp` argument instead of a version argument. However, fully deprecated tables will no longer be queriable from CAVEclient. \n",
    "\n",
    ":::\n"
   ]
  },
  {
   "cell_type": "markdown",
   "id": "881f75ab-974d-454d-9c2b-9ef34e9d6186",
   "metadata": {},
   "source": [
    "<h3> The MICrONS Dataset is public and open access, ready for analysis. But: manual edits to the segmentation continue to improve data quality.</h3>\n",
    "\n",
    "When beginning your analysis in the MICrONS dataset, it is important to understand:\n",
    "\n",
    " 1. Why the data changes\n",
    " 2. What types of data change with time\n",
    " 3. How to set the version for your analysis\n",
    " 4. How to cross-reference data across time\n",
    "\n",
    "The data is regularly **versioned**; that is, a long-term copy of the dataset is made available for users. We highly recommend setting the version or **timestamp** in your analysis for future consistency. \n",
    "\n",
    "However, even if you do not set the version, there is a **lineage graph** of changes to the dataset. Meaning, you can find the past version of your cell, annotation table, mesh, skeleton etc. as long as you know the **root id** of the object you are interested in--or the date at which you performed an analysis.\n",
    "\n",
    "## Why the data changes\n",
    "\n",
    "The automatic segmentation from EM imagery to 3D reconstruction was largely effective, and the only way to process data at this scale [@the_microns_consortium_functional_2025]. However, due to imaging defects and the nature of thin, branching axons, the automated methods do make mistakes that have large impacts on the biological accuracy of the reconstructions. \n",
    "\n",
    "[Manual Proofreading](proofreading.html), or the correction of segmentation and adding of annotations, is an [ongoing effort](vortex-overview.html). \n",
    "\n",
    "Different aspects of the data require different level of manual intervention. For example, the segmentation methods produced highly accurate dendritic arbors before proofreading, enabling morphological identification of broad cell types. Most dendritic spines are properly associated with their dendritic trunk. Recovery of larger-caliber axons, those of inhibitory neurons, and the initial portions of excitatory neurons was also typically successful. Owing to the high frequency of imaging defects in the shallower and deeper portions of the dataset, processes near the pia and white matter often contain errors. Many non-neuronal objects are also well-segmented, including astrocytes, microglia and blood vessels. The two subvolumes of the dataset were segmented separately, but the alignment between the two is sufficient for manually tracing between them.\n",
    "\n",
    "**Changes to the dataset represent an improvement in accuracy, and reflect an investment in the long-term usefulness of this open-access resource**. \n",
    "\n",
    "## What types of data change with time\n",
    "\n",
    "**Proofreading** edits to the segmentation change what **supervoxels** (groups of locally aggregated voxels) are associated with what segmented object. Any time the supervoxel is associated with a different segmented object, all of the `id`s upstream of that supervoxel will update. In practice, this means the 18-digit segmentation id or `pt_root_id` of your neuron or microglia or axon etc. will change every time it is proofread.\n",
    "\n",
    "![a, Automated segmentation overlaid on EM data. Each color represents an individual putative cell. b, Different colors represent supervoxels that make up putative cells. c, Supervoxels belonging to a particular neuron, with an overlaid cartoon of its supervoxel graph. These data corresponds to the framed square in a and the full panel in b. d, One-dimensional representation of the supervoxel graph. The ChunkedGraph data structure adds an octree structure to the graph to store the connected component information. Each abstract node (black nodes in levels >1) represents the connected component in the spatially underlying graph. ](img/nature/nature_cave_fig_2 a-d.png)\n",
    "\n",
    "<p><center> Figure from [@dorkenwald_cave_2025] </center></p>\n",
    "\n",
    "\n",
    "The `pt_root_id` is always associated with the same collection of supervoxels, and therefore the same mesh and same skeleton. But if that `pt_root_id` is *expired*, then you may not find that object in current **Annotation Tables**, **Synapse Connectivity Tables**, and Neuroglancer views of the *current* version of the dataset (default).\n",
    "\n",
    "Creating a new `pt_root_id` for an edited object is the only way to have the flexibility of both **merging** two or more segments that should be connected (for example: extending an axon) and **splitting** an object into two, as in the following example:\n",
    " \n",
    "![f, To submit a split operation, users place labels for each side of the split (top right). The backend system first connects each set of labels on each side by identifying supervoxels between them in the graph (left). The extended sets are used to identify the edges needed to be cut with a maximum-flow minimum-cut algorithm.](img/nature/nature_cave_fig_2 f.png){width=400}\n",
    "\n",
    "<p><center> Figure from [@dorkenwald_cave_2025] </center></p>\n",
    "\n",
    "But this also means we can track the histories of what `id`s used to be part of which segmented objects, which helps for finding the same cell, axon, or arbitrary segment across time. See **Lineage Graphs** below for details."
   ]
  },
  {
   "cell_type": "markdown",
   "id": "6f31ccf5-4d51-43ed-acc7-8202c4794c58",
   "metadata": {},
   "source": [
    "## How to set the version of your analysis\n",
    "\n",
    "Most programmatic access to the CAVE services occurs through CAVEclient, a Python client to access various types of data from the online services.\n",
    "\n",
    "Full documentation for CAVEclient [is available here](http://caveclient.readthedocs.io).\n",
    "\n",
    "::: {.callout-important}\n",
    "#### Initial Setup\n",
    "Before using any programmatic access to the data, [you first need to set up your CAVEclient token](em_py_01_caveclient_setup.html).\n",
    ":::\n",
    "\n",
    "To initialize a caveclient, we give it a **datastack**, which is a name that defines a particular combination of imagery, segmentation, and annotation database.\n",
    "For the MICrONs public data, we use the datastack name `minnie65_public`."
   ]
  },
  {
   "cell_type": "code",
   "execution_count": 1,
   "id": "afc3fa46-afd4-4a2b-a40a-7ab85fe3cd08",
   "metadata": {},
   "outputs": [
    {
     "data": {
      "text/plain": [
       "[1300, 1078, 117, 661, 343, 1181, 795, 943, 1412]"
      ]
     },
     "execution_count": 1,
     "metadata": {},
     "output_type": "execute_result"
    }
   ],
   "source": [
    "from caveclient import CAVEclient\n",
    "from datetime import datetime, timezone\n",
    "\n",
    "# initialize cave client\n",
    "client = CAVEclient('minnie65_public')\n",
    "\n",
    "# see the available materialization versions\n",
    "client.materialize.get_versions()"
   ]
  },
  {
   "cell_type": "markdown",
   "id": "7cfa7898-9055-4a06-9f92-f8a7ccc12a52",
   "metadata": {},
   "source": [
    "And these are their associated timestamps (all timestamps are in UTC):\n",
    "\n"
   ]
  },
  {
   "cell_type": "code",
   "execution_count": 2,
   "id": "279e72ef-678f-408e-b8fe-e79b34779ba9",
   "metadata": {},
   "outputs": [
    {
     "name": "stdout",
     "output_type": "stream",
     "text": [
      "Version 1300: 2025-01-13 10:10:01.286229+00:00\n",
      "Version 1078: 2024-06-05 10:10:01.203215+00:00\n",
      "Version 117: 2021-06-11 08:10:00.215114+00:00\n",
      "Version 661: 2023-04-06 20:17:09.199182+00:00\n",
      "Version 343: 2022-02-24 08:10:00.184668+00:00\n",
      "Version 1181: 2024-09-16 10:10:01.121167+00:00\n",
      "Version 795: 2023-08-23 08:10:01.404268+00:00\n",
      "Version 943: 2024-01-22 08:10:01.497934+00:00\n",
      "Version 1412: 2025-04-29 10:10:01.200893+00:00\n"
     ]
    }
   ],
   "source": [
    "for version in client.materialize.get_versions():\n",
    "    print(f\"Version {version}: {client.materialize.get_timestamp(version)}\")"
   ]
  },
  {
   "cell_type": "markdown",
   "id": "32473fce-f7eb-4fce-9434-eb893a677879",
   "metadata": {},
   "source": [
    "You can set the overall materialization version for the dataset using `client.version`. This will ensure all of the subsequent CAVE queries are performed at the same materialization, so you will get consistency between, for example, a cell type query and a synapse query."
   ]
  },
  {
   "cell_type": "code",
   "execution_count": 3,
   "id": "c50f2606-e2d8-47aa-acd7-44397e9cdb02",
   "metadata": {
    "tags": []
   },
   "outputs": [],
   "source": [
    "# set materialization version, for consistency\n",
    "client.version = 1412 # current public as of 4/29/2025"
   ]
  },
  {
   "cell_type": "markdown",
   "id": "d1370bff-97d8-4790-9b3b-aaf4616f2492",
   "metadata": {},
   "source": [
    "However, you can also set individual queries to a different version with optional argument `materialization_version`. For more about table queries, see [CAVE Query Cell Types](quickstart_notebooks/02-cave-query-cell-types.html)."
   ]
  },
  {
   "cell_type": "code",
   "execution_count": 4,
   "id": "48927998-633f-48da-8866-32382ce19df3",
   "metadata": {},
   "outputs": [
    {
     "data": {
      "text/html": [
       "<div>\n",
       "<style scoped>\n",
       "    .dataframe tbody tr th:only-of-type {\n",
       "        vertical-align: middle;\n",
       "    }\n",
       "\n",
       "    .dataframe tbody tr th {\n",
       "        vertical-align: top;\n",
       "    }\n",
       "\n",
       "    .dataframe thead th {\n",
       "        text-align: right;\n",
       "    }\n",
       "</style>\n",
       "<table border=\"1\" class=\"dataframe\">\n",
       "  <thead>\n",
       "    <tr style=\"text-align: right;\">\n",
       "      <th></th>\n",
       "      <th>id</th>\n",
       "      <th>created</th>\n",
       "      <th>superceded_id</th>\n",
       "      <th>valid</th>\n",
       "      <th>volume</th>\n",
       "      <th>pt_supervoxel_id</th>\n",
       "      <th>pt_root_id</th>\n",
       "      <th>pt_position</th>\n",
       "      <th>bb_start_position</th>\n",
       "      <th>bb_end_position</th>\n",
       "    </tr>\n",
       "  </thead>\n",
       "  <tbody>\n",
       "    <tr>\n",
       "      <th>27095</th>\n",
       "      <td>717226</td>\n",
       "      <td>2020-09-28 22:41:36.353256+00:00</td>\n",
       "      <td>NaN</td>\n",
       "      <td>t</td>\n",
       "      <td>340.089078</td>\n",
       "      <td>118380363788982290</td>\n",
       "      <td>864691135386337877</td>\n",
       "      <td>[389712, 210880, 24904]</td>\n",
       "      <td>[nan, nan, nan]</td>\n",
       "      <td>[nan, nan, nan]</td>\n",
       "    </tr>\n",
       "    <tr>\n",
       "      <th>143388</th>\n",
       "      <td>164389</td>\n",
       "      <td>2020-09-28 22:45:24.957212+00:00</td>\n",
       "      <td>NaN</td>\n",
       "      <td>t</td>\n",
       "      <td>454.651412</td>\n",
       "      <td>81435535339497985</td>\n",
       "      <td>864691135475705920</td>\n",
       "      <td>[121056, 201904, 18463]</td>\n",
       "      <td>[nan, nan, nan]</td>\n",
       "      <td>[nan, nan, nan]</td>\n",
       "    </tr>\n",
       "    <tr>\n",
       "      <th>34048</th>\n",
       "      <td>126135</td>\n",
       "      <td>2020-09-28 22:41:48.617493+00:00</td>\n",
       "      <td>NaN</td>\n",
       "      <td>t</td>\n",
       "      <td>158.299423</td>\n",
       "      <td>78694108986133068</td>\n",
       "      <td>864691135625910878</td>\n",
       "      <td>[101216, 223936, 16893]</td>\n",
       "      <td>[nan, nan, nan]</td>\n",
       "      <td>[nan, nan, nan]</td>\n",
       "    </tr>\n",
       "  </tbody>\n",
       "</table>\n",
       "</div>"
      ],
      "text/plain": [
       "            id                          created  superceded_id valid  \\\n",
       "27095   717226 2020-09-28 22:41:36.353256+00:00            NaN     t   \n",
       "143388  164389 2020-09-28 22:45:24.957212+00:00            NaN     t   \n",
       "34048   126135 2020-09-28 22:41:48.617493+00:00            NaN     t   \n",
       "\n",
       "            volume    pt_supervoxel_id          pt_root_id  \\\n",
       "27095   340.089078  118380363788982290  864691135386337877   \n",
       "143388  454.651412   81435535339497985  864691135475705920   \n",
       "34048   158.299423   78694108986133068  864691135625910878   \n",
       "\n",
       "                    pt_position bb_start_position  bb_end_position  \n",
       "27095   [389712, 210880, 24904]   [nan, nan, nan]  [nan, nan, nan]  \n",
       "143388  [121056, 201904, 18463]   [nan, nan, nan]  [nan, nan, nan]  \n",
       "34048   [101216, 223936, 16893]   [nan, nan, nan]  [nan, nan, nan]  "
      ]
     },
     "execution_count": 4,
     "metadata": {},
     "output_type": "execute_result"
    }
   ],
   "source": [
    "nuc_v661 = client.materialize.tables.nucleus_detection_v0().query(materialization_version=661)\n",
    "\n",
    "nuc_v661.sample(3)"
   ]
  },
  {
   "cell_type": "markdown",
   "id": "9c91e5f1-d2b1-4d88-82ab-b4a99ba79353",
   "metadata": {},
   "source": [
    "You can even do the same thing with an arbitrary timestamp, using optional argument `timestamp`. However, due to how the ChunkedGraph operates, this will be more time-intensive than looking up a specific materialized version."
   ]
  },
  {
   "cell_type": "code",
   "execution_count": 5,
   "id": "730e4285-80d5-4e12-bfac-dd2141ef20bc",
   "metadata": {},
   "outputs": [
    {
     "name": "stdout",
     "output_type": "stream",
     "text": [
      "CPU times: total: 812 ms\n",
      "Wall time: 59.7 s\n"
     ]
    },
    {
     "data": {
      "text/html": [
       "<div>\n",
       "<style scoped>\n",
       "    .dataframe tbody tr th:only-of-type {\n",
       "        vertical-align: middle;\n",
       "    }\n",
       "\n",
       "    .dataframe tbody tr th {\n",
       "        vertical-align: top;\n",
       "    }\n",
       "\n",
       "    .dataframe thead th {\n",
       "        text-align: right;\n",
       "    }\n",
       "</style>\n",
       "<table border=\"1\" class=\"dataframe\">\n",
       "  <thead>\n",
       "    <tr style=\"text-align: right;\">\n",
       "      <th></th>\n",
       "      <th>id</th>\n",
       "      <th>valid</th>\n",
       "      <th>volume</th>\n",
       "      <th>pt_supervoxel_id</th>\n",
       "      <th>pt_root_id</th>\n",
       "      <th>pt_position</th>\n",
       "      <th>bb_start_position</th>\n",
       "      <th>bb_end_position</th>\n",
       "    </tr>\n",
       "  </thead>\n",
       "  <tbody>\n",
       "    <tr>\n",
       "      <th>99694</th>\n",
       "      <td>500984</td>\n",
       "      <td>t</td>\n",
       "      <td>245.666775</td>\n",
       "      <td>103042450989740874</td>\n",
       "      <td>864691136287472323</td>\n",
       "      <td>[278528, 229328, 21380]</td>\n",
       "      <td>[nan, nan, nan]</td>\n",
       "      <td>[nan, nan, nan]</td>\n",
       "    </tr>\n",
       "    <tr>\n",
       "      <th>110157</th>\n",
       "      <td>563160</td>\n",
       "      <td>t</td>\n",
       "      <td>333.836780</td>\n",
       "      <td>107894390181643519</td>\n",
       "      <td>864691136974411804</td>\n",
       "      <td>[313680, 203072, 25566]</td>\n",
       "      <td>[nan, nan, nan]</td>\n",
       "      <td>[nan, nan, nan]</td>\n",
       "    </tr>\n",
       "    <tr>\n",
       "      <th>120527</th>\n",
       "      <td>612800</td>\n",
       "      <td>t</td>\n",
       "      <td>291.528704</td>\n",
       "      <td>113866387252299373</td>\n",
       "      <td>864691135763026486</td>\n",
       "      <td>[357008, 133440, 22939]</td>\n",
       "      <td>[nan, nan, nan]</td>\n",
       "      <td>[nan, nan, nan]</td>\n",
       "    </tr>\n",
       "  </tbody>\n",
       "</table>\n",
       "</div>"
      ],
      "text/plain": [
       "            id valid      volume    pt_supervoxel_id          pt_root_id  \\\n",
       "99694   500984     t  245.666775  103042450989740874  864691136287472323   \n",
       "110157  563160     t  333.836780  107894390181643519  864691136974411804   \n",
       "120527  612800     t  291.528704  113866387252299373  864691135763026486   \n",
       "\n",
       "                    pt_position bb_start_position  bb_end_position  \n",
       "99694   [278528, 229328, 21380]   [nan, nan, nan]  [nan, nan, nan]  \n",
       "110157  [313680, 203072, 25566]   [nan, nan, nan]  [nan, nan, nan]  \n",
       "120527  [357008, 133440, 22939]   [nan, nan, nan]  [nan, nan, nan]  "
      ]
     },
     "execution_count": 5,
     "metadata": {},
     "output_type": "execute_result"
    }
   ],
   "source": [
    "%%time\n",
    "nuc_v661 = client.materialize.tables.nucleus_detection_v0().query(timestamp=datetime(2023,4,6,20))\n",
    "\n",
    "nuc_v661.sample(3)"
   ]
  },
  {
   "cell_type": "markdown",
   "id": "de3854f4-b2a5-46f8-880b-14639c9195d9",
   "metadata": {},
   "source": [
    "### How to set the timestamp to an expired version\n",
    "Materialization versions expire at regular intervals. Indeed, every version between our major long-term public releases existed at some point, but has since expired.\n",
    "\n",
    "This does not mean the data from those versions is gone. \n",
    "\n",
    "It does mean it takes longer to materialize data from that date, because the chunkedgraph has to calculate differences between an extant materialized version and the requested time. In order to materialize data from an expired version, you must set the optional timestamp argument in every query:"
   ]
  },
  {
   "cell_type": "code",
   "execution_count": 6,
   "id": "b82ffddd-f58c-48e4-90e2-0fba2ac78566",
   "metadata": {},
   "outputs": [
    {
     "name": "stderr",
     "output_type": "stream",
     "text": [
      "201 - \"Limited query to 100 rows\n"
     ]
    },
    {
     "data": {
      "text/html": [
       "<div>\n",
       "<style scoped>\n",
       "    .dataframe tbody tr th:only-of-type {\n",
       "        vertical-align: middle;\n",
       "    }\n",
       "\n",
       "    .dataframe tbody tr th {\n",
       "        vertical-align: top;\n",
       "    }\n",
       "\n",
       "    .dataframe thead th {\n",
       "        text-align: right;\n",
       "    }\n",
       "</style>\n",
       "<table border=\"1\" class=\"dataframe\">\n",
       "  <thead>\n",
       "    <tr style=\"text-align: right;\">\n",
       "      <th></th>\n",
       "      <th>id</th>\n",
       "      <th>valid</th>\n",
       "      <th>volume</th>\n",
       "      <th>pt_supervoxel_id</th>\n",
       "      <th>pt_root_id</th>\n",
       "      <th>pt_position</th>\n",
       "      <th>bb_start_position</th>\n",
       "      <th>bb_end_position</th>\n",
       "    </tr>\n",
       "  </thead>\n",
       "  <tbody>\n",
       "    <tr>\n",
       "      <th>0</th>\n",
       "      <td>11294</td>\n",
       "      <td>t</td>\n",
       "      <td>49.112842</td>\n",
       "      <td>73556435283294116</td>\n",
       "      <td>864691135269406572</td>\n",
       "      <td>[63968, 218032, 20683]</td>\n",
       "      <td>[nan, nan, nan]</td>\n",
       "      <td>[nan, nan, nan]</td>\n",
       "    </tr>\n",
       "    <tr>\n",
       "      <th>1</th>\n",
       "      <td>11300</td>\n",
       "      <td>t</td>\n",
       "      <td>323.577446</td>\n",
       "      <td>73626116832723681</td>\n",
       "      <td>864691135151717168</td>\n",
       "      <td>[64400, 213072, 20630]</td>\n",
       "      <td>[nan, nan, nan]</td>\n",
       "      <td>[nan, nan, nan]</td>\n",
       "    </tr>\n",
       "    <tr>\n",
       "      <th>2</th>\n",
       "      <td>11301</td>\n",
       "      <td>t</td>\n",
       "      <td>277.511864</td>\n",
       "      <td>0</td>\n",
       "      <td>0</td>\n",
       "      <td>[64496, 219104, 20408]</td>\n",
       "      <td>[nan, nan, nan]</td>\n",
       "      <td>[nan, nan, nan]</td>\n",
       "    </tr>\n",
       "  </tbody>\n",
       "</table>\n",
       "</div>"
      ],
      "text/plain": [
       "      id valid      volume   pt_supervoxel_id          pt_root_id  \\\n",
       "0  11294     t   49.112842  73556435283294116  864691135269406572   \n",
       "1  11300     t  323.577446  73626116832723681  864691135151717168   \n",
       "2  11301     t  277.511864                  0                   0   \n",
       "\n",
       "              pt_position bb_start_position  bb_end_position  \n",
       "0  [63968, 218032, 20683]   [nan, nan, nan]  [nan, nan, nan]  \n",
       "1  [64400, 213072, 20630]   [nan, nan, nan]  [nan, nan, nan]  \n",
       "2  [64496, 219104, 20408]   [nan, nan, nan]  [nan, nan, nan]  "
      ]
     },
     "execution_count": 6,
     "metadata": {},
     "output_type": "execute_result"
    }
   ],
   "source": [
    "# set the timestamp of a version that may or may not exist\n",
    "example_timestamp = datetime(2022, 2, 24, 8, 10, 0, 184668, tzinfo=timezone.utc)\n",
    "\n",
    "# example table query\n",
    "nuc_timestamp = client.materialize.tables.nucleus_detection_v0().query(timestamp=example_timestamp, limit=100)\n",
    "nuc_timestamp.head(3)"
   ]
  },
  {
   "cell_type": "code",
   "execution_count": 7,
   "id": "46761e13-2fa5-4aaf-888c-a1f9f3de1933",
   "metadata": {},
   "outputs": [
    {
     "data": {
      "text/html": [
       "<div>\n",
       "<style scoped>\n",
       "    .dataframe tbody tr th:only-of-type {\n",
       "        vertical-align: middle;\n",
       "    }\n",
       "\n",
       "    .dataframe tbody tr th {\n",
       "        vertical-align: top;\n",
       "    }\n",
       "\n",
       "    .dataframe thead th {\n",
       "        text-align: right;\n",
       "    }\n",
       "</style>\n",
       "<table border=\"1\" class=\"dataframe\">\n",
       "  <thead>\n",
       "    <tr style=\"text-align: right;\">\n",
       "      <th></th>\n",
       "      <th>id</th>\n",
       "      <th>valid</th>\n",
       "      <th>pre_pt_supervoxel_id</th>\n",
       "      <th>pre_pt_root_id</th>\n",
       "      <th>post_pt_supervoxel_id</th>\n",
       "      <th>post_pt_root_id</th>\n",
       "      <th>size</th>\n",
       "      <th>pre_pt_position</th>\n",
       "      <th>post_pt_position</th>\n",
       "      <th>ctr_pt_position</th>\n",
       "    </tr>\n",
       "  </thead>\n",
       "  <tbody>\n",
       "    <tr>\n",
       "      <th>0</th>\n",
       "      <td>507533913</td>\n",
       "      <td>t</td>\n",
       "      <td>120060554860852929</td>\n",
       "      <td>864691132931221450</td>\n",
       "      <td>120060554860853553</td>\n",
       "      <td>0</td>\n",
       "      <td>420</td>\n",
       "      <td>[402320, 146520, 23899]</td>\n",
       "      <td>[402354, 146594, 23900]</td>\n",
       "      <td>[402350, 146558, 23899]</td>\n",
       "    </tr>\n",
       "    <tr>\n",
       "      <th>1</th>\n",
       "      <td>512239447</td>\n",
       "      <td>t</td>\n",
       "      <td>107692559937453733</td>\n",
       "      <td>864691134764563389</td>\n",
       "      <td>107692560004163297</td>\n",
       "      <td>0</td>\n",
       "      <td>1300</td>\n",
       "      <td>[312342, 272446, 16895]</td>\n",
       "      <td>[312272, 272510, 16899]</td>\n",
       "      <td>[312298, 272460, 16898]</td>\n",
       "    </tr>\n",
       "    <tr>\n",
       "      <th>4</th>\n",
       "      <td>416272231</td>\n",
       "      <td>t</td>\n",
       "      <td>110295859874434808</td>\n",
       "      <td>864691135385181117</td>\n",
       "      <td>110295859874440074</td>\n",
       "      <td>0</td>\n",
       "      <td>1884</td>\n",
       "      <td>[330842, 269600, 16654]</td>\n",
       "      <td>[330878, 269532, 16662]</td>\n",
       "      <td>[330854, 269538, 16663]</td>\n",
       "    </tr>\n",
       "  </tbody>\n",
       "</table>\n",
       "</div>"
      ],
      "text/plain": [
       "          id valid  pre_pt_supervoxel_id      pre_pt_root_id  \\\n",
       "0  507533913     t    120060554860852929  864691132931221450   \n",
       "1  512239447     t    107692559937453733  864691134764563389   \n",
       "4  416272231     t    110295859874434808  864691135385181117   \n",
       "\n",
       "   post_pt_supervoxel_id  post_pt_root_id  size          pre_pt_position  \\\n",
       "0     120060554860853553                0   420  [402320, 146520, 23899]   \n",
       "1     107692560004163297                0  1300  [312342, 272446, 16895]   \n",
       "4     110295859874440074                0  1884  [330842, 269600, 16654]   \n",
       "\n",
       "          post_pt_position          ctr_pt_position  \n",
       "0  [402354, 146594, 23900]  [402350, 146558, 23899]  \n",
       "1  [312272, 272510, 16899]  [312298, 272460, 16898]  \n",
       "4  [330878, 269532, 16662]  [330854, 269538, 16663]  "
      ]
     },
     "execution_count": 7,
     "metadata": {},
     "output_type": "execute_result"
    }
   ],
   "source": [
    "# example synapse query\n",
    "syn_timestamp = client.materialize.synapse_query(post_ids=nuc_timestamp.pt_root_id, timestamp=example_timestamp)\n",
    "syn_timestamp.head(3)"
   ]
  },
  {
   "cell_type": "markdown",
   "id": "0127c5ec-a426-4ad2-beee-db881453c683",
   "metadata": {},
   "source": [
    "### Timestamps for all public release versions\n",
    "Long-term releases are made available for analysis, but are not permanent. You can lookup the timestamp associated with any version here.\n",
    "\n",
    "| Version | Timestamp |\n",
    "| :-- | :------ |\n",
    "| 117 | datetime(2021, 6, 11, 8, 10, 0, 215114, tzinfo=datetime.timezone.utc) |\n",
    "| 343 | datetime(2022, 2, 24, 8, 10, 0, 184668, tzinfo=datetime.timezone.utc) |\n",
    "| 661 | datetime(2023, 4, 6, 20, 17, 9, 199182, tzinfo=datetime.timezone.utc) |\n",
    "| 795 | datetime(2023, 8, 23, 8, 10, 1, 404268, tzinfo=datetime.timezone.utc) |\n",
    "| 943 | datetime(2024, 1, 22, 8, 10, 1, 497934, tzinfo=datetime.timezone.utc) |\n",
    "| 1078 | datetime(2024, 6, 5, 10, 10, 1, 203215, tzinfo=datetime.timezone.utc) |\n",
    "| 1181 | datetime(2024, 9, 16, 10, 10, 1, 121167, tzinfo=datetime.timezone.utc) |\n",
    "| 1300 | datetime(2025, 1, 13, 10, 10, 1, 286229, tzinfo=datetime.timezone.utc) |\n",
    "| 1412 | datetime(2025, 4, 29, 10, 10, 1, 200893, tzinfo=datetime.timezone.utc) |\n",
    "\n",
    ": CAVEclient materialization version timestamps (as datetime.datetime objects)\n",
    "\n",
    "\n",
    "**Some fully deprecated tables can no longer be accesses from CAVEclient. See  [Access archived data versions](materialization-version.html#access-archived-data-versions) for details.**"
   ]
  },
  {
   "cell_type": "markdown",
   "id": "e6d4d122-8bb3-456d-9d0a-d82b945c594a",
   "metadata": {},
   "source": [
    "## How to cross-reference across time\n",
    "\n",
    "### Lineage Graphs\n",
    "\n",
    "[CAVEclient](python-tools.html) combines materialized snapshots with ChunkedGraph-based tracking of neuron edit histories to facilitate analysis queries for arbitrary time points. The ChunkedGraph tracks the edit lineage of neurons as they are being proofread, allowing us to map any segment used in a query to the closest available snapshot time point. This produces an overinclusive set of segments with which we query the snapshot database. \n",
    "\n",
    "\n",
    "![a, Edits change the assignment of synapses to segment IDs. Each of the four synapses is assigned to the segment IDs (colors) according to the presynaptic and postsynaptic points (point, bar). The identity of the segments changes through proofreading (time passed: ΔT) indicated by different colors. The lineage graph shows the current segment ID (color) for each point in time.](img/nature/nature_cave_fig_5 a.png){width=400}\n",
    "\n",
    "<p><center> Figure from [@dorkenwald_cave_2025] </center></p>\n",
    "\n",
    "When we query the ‘live’ database for all changes to annotations since the used materialization snapshot and add them to the set of annotations. The resulting set of annotations is then mapped back to the query timestamp using the lineage graph and supervoxel to root lookups and finally reduced to only include the queried set of root IDs.\n",
    "\n",
    "![b, Analysis queries are not necessarily aligned to exported snapshots. Queries for other time points are supported by on-the-fly delta updates from both the annotations and segmentation through the use of the lineage graph.](img/nature/nature_cave_fig_5 b.png)\n",
    "\n",
    "<p><center> Figure from [@dorkenwald_cave_2025] </center></p>\n",
    "\n",
    "<h4>Example querying the ChunkedGraph history for a root id</h4>\n",
    "\n",
    "::: {.callout-important}\n",
    "#### Initial Setup\n",
    "Before using any programmatic access to the data, [you first need to set up your CAVEclient token](em_py_01_caveclient_setup.html).\n",
    ":::"
   ]
  },
  {
   "cell_type": "code",
   "execution_count": 8,
   "id": "799b0b55-5d6e-4b11-88e0-23fa5a0c6e21",
   "metadata": {},
   "outputs": [
    {
     "data": {
      "text/plain": [
       "datetime.datetime(2025, 4, 29, 10, 10, 1, 200893, tzinfo=datetime.timezone.utc)"
      ]
     },
     "execution_count": 8,
     "metadata": {},
     "output_type": "execute_result"
    }
   ],
   "source": [
    "from caveclient import CAVEclient\n",
    "from datetime import datetime\n",
    "\n",
    "# initialize cave client\n",
    "client = CAVEclient('minnie65_public')\n",
    "\n",
    "# return the current timestamp\n",
    "client.materialize.get_timestamp()"
   ]
  },
  {
   "cell_type": "markdown",
   "id": "dd39287f-81b9-41f9-83ba-0a88429c00c0",
   "metadata": {},
   "source": [
    "Most commonly, what you will want is to look-up the current root id for a `pt_root_id` in a previous analysis. This is not always a trivial thing to do, for example in the case of a multi-soma object that has been manually split. Which of the two new cells was your original cell of interest?\n",
    "\n",
    "The ChunkedGraph will make its best guess, given supervoxel overlap, with the function `suggest_latest_roots()`"
   ]
  },
  {
   "cell_type": "code",
   "execution_count": 9,
   "id": "dcc4a640-8f1e-4224-9395-e9cfb9be4e24",
   "metadata": {},
   "outputs": [
    {
     "data": {
      "text/plain": [
       "np.int64(864691135970572133)"
      ]
     },
     "execution_count": 9,
     "metadata": {},
     "output_type": "execute_result"
    }
   ],
   "source": [
    "example_id = 864691135919440816\n",
    "\n",
    "# Access the ChunkedGraph service of caveclient\n",
    "client.chunkedgraph.suggest_latest_roots(example_id, timestamp = client.materialize.get_timestamp())"
   ]
  },
  {
   "cell_type": "markdown",
   "id": "f929b01b-1412-4391-a92b-6e54f434290a",
   "metadata": {},
   "source": [
    "Now we have updated `pt_root_id` for our cell, at the current materialized version.\n",
    "\n",
    "If you want to run this for a large number of root ids, you can first check if the `pt_root_id`s are current to your CAVEclient materialization version using `is_latest_roots()`, and then only update the ids that have expired:"
   ]
  },
  {
   "cell_type": "code",
   "execution_count": 10,
   "id": "bc13e8cd-7d60-4920-87f1-11f908bf86de",
   "metadata": {},
   "outputs": [
    {
     "name": "stdout",
     "output_type": "stream",
     "text": [
      "[False]\n"
     ]
    },
    {
     "data": {
      "text/plain": [
       "array([datetime.datetime(2023, 2, 1, 8, 47, 29, 891000, tzinfo=<UTC>)],\n",
       "      dtype=object)"
      ]
     },
     "execution_count": 10,
     "metadata": {},
     "output_type": "execute_result"
    }
   ],
   "source": [
    "# Check if roots are current\n",
    "print(client.chunkedgraph.is_latest_roots(example_id))\n",
    "\n",
    "# See when the id was generated (when the segment was last edited)\n",
    "client.chunkedgraph.get_root_timestamps(example_id)"
   ]
  },
  {
   "cell_type": "markdown",
   "id": "150fba3a-6313-4bda-8a49-b1f9e3a78354",
   "metadata": {},
   "source": [
    "Using the `timestamp` argument, you can also lookup the suggested root at any arbitrary time. Here we use the timestamp for a different materialization, verion 943:"
   ]
  },
  {
   "cell_type": "code",
   "execution_count": 11,
   "id": "9211ec58-7ea0-471f-8106-a5f2d87035fe",
   "metadata": {},
   "outputs": [
    {
     "data": {
      "text/plain": [
       "np.int64(864691135808631069)"
      ]
     },
     "execution_count": 11,
     "metadata": {},
     "output_type": "execute_result"
    }
   ],
   "source": [
    "client.chunkedgraph.suggest_latest_roots(example_id, \n",
    "                                         timestamp=client.materialize.get_version_metadata(943)['time_stamp']\n",
    "                                        )"
   ]
  },
  {
   "cell_type": "markdown",
   "id": "92122881-5278-426c-a9c8-c0bdc5740660",
   "metadata": {},
   "source": [
    " Sometimes you may want to check the lineage graph for a cell of interest, to better understand what was edited and why. You can access this and more advanced features from the `get_lineage_graph()`. See the [ChunkedGraph documentation](https://caveconnectome.github.io/CAVEclient/tutorials/chunkedgraph/) for more use cases.\n",
    "\n",
    " ```python\n",
    "client.chunkedgraph.get_lineage_graph(example_id)\n",
    "```"
   ]
  },
  {
   "cell_type": "markdown",
   "id": "9082ce8e-492d-401b-9848-a0134e653fa1",
   "metadata": {},
   "source": [
    "### Static annotations\n",
    "\n",
    "The [CAVEclient](python-tools.html) Materialization Engine updates segmentation data and creates databases that combine spatial annotation points and segmentation information. \n",
    "\n",
    "The live database is written to by the [Annotation service](https://caveconnectome.github.io/CAVEclient/tutorials/annotation/) and is actively managed by the [Materialization service](https://caveconnectome.github.io/CAVEclient/tutorials/materialization/) to keep root IDs up to date for all BoundSpatialPoints in all tables. Snapshotted databases are copies of a time-locked state of the ‘live’ database’s segmentation and annotation information used to facilitate consistent querying.\n",
    "\n",
    "This means if you use a static **annotation** label to index your analysis, for example a `nucleus_id` or a `synapse_id` which do not undergo proofreading, you can look up the current `pt_root_id` at any time by asking CAVEclient to materialize the new segmentation under the static point.\n",
    "\n",
    "Using our example cell from above, let's find its nucleus id. If we try to query the nucleus table with the expired id, we will return no result:"
   ]
  },
  {
   "cell_type": "code",
   "execution_count": 12,
   "id": "fb9e1dbf-908f-4344-88ab-abce04df077c",
   "metadata": {},
   "outputs": [
    {
     "data": {
      "text/html": [
       "<div>\n",
       "<style scoped>\n",
       "    .dataframe tbody tr th:only-of-type {\n",
       "        vertical-align: middle;\n",
       "    }\n",
       "\n",
       "    .dataframe tbody tr th {\n",
       "        vertical-align: top;\n",
       "    }\n",
       "\n",
       "    .dataframe thead th {\n",
       "        text-align: right;\n",
       "    }\n",
       "</style>\n",
       "<table border=\"1\" class=\"dataframe\">\n",
       "  <thead>\n",
       "    <tr style=\"text-align: right;\">\n",
       "      <th></th>\n",
       "      <th>id</th>\n",
       "      <th>created</th>\n",
       "      <th>superceded_id</th>\n",
       "      <th>valid</th>\n",
       "      <th>volume</th>\n",
       "      <th>pt_supervoxel_id</th>\n",
       "      <th>pt_root_id</th>\n",
       "      <th>pt_position</th>\n",
       "      <th>bb_start_position</th>\n",
       "      <th>bb_end_position</th>\n",
       "    </tr>\n",
       "  </thead>\n",
       "  <tbody>\n",
       "  </tbody>\n",
       "</table>\n",
       "</div>"
      ],
      "text/plain": [
       "Empty DataFrame\n",
       "Columns: [id, created, superceded_id, valid, volume, pt_supervoxel_id, pt_root_id, pt_position, bb_start_position, bb_end_position]\n",
       "Index: []"
      ]
     },
     "execution_count": 12,
     "metadata": {},
     "output_type": "execute_result"
    }
   ],
   "source": [
    "example_id = 864691135919440816\n",
    "\n",
    "client.materialize.tables.nucleus_detection_v0(pt_root_id=example_id).query()"
   ]
  },
  {
   "cell_type": "markdown",
   "id": "06df7782-6af6-498f-b962-1397a58e0a2e",
   "metadata": {},
   "source": [
    "<p></p>\n",
    "\n",
    "This is expected, since the example id is *expired* at the time of this materialization. Instead, let's query the version we know this id existed at: version 661"
   ]
  },
  {
   "cell_type": "code",
   "execution_count": 13,
   "id": "352e5ca1-7808-4a3b-b114-a9e55417a701",
   "metadata": {},
   "outputs": [
    {
     "data": {
      "text/html": [
       "<div>\n",
       "<style scoped>\n",
       "    .dataframe tbody tr th:only-of-type {\n",
       "        vertical-align: middle;\n",
       "    }\n",
       "\n",
       "    .dataframe tbody tr th {\n",
       "        vertical-align: top;\n",
       "    }\n",
       "\n",
       "    .dataframe thead th {\n",
       "        text-align: right;\n",
       "    }\n",
       "</style>\n",
       "<table border=\"1\" class=\"dataframe\">\n",
       "  <thead>\n",
       "    <tr style=\"text-align: right;\">\n",
       "      <th></th>\n",
       "      <th>id</th>\n",
       "      <th>created</th>\n",
       "      <th>superceded_id</th>\n",
       "      <th>valid</th>\n",
       "      <th>volume</th>\n",
       "      <th>pt_supervoxel_id</th>\n",
       "      <th>pt_root_id</th>\n",
       "      <th>pt_position</th>\n",
       "      <th>bb_start_position</th>\n",
       "      <th>bb_end_position</th>\n",
       "    </tr>\n",
       "  </thead>\n",
       "  <tbody>\n",
       "    <tr>\n",
       "      <th>0</th>\n",
       "      <td>260620</td>\n",
       "      <td>2020-09-28 22:44:52.109195+00:00</td>\n",
       "      <td>NaN</td>\n",
       "      <td>t</td>\n",
       "      <td>292.154409</td>\n",
       "      <td>88605588438852384</td>\n",
       "      <td>864691135919440816</td>\n",
       "      <td>[173584, 145120, 21127]</td>\n",
       "      <td>[nan, nan, nan]</td>\n",
       "      <td>[nan, nan, nan]</td>\n",
       "    </tr>\n",
       "  </tbody>\n",
       "</table>\n",
       "</div>"
      ],
      "text/plain": [
       "       id                          created  superceded_id valid      volume  \\\n",
       "0  260620 2020-09-28 22:44:52.109195+00:00            NaN     t  292.154409   \n",
       "\n",
       "    pt_supervoxel_id          pt_root_id              pt_position  \\\n",
       "0  88605588438852384  864691135919440816  [173584, 145120, 21127]   \n",
       "\n",
       "  bb_start_position  bb_end_position  \n",
       "0   [nan, nan, nan]  [nan, nan, nan]  "
      ]
     },
     "execution_count": 13,
     "metadata": {},
     "output_type": "execute_result"
    }
   ],
   "source": [
    "client.materialize.tables.nucleus_detection_v0(pt_root_id=example_id).query(materialization_version=661)"
   ]
  },
  {
   "cell_type": "markdown",
   "id": "4aa5ce9a-b743-420b-a122-a8d7c92514bd",
   "metadata": {},
   "source": [
    "This returns both the expected `pt_root_id` 864691135919440816, and the `id` from  the `nucleus_detection_v0` -- better known as the `nucleus_id`.\n",
    "\n",
    "Given the `nucleus_id`, we can now query the current materialized version for the current root id."
   ]
  },
  {
   "cell_type": "code",
   "execution_count": 14,
   "id": "22dbe5e7-ff72-44d2-b8ca-d8f1b81de0d7",
   "metadata": {},
   "outputs": [
    {
     "data": {
      "text/html": [
       "<div>\n",
       "<style scoped>\n",
       "    .dataframe tbody tr th:only-of-type {\n",
       "        vertical-align: middle;\n",
       "    }\n",
       "\n",
       "    .dataframe tbody tr th {\n",
       "        vertical-align: top;\n",
       "    }\n",
       "\n",
       "    .dataframe thead th {\n",
       "        text-align: right;\n",
       "    }\n",
       "</style>\n",
       "<table border=\"1\" class=\"dataframe\">\n",
       "  <thead>\n",
       "    <tr style=\"text-align: right;\">\n",
       "      <th></th>\n",
       "      <th>id</th>\n",
       "      <th>created</th>\n",
       "      <th>superceded_id</th>\n",
       "      <th>valid</th>\n",
       "      <th>volume</th>\n",
       "      <th>pt_supervoxel_id</th>\n",
       "      <th>pt_root_id</th>\n",
       "      <th>pt_position</th>\n",
       "      <th>bb_start_position</th>\n",
       "      <th>bb_end_position</th>\n",
       "    </tr>\n",
       "  </thead>\n",
       "  <tbody>\n",
       "    <tr>\n",
       "      <th>0</th>\n",
       "      <td>260620</td>\n",
       "      <td>2020-09-28 22:44:52.109195+00:00</td>\n",
       "      <td>NaN</td>\n",
       "      <td>t</td>\n",
       "      <td>292.154409</td>\n",
       "      <td>88605588438852384</td>\n",
       "      <td>864691135970572133</td>\n",
       "      <td>[173584, 145120, 21127]</td>\n",
       "      <td>[nan, nan, nan]</td>\n",
       "      <td>[nan, nan, nan]</td>\n",
       "    </tr>\n",
       "  </tbody>\n",
       "</table>\n",
       "</div>"
      ],
      "text/plain": [
       "       id                          created  superceded_id valid      volume  \\\n",
       "0  260620 2020-09-28 22:44:52.109195+00:00            NaN     t  292.154409   \n",
       "\n",
       "    pt_supervoxel_id          pt_root_id              pt_position  \\\n",
       "0  88605588438852384  864691135970572133  [173584, 145120, 21127]   \n",
       "\n",
       "  bb_start_position  bb_end_position  \n",
       "0   [nan, nan, nan]  [nan, nan, nan]  "
      ]
     },
     "execution_count": 14,
     "metadata": {},
     "output_type": "execute_result"
    }
   ],
   "source": [
    "nuc_id = client.materialize.tables.nucleus_detection_v0(pt_root_id=example_id).query(materialization_version=661)['id']\n",
    "\n",
    "client.materialize.tables.nucleus_detection_v0(id=nuc_id).query()"
   ]
  },
  {
   "cell_type": "markdown",
   "id": "dfca3c12-829e-40b1-b0bf-84c8ce4ee0a7",
   "metadata": {},
   "source": [
    "This returns the same `pt_root_id` as the lineage graph example above. But, it has the benefit of guaranteeing the id belongs to your cell of interest and not an arbitrary chunk of the previous segmented object.\n",
    "\n",
    "<h4>If you are working with a neuron, glial cell, or any cell that has a nucleus detection, we recommend using the `nucleus_id` as your identifier rather than the `pt_root_id`.</h4>\n",
    "\n",
    "<h4>If you do use `pt_root_id`, be sure to note the dataset materialization version in your analysis.</h4>"
   ]
  },
  {
   "cell_type": "markdown",
   "id": "15c9ff56-3152-456f-af3f-7ff4de7deff3",
   "metadata": {},
   "source": [
    "## Access archived data versions\n",
    "\n",
    "As the MICrONS dataset matures, we are beginning to deactivate older materialization versions. \n",
    "\n",
    "**All publically released annotation data from these versions remains available**, but only as static downloads. \n",
    "\n",
    "At this time we have allowed versions [v343](release_manifests/version-343.html), [v661](release_manifests/version-661.html), and [v795](release_manifests/version-795.html) to expire. We will continue to archive and remove materializations at approximately **2 years** after their release. \n",
    "\n",
    "You can download all tables except the `synapses_pni_2` with the following:\n",
    "\n",
    "```python\n",
    "!pip install cloudfiles\n",
    "\n",
    "from cloudfiles import CloudFiles\n",
    "from io import BytesIO\n",
    "from os.path import join as pjoin\n",
    "import pandas as pd\n",
    "\n",
    "base_path = \"gs://mat_dbs/public/minnie65_phase3_v1/\"\n",
    "\n",
    "# given: table_name and materialization_version\n",
    "table_name = 'nucleus_detection_v0'\n",
    "materialization_version = 661\n",
    "\n",
    "cf = CloudFiles(pjoin(base_path, f\"v{materialization_version}\"), use_https=True)\n",
    "df_data = cf.get(f\"{table_name}_merged.csv.gz\")\n",
    "header_data = cf.get(f\"{table_name}_merged_header.csv\")\n",
    "\n",
    "with BytesIO(header_data) as f:\n",
    "    header = pd.read_csv(f, header=None, names=[\"column\", \"type\"])\n",
    "columns = header[\"column\"].tolist()\n",
    "\n",
    "with BytesIO(df_data) as f:\n",
    "    df = pd.read_csv(f, compression=\"gzip\", header=None)\n",
    "    df.columns = columns\n",
    "\n",
    "```\n",
    "\n",
    "To access the synapses table, we recommend directly downloading the following two files rather than streaming with `BytesIO`:\n",
    "\n",
    "| Cloudpath | | Type (size) |\n",
    "| :----| :-- |\n",
    "| Compressed .csv (20 GB) | `https://storage.cloud.google.com/mat_dbs/public/minnie65_phase3_v1/{materialization_version} /synapses_pni_2_v1_filtered_view.csv.gz` |\n",
    "| .csv (0.5 KB) | `https://storage.cloud.google.com/mat_dbs/public/minnie65_phase3_v1/{materialization_version} /synapses_pni_2_v1_filtered_view_header.csv` |\n",
    "\n",
    ": archived synapse tables\n"
   ]
  }
 ],
 "metadata": {
  "kernelspec": {
   "display_name": "microns2025",
   "language": "python",
   "name": "microns2025"
  },
  "language_info": {
   "codemirror_mode": {
    "name": "ipython",
    "version": 3
   },
   "file_extension": ".py",
   "mimetype": "text/x-python",
   "name": "python",
   "nbconvert_exporter": "python",
   "pygments_lexer": "ipython3",
   "version": "3.11.11"
  }
 },
 "nbformat": 4,
 "nbformat_minor": 5
}
