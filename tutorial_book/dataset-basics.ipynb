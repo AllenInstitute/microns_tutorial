{
 "cells": [
  {
   "cell_type": "markdown",
   "id": "e0b5f3f3-80f4-4640-a3e8-8eeb9ef77dcf",
   "metadata": {},
   "source": [
    "---\n",
    "title: \"Dataset Basics\"\n",
    "aliases:\n",
    "    - em_02_dataset_basics.html\n",
    "format: \n",
    "    html:\n",
    "        toc: true\n",
    "bibliography: references.bib\n",
    "---"
   ]
  },
  {
   "cell_type": "markdown",
   "id": "cf6904b4-276d-4a99-9877-f2cd11dacdcf",
   "metadata": {},
   "source": [
    "One of the more complicated things about using connectomics data is that it's both highly multimodal — there are images, tables, meshes, and more — and that it has been designed to be dynamic, as the segmentation changes with proofeading and carries changes to synaptic connectivity and more.\n",
    "This section will cover what types of data exist and how to access them.\n",
    "\n",
    "The types of data we will describe here are:\n",
    "\n",
    "* **Imagery**: The 3d array depicting the ultrastructure, with grayscale values.  \n",
    "* **Segmentation**: A 3d array where each voxel has the root id of the segmentation at that location (see next section).  \n",
    "* **Meshes**: A representation of the 3d surface of a neuron.  \n",
    "* **Skeletons** : A representation of the tree-like structure of a neuron.  \n",
    "* **Tables**: Database tables that describe the various types of annotations, such as cell types, synapses, and more.  \n",
    "\n",
    "In addition, there are three primary ways to access the data:\n",
    "\n",
    "* **Neuroglancer** : Neuroglancer is a web-based viewer to explore the 3d data, and offers access to imagery, segmentations, meshes, and annotations.  \n",
    "  Its graphical interface, ability to quickly explore data, and share links make it convenient for fast exploration.\n",
    "* **Dash web apps**: Web apps that allow fast querying of tables and synaptic connectivity that can also be used to generate complex Neuroglancer links.  \n",
    "  Not as flexible as python programmatic access, but it can be used to quickly explore certain features of the data and visualize in Neuroglancer.\n",
    "* **Python** : A collection of tools based around the CAVEclient offer a programmatic interface to the data.  \n",
    "\n"
   ]
  },
  {
   "cell_type": "markdown",
   "id": "01862019-36f6-4063-a07d-bbaacd9977cc",
   "metadata": {},
   "source": [
    "## Dataset Information Hub\n",
    "\n",
    "If you need to look up any particular values or links for the dataset — how to open a Neuroglancer link for it, what annotation tables exist, how to find Dash Apps —\n",
    "the **public MICrONs datastack** has a [useful information page](https://global.daf-apis.com/info/datastack/minnie65_public). Go there if you need to look up basic details about the dataset.\n",
    "\n",
    "Particularly useful links here are the [Neuroglancer link](https://neuroglancer.neuvue.io/#!%7B%22jsonStateServer%22:%22https://global.daf-apis.com/nglstate/api/v1/post%22,%22navigation%22:%7B%22pose%22:%7B%22position%22:%7B%22voxelSize%22:%5B4.0,4.0,40.0%5D%7D%7D,%22zoomFactor%22:2.0%7D,%22showSlices%22:false,%22layout%22:%22xy-3d%22,%22perspectiveZoom%22:2000.0,%22layers%22:%5B%7B%22type%22:%22image%22,%22source%22:%22precomputed://https://bossdb-open-data.s3.amazonaws.com/iarpa_microns/minnie/minnie65/em%22,%22name%22:%22img%22,%22shader%22:%22#uicontrol%20float%20black%20slider(min=0,%20max=1,%20default=0.0)%5Cn#uicontrol%20float%20white%20slider(min=0,%20max=1,%20default=1.0)%5Cnfloat%20rescale(float%20value)%20%7B%5Cn%20%20return%20(value%20-%20black)%20/%20(white%20-%20black);%5Cn%7D%5Cnvoid%20main()%20%7B%5Cn%20%20float%20val%20=%20toNormalized(getDataValue());%5Cn%20%20if%20(val%20%3C%20black)%20%7B%5Cn%20%20%20%20emitRGB(vec3(0,0,0));%5Cn%20%20%7D%20else%20if%20(val%20%3E%20white)%20%7B%5Cn%20%20%20%20emitRGB(vec3(1.0,%201.0,%201.0));%5Cn%20%20%7D%20else%20%7B%5Cn%20%20%20%20emitGrayscale(rescale(val));%5Cn%20%20%7D%5Cn%7D%5Cn%22%7D,%7B%22type%22:%22segmentation_with_graph%22,%22source%22:%22graphene://https://minnie.microns-daf.com/segmentation/table/minnie65_public%22,%22name%22:%22seg%22,%22selectedAlpha%22:0.3,%22objectAlpha%22:1.0,%22notSelectedAlpha%22:0.0%7D,%7B%22type%22:%22annotation%22,%22filterBySegmentation%22:false,%22bracketShortcutsShowSegmentation%22:true,%22annotationSelectionShowsSegmentation%22:true,%22name%22:%22ann%22%7D%5D,%22selectedLayer%22:%7B%22layer%22:%22ann%22,%22visible%22:true%7D%7D), the [Dash Apps](https://minnie.microns-daf.com/dash/datastack/minnie65_public), and the [list of all annotation tables](https://minnie.microns-daf.com/materialize/views/datastack/minnie65_public) associated with the most recent release version (v795)."
   ]
  },
  {
   "cell_type": "markdown",
   "id": "1dfd3c0c-6fda-473e-ac58-f15ee57257c3",
   "metadata": {},
   "source": [
    "## How to reference a neuron\n",
    "\n",
    "The dynamic nature of the data means that there is more than one way to reference a neuron, and each way has a slightly different meaning.\n",
    "\n",
    "The most frequent way to reference a specific neuron is its **root id**, a unique integer that identifies a specific segmentation, and can be used in numerous places.\n",
    "However, as proofreading occurs, the segmentation of a cell can change, and each edit creates a new \"version\" of a given neuron that is given its own unique root id.\n",
    "Root ids thus refer to not only a specific cell, but a specific version of that cell.\n",
    "\n",
    "When downloading meshes, querying the database, or browsing in Neuroglancer, we use the **root id** of a cell.\n",
    "\n",
    "However, when using data from different points in time, however, root ids can change and the data might not be consistent across two time points.\n",
    "One way to make this easier is to only use data from one moment in time.\n",
    "\n",
    "This is the case for the public database that will be used in the course — all data from the public database is synched up to a single moment in time, but it does mean that the analysis cannot respond to any changes in segmentation.\n",
    "In some cases, in some cases, you might see the root id called a \"segment id\" or an \"object id,\" but they all refer to the same thing.\n",
    "\n",
    "For segmentations with a cell body in the volume, we also have a **cell id** (or **soma id**), which is a unique integer that identifies each nucleus in the dataset.\n",
    "The advantage of the soma id is that it remains constant across all versions of a cell, so it can be used to track a cell across time.\n",
    "The disadvantage is that to look up the id at any given time or to load into Neuroglancer, you need to look up the root id.\n",
    "\n",
    "Cell ids can be found in the `nucleus_detection_v0` table in the database, as well as many of the tables that reference cell types.\n"
   ]
  }
 ],
 "metadata": {
  "kernelspec": {
   "display_name": "microns",
   "language": "python",
   "name": "microns"
  },
  "language_info": {
   "codemirror_mode": {
    "name": "ipython",
    "version": 3
   },
   "file_extension": ".py",
   "mimetype": "text/x-python",
   "name": "python",
   "nbconvert_exporter": "python",
   "pygments_lexer": "ipython3",
   "version": "3.8.17"
  }
 },
 "nbformat": 4,
 "nbformat_minor": 5
}
