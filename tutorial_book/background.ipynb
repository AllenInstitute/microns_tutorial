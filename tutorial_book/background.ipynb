{
 "cells": [
  {
   "cell_type": "markdown",
   "id": "45422b98-bdc7-434a-bae9-7082e7270f27",
   "metadata": {},
   "source": [
    "---\n",
    "title: \"Background\"\n",
    "aliases:\n",
    "    - em_01_background.html\n",
    "format: \n",
    "    html:\n",
    "        toc: true\n",
    "bibliography: references.bib\n",
    "---"
   ]
  },
  {
   "cell_type": "markdown",
   "id": "09af90f1-6f83-4ce1-adb5-d42e357525f3",
   "metadata": {},
   "source": [
    "## A functional connectomics dataset spanning multiple visual areas\n",
    "\n",
    "![A 3D rendering of cells in the MICrONs dataset.](img/minnie-3d-cells.png)\n",
    "\n",
    "This IARPA MICrONS dataset spans a 1.4mm x .87mm x .84 mm volume of cortex in a P87 mouse. It is 400x larger than the previously released Phase 1 dataset, which can be found [here](https://www.microns-explorer.org/phase1). The dataset was imaged using two-photon microscopy, microCT, and serial electron microscopy, and then reconstructed using a combination of AI and human proofreading.\n",
    "\n",
    "Functional imaging data of an estimated 75,000 pyramidal neurons in the volume contains the single cell responses to a variety of visual stimuli. That same tissue was imaged with high resolution electron microscopy and processed through a machine learning driven reconstruction pipeline to generate a large scale anatomical connectome. The anatomical data contains more than an estimated 200,000 cells, and 120,000 neurons ([details](https://www.microns-explorer.org/manifests/mm3-v117#cell-numbers)). Automated synapse detection measured more than 523 million synapses.\n",
    "\n",
    "This makes this dataset remarkable in a few key ways\n",
    "\n",
    "- It was the largest multi-modal connectomics dataset released and the largest connectomics dataset by minimum dimension, number of cells, and number of connections detected (as of releas in July 2021)\n",
    "- It is the first EM reconstruction of a mammalian circuit across multiple functional brain areas.\n",
    "\n",
    "On this set of websites, you can find visualization tools, as well as instructions tutorials for how to query and download portions of the dataset programmatically. To “git started” analyzing data, checkout the [MICrONS Programmatic Tutorials for](quickstart_notebooks/01-caveclient-setup.html) anatomical data and the [MICrONS Neural Data Access (NDA)](https://github.com/cajal/microns-nda-access/tree/v8) repository for functional data.\n",
    "\n",
    "The pre-print with details about the dataset is:\n",
    "\n",
    "> MICrONs Consortium et al. Functional connectomics spanning multiple areas of mouse visual cortex. bioRxiv 2021.07.28.454025; doi: [https://doi.org/10.1101/2021.07.28.454025](https://doi.org/10.1101/2021.07.28.454025)\n"
   ]
  },
  {
   "cell_type": "markdown",
   "id": "92b2dc1f-4420-48bc-85b2-5c5c440df31a",
   "metadata": {},
   "source": [
    "## Electron Microscopy methods\n",
    "\n",
    "The general approach to EM involves staining tissue with heavy metals and using\n",
    "electrons to imaging thin sections of tissue. Sections can either be created by\n",
    "cutting tissue into slices (\"serial section\") followed by imaging, or by imaging\n",
    "the face of a block and shaving off a thin layer of tissue after each run\n",
    "(\"block face\"). In both approaches, each section corresponds to only 30–50\n",
    "nanometers of thickness (although it can be a millimeter wide), and thus\n",
    "assembling a substantial volumes involves thousands or tens of thousands of\n",
    "sections in a row. Finally, computational methods are used to align and assemble\n",
    "the sections into a single volume and then to segment the volume into individual\n",
    "cells and synapses.\n",
    "\n",
    "While the resolution afforded by EM has been used to study the nervous system\n",
    "since 1959, the first true “connectomics” project that merged dense mapping of\n",
    "neurons and synaptic connectivity was the study of the nematode *C. elegans* led\n",
    "by Sydney Brenner, John White, and others. Advances in EM methods and\n",
    "computational methods in the last ten years have allowed tremendous scaling of\n",
    "connectomics datasets. The largest current mammalian datasets, including the\n",
    "MICrONs volume will consider here, now span more than a cubic millimeter, and\n",
    "invertebrate datasets now can cover the entire brain of a fruit fly."
   ]
  },
  {
   "cell_type": "markdown",
   "id": "83069851-3115-4951-8cfe-9d070ae8f593",
   "metadata": {},
   "source": [
    "## Data Use Cases\n",
    "\n",
    "### Cell Types\n",
    "::::{.grid}\n",
    "\n",
    ":::{.g-col-6}\n",
    "![Cell types: pyramidal cell, astrocyte, neurogliaform cell, bipolar cell](img/cell_types_icon.jpg)\n",
    ":::\n",
    "\n",
    ":::{.g-col-6}\n",
    "You can use this dataset to explore the morphology and connectivity of a very diverse variety of excitatory, inhibitory, and non-neuronal cell types throughout the volume.\n",
    "\n",
    "Click these links for example cells: [bipolar cells](https://ngl.microns-explorer.org/#!gs://microns-static-links/mm3/bipolar_cells.json), [basket cells](https://ngl.microns-explorer.org/#!gs://microns-static-links/mm3/basket_cells.json), a [chandelier cell](https://ngl.microns-explorer.org/#!gs://microns-static-links/mm3/chandelier_cells.json), [martinotti cells](https://ngl.microns-explorer.org/#!gs://microns-static-links/mm3/martinotti_cells.json), a [layer 5 thick tufted](https://ngl.microns-explorer.org/#!gs://microns-static-links/mm3/layer5_thick_tufted.json), a [layer 5 NP cell](https://ngl.microns-explorer.org/#!gs://microns-static-links/mm3/layer5_np.json), [layer 4 cells](https://ngl.microns-explorer.org/#!gs://microns-static-links/mm3/layer4_cells.json), [layer 2/3 cells](https://ngl.microns-explorer.org/#!gs://microns-static-links/mm3/layer23_cells.json), [blood vessels](https://ngl.microns-explorer.org/#!gs://microns-static-links/mm3/blood_vessels.json), [astrocytes](https://ngl.microns-explorer.org/#!gs://microns-static-links/mm3/astrocytes.json), [microglia](https://ngl.microns-explorer.org/#!gs://microns-static-links/mm3/microglia_set.json). For programmatic access of more systematic cell type information released thus far, explore [MICrONS Tutorials](https://alleninstitute.github.io/microns_tutorial/programmatic_access/em_py_02_cave_quickstart.html).\n",
    ":::\n",
    "\n",
    "::::"
   ]
  },
  {
   "cell_type": "markdown",
   "id": "7967ae11-17b9-4376-8cbe-290e7899cd06",
   "metadata": {},
   "source": [
    "## Synaptic Connectivity\n",
    "::::{.grid}\n",
    "\n",
    ":::{.g-col-6}\n",
    "![Synapses, inset](img/synapse_inset.png)\n",
    ":::\n",
    "\n",
    ":::{.g-col-6}\n",
    "Query from hundreds of millions of synapses in the volume from any of the segmented cells. To see an example visualization with one cell’s inputs and outputs annotated click the button below. We are releasing an app that you can use to query this data non-programmatically and generate a synaptic visualization for any cell. To learn how to query the data programmatically yourself, look at this [notebook on MICrONS Tutorials](https://alleninstitute.github.io/microns_tutorial/quickstart_notebooks/em_py_03_download_cell_connectivity.html).\n",
    "\n",
    "[Synaptic Visualization](https://ngl.microns-explorer.org/#!gs://microns-static-links/mm3/synaptic_visualization.json) (neuroglancer)\n",
    "\n",
    "[Launch Connectivity Viewer](https://minnie.microns-daf.com/dash/datastack/minnie65_public/apps/connectivity/?anno-id=%22%22&cell-type-table-dropdown=%22aibs_metamodel_celltypes_v661%22&datastack=%22minnie65_public%22&id-type=%22root_id%22&live-query-toggle=%22%22) (web app)\n",
    ":::\n",
    "\n",
    "::::"
   ]
  },
  {
   "cell_type": "markdown",
   "id": "1d5314f7-96d1-472d-9c8f-c96d105fb271",
   "metadata": {},
   "source": [
    "### Functional Data\n",
    "::::{.grid}\n",
    "\n",
    ":::{.g-col-6}\n",
    "![Deconvolved activity traces](img/functional_traces.jpg)\n",
    ":::\n",
    "\n",
    ":::{.g-col-6}\n",
    "All the functional recordings from 115,372 regions of interest and 75,902 estimated neurons are available, including the response of those units to a variety of visual stimuli. You can [download the database of functional recordings](https://www.microns-explorer.org/cortical-mm3#f-data) to explore how cells responded to visual stimuli. For a subset of the neurons, we have generated a correspondence between their functional recording and their anatomical reconstruction. \n",
    "\n",
    "To learn how to query the functional databases and link them to the anatomical data, you can [view this notebook](https://github.com/cajal/microns_phase3_nda/blob/v8/tutorial_notebooks/Matched_Cell_Functional_Data.ipynb) on MICrONS NDA, or access a hosted database and interactive notebooks by following the instructions [at this repository](https://github.com/datajoint/microns_phase3_nda).\n",
    ":::\n",
    "\n",
    "::::"
   ]
  }
 ],
 "metadata": {
  "kernelspec": {
   "display_name": "microns",
   "language": "python",
   "name": "microns"
  },
  "language_info": {
   "codemirror_mode": {
    "name": "ipython",
    "version": 3
   },
   "file_extension": ".py",
   "mimetype": "text/x-python",
   "name": "python",
   "nbconvert_exporter": "python",
   "pygments_lexer": "ipython3",
   "version": "3.8.17"
  }
 },
 "nbformat": 4,
 "nbformat_minor": 5
}
