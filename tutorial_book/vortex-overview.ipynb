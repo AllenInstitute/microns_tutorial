{
 "cells": [
  {
   "cell_type": "markdown",
   "id": "26c56379-b4e4-414b-a7e6-b74e8b67136a",
   "metadata": {},
   "source": [
    "---\n",
    "title: \"Virtual Observatory of the Cortex (VORTEX)\"\n",
    "draft: true\n",
    "format: \n",
    "    html:\n",
    "        toc: true\n",
    "bibliography: references.bib\n",
    "---"
   ]
  },
  {
   "cell_type": "markdown",
   "id": "b23e79fd-bedf-4889-9898-db1bcda17db6",
   "metadata": {},
   "source": [
    "<h2> A BRAIN initiative funded project to bring the MICrONS dataset to the scientific research community.</h2>"
   ]
  },
  {
   "cell_type": "markdown",
   "id": "a85b3c48-53f7-46b3-81e7-48b25ea9e345",
   "metadata": {},
   "source": [
    "Is there an observation you could make from this dataset that would help you answer a scientific question, but you aren’t sure how to make it? Or maybe you know how to make it, but don’t have the time or resources to repair or annotate enough examples to answer your question.\n",
    "\n",
    "The Virtual Observatory of the Cortex is a grant funded mechanism designed to assist you in precisely this situation. We provide the labor and experience to make corrections and annotations in the data. The results of these efforts will be integrated with an evolving version of the dataset, and shared with you and the larger scientific community.\n",
    "\n",
    "We think of it as a metaphor for a large scale astronomy survey: we are providing the infrastructure and focusing mechanisms, the community is steering the observations to the spots of maximum interest, and everyone can see what comes out!"
   ]
  },
  {
   "cell_type": "markdown",
   "id": "1ca3e53b-16a3-495d-a412-2fed67efde85",
   "metadata": {},
   "source": [
    "## How it works:\n",
    "\n",
    "__1. Submit a Request__\n",
    "\n",
    "Members of the scientific community submits a short request for information they believe might be contained within this dataset, but might require some work to extract. For example:\n",
    "\n",
    " * proofreading axons and dendrites for a specific group of neurons\n",
    " * annotating the locations of dense core vesicles in these particular cells\n",
    " * annotating locations where microglia have engulfed synapses\n",
    "\n",
    "__2. Develop a Plan__\n",
    "\n",
    "A scientist at the Allen Institute will work with you on developing a plan that helps address the scientific question you are interested in, including any manual proofreading and annotation work that needs to be done.\n",
    "\n",
    "Plans will be designed to maximize impact across all requests when possible.\n",
    "\n",
    "__3. Plan Execution__\n",
    "\n",
    "A Scientific Steering Group will evaluate all the plans and prioritize the manual work based upon the resources available to the virtual observatory.\n",
    "\n",
    "Plans will then be carried out by staff of the virtual observatory, with no costs to the requestor.\n",
    "\n",
    "__4. Data Sharing__\n",
    "\n",
    "The data produced from the efforts of the manual proofreaders is then shared with the entire scientific community for everyone to benefit from.\n",
    "\n",
    "Data releases will occur at least quarterly.\n",
    "\n",
    "### Data Sharing Policy\n",
    "\n",
    "Data created by the Vortex project, such a proofreading and annotations, will be integrated into broader publicly available dataset for everyone to use. Proofreading updates the segmentation, which will be released along with any other changes that are part of the centralized dataset, no matter their source. Annotations will be made on the dataset and released as tables via the CAVEclient, and periodically as static file dumps available via google cloud. See the specific dataset pages for details on data access.\n",
    "\n",
    "### Submit the Form\n",
    "\n",
    "Access the submission system at:\n",
    "\n",
    "[microns-explorer.org/requests | Scientific Request Form](https://www.microns-explorer.org/vortex#request-form){.btn .btn-outline-primary .btn role=\"button\" data-toggle=\"tooltip\" title=\"VORTEX Request\"}\n",
    "\n",
    "We are also conducting a community survey. If you are using, have used, or plan to use the MICrONS data, give us some feedback!\n",
    "\n",
    "[MICrONS Community Survey](https://forms.gle/3zaVQizHdrL5zkVh8){.btn .btn-outline-primary .btn role=\"button\" data-toggle=\"tooltip\" title=\"Community Survey\"}"
   ]
  },
  {
   "cell_type": "markdown",
   "id": "af8e0220-71d4-428b-b1c3-f643d4b8692b",
   "metadata": {},
   "source": [
    "## Contributions\n",
    "\n",
    "**VORTEX Community Manager:** Bethanny Danskin\n",
    "\n",
    "**Proofreading Management**: Szi-chieh Yu, Celia David\n",
    "\n",
    "**Proofreading:** Erika Neace, Rachael Swanstrom, Agnes Bodor, Elanur Acmad, Al-Mishrie Sahijuan, Joselito Astrologo, Arvin Caballes, Rey Cabasag, Jovie Cano, Jessi Deocampo, Emely Deresas, Mark Encallado, Mary Krestine Guzarem, Hannie Grace Hordillo, Logic Domme Ibanez, Angeline Libre, Geronimo Mon, Geomar Pagalan, Joren Paulines, Joshua Angel Remullo, Rezi Selgas,\n",
    "\n",
    "**Principal Investigators:** Forrest Collman, Nuno Da Costa, R. Clay Reid, Casey Schneider-Mizell, H. Sebastian Seung\n",
    "\n",
    "**NIH BRAIN Initiative**: U24 NS120053"
   ]
  },
  {
   "cell_type": "markdown",
   "id": "9d2fcb76-c932-4ce4-a56d-a821fb4d48fc",
   "metadata": {},
   "source": [
    "## Scientific Proposals Recieved\n",
    "\n",
    "| Recieved | Topic | Task | Status |\n",
    "| :- | :- | :------ | :--- | :--- |\n",
    "| Y1 | How does the orientation tuning of visual cortical neurons arise from the functional organization of inputs onto their dendritic tree? | Axon extension of functionally recorded cells | Complete (111 cells): [1078](release_manifests/version-1078.html) |\n",
    "| Y1 |  How does neural computation arise from the combination of inputs along the dendritic tree? | Axon extension of functionally recorded cells | Complete (111 cells): [1078](release_manifests/version-1078.html) |\n",
    "| Y1 |  To what extent do interareal cortical connections exhibit precise recurrent interactions, and are these connection probabilities governed by shared retinotopy?  | Axon extension of functionally recorded cells | Complete (111 cells): [1078](release_manifests/version-1078.html) |\n",
    "| Y1 |  What are the detailed connectivity properties of cortical PV basket cells?  | Annotation of parvalbumin interneurons | Complete (20 cells): [1078](release_manifests/version-1078.html) |\n",
    "| Y1 |  How does the connectivity pattern of SST/Chodl cells give rise to their physiological feature: synchronization of cortical states?  | Axon extension of putative Chodl cells | Incomplete: pending putative Chodl cells |\n",
    "| Y1 |  How do astrocytes interact with neurons, at multiple scales of organization and operation?  | Proofread 'cleaning' of astrocytes | Complete (12 cells): [1078](release_manifests/version-1078.html) |\n",
    "| Y1 |  How does the presence of vasculature affect the distribution of electric charge due to an applied electric field (brain stimulation)?  | Analysis support | Complete: [1078](release_manifests/version-1078.html) |\n",
    "| Y1 |  What is the mechanism of electrical neuro-vasculature coupling, at the microscopic level?  | Analysis support | Complete: [1078](release_manifests/version-1078.html) |\n",
    "\n",
    ": VORTEX Requests | Year 1 {.light .hover}"
   ]
  },
  {
   "cell_type": "markdown",
   "id": "ee4c7377-9910-471f-af69-f165a1b7f6c1",
   "metadata": {},
   "source": [
    "## Project Outcomess"
   ]
  },
  {
   "cell_type": "markdown",
   "id": "36b737e6-166c-4d40-893c-e571e9f1d99c",
   "metadata": {},
   "source": [
    "### Year 1: Period 1\n",
    "\n",
    "::::{.grid}\n",
    "\n",
    ":::{.g-col-6}\n",
    "\n",
    "| SSG Rank | Task |\n",
    "| :-- | :---- |\n",
    "| 1.6 | Axon extension of functionally recorded cells |\n",
    "| 2.0 | Proofread 'cleaning' of astrocytes |\n",
    "| 2.6 | Vasculature Analysis support |\n",
    "| 3.4 | Annotation of parvalbumin interneurons |\n",
    "| 4.6| Axon extension of putative Chodl cells |\n",
    "\n",
    ": VORTEX Proofreading Plans | Year 1 Period 1{.light .hover}\n",
    "\n",
    ":::\n",
    "\n",
    ":::{.g-col-6}\n",
    "\n",
    "![Proofreading edits by type](img/edit_annotation_chart_y1_p1.png)\n",
    "\n",
    ":::\n",
    "\n",
    "\n",
    "::::"
   ]
  },
  {
   "cell_type": "markdown",
   "id": "f8f3273d-4176-4c2b-b95b-38127292c543",
   "metadata": {},
   "source": [
    "### Year 1: Period 2\n",
    "\n",
    "::::{.grid}\n",
    "\n",
    ":::{.g-col-6}\n",
    "\n",
    "| SSG Rank | Task |\n",
    "| :-- | :---- |\n",
    "| 1.3 | AX.1 Forward-tracing of pyramidal cell axons |\n",
    "| 2.3 | AX.3 Forward-tracing of inhibitory cell axons |\n",
    "| 2.3 | AX.2 Back-tracing of pyramidal cell axons |\n",
    "\n",
    ": VORTEX Proofreading Plans | Year 1 Period 1{.light .hover}\n",
    "\n",
    ":::\n",
    "\n",
    ":::{.g-col-6}\n",
    "\n",
    "![Proofreading edits by type](img/edit_annotation_chart_y1_p2.png)\n",
    "\n",
    ":::\n",
    "\n",
    "\n",
    "::::"
   ]
  },
  {
   "cell_type": "markdown",
   "id": "6f96ad88-0627-4b23-9e21-162880970755",
   "metadata": {},
   "source": [
    "### Year 2: 2024-2025\n",
    "\n"
   ]
  },
  {
   "cell_type": "code",
   "execution_count": null,
   "id": "77bdfcf0-bdde-43fa-917e-e1b456debe85",
   "metadata": {},
   "outputs": [],
   "source": []
  }
 ],
 "metadata": {
  "kernelspec": {
   "display_name": "microns2025",
   "language": "python",
   "name": "microns2025"
  },
  "language_info": {
   "codemirror_mode": {
    "name": "ipython",
    "version": 3
   },
   "file_extension": ".py",
   "mimetype": "text/x-python",
   "name": "python",
   "nbconvert_exporter": "python",
   "pygments_lexer": "ipython3",
   "version": "3.11.11"
  }
 },
 "nbformat": 4,
 "nbformat_minor": 5
}
