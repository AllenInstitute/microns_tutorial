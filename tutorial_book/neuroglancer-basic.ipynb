{
 "cells": [
  {
   "cell_type": "markdown",
   "id": "9df4a154-f0f3-4f74-a8c9-14fd5a687b50",
   "metadata": {},
   "source": [
    "---\n",
    "title: \"Neuroglancer\"\n",
    "aliases:\n",
    "    - em_04_neuroglancer.html\n",
    "format: \n",
    "    html:\n",
    "        toc: true\n",
    "bibliography: references.bib\n",
    "---"
   ]
  },
  {
   "cell_type": "markdown",
   "id": "c04282ab-1e5d-4c84-8c1b-3a74f6fb0e4a",
   "metadata": {},
   "source": [
    ":::{.callout-note}\n",
    "Neuroglancer works best in Chrome and Firefox, and does not always work as expected in Safari.\n",
    ":::\n",
    "\n",
    "![Neuroglancer can show multiple layers of data, including imagery, segmentation, and more.](img/neuroglancer.png)"
   ]
  },
  {
   "cell_type": "markdown",
   "id": "3ed128c9-e0c2-4f13-b190-b9168f556619",
   "metadata": {},
   "source": [
    "[Neuroglancer](https://github.com/google/neuroglancer) is a WebGL-based viewer developed by Jeremy Maitin-Shephard at the Google Connectomics team to visualize very large volumetric data, designed in large part for connectomics.\n",
    "We often use Neuroglancer to quickly explore data, visualize results in context, and share data."
   ]
  },
  {
   "cell_type": "markdown",
   "id": "9fcb5e75-0207-4a38-a181-fdc6abfd25dc",
   "metadata": {},
   "source": [
    "To look at the MICrONS data in Neuroglancer, [click this link](https://neuroglancer.neuvue.io/#!%7B%22jsonStateServer%22:%22https://global.daf-apis.com/nglstate/api/v1/post%22,%22navigation%22:%7B%22pose%22:%7B%22position%22:%7B%22voxelSize%22:%5B4.0,4.0,40.0%5D%7D%7D,%22zoomFactor%22:2.0%7D,%22showSlices%22:false,%22layout%22:%22xy-3d%22,%22perspectiveZoom%22:2000.0,%22layers%22:%5B%7B%22type%22:%22image%22,%22source%22:%22precomputed://https://bossdb-open-data.s3.amazonaws.com/iarpa_microns/minnie/minnie65/em%22,%22name%22:%22img%22,%22shader%22:%22#uicontrol%20float%20black%20slider(min=0,%20max=1,%20default=0.0)%5Cn#uicontrol%20float%20white%20slider(min=0,%20max=1,%20default=1.0)%5Cnfloat%20rescale(float%20value)%20%7B%5Cn%20%20return%20(value%20-%20black)%20/%20(white%20-%20black);%5Cn%7D%5Cnvoid%20main()%20%7B%5Cn%20%20float%20val%20=%20toNormalized(getDataValue());%5Cn%20%20if%20(val%20%3C%20black)%20%7B%5Cn%20%20%20%20emitRGB(vec3(0,0,0));%5Cn%20%20%7D%20else%20if%20(val%20%3E%20white)%20%7B%5Cn%20%20%20%20emitRGB(vec3(1.0,%201.0,%201.0));%5Cn%20%20%7D%20else%20%7B%5Cn%20%20%20%20emitGrayscale(rescale(val));%5Cn%20%20%7D%5Cn%7D%5Cn%22%7D,%7B%22type%22:%22segmentation_with_graph%22,%22source%22:%22graphene://https://minnie.microns-daf.com/segmentation/table/minnie65_public%22,%22name%22:%22seg%22,%22selectedAlpha%22:0.3,%22objectAlpha%22:1.0,%22notSelectedAlpha%22:0.0%7D,%7B%22type%22:%22annotation%22,%22filterBySegmentation%22:false,%22bracketShortcutsShowSegmentation%22:true,%22annotationSelectionShowsSegmentation%22:true,%22name%22:%22ann%22%7D%5D,%22selectedLayer%22:%7B%22layer%22:%22ann%22,%22visible%22:true%7D%7D).\n",
    "Note that you will need to authenticate with the same Google-associated account that you use to set up CAVEclient."
   ]
  },
  {
   "cell_type": "markdown",
   "id": "9e532030-5d5e-4195-a439-376c2a2f4aea",
   "metadata": {},
   "source": [
    "## Interface Basics\n",
    "The Neuroglancer interface is divided into panels.\n",
    "In the default view, one panel shows the imagery in the X/Y plane (left), one shows a 3d view centered at the same location, and the narrow third panel provides information about the specific layer.\n",
    "Note that at the center of the each panel is a collection of axis-aligned red, blue and, green lines. The intersection and direction of each of these lines is consistent across all panels.\n",
    "\n",
    "Along the top left of the view, you can see tabs with different names.\n",
    "Neuroglancer organizes data into *layers*, where each layer tells Neuroglancer about a different aspect of the data.\n",
    "The default view has three layers:\n",
    "\n",
    "* `img` describes how to render imagery.\n",
    "* `seg` describes how to render segmentation and meshes.\n",
    "* `ann` is a manual annotation layer, allowing the user to add annotations to the data.\n",
    "\n",
    "You can switch between layers by *right clicking* on the layer tab.\n",
    "You will see the panel at the right change to provide controls for each layer as you click it.\n",
    "\n",
    "The collection of all layers, the user view, and all annotations is stored as a JSON object called the **state**.\n",
    "\n",
    "The basic controls for navigation are:\n",
    "\n",
    "* `single click/drag` slides the imagery in X/Y and rotates the 3d view.\n",
    "* `scroll wheel up/down` moves the imagery in Z.\n",
    "* `right click` jumps the 3d view to the clicked location in either the imagery or on a segmented object.\n",
    "* `double click` selects a segmentation and loads its mesh into the 3d view. Double clicking on a selected neuron deselects it.\n",
    "* `control-scrool` zooms the view under the cursor in or out.\n",
    "* `z` snaps the view to the closest right angle.\n",
    "\n",
    "You can paste a position into Neuroglancer by clicking the x, y, z coordinate in the upper left corner and pasting a space or comma-separated list of numbers and hitting enter.\n",
    "Note that Neuroglancer always works in voxel units, and you can see the resolution of the voxels in the extreme upper left corner."
   ]
  },
  {
   "cell_type": "markdown",
   "id": "5cd34f57-b01e-40f1-b73e-3a825ffe4b80",
   "metadata": {},
   "source": [
    "## Selecting objects\n",
    "\n",
    "The most direct way to select a neuron is to double click in the imagery to select the object under your cursor.\n",
    "This will load all the voxels associated with that object and also display its mesh in the 3d view.\n",
    "\n",
    "To see the list of selected objects, you can select the segmentation tab (right click on the `seg` tab).\n",
    "Underneath the list of options, there is a list of selected root ids and the color assigned to them in the view.\n",
    "You can change colors of all neurons randomly by pressing `l` or individually change colors as desired.\n",
    "In addition, you can press the checkbox to hide a selected object while keeping it in the list, or deselect it by clicking on the number itself.\n",
    "You can also copy a root id by pressing the clipboard icon next to its number, or copy all selected root ids by pressing the clipboard icon above the list.\n",
    "\n",
    "This selection list also allows you to select objects by pasting one or more root ids into the text box at the top of the list and pressing enter."
   ]
  },
  {
   "cell_type": "markdown",
   "id": "021d5cc7-11ef-4272-a80f-1fe9d5464447",
   "metadata": {},
   "source": [
    "## Annotations\n",
    "\n",
    "Annotations are stored in an annotation layer.\n",
    "The default state has an annotation layer called `ann`, but you can always add new annotation layers by command-clicking the `+` button to the right of the layer tabs.\n",
    "\n",
    "To create an annotation, select the layer (right click on the tab), and then click the icon representing the type of annotation you want to use.\n",
    "The most basic annotation is a point, which is the icon to the left of the list.\n",
    "The icon will change to having a green background when selected.\n",
    "\n",
    "Now if you **control-click** in either the imagery or the 3d view, you will create a point annotation at the clicked location.\n",
    "The annotation will appear in the list to the right, with its coordinate (in voxels, not nanometers) displayed.\n",
    "Clicking any annotation in the list will jump to that annotation in 3d space.\n",
    "Each annotation layer can have one color, which you can change with the color picker to the left of the annotation list."
   ]
  },
  {
   "cell_type": "markdown",
   "id": "acca670e-d907-40cb-90d7-46ba7288c967",
   "metadata": {},
   "source": [
    "## Navigating Annotations\n",
    "Annotations in an annotation layer can be right-clicked on to jump to them, but can also be navigated as a list.\n",
    "\n",
    "::: {.panel-tabset}\n",
    "\n",
    "## spelunker\n",
    "To see the list of annotations, select the annotation layer (right click on the tab).\n",
    "\n",
    "Each annotation is listed as its location in Neuroglancer voxel coordinates.\n",
    "\n",
    "Clicking on an row in this annotation list will not only jump to it in the view, but also select it.\n",
    "You can see the information about the selected neuron in the lower right corner.\n",
    "\n",
    "## neuroglancer.neuvue\n",
    "To see the list of annotations, select the annotation layer (right click on the tab).\n",
    "\n",
    "Each annotation is listed as its location in Neuroglancer voxel coordinates.\n",
    "\n",
    "Clicking on an row in this annotation list will not only jump to it in the view, but also select it.\n",
    "You can see the information about the selected neuron in the lower right corner.\n",
    "\n",
    "::: {.callout-important}\n",
    "The following sections are not accurate for spelunker version of neuroglancer, but do represent planned feature addtions.\n",
    ":::\n",
    "\n",
    "Once an annotation is selected, any associated root ids are loaded.\n",
    "The keys `[` and `]` will jump to the previous and next annotations in the list, respectively.\n",
    "\n",
    "Each annotation can have a full-text description associated with it for adding notes.\n",
    "This can be added in the lower right corner.\n",
    "\n",
    "![Annotation tags after populating them manually.](img/neuroglancer_tags.png)\n",
    "\n",
    "However, the most convenient way to label data quickly is through Tags.\n",
    "\n",
    "To add tags, click on the `Shortcuts` tab within the Annotation widget on the right, and then click on the `+` button to add a new tag.\n",
    "\n",
    "Each tag gets a text label and a key command to activate or deactivate it for a given annotation.\n",
    "\n",
    "By default, the first tag is activated by pressing `shift-q`, the second by pressing `shift-w`, and so on down the qwerty line.\n",
    "\n",
    "![Annotation tags applied to annotations. The labels with with the `#` symbol indicate a tag is present.](img/neuroglancer_tags_example.png)\n",
    "\n",
    "Now when you select an annotation, you can press the key command to attach that tag to it.\n",
    "\n",
    "Pressing the same key command will remove the tag.\n",
    "\n",
    "Any number of tags can be added to each annotation.\n",
    "\n",
    "Together with the `[` and `]` keys to navigate the list, this allows you to quickly label a large number of annotations.\n",
    "\n",
    "## ngl.microns-explorer\n",
    "To see the list of annotations, select the annotation layer (right click on the tab).\n",
    "\n",
    "Each annotation is listed as its location in Neuroglancer voxel coordinates.\n",
    "\n",
    "Clicking on an row in this annotation list will not only jump to it in the view, but also select it.\n",
    "You can see the information about the selected neuron in the lower right corner.\n",
    "\n",
    ":::"
   ]
  },
  {
   "cell_type": "markdown",
   "id": "9e51540e-575e-4fbc-b2a6-33560937e61c",
   "metadata": {},
   "source": [
    "## Saving and sharing states\n",
    "\n",
    "Like many other websites that require logins, you cannot simply send your URL ot another person to have them see the view.\n",
    "Instead, to save the current state and make it available to yourself or others in the future, you need to save the state with the `Share` button at the top right corner.\n",
    "This will then give you a URL that you can copy and share with others or paste yourself.\n",
    "A typical sharing URL looks like the following:\n",
    "```\n",
    "https://neuroglancer.neuvue.io/?json_url=https://global.daf-apis.com/nglstate/api/v1/4684616269037568\n",
    "```\n",
    "The first part is the URL for the Neuroglancer viewer, while the part after the `?json_url=` is a URL that points to a JSON file that contains the state.\n",
    "The number at the end of the URL is used to uniquely identify the state and can be used programatically to retrieve information.\n",
    "\n",
    "::: {.callout-warning}\n",
    "If a URL contains `?local_id=` instead of `?json_url`, that means that it cannot be viewed by anyone else or even in another browser on your own computer.\n",
    ":::"
   ]
  }
 ],
 "metadata": {
  "kernelspec": {
   "display_name": "microns",
   "language": "python",
   "name": "microns"
  },
  "language_info": {
   "codemirror_mode": {
    "name": "ipython",
    "version": 3
   },
   "file_extension": ".py",
   "mimetype": "text/x-python",
   "name": "python",
   "nbconvert_exporter": "python",
   "pygments_lexer": "ipython3",
   "version": "3.8.17"
  }
 },
 "nbformat": 4,
 "nbformat_minor": 5
}
