{
 "cells": [
  {
   "cell_type": "markdown",
   "id": "26c56379-b4e4-414b-a7e6-b74e8b67136a",
   "metadata": {},
   "source": [
    "---\n",
    "title: \"Frequently Asked Questions\"\n",
    "draft: true\n",
    "format: \n",
    "    html:\n",
    "        toc: true\n",
    "bibliography: references.bib\n",
    "---"
   ]
  },
  {
   "cell_type": "markdown",
   "id": "2cbc161d-3eff-44b0-8227-8595fa39e6cd",
   "metadata": {},
   "source": [
    "---\n",
    "\n",
    "## Data Access"
   ]
  },
  {
   "cell_type": "markdown",
   "id": "168cfb2d-a9a0-42fe-9d27-4561bdd56e4e",
   "metadata": {},
   "source": [
    ":::: {.callout-note appearance=\"minimal\" collapse=true}\n",
    "\n",
    "#### How do I download the data?\n",
    "\n",
    "The MICrONS dataset is massive. The imagery and segmentation are on the order of petabytes. There are hundreds of millions of synapses, and even downloading a static table of the synaptic conenctivity is tens of gigabytes.\n",
    "\n",
    "<h4> In general, you do not want to download the entire dataset.</h4>\n",
    "\n",
    "Instead, we have tools that allow you to visualize, locate, and download only the data you are most interested in. \n",
    "\n",
    "For downloading the **imagery, segmentation, and meshes**, you will use the the python package `cloud-volume`. CloudVolume is a serverless Python client for random access reading and writing of Neuroglancer volumes in “Precomputed” format, a set of representations for arbitrarily large volumetric images, meshes, and skeletons. See [Download Imagery and Segmentation](quickstart_notebooks/05-cloudvolume-download.html) and [Download Meshes](quickstart_notebooks/06-cloudvolume-download-mesh.html)\n",
    "\n",
    "For downloading **neuron skeletons** in .swc format, see [Download Skeletons](quickstart_notebooks/07-cave-download-skeleton.html).\n",
    "\n",
    "For **connectivity** information, you can use the brower-based [Connectivity Viewer](dash-connectivity.html) which will: access the connectivity for cells of interest, generate neuroglancer links for interactive visualization, and generate connectivity summaries on demand. For large scale connectivity analysis (between many cells, or populations of cells), you will want to access the data programmatically. See the Python tools quickstart notebooks, specifically [CAVE Query Synaptic Connectivity](quickstart_notebooks/04-cave-query-synapses.html).\n",
    "\n",
    "For all other annotations -- such as **cell types**, **synapse compartment types**, and **axon myelination** -- you will want to access the annotation tables programmatically through the python tool `CAVEclient`. See the Python tools quickstart notebooks, specifically [CAVE Query Cell Types](quickstart_notebooks/02-cave-query-cell-types.html) and [CAVE Query Proofread Cells](quickstart_notebooks/03-cave-query-proofread-cells.html) for practical examples.\n",
    "\n",
    "<h4> If you really do still want to download the entire dataset:</h4>\n",
    "\n",
    "We have bulk downloads available from our cloud service providers. See:\n",
    "\n",
    "* [Static Repositories](static-repositories.html) for a list of available data, sizes, and cloud paths. This includes flat segmentation, meshes, or skeletons at some major versions. \n",
    "* [Bossdb](https://bossdb.org/project/microns-minnie) repository for MICrONS aligned volume data\n",
    "* [DANDI](https://dandiarchive.org/dandiset/000402) for functional NWB files\n",
    "\n",
    "Directly downloading these resources may speed up processing time, and you can point `cloud-volume` to a local filepath just as easily as a cloud source.\n",
    "\n",
    "::::"
   ]
  },
  {
   "cell_type": "markdown",
   "id": "24ab9668-f5ce-4fe0-a07d-4a3350b29a30",
   "metadata": {},
   "source": [
    ":::: {.callout-note appearance=\"minimal\" collapse=true}\n",
    "\n",
    "#### How can I access the connectivity information?\n",
    "\n",
    "<h4> Browser-based method</h4>\n",
    "\n",
    "You can use the [Connectivity Viewer](dash-connectivity.html) to: access the connectivity for cells of interest, generate neuroglancer links for interactive visualization, and generate connectivity summaries on demand. \n",
    "\n",
    "<h4> Programmatic access</h4>\n",
    "\n",
    "For large scale connectivity analysis (between many cells, or populations of cells), you will want to access the data programmatically. See the Python tools quickstart notebooks, specifically [CAVE Query Synaptic Connectivity](quickstart_notebooks/04-cave-query-synapses.html).\n",
    "\n",
    "<h4> Bulk download of connectivity grpah</h4>\n",
    "\n",
    ":::{.callout-important}\n",
    "This connectivity table represents the original v117 segmentation. Proofreading has improved the accuracy and added millions of high-quality synaptic connections. The programmatic access above is our recommended method to perform connectivity analysis\n",
    "\n",
    ":::\n",
    "\n",
    "The synaptic connectivity map at version 117 is available for bulk download from Bossdb. See [Static Repositories - Synapse Graph](static-repositories.html#synapse-segmentation-and-graph) for details. \n",
    "::::"
   ]
  },
  {
   "cell_type": "markdown",
   "id": "94676a48-5ec7-4c3a-81ee-02f20f38a8c5",
   "metadata": {},
   "source": [
    ":::: {.callout-note appearance=\"minimal\" collapse=true}\n",
    "\n",
    "#### How can I do this analysis?\n",
    "\n",
    "There are many, many things worth analyzing in the dataset, and a myriad of ways to do that analysis. On this website we host [Quickstart tutorials](python-tools.html) that provide minimal examples of what is possible. We are also expanding the gallery of [Analysis Examples](analysis_gallery/). And we outlink to relevant repositories from [Publications using the MICrONS dataset](analysis_gallery/#code-from-research-publications).\n",
    "\n",
    "Consider posting to the [Tutorials Forum](https://github.com/AllenInstitute/microns_tutorial/discussions) for feedback and discussion. \n",
    "\n",
    "We are also available for individual analysis consultation and support. Access begins with submitting a VORTEX request\n",
    "\n",
    "[microns-explorer.org/requests | Scientific Request Form](https://www.microns-explorer.org/vortex#request-form){.btn .btn-outline-primary .btn role=\"button\" data-toggle=\"tooltip\" title=\"VORTEX Request\"}\n",
    "\n",
    "::::"
   ]
  },
  {
   "cell_type": "markdown",
   "id": "ec653e49-7809-4253-bddf-37aef09584d4",
   "metadata": {},
   "source": [
    ":::: {.callout-note appearance=\"minimal\" collapse=true}\n",
    "\n",
    "#### How do I cite the dataset?\n",
    "\n",
    "For any general use of the MICrONS Cubic Millimeter data and resources, please cite the primary flagship publication:\n",
    "\n",
    ">The MICrONS Consortium, J. Alexander Bae, Mahaly Baptiste, Maya R. Baptiste, Caitlyn A. Bishop, Agnes L. Bodor, Derrick Brittain, et al. 2025. “Functional Connectomics Spanning Multiple Areas of Mouse Visual Cortex.” *Nature* 640 (8058): 435–47. https://doi.org/10.1038/s41586-025-08790-w.\n",
    "\n",
    "For use of the MICrONS Layer 2/3 dataset (Phase 1), please cite the primary flagship publication\n",
    "\n",
    "> Nicholas L. Turner, Thomas Macrina, J. et al. 2022. “Reconstruction of neocortex: Organelles, compartments, cells, circuits, and activity.” Cell 185 (6): 1082-1100. https://doi.org/10.1016/j.cell.2022.01.023.\n",
    "\n",
    "\n",
    "For any primary research publication, cite the publication (if released) or preprint (if unreleased). See [microns-explorer.org/publications](https://www.microns-explorer.org/publications) for more. \n",
    "\n",
    "When integrating our data into a website, cite the source in a manner that is clear, accurate and easily discoverable and link to www.microns-explorer.org. Also, be sure that our Content is never displayed in the absence of such citation. For images obtained from the Sites, use the following citation: www.microns-explorer.org.\n",
    "\n",
    "::::"
   ]
  },
  {
   "cell_type": "markdown",
   "id": "2962a50e-ad8d-44d2-b2ce-9566a37f6c9f",
   "metadata": {},
   "source": [
    "---\n",
    "\n",
    "## Data Curation"
   ]
  },
  {
   "cell_type": "markdown",
   "id": "721bad3a-2008-4290-a9ab-885ce2a60944",
   "metadata": {},
   "source": [
    ":::: {.callout-note appearance=\"minimal\" collapse=true}\n",
    "\n",
    "#### My cell disappeared\n",
    "\n",
    "The MICrONS dataset is public and open access, ready for analysis, but manual edits to the segmentation continue to improve data quality. The automatic segmentation from EM imagery to 3D reconstruction was largely effective, and the only way to process data at this scale [@the_microns_consortium_functional_2025]. However, due to imaging defects and the nature of thin, branching axons, the automated methods do make mistakes that have large impacts on the biological accuracy of the reconstructions. \n",
    "\n",
    "The data is regularly [versioned](materialization-version.html); that is, a long-term copy of the dataset is made available for users. We highly recommend setting the **version** or **timestamp** in your analysis for consistency.\n",
    "\n",
    "However, even if you do not set the version, there is a lineage graph of changes to the dataset. Meaning, you can find the past version of your cell, annotation table, mesh, skeleton etc. as long as you know the root id of the object you are interested in -- or the date at which you performed an analysis.\n",
    "\n",
    "<h4> See the [Materialization and Versioning section](materialization-version.html) for detailed examples of how to 1) find your missing cell, and 2) set the version of your analysis so you do not encounter this issue again. </h4>\n",
    "\n",
    "::::"
   ]
  },
  {
   "cell_type": "markdown",
   "id": "8bb01775-975e-4167-94fc-aa6b15fe4214",
   "metadata": {},
   "source": [
    ":::: {.callout-note appearance=\"minimal\" collapse=true}\n",
    "\n",
    "#### This cell is incorrect\n",
    "\n",
    "Automated methods for cellular segmentation, synapse detection, and classification are fantastic for working with data at this scale [@the_microns_consortium_functional_2025]. However, each of these processes makes mistakes. We have methods of maunal correction or **proofreading** to improve the quality of the data. \n",
    "\n",
    "<h4> [Proofreading](proofreading.html) </h4>\n",
    "\n",
    "It is useful to distinguish between two kinds of proofreading errors: splits and merges.\n",
    "\n",
    "Split errors occur when a process incorrectly appears to stop in the segmentation, but actually could be continued. Merge errors occur when processes from two different segments are incorrectly merged together.\n",
    "These two kinds of errors impact analysis differently. For example for neurons: while split errors reduce the number of correct synaptic connections, merge errors add incorrect connections.\n",
    "\n",
    "The frequency of errors is roughly related to the size of the process, and thus axons and dendrites have extremely different error profiles. Because they are thicker, dendrites are largely well-segmented, with only a few split errors and most merge errors being with small axons rather than other dendrites. \n",
    "\n",
    "Segmentation errors are also more common in places where the image quality was lower, or the image sections interupted. Such as at the EM volume boundaries (pial surface, white matter, and lateral edges.\n",
    "\n",
    "We provide ongoing proofreading to the dataset through the VORTEX program. We also support and train scientists who want to make their own proofreading edits to the dataset. For either object, see **VORTEX** below\n",
    "\n",
    "<h4> [Virtual Observatory of the Cortex VORTEX](vortex-overview.html) </h4>\n",
    "\n",
    "The VORTEX program is a grant funded mechanism designed to assist you in precisely this situation. We provide the labor and experience to make corrections and annotations in the data. The results of these efforts will be integrated with an evolving version of the dataset, and shared with you and the larger scientific community.\n",
    "\n",
    "Depending on the scale of errors in your cells of interest, we may provide:\n",
    "\n",
    "1) analysis support to interpret the data despite the errors\n",
    "2) limited correction of small errors\n",
    "3) large-scale proofreading support to answer scientific questions\n",
    "4) provide you direct proofreading access to the dataset and training in how to make edits\n",
    "\n",
    "Any of these solutions begins with submitting a VORTEX request\n",
    "\n",
    "[microns-explorer.org/requests | Scientific Request Form](https://www.microns-explorer.org/vortex#request-form){.btn .btn-outline-primary .btn role=\"button\" data-toggle=\"tooltip\" title=\"VORTEX Request\"}\n",
    "\n",
    "\n",
    "<h4> Automated classifiers </h4>\n",
    "\n",
    "Automated classifiers such as the synapse detection and cell type tables can also make mistakes. In practice, it is easiest to exclude data from your analysis if it does not match expectations or quality metrics. If you have specific feedback about performance of the automated classifiers, reach out of the maintainers of the Annotation table in question. This information is included in the table metadata\n",
    "\n",
    "```python\n",
    "client.materialize.tables.get_table_metadata(table_name)\n",
    "\n",
    "```\n",
    "\n",
    "\n",
    "::::"
   ]
  }
 ],
 "metadata": {
  "kernelspec": {
   "display_name": "microns2025",
   "language": "python",
   "name": "microns2025"
  },
  "language_info": {
   "codemirror_mode": {
    "name": "ipython",
    "version": 3
   },
   "file_extension": ".py",
   "mimetype": "text/x-python",
   "name": "python",
   "nbconvert_exporter": "python",
   "pygments_lexer": "ipython3",
   "version": "3.11.11"
  }
 },
 "nbformat": 4,
 "nbformat_minor": 5
}
