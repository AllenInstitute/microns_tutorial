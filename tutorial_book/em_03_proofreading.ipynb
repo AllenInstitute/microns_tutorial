{
 "cells": [
  {
   "cell_type": "markdown",
   "id": "d73b88af-19e5-4a8b-b961-8a0c9e2c76a5",
   "metadata": {},
   "source": [
    "---\n",
    "title: \"Proofreading and Data Quality\"\n",
    "format: \n",
    "    html:\n",
    "        toc: true\n",
    "bibliography: references.bib\n",
    "---"
   ]
  },
  {
   "cell_type": "markdown",
   "id": "bf0aa737-2892-49a7-8bef-c14e069a9097",
   "metadata": {},
   "source": [
    "Understanding this variablity in data quality is *critical* when analyzing the data.\n",
    "\n",
    "Automated segmentation of neuronal processes in dense EM imaging is challenging at the size of entire neurons, which can have millimeters of axons and dendrites.\n",
    "The automated segmentation algorithms used in the EM data for this project are not perfect, and so proofreading is necessary to correct errors in the segmentation.\n",
    "\n",
    "However, while automated proofreading methods are starting to appear, in general the proofreading process is time consuming and involves a lot of manual attention.\n",
    "Some cells in the MICrONs data are thus very well proofread, others are virtually untouched, and many are somewhere in between.\n",
    "\n",
    "Each kind of cell can be useful, but different approaches must be taken for each."
   ]
  },
  {
   "cell_type": "markdown",
   "id": "0886612e-f717-4e46-b3c6-b14543705c1f",
   "metadata": {},
   "source": [
    "It is useful to distinguish between two kinds of proofreading errors: *splits* and *merges*.\n",
    "\n",
    "* **Split errors** occur when a process incorrectly appears to stop in the segmentation, but actually could be continued.\n",
    "* **Merge errors** occur when processes from two different neurons are incorrectly merged together.\n",
    "\n",
    "These two kinds of errors impact analysis differently. While split errors reduce the number of correct synaptic connections, merge errors add incorrect connections."
   ]
  },
  {
   "cell_type": "markdown",
   "id": "3883e437-9de4-4878-a320-7a23f3c159be",
   "metadata": {},
   "source": [
    "The frequency of errors is roughly related to the size of the process, and thus axons and dendrites have extremely different error profiles.\n",
    "Because they are thicker, dendrites are largely well-segmented, with only a few split errors and most merge errors being with small axons rather than other dendrites.\n",
    "\n",
    "Even without proofreading a neuron's dendrites, we thus expect that most of the input synapses onto the dendrites are correct (since the vast majority of merge errors are with axons that only have output synapses), though some may be missing due to split errors at tips or missing dendritic spines.\n",
    "\n",
    "In contrast, axons, because they are thinner, have many more errors of both kinds.\n",
    "We thus do not trust axonal connectivity at all without additional proofreading."
   ]
  },
  {
   "cell_type": "markdown",
   "id": "db98f006-6a18-4e87-a5c9-af29da381c54",
   "metadata": {},
   "source": [
    "## Proofreading categories\n",
    "Proofreading is not an all-or-nothing process.\n",
    "Because of the reasons described above, we distinguish between the proofread status of the axon and the dendrite for each neuron separately.\n",
    "In addition, we consider three levels of proofreading:\n",
    "\n",
    "* **Unproofread**: The arbor (dendrite or axon) has not been comprehensively proofread, although edits may have happened here and there.\n",
    "* **Clean**: The arbor (dendrite or axon) has been comprehensively proofread to remove all merge errors, but may still have split errors. This means that the synapses that are there are correct, but incomplete.\n",
    "* **Extended**: The arbor (dendrite or axon) has been comprehensively proofread to remove all merge and split errors. This means that the synapses that are there are correct and as-complete-as-possible by expert proofreaders. Note that even a well-proofread neuron often has some tips that cannot be followed due to the limitations of the underlying imagery, and of course processes may leave the segmented volume.\n",
    "\n",
    "The upshot is that unproofread axons are not of a quality suitable for analysis, you can trust the targets of a clean or extended axon because the default dendrite quality is good.\n",
    "However, if your analysis truly demands knowing if a particular neuron is connected to another neuron or not (rather than connecting to a population), the proofreading standards are particularly high and possibly require additional checks."
   ]
  },
  {
   "cell_type": "markdown",
   "id": "710fdd9a-9078-461b-8357-8b81023892a2",
   "metadata": {},
   "source": [
    "| Pre Axon Status | Post Dendrite Status | Analyzability |\n",
    "|:---| :---| :---| \n",
    "| Unproofread | Unproofread | Not analyzable |\n",
    "| Unproofread | Clean / Extended | Not analyzable |\n",
    "| Clean | Unproofread / Clean / Extended | Analyzable but connectivity could be highly biased by limited axonal extent |\n",
    "| Extended | Unproofread | Analyzable and connectivity is close to complete |\n",
    "\n",
    ": Proofreading status {.light .hover}"
   ]
  },
  {
   "cell_type": "markdown",
   "id": "c2c16a46-2e6a-484f-9367-36fc312157b5",
   "metadata": {},
   "source": [
    "Since a single proofread axon can have many hundreds to ten thousand synaptic outputs, the vast majority onto local dendrites, each single axon provides a tremendous amount of data about that cell's postsynaptic targets."
   ]
  },
  {
   "cell_type": "markdown",
   "id": "43efc8cf-776b-4656-93a5-59a08d729ce8",
   "metadata": {},
   "source": [
    "## Proofreading efforts\n",
    "There have been several different proofreading efforts in the MICrONS data with different goals and levels of comprehensiveness.\n",
    "Importantly, neurons were not selected for proofreading randomly, but rather chosen based on various criteria.\n",
    "A few of the most signifcant proofreading efforts are described below.\n",
    "\n",
    "* Excitatory neuron proofreading for functional connectomics. Excitatory neurons in retinotopically matched ares of VISp and RL were proofread to enable functional connectomics analysis, looking for the relationship between functional similarity and synaptic connectivity. \n",
    "* Martinotti cell proofreading. Extremely extensive reconstructions of several layer 5 Martinotti cells in VISp were performed to enable analysis of the relationship between morphology and transcriptomics.\n",
    "* Minnie Column. A 100 micron square area of VISp for a comprehensive census of its neuronal population across all layers. Originally, excitatory neurons in this column had dendritic cleaning and extension and inhibitory neurons had comprehensive cleaning and substantail but incomplete extension. However, this population has become a hub for proofreading and cell typing, and will be discussed further in the section below.\n",
    "\n",
    "\n",
    "The NIH-funded **Virtual Observatory of the Cortex (VORTEX)** program supports continued proofreading efforts. Supported efforts include proofreading of: of excitatory functionally-coregistered cells, inhibitory neurons, and glial cell types including astrocytes and oligodendrocyte precursor cells. To learn more, visit [microns-explorer.org/vortex](https://www.microns-explorer.org/vortex) "
   ]
  },
  {
   "cell_type": "markdown",
   "id": "3c9a63c9-768d-487c-9c5b-80a56819c166",
   "metadata": {},
   "source": [
    "## Proofreading tables\n",
    "\n",
    "To keep track of the state of proofreading, the table `proofreading_status_and_strategy` in the annotation database has a row for each proofread neuron and provides a summary of the proofreading status of the axon and dendrite.\n",
    "For more details, look at the [Proofreading table documentation](programmatic_access/em_py_03_annotation_tables.html#proofreading-tables).\n"
   ]
  },
  {
   "cell_type": "markdown",
   "id": "5f94c5a9-0808-4527-8914-af6ebbe19826",
   "metadata": {},
   "source": [
    "## Minnie Column\n",
    "The Minnie Column is a collection of more than 1,300 neurons whose nucleus centroid fell within a 100 x 100 micron square (viewed from the top) and extending across all layers. \n",
    "\n",
    "![Location of the Minnie column (yellow) within the dataset. Top view.](img/minnie-column.png)"
   ]
  },
  {
   "cell_type": "markdown",
   "id": "750e58c3-2ca6-47eb-ab21-7157196344ae",
   "metadata": {},
   "source": [
    "This was originally considered a region of interest for a \"A comprehensive census of the neuronal population\" [@schneider-mizell2023], and thus all neurons in this region were proofread to some extent and manually evaulated.\n",
    "\n",
    "All excitatory neurons had their dendrites cleaned and extended to assess dendritic morphology and synaptic inputs, while inhibitory neurons had both their dendrites cleaned and extended, and then their axons were extensively cleaned and extended to capture their targeting properties.\n",
    "Efforts were made to extend inhibitory axons to every major region of their arbor, but not every individual tip was followed and the resulting analysis focused on population-level connectivity rather than individual connections.\n",
    "\n",
    "Morphological and connectivity-based cell typing was performed on these cells in terms of both classical and novel categories, and considerable expert attention ensured that the baseline data quality was high.\n",
    "Cell type results can be found in several of the [cell type tables](programmatic_access/em_py_03_annotation_tables.html#cell-type-tables) available.\n",
    "These cell types were used for training the various whole-dataset cell typing classifiers.\n",
    "\n",
    "In addition, the proofreading and multiple levels of cell typing applied to this dense and diverse population has made it a useful reference, and spawned further analysis.\n",
    "Subsequent work has cleaned many of the excitatory axons from layers 2--5, albeit to a variety of degrees of extension."
   ]
  }
 ],
 "metadata": {
  "kernelspec": {
   "display_name": "microns",
   "language": "python",
   "name": "microns"
  },
  "language_info": {
   "codemirror_mode": {
    "name": "ipython",
    "version": 3
   },
   "file_extension": ".py",
   "mimetype": "text/x-python",
   "name": "python",
   "nbconvert_exporter": "python",
   "pygments_lexer": "ipython3",
   "version": "3.8.17"
  }
 },
 "nbformat": 4,
 "nbformat_minor": 5
}
