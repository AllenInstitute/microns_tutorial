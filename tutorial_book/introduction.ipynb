{
 "cells": [
  {
   "cell_type": "markdown",
   "id": "45422b98-bdc7-434a-bae9-7082e7270f27",
   "metadata": {},
   "source": [
    "---\n",
    "title: \"Introduction\"\n",
    "format: \n",
    "    html:\n",
    "        toc: true\n",
    "bibliography: references.bib\n",
    "---"
   ]
  },
  {
   "cell_type": "markdown",
   "id": "d10b5eff-09c1-4ea6-bafe-0c382d403a12",
   "metadata": {},
   "source": [
    "![A 3D rendering of cells in the MICrONs dataset.](img/minnie-3d-cells.png)"
   ]
  },
  {
   "cell_type": "markdown",
   "id": "bdfdde6e-afff-40b5-94c3-2362cb327d62",
   "metadata": {},
   "source": [
    "The **Machine Intelligence from Cortical Networks (MICrONS) program**  aimed to close the performance gap between human analysts and automated pattern recognition systems by reverse-engineering the algorithms of the brain. This program mapped the function and connectivity of cortical circuits, using high throughput imaging technologies, with the goal of providing insights into the computational principles that underlie cortical function in order to advance the next generation of machine learning algorithms. \n",
    "\n",
    "MICrONS assembled the largest (multi-petabyte) extant dataset of co-registered neurophysiological and neuroanatomical data from the mammalian brain, spanning 1 mm3 and encompassing 100,000 neurons. These data include large scale electron microscopy based reconstructions of cortical circuitry from mouse visual cortex, with corresponding functional imaging data from those same neurons. \n",
    "\n",
    "This multi-year project was conducted by a consortium of laboratories, led by groups at the Allen Institute for Brain Science, Princeton University, and Baylor College of Medicine, with support from a broad array of teams coordinated and funded by the [IARPA MICrONS program](https://www.iarpa.gov/index.php/research-programs/microns)\n",
    "\n",
    "![MICrONS Consortium labs](img/microns_consortium_logo.png)\n"
   ]
  },
  {
   "cell_type": "markdown",
   "id": "e68d9693",
   "metadata": {},
   "source": [
    "## Electron Microscopy approach to Connectomics\n",
    "The function of the nervous system arises out of a combination of the properties\n",
    "of individual neurons and the properties of how they are connected into a larger\n",
    "network. The central goal of connectomics is to produce *complete maps* of the\n",
    "*connectivity* of the nervous system with *synaptic resolution* and analyze them\n",
    "to better understand the organization, development, and function of the nervous\n",
    "system. **Electron microscopy (EM)** has been a central tool in achieving these aims\n",
    "for two key reasons: \n",
    "\n",
    "1. EM can easily image nanometer-scale structures such as synapses. This allows one to unambiguously observe chemical synapses and, if pushed to high enough resolution, gap junctions. *(Note that the MICrONs dataset is not high enough resolution to unambiguously observe gap junctions).*\n",
    "2. Dense staining methods allow the complete observation of a of rich collection of cellular features, including membranes, nuclei, mitochondria, and much more. This allows the reconstruction of the complete morphology of cells.\n"
   ]
  },
  {
   "cell_type": "markdown",
   "id": "bfaca3d4-5b86-477a-a258-68160168a89d",
   "metadata": {},
   "source": [
    "## What questions can be addressed by connectomic data?\n",
    "For invertebrates like the fruit fly, the nervous system is highly stereotyped\n",
    "in both the composition of cells and how they connect to one another. Indeed, in\n",
    "the fly many cell types exist as a single pair of cells, one from the left and\n",
    "one from the right hemisphere. Connectomic maps from one individual can thus act\n",
    "as a nearly universal map of the brain and powerfully inform theoretical and\n",
    "experimental studies.\n",
    "\n",
    "In mouse cortex, this same type of stereotypy does not apply. There is no\n",
    "one-to-one match between any given cell in the brain of one mouse and another,\n",
    "and thousands of cells in a cortical area can belong to the same cell type.\n",
    "Because of this, the types of questions one can ask differ, but dense\n",
    "reconstruction of anatomy and connectivity still can be a powerful source of\n",
    "insight into questions like: \n",
    "\n",
    "* What morphological or connectivity-based cell types can be found?\n",
    "* What are the properties of the excitatory networks in cortex and how might they relate to learning rules?\n",
    "* What rules dictate how inhibitory cells distribute their synaptic output across target cell types?  \n",
    "\n",
    "In some datasets, such as the MICrONs dataset, calcium imaging of the same\n",
    "tissue was performed prior to preparing the structural EM volume.\n",
    "In that case, we can address additional questions like:\n",
    "\n",
    "*   How do functional responses relate to the morphology of cells?\n",
    "*   How do functional responses relate to the connectivity of cells?\n",
    "\n",
    "In addition, a whole host of non-neuronal cells are also present, such as\n",
    "astrocytes, oligodendrocytes, microglia, and pericytes. Many people are\n",
    "interested in studying the relationship between these cells and neurons, and\n",
    "connectomic datasets can be a powerful tool to discovery this structural\n",
    "context."
   ]
  },
  {
   "cell_type": "markdown",
   "id": "d547ec08-c073-46ca-8a65-0eace31ecdbf",
   "metadata": {},
   "source": [
    "## The MICrONS Cubic Millimeter\n",
    "\n",
    ":::{.callout-note}\n",
    "For more complete details about the generation of the volume, please see\n",
    "\"Functional connectomics spanning multiple areas of mouse visual cortex\" [@the_microns_consortium_functional_2025].\n",
    ":::\n",
    "\n",
    "The MICrONs Cubic Millimeter dataset is an EM volume of mouse visual cortex that spans all\n",
    "cortical layers, and extends approximately 1 mm in width by 0.5 mm in depth,\n",
    "collected as a collaboration between the Allen Institute for Brain Science,\n",
    "Baylor College of Medicine, and Princeton University.\n",
    "The goal of this dataset was to produce a so-called \"functional connectomics\"\n",
    "volume, where the same population of neurons could be measured with both calcium\n",
    "imaging to record functional properties and EM to describe synapse-resolution\n",
    "structural properties.\n",
    "\n",
    "To link structure and function, excitatory neurons were genetically labeled with\n",
    "GCaMPs and imaged under a battery of natural movies and parametric stimuli by\n",
    "the Tolias lab, then at Baylor College of Medicine. The mouse was shipped to the\n",
    "Allen Institute and the same cortical region was prepared for EM, with more than\n",
    "25,000 sections cut from the block and imaged across a small fleet of electron\n",
    "microscopes. In order to capture the interactions between different visual\n",
    "regions, the volume location is at the edge of primary visual cortex (VISp) and extends\n",
    "into higher visual areas VISal and VISrl.\n",
    "\n",
    "Imagery was then aligned and segmented by the team of Sebastian Seung at\n",
    "Princeton, who also automatically detected synapses and nuclei. A team of\n",
    "proofreaders at Johns Hopkins Applied Physics Laboratory helped correct the\n",
    "largest types of errors in the segmentation, leaving virtually every neuron as a\n",
    "distinct object, and coregister tens of thousands of neurons to the functional\n",
    "data. Further analysis at the Allen Institute and elsewhere has focused on\n",
    "curating a map of cell types across the entire dataset, and generating a\n",
    "database to link synapses, cell types, and more to the morphology of individual\n",
    "cells.\n",
    "\n",
    "The result is a cubic millimeter scale dataset with a rich collection of\n",
    "information and the potential for a range of studies, with strengths and\n",
    "limitations due to the current state of proofreading and needs of the functional\n",
    "data collection."
   ]
  }
 ],
 "metadata": {
  "kernelspec": {
   "display_name": "microns",
   "language": "python",
   "name": "microns"
  },
  "language_info": {
   "codemirror_mode": {
    "name": "ipython",
    "version": 3
   },
   "file_extension": ".py",
   "mimetype": "text/x-python",
   "name": "python",
   "nbconvert_exporter": "python",
   "pygments_lexer": "ipython3",
   "version": "3.8.17"
  }
 },
 "nbformat": 4,
 "nbformat_minor": 5
}
