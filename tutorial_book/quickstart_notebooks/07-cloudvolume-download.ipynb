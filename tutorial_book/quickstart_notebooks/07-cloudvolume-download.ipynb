{
 "cells": [
  {
   "cell_type": "markdown",
   "id": "ea71f804-24ee-4624-98b0-b05e88abb4d2",
   "metadata": {},
   "source": [
    "---\n",
    "title: \"Cloud-Volume: Download Imagery and Segmentation\"\n",
    "aliases:\n",
    "    - programmatic_access/em_py_04_imagery_segmentation.html\n",
    "draft: true\n",
    "format: \n",
    "    html:\n",
    "        toc: true \n",
    "        code-fold: false\n",
    "        code-links:\n",
    "          - text: Download Quickstart Notebooks\n",
    "            icon: file-code\n",
    "            href: https://github.com/AllenInstitute/microns_tutorial/tree/main/tutorial_book/quickstart_notebooks\n",
    "execute:\n",
    "    eval: False\n",
    "    warning: False\n",
    "jupyter: python3\n",
    "bibliography: [../references.bib]\n",
    "---"
   ]
  },
  {
   "cell_type": "markdown",
   "id": "3b3a77a9",
   "metadata": {},
   "source": [
    "::: {.callout-important}\n",
    "## Initial Setup\n",
    "Before using any programmatic access to the data, [you first need to set up your CAVEclient token](em_py_01_caveclient_setup.html).\n",
    ":::"
   ]
  },
  {
   "cell_type": "markdown",
   "id": "b4ac157c-708f-4e02-9123-b10045a1a1b6",
   "metadata": {},
   "source": [
    "::: {.callout-important}\n",
    "## Under construction\n",
    "Page to be expanded\n",
    ":::"
   ]
  },
  {
   "cell_type": "code",
   "execution_count": null,
   "id": "8bb08ba0",
   "metadata": {
    "tags": [
     "remove-cell"
    ]
   },
   "outputs": [],
   "source": [
    "import os\n",
    "import caveclient\n",
    "try:\n",
    "    os.makedirs('~/.cloudvolume/secrets')\n",
    "except:\n",
    "    pass\n",
    "cglob = caveclient.CAVEclient(global_only=True)\n",
    "cglob.auth.save_token(token=os.environ.get('API_SECRET'), overwrite=True)\n",
    "del cglob"
   ]
  },
  {
   "cell_type": "markdown",
   "id": "072bc131",
   "metadata": {},
   "source": [
    "# Imagery and Segmentation\n",
    "\n",
    "We recommend using [ImageryClient](https://github.com/AllenInstitute/ImageryClient) to download imagery and segmentation data.\n",
    "\n",
    "ImageryClient makes core use of [CloudVolume](https://github.com/seung-lab/cloud-volume/), but adds convenience and better integration with the CAVEclient.\n",
    "\n",
    "You can install ImageryClient with `pip install imageryclient`.\n",
    "\n",
    "ImageryClient is designed to download aligned blocks of imagery and segmentation data, as well as has some convenience functions for creating overlays of the two.\n",
    "\n",
    "Imagery is downloaded as blocks of 8-bit values (0-255) that indicate grayscale intensity, while segmentation is downloaded as blocks of 64-bit integers that describe the segmentation ID of each voxel.\n",
    "\n",
    "Alternatively, segmentation can be kept as a dictionary of boolean masks, where each key is a root ID and each value is a boolean mask of the same shape as the imagery.\n",
    "\n",
    "Detailed information on the options can be found in the [documentation](https://github.com/AllenInstitute/ImageryClient).\n",
    "\n",
    "A typical example would be to use ImageryClien to download and visualize a 512x512 pixel cutout of imagery and segmentation centered on a specific location based on the coordinates in Neuroglancer:"
   ]
  },
  {
   "cell_type": "code",
   "execution_count": null,
   "id": "9a6d9d11",
   "metadata": {},
   "outputs": [],
   "source": [
    "import os\n",
    "import imageryclient as ic\n",
    "from caveclient import CAVEclient\n",
    "\n",
    "client = CAVEclient('minnie65_public')\n",
    "\n",
    "img_client = ic.ImageryClient(client=client)\n",
    "\n",
    "ctr = [240640, 207872, 21360]\n",
    "\n",
    "image, segs = img_client.image_and_segmentation_cutout(ctr,\n",
    "                                                       split_segmentations=True,\n",
    "                                                       bbox_size=(512, 512),\n",
    "                                                       scale_to_bounds=True,\n",
    ")\n",
    "\n",
    "ic.composite_overlay(segs, imagery=image, palette='husl').convert(\"RGB\")\n",
    "# Note: the final `.convert('RGB')` is needed to build this documetnation, but is not required to run locally."
   ]
  },
  {
   "cell_type": "markdown",
   "id": "3b7105a6-86c0-4edc-9ddb-378acb05d031",
   "metadata": {},
   "source": [
    "![](../img/imagery_client_example.png)"
   ]
  }
 ],
 "metadata": {
  "kernelspec": {
   "display_name": "microns",
   "language": "python",
   "name": "microns"
  },
  "language_info": {
   "codemirror_mode": {
    "name": "ipython",
    "version": 3
   },
   "file_extension": ".py",
   "mimetype": "text/x-python",
   "name": "python",
   "nbconvert_exporter": "python",
   "pygments_lexer": "ipython3",
   "version": "3.8.17"
  }
 },
 "nbformat": 4,
 "nbformat_minor": 5
}
