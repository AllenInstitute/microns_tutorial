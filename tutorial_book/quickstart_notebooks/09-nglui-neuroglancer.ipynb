{
 "cells": [
  {
   "cell_type": "markdown",
   "id": "223a40b5-4dea-430f-b40b-b98aa1620029",
   "metadata": {},
   "source": [
    "---\n",
    "title: \"NGLui: Neuroglancer States\"\n",
    "aliases:\n",
    "    - examples/generate_neuroglancer_states.html\n",
    "format: \n",
    "    html:\n",
    "        toc: true \n",
    "        code-fold: false\n",
    "        code-links:\n",
    "          - text: Download Quickstart Notebooks\n",
    "            icon: file-code\n",
    "            href: https://github.com/AllenInstitute/microns_tutorial/tree/main/tutorial_book/quickstart_notebooks\n",
    "jupyter: python3\n",
    "---"
   ]
  },
  {
   "cell_type": "markdown",
   "id": "3e5de878-09ae-47fa-926f-4b76a1c31a14",
   "metadata": {},
   "source": [
    "## Programmatic Interaction with Neuroglancer States"
   ]
  },
  {
   "cell_type": "markdown",
   "id": "f10de0da-ab62-4ebc-8099-5870e67c371d",
   "metadata": {},
   "source": [
    "Visualizing data in Neuroglancer is one of the easiest ways to explore it in its full context.\n",
    "The python package `nglui` was made to make it easy to generate Neuroglancer states from data, particularly pandas dataframes, in a progammatic manner.\n",
    "The package can be installed with `pip install nglui`."
   ]
  },
  {
   "cell_type": "markdown",
   "id": "f13f2bde-3184-4aa6-982a-d3193312af81",
   "metadata": {},
   "source": [
    ":::{important}\n",
    "The `nglui` package interacts prominantly with `caveclient` and annotations queried from the database.\n",
    "See the section on [querying the database](em:query-tables-section) to learn more.\n",
    ":::"
   ]
  },
  {
   "cell_type": "markdown",
   "id": "13347e09-8a82-40a7-90bf-ca81c3445077",
   "metadata": {},
   "source": [
    "### Parsing Neuroglancer states"
   ]
  },
  {
   "cell_type": "markdown",
   "id": "a7d062fb-a09a-4a10-af3e-85f8d5bcdf41",
   "metadata": {},
   "source": [
    "The `nglui.parser` package can be used to parse Neuroglancer states.  \n",
    "\n",
    "The simplest way to parse the annotations in a Neuroglancer state is to first save the state using the Share button, and then copy the state id (the last number in the URL).  \n",
    "\n",
    "For example, for the share URL `https://neuroglancer.neuvue.io/?json_url=https://global.daf-apis.com/nglstate/api/v1/5560000195854336`, the state id is `5560000195854336`  \n",
    "\n",
    "You can then download the json and then use the `annotation_dataframe` function to generate a comprehensive dataframe of all the annotations in the state.  "
   ]
  },
  {
   "cell_type": "code",
   "execution_count": 1,
   "id": "88f2c1aa-03c0-4880-ae00-f6901d0246bf",
   "metadata": {},
   "outputs": [
    {
     "data": {
      "text/html": [
       "<div>\n",
       "<style scoped>\n",
       "    .dataframe tbody tr th:only-of-type {\n",
       "        vertical-align: middle;\n",
       "    }\n",
       "\n",
       "    .dataframe tbody tr th {\n",
       "        vertical-align: top;\n",
       "    }\n",
       "\n",
       "    .dataframe thead th {\n",
       "        text-align: right;\n",
       "    }\n",
       "</style>\n",
       "<table border=\"1\" class=\"dataframe\">\n",
       "  <thead>\n",
       "    <tr style=\"text-align: right;\">\n",
       "      <th></th>\n",
       "      <th>layer</th>\n",
       "      <th>anno_type</th>\n",
       "      <th>point</th>\n",
       "      <th>pointB</th>\n",
       "      <th>linked_segmentation</th>\n",
       "      <th>tags</th>\n",
       "      <th>group_id</th>\n",
       "      <th>description</th>\n",
       "    </tr>\n",
       "  </thead>\n",
       "  <tbody>\n",
       "    <tr>\n",
       "      <th>0</th>\n",
       "      <td>syns_in</td>\n",
       "      <td>point</td>\n",
       "      <td>[294095, 196476, 24560]</td>\n",
       "      <td>NaN</td>\n",
       "      <td>[864691136333760691]</td>\n",
       "      <td>[]</td>\n",
       "      <td>None</td>\n",
       "      <td>None</td>\n",
       "    </tr>\n",
       "    <tr>\n",
       "      <th>1</th>\n",
       "      <td>syns_in</td>\n",
       "      <td>point</td>\n",
       "      <td>[294879, 196374, 24391]</td>\n",
       "      <td>NaN</td>\n",
       "      <td>[864691136333760691]</td>\n",
       "      <td>[]</td>\n",
       "      <td>None</td>\n",
       "      <td>None</td>\n",
       "    </tr>\n",
       "    <tr>\n",
       "      <th>2</th>\n",
       "      <td>syns_in</td>\n",
       "      <td>point</td>\n",
       "      <td>[300246, 200562, 24297]</td>\n",
       "      <td>NaN</td>\n",
       "      <td>[864691136333760691]</td>\n",
       "      <td>[]</td>\n",
       "      <td>None</td>\n",
       "      <td>None</td>\n",
       "    </tr>\n",
       "    <tr>\n",
       "      <th>3</th>\n",
       "      <td>syns_in</td>\n",
       "      <td>point</td>\n",
       "      <td>[300894, 201844, 24377]</td>\n",
       "      <td>NaN</td>\n",
       "      <td>[864691136333760691]</td>\n",
       "      <td>[]</td>\n",
       "      <td>None</td>\n",
       "      <td>None</td>\n",
       "    </tr>\n",
       "    <tr>\n",
       "      <th>4</th>\n",
       "      <td>syns_in</td>\n",
       "      <td>point</td>\n",
       "      <td>[294742, 199552, 23392]</td>\n",
       "      <td>NaN</td>\n",
       "      <td>[864691136333760691]</td>\n",
       "      <td>[]</td>\n",
       "      <td>None</td>\n",
       "      <td>None</td>\n",
       "    </tr>\n",
       "  </tbody>\n",
       "</table>\n",
       "</div>"
      ],
      "text/plain": [
       "     layer anno_type                    point  pointB   linked_segmentation  \\\n",
       "0  syns_in     point  [294095, 196476, 24560]     NaN  [864691136333760691]   \n",
       "1  syns_in     point  [294879, 196374, 24391]     NaN  [864691136333760691]   \n",
       "2  syns_in     point  [300246, 200562, 24297]     NaN  [864691136333760691]   \n",
       "3  syns_in     point  [300894, 201844, 24377]     NaN  [864691136333760691]   \n",
       "4  syns_in     point  [294742, 199552, 23392]     NaN  [864691136333760691]   \n",
       "\n",
       "  tags group_id description  \n",
       "0   []     None        None  \n",
       "1   []     None        None  \n",
       "2   []     None        None  \n",
       "3   []     None        None  \n",
       "4   []     None        None  "
      ]
     },
     "execution_count": 1,
     "metadata": {},
     "output_type": "execute_result"
    }
   ],
   "source": [
    "import os\n",
    "from caveclient import CAVEclient\n",
    "from nglui import parser\n",
    "\n",
    "client = CAVEclient('minnie65_public')\n",
    "\n",
    "state_id = 5560000195854336\n",
    "state = client.state.get_state_json(state_id)\n",
    "parser.annotation_dataframe(state).head()"
   ]
  },
  {
   "cell_type": "markdown",
   "id": "8bbd6fd9-46ce-44a9-9355-ab00ad910f9e",
   "metadata": {},
   "source": [
    "\n",
    "Note that tags in the dataframe are stored as a list of integers, with each integer corresponding to one of the tags in the list.  \n",
    "\n",
    "To get the mapping between the tag index and the tag name for each layer, you can use the `tag_dictionary` function."
   ]
  },
  {
   "cell_type": "code",
   "execution_count": 2,
   "id": "5d108ad8-9e54-463b-8f85-39cf5fb47f45",
   "metadata": {},
   "outputs": [
    {
     "data": {
      "text/plain": [
       "{1: 'targets_spine', 2: 'targets_shaft', 3: 'targets_soma'}"
      ]
     },
     "execution_count": 2,
     "metadata": {},
     "output_type": "execute_result"
    }
   ],
   "source": [
    "parser.tag_dictionary(state, layer_name='syns_out')"
   ]
  },
  {
   "cell_type": "markdown",
   "id": "8a82f2f8-2c99-45a7-a3c7-c3fc28448999",
   "metadata": {},
   "source": [
    "### Generating Neuroglancer States from Data"
   ]
  },
  {
   "cell_type": "markdown",
   "id": "e796d979-b24b-4247-81e7-ce4a325f0c0a",
   "metadata": {},
   "source": [
    "The `nglui.statebuilder` package is used to build Neuroglancer states that express arbitrary data.\n",
    "\n",
    "The [Site Configuration](https://caveconnectome.github.io/nglui/usage/config/) options determine the default configurations for your `StateBuilder` objects. We will set this to `spelunker`, and set the materialization version to `661` for reproducibility."
   ]
  },
  {
   "cell_type": "code",
   "execution_count": 10,
   "id": "107ae3d2-69ab-42a5-843b-fbd47053e427",
   "metadata": {},
   "outputs": [],
   "source": [
    "from nglui import statebuilder\n",
    "statebuilder.site_utils.set_default_config(target_site='spelunker')\n",
    "\n",
    "client.version=661"
   ]
  },
  {
   "cell_type": "markdown",
   "id": "fcb3e18d-2cb6-4f36-9f44-c9c1e251a8ec",
   "metadata": {},
   "source": [
    "The general pattern is that one makes a \"StateBuilder\" object that has rules for how to build a Neuroglancer state layer by layer, including selecting certain neurons, and populate layers of annotations.  \n",
    "You then pass a DataFrame to the StateBuiler, and the rules tell it how to render the DataFrame into a Neuroglancer link.  \n",
    "The same set of rules can be used on similar dataframes but with different data, such as synapses from different neurons.  \n",
    "To understand the detailed use of the package, please see the [tutorial](https://caveconnectome.github.io/nglui/usage/statebuilder/).\n",
    "\n",
    "However, a number of basic helper functions allow `nglui` to be used for common functions in just a few lines.\n",
    "\n",
    "For example, to generate a Neuroglancer state that shows a neuron and its synaptic inputs and outputs, we can use the `make_neuron_neuroglancer_link` helper function."
   ]
  },
  {
   "cell_type": "code",
   "execution_count": 12,
   "id": "657910bc-023f-4be4-839f-2845d164259a",
   "metadata": {},
   "outputs": [
    {
     "data": {
      "text/html": [
       "<a href=\"https://spelunker.cave-explorer.org/#!middleauth+https://global.daf-apis.com/nglstate/api/v1/6739189258256384\">Neuroglancer Link</a>"
      ],
      "text/plain": [
       "<IPython.core.display.HTML object>"
      ]
     },
     "execution_count": 12,
     "metadata": {},
     "output_type": "execute_result"
    }
   ],
   "source": [
    "from nglui.statebuilder import helpers\n",
    "\n",
    "statebuilder.helpers.make_neuron_neuroglancer_link(\n",
    "    client,\n",
    "    864691135122603047,\n",
    "    show_inputs=True,\n",
    "    show_outputs=True,\n",
    "    return_as='html'\n",
    ")"
   ]
  },
  {
   "cell_type": "markdown",
   "id": "d95e8f9c-391a-4b0e-908d-dac7b6743f1c",
   "metadata": {},
   "source": [
    "The main helper functions are:\n",
    "\n",
    "* `make_neuron_neuroglancer_link` - Shows one or more neurons and, optionally, synaptic inputs and/or outputs.\n",
    "* `make_synapse_neuroglancer_link` - Using a pre-downloaded synapse table, make a link that shows the synapse and the listed synaptic partners.\n",
    "* `make_point_statebuilder` - Generate a statebuilder to map a dataframe containing points (by default, formatted like a cell types table) to a Neuroglancer link.\n",
    "\n",
    "In all cases, please look at the docstrings for more information on how to use the functions."
   ]
  }
 ],
 "metadata": {
  "kernelspec": {
   "display_name": "microns2025",
   "language": "python",
   "name": "microns2025"
  },
  "language_info": {
   "codemirror_mode": {
    "name": "ipython",
    "version": 3
   },
   "file_extension": ".py",
   "mimetype": "text/x-python",
   "name": "python",
   "nbconvert_exporter": "python",
   "pygments_lexer": "ipython3",
   "version": "3.11.11"
  }
 },
 "nbformat": 4,
 "nbformat_minor": 5
}
