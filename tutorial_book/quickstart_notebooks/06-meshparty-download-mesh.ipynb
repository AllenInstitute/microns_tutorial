{
 "cells": [
  {
   "cell_type": "markdown",
   "id": "c814402a-70ba-43fd-8083-ee549079e5a6",
   "metadata": {},
   "source": [
    "---\n",
    "title: \"MeshParty: Download Mesh\"\n",
    "aliases:\n",
    "    - programmatic_access/em_py_05_meshes.ipynb\n",
    "format: \n",
    "    html:\n",
    "        toc: true \n",
    "        code-fold: false\n",
    "        code-links:\n",
    "          - text: Download Quickstart Notebooks\n",
    "            icon: file-code\n",
    "            href: https://github.com/AllenInstitute/microns_tutorial/tree/main/tutorial_book/quickstart_notebooks\n",
    "execute:\n",
    "    eval: False\n",
    "    warning: False\n",
    "jupyter: python3\n",
    "bibliography: [../references.bib]\n",
    "---"
   ]
  },
  {
   "cell_type": "markdown",
   "id": "a425132d-4196-4add-a64f-f2469704078a",
   "metadata": {},
   "source": [
    "When trying to understand the fine 3d morphology of a neuron (e.g. features under 1 micron in scale), meshes are a particularly useful representation.\n",
    "More precisely, a mesh is a collection of vertices and faces that define a 3d surface.\n",
    "The exact meshes that one sees in Neuroglancer can also be loaded for analysis and visualization in other tools.\n",
    "\n",
    "## Downloading Meshes\n",
    "\n",
    "The easiest tool for downloading MICrONs meshes is [Meshparty](https://github.com/sdorkenw/MeshParty), which is a python module that can be installed with `pip install meshparty`.\n",
    "Documentation for Meshparty can be found [here](https://meshparty.readthedocs.io/en/latest/).\n",
    "\n",
    "Once installed, the typical way of getting meshes is by using a \"MeshMeta\" client that is told both the internet location of the meshes (`cv_path`) and a local directory in which to store meshes (`disk_cache_path`).\n",
    "Once initialized, the MeshMeta client can be used to download meshes for a given segmentation using its root id (`seg_id`).\n",
    "The following code snippet shows how to download an example mesh using a directory \"`meshes`\" as the local storage folder. "
   ]
  },
  {
   "cell_type": "markdown",
   "id": "435cfad9-31d3-438b-99ae-867f1a6f119c",
   "metadata": {},
   "source": [
    "::: {.callout-important}\n",
    "## Initial Setup\n",
    "Before using any programmatic access to the data, [you first need to set up your CAVEclient token](em_py_01_caveclient_setup.html).\n",
    ":::"
   ]
  },
  {
   "cell_type": "code",
   "execution_count": 2,
   "id": "b011ef59-ec37-43a9-9196-dc631c8ba225",
   "metadata": {
    "tags": []
   },
   "outputs": [
    {
     "name": "stderr",
     "output_type": "stream",
     "text": [
      "C:\\Users\\bethanny.danskin\\anaconda3\\envs\\microns2023\\lib\\site-packages\\python_jsonschema_objects\\__init__.py:113: UserWarning: Schema id not specified. Defaulting to 'self'\n",
      "  warnings.warn(\"Schema id not specified. Defaulting to 'self'\")\n",
      "Downloading Meshes: 100%|████████████████████████████████████████████████████████████████| 1/1 [00:41<00:00, 41.34s/it]"
     ]
    },
    {
     "name": "stdout",
     "output_type": "stream",
     "text": [
      "Warning: deduplication not currently supported for this layer's variable layered draco meshes\n"
     ]
    },
    {
     "name": "stderr",
     "output_type": "stream",
     "text": [
      "\n"
     ]
    }
   ],
   "source": [
    "import os\n",
    "from meshparty import trimesh_io\n",
    "from caveclient import CAVEclient\n",
    "client = CAVEclient('minnie65_public')\n",
    "\n",
    "mm = trimesh_io.MeshMeta(\n",
    "  cv_path=client.info.segmentation_source(),\n",
    "  disk_cache_path=\"meshes\",\n",
    ")\n",
    "\n",
    "root_id = 864691135014128278\n",
    "mesh = mm.mesh(seg_id=root_id)"
   ]
  },
  {
   "cell_type": "markdown",
   "id": "12f16024-3a7b-4312-b639-5f076467df2d",
   "metadata": {},
   "source": [
    "One convenience of using the `MeshMeta` approach is that if you have already downloaded a mesh for with a given root id, it will be loaded from disk rather than re-downloaded.\n",
    "\n",
    "If you have to download many meshes, it is somewhat faster to use the bulk `download_meshes` function and use multiple threads via the `n_threads` argument. If you download them to the same folder used for the MeshMeta object, they can be loaded through the same interface."
   ]
  },
  {
   "cell_type": "code",
   "execution_count": 3,
   "id": "b0105a35-1eb6-471b-898a-994f175b2fb9",
   "metadata": {
    "tags": []
   },
   "outputs": [
    {
     "name": "stderr",
     "output_type": "stream",
     "text": [
      "2024-01-24 16:09:46,041 - download_meshes_thread_graphene - ERROR - no retries left for process 0\n",
      "2024-01-24 16:09:46,044 - download_meshes_thread_graphene - ERROR - no retries left for process 1\n"
     ]
    }
   ],
   "source": [
    "root_ids = [864691135014128278, 864691134940133219]\n",
    "mm = trimesh_io.download_meshes(\n",
    "    seg_ids=root_ids,\n",
    "    target_dir='meshes',\n",
    "    cv_path=client.info.segmentation_source(),\n",
    "    n_threads=4, # Or whatever value you choose above one but less than the number of cores on your computer\n",
    ")"
   ]
  },
  {
   "cell_type": "markdown",
   "id": "e792e9f1-6027-45aa-a8bc-a6407d2796c7",
   "metadata": {},
   "source": [
    "::: {.callout-caution}\n",
    "## File size\n",
    "Meshes can be hundresds of megabytes in size, so be careful about downloading too many if the internet is not acting well or your computer doesn't have much disk space!\n",
    ":::"
   ]
  },
  {
   "cell_type": "markdown",
   "id": "820f3b79-73fe-4c2b-8591-c58c6a566a12",
   "metadata": {},
   "source": [
    "## Healing Mesh Gaps\n",
    "![Example of a continuous neuron whose mesh has a gap](../img/mesh-discontinuity.png)\n",
    "\n",
    "Many meshes are not actually fully continuous due to small gaps in the segmentation.\n",
    "However, information collected during proofreading allows one to partially repair these gaps by adding in links where the segmentation was merged across a small gap.\n",
    "If you are just visualizaing a mesh, these gaps are not a problem, but if you want to do analysis on the mesh, you will want to heal these gaps.\n",
    "Conveniently, there's a function to do this:"
   ]
  },
  {
   "cell_type": "code",
   "execution_count": null,
   "id": "604ca384-f662-461b-82e4-6136d1a9542f",
   "metadata": {},
   "outputs": [],
   "source": [
    "mesh.add_link_edges(\n",
    "    seg_id=864691134940133219, # This needs to be the same as the root id used to download the mesh\n",
    "    client=client.chunkedgraph,\n",
    ")"
   ]
  },
  {
   "cell_type": "markdown",
   "id": "329ef552-814f-484d-95ad-bac637921ef5",
   "metadata": {},
   "source": [
    "## Properties\n",
    "\n",
    "Meshes have a large number of properties, many of which come from being based on the [Trimesh](https://trimsh.org/) library's mesh format, and others being specific to MeshParty.\n",
    "\n",
    "Several of the most important properties are:\n",
    "\n",
    "* `mesh.vertices` : An `N x 3` list of vertices and their 3d location in nanometers, where `N` is the number of vertices.\n",
    "* `mesh.faces` : An `P x 3` list of integers, with each row specifying a triangle of connected vertex indices.\n",
    "* `mesh.edges` : An `M x 2` list of integers, with each row specifying a pair of connected vertex indices based off of faces.\n",
    "* `mesh.edges` : An `M x 2` list of integers, with each row specifying a pair of connected vertex indices based off of faces.\n",
    "* `mesh.link_edges` : An `M_l x 2` list of integers, with each row specifying a pair of \"link edges\" that were used to heal gaps based on proofreading edits.\n",
    "* `mesh.graph_edges` : An `(M+M_l) x 2` list of integers, with each row specifying a pair of graph edges, which is the collection of both `mesh.edges` and `mesh.link_edges`.\n",
    "* `mesh.csgraph` : A [Scipy Compressed Sparse Graph](https://docs.scipy.org/doc/scipy/reference/sparse.csgraph.html) representation of the mesh as an `NxN` graph of vertices connected to one another using graph edges and with edge weights being the distance between vertices. This is particularly useful for computing shortest paths between vertices.\n",
    "\n",
    "::: {.calloute-warning}\n",
    "MICrONs meshes are not generally \"watertight\", a property that would enable a number of properties to be computed natively by Trimesh. Because of this, Trimesh-computed properties relating to solid forms or volumes like `mesh.volume` or `mesh.center_mass` do not have sensible values and other approaches should be taken. Unfortunately, because of the Trimesh implementation of these properties it is up to the user to be aware of this issue.\n",
    ":::"
   ]
  },
  {
   "cell_type": "markdown",
   "id": "9dc44945-c804-4e17-ae66-6b85f40d83a2",
   "metadata": {},
   "source": [
    "## Visualization\n",
    "\n",
    "There are a variety of tools for visualizing meshes in python.\n",
    "MeshParty interfaces with VTK, a powerful but complex data visualization library that does not always work well in python.\n",
    "The basic pattern for MeshParty's VTK integration is to create one or more \"actors\" from the data, and then pass those to a renderer that can be displayed in an interactive approach.\n",
    "The following code snippet shows how to visualize a mesh using this approach."
   ]
  },
  {
   "cell_type": "code",
   "execution_count": null,
   "id": "19611a9c-c651-4296-b790-8996a220cda1",
   "metadata": {},
   "outputs": [],
   "source": [
    "mesh_actor = trimesh_vtk.mesh_actor(\n",
    "  mesh,\n",
    "  color=(1,0,0),\n",
    "  opacity=0.5,\n",
    ")\n",
    "trimesh_vtk.render_actors([mesh_actor])"
   ]
  },
  {
   "cell_type": "markdown",
   "id": "6f491e49-c8e7-4bcf-9cec-47a5dc05f09c",
   "metadata": {},
   "source": [
    "Note that by default, neurons will appear upside down because the coordinate system of the dataset has the y-axis value increasing along the \"downward\" pia to white matter axis.\n",
    "\n",
    "More documentation on the MeshParty VTK visualization can be [found here](https://meshparty.readthedocs.io/en/latest/source/meshparty.html).\n",
    "\n",
    "Other tools worth exploring are:\n",
    "\n",
    "* [PyVista](https://docs.pyvista.org/)\n",
    "* [Polyscope](https://polyscope.run/)\n",
    "* [Vedo](https://vedo.embl.es/)\n",
    "* [MeshLab](https://www.meshlab.net/)\n",
    "* If you have some existing experience, [Blender](https://www.blender.org/) (see Blender integration by our friends behind [Navis](https://navis.readthedocs.io/en/latest/source/blender.html), a fly-focused framework analyzing connectomics data).\n"
   ]
  },
  {
   "cell_type": "markdown",
   "id": "e7def6cd-1230-48c3-991f-ef7bae98f6d3",
   "metadata": {},
   "source": [
    "## Masking\n",
    "\n",
    "One of the most common operations on meshes is to mask them to a particular region of interest.\n",
    "This can be done by \"masking\" the mesh with a boolean array of length `N` where `N` is the number of vertices in the mesh, with `True` where the vertex should be kept and `False` where it should be omitted.\n",
    "There are several convenience functions to generate common masks in the [Mesh Filters](https://meshparty.readthedocs.io/en/latest/source/meshparty.html#module-meshparty.mesh_filters) module.\n",
    "\n",
    "In the following example, we will first mask out all vertices that aren't part of the largest connected component of the mesh (i.e. get rid of floating vertices that might arise due to internal surfaces) and then mask out all vertices that are more than 20,000 nm away from the soma center."
   ]
  },
  {
   "cell_type": "code",
   "execution_count": null,
   "id": "1187934a-43cf-468b-9211-c3fbba2e6c99",
   "metadata": {},
   "outputs": [],
   "source": [
    "from meshparty import mesh_filters\n",
    "\n",
    "root_id =864691134940133219 \n",
    "root_point = client.materialize.tables.nucleus_detection_v0(pt_root_id=root_id).query()['pt_position'].values[0] * [4,4,40]  # Convert the nucleus location from voxels to nanometers via the data resolution.\n",
    "\n",
    "mesh = mm.mesh(seg_id=root_id)\n",
    "# Heal gaps in the mesh\n",
    "mesh.add_link_edges(\n",
    "    seg_id=864691134940133219,\n",
    "    client=client.chunkedgraph,\n",
    ")\n",
    "\n",
    "# Generate and use the largest component mask\n",
    "comp_mask = mesh_filters.filter_largest_component(mesh)\n",
    "mask_filt = mesh.apply_mask(comp_mask)\n",
    "\n",
    "soma_mask = mesh_filters.filter_spatial_distance_from_points(\n",
    "    mask_filt,\n",
    "    root_point,\n",
    "    20_000, # Note that this is in nanometers\n",
    ")\n",
    "mesh_soma = mesh.apply_mask(soma_mask)"
   ]
  },
  {
   "cell_type": "markdown",
   "id": "97524052-fd81-417f-89b4-1e58e60d1c63",
   "metadata": {},
   "source": [
    "This resulting mesh is just a small cutout around the soma.\n",
    "![Soma cutout from a full-neuron mesh](../img/soma_mesh_cutout.png)"
   ]
  }
 ],
 "metadata": {
  "kernelspec": {
   "display_name": "microns",
   "language": "python",
   "name": "microns"
  },
  "language_info": {
   "codemirror_mode": {
    "name": "ipython",
    "version": 3
   },
   "file_extension": ".py",
   "mimetype": "text/x-python",
   "name": "python",
   "nbconvert_exporter": "python",
   "pygments_lexer": "ipython3",
   "version": "3.8.17"
  }
 },
 "nbformat": 4,
 "nbformat_minor": 5
}
