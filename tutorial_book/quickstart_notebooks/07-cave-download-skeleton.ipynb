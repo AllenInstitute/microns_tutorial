{
 "cells": [
  {
   "cell_type": "markdown",
   "id": "dc5e1488-fea4-4470-b7da-6c2686b2dbc6",
   "metadata": {
    "tags": []
   },
   "source": [
    "---\n",
    "title: \"Download Skeletons\"\n",
    "aliases: \n",
    "    - em_py_04_skeleton_pathlength.html\n",
    "    - ../programmatic_access/em_py_04_skeleton_pathlength.html\n",
    "draft: false\n",
    "format: \n",
    "    html:\n",
    "        toc: true \n",
    "        code-fold: false\n",
    "        code-links:\n",
    "          - text: Download Quickstart Notebooks\n",
    "            icon: file-code\n",
    "            href: https://github.com/AllenInstitute/microns_tutorial/tree/main/tutorial_book/quickstart_notebooks\n",
    "execute:\n",
    "    eval: False\n",
    "    warning: False\n",
    "jupyter: python3\n",
    "---"
   ]
  },
  {
   "cell_type": "markdown",
   "id": "451551b0-323c-49cb-ad2a-88fb019f2cf6",
   "metadata": {},
   "source": [
    "{{< include ../_annotation_tables/_version_tip.qmd >}}"
   ]
  },
  {
   "cell_type": "markdown",
   "id": "323c1e07-0303-41ee-830f-9b113ba6995f",
   "metadata": {},
   "source": [
    "## Connected morphological representations: skeletons\n",
    "\n",
    "Often in thinking about neurons, you want to measure things along a linear dimension of a neuron.\n",
    "\n",
    "However, the segmentation and meshes are a full complex 3d shape that makes this non-trivial. There are methods for reducing the shape of a segmented neuron down to a linear tree like structure usually referred to as a __skeleton__. We have precalculated skeletons for a large number of cells in the dataset, and make the skeleton generation available on our server, on demand. \n",
    "\n",
    "The meshes that one sees in Neuroglancer are available to download through the python client [cloud-volume](https://github.com/seung-lab/cloud-volume), and can be loaded for analysis and visualization in other tools.\n",
    "\n",
    "{{< include _morphological_representations.qmd >}}\n",
    "\n"
   ]
  },
  {
   "attachments": {},
   "cell_type": "markdown",
   "id": "173a243a-464c-4d90-aad2-67204589f84e",
   "metadata": {},
   "source": [
    "## What is a Precomputed skeleton?\n",
    "\n",
    "These skeletons are stored in the cloud as a bytes-IO object, which can be viewed in __Neuroglancer__, or downloaded with __CAVEclient.skeleton__ module. These precomputed skeletons also contain annotations on the skeletons that have the synapses, which skeleton nodes are axon and which are dendrite, and which are likely the apical dendrite of excitatory neurons.\n",
    "\n",
    "\n",
    "![pyChunkedGraph Skeleton](../img/skeleton-cartoon.png)\n",
    "\n",
    "For more on how skeletons are generated from the mesh objects, and additional tools for generating, cacheing, and downloading meshes, [see the Skeleton Service documentation](https://caveconnectome.github.io/CAVEclient/tutorials/skeletonization/)"
   ]
  },
  {
   "cell_type": "markdown",
   "id": "6b74a5c4-991d-4eb5-9e7e-a5ac6f25f506",
   "metadata": {},
   "source": [
    "## CAVEclient to download skeletons\n",
    "Retrieve a skeleton using `get_skeleton()`. The available output_formats (described below) are:\n",
    "\n",
    "* `dict` containing vertices, edges, radius, compartment, and various metadata (default if unspecified)\n",
    "* `swc` a Pandas Dataframe in the SWC format, with ordered vertices, edges, compartment labels, and radius.\n",
    "\n",
    "Note: if the skeleton doesn't exist in the server cache, it may take 20-60 seconds to generate the skeleton before it is returned. This function will block during that time. Any subsequent retrieval of the same skeleton should go very quickly however."
   ]
  },
  {
   "cell_type": "markdown",
   "id": "caa304d2-649a-40ff-ac45-55eb2ef66a9b",
   "metadata": {},
   "source": [
    "::: {.callout-important}\n",
    "## Initial Setup\n",
    "Before using any programmatic access to the data, [you first need to set up your CAVEclient token](em_py_01_caveclient_setup.html).\n",
    ":::"
   ]
  },
  {
   "cell_type": "code",
   "execution_count": 1,
   "id": "77b3b569-d8cf-40cd-aea3-6c51042d5d3b",
   "metadata": {},
   "outputs": [],
   "source": [
    "from caveclient import CAVEclient\n",
    "import numpy as np\n",
    "import pandas as pd\n",
    "\n",
    "client = CAVEclient(\"minnie65_public\")\n",
    "\n",
    "# specify the materialization version, for consistency across time\",\n",
    "client.version = 1412\n",
    "\n",
    "# Example: pyramidal cell in v1412\n",
    "example_cell_id = 864691135572530981"
   ]
  },
  {
   "cell_type": "code",
   "execution_count": 2,
   "id": "8664e1d0-3fc3-41b2-a212-061bedf48c7f",
   "metadata": {},
   "outputs": [
    {
     "data": {
      "text/html": [
       "<div>\n",
       "<style scoped>\n",
       "    .dataframe tbody tr th:only-of-type {\n",
       "        vertical-align: middle;\n",
       "    }\n",
       "\n",
       "    .dataframe tbody tr th {\n",
       "        vertical-align: top;\n",
       "    }\n",
       "\n",
       "    .dataframe thead th {\n",
       "        text-align: right;\n",
       "    }\n",
       "</style>\n",
       "<table border=\"1\" class=\"dataframe\">\n",
       "  <thead>\n",
       "    <tr style=\"text-align: right;\">\n",
       "      <th></th>\n",
       "      <th>id</th>\n",
       "      <th>type</th>\n",
       "      <th>x</th>\n",
       "      <th>y</th>\n",
       "      <th>z</th>\n",
       "      <th>radius</th>\n",
       "      <th>parent</th>\n",
       "    </tr>\n",
       "  </thead>\n",
       "  <tbody>\n",
       "    <tr>\n",
       "      <th>0</th>\n",
       "      <td>0</td>\n",
       "      <td>1</td>\n",
       "      <td>1365.120</td>\n",
       "      <td>763.456</td>\n",
       "      <td>812.60</td>\n",
       "      <td>3.643</td>\n",
       "      <td>-1</td>\n",
       "    </tr>\n",
       "    <tr>\n",
       "      <th>1</th>\n",
       "      <td>1</td>\n",
       "      <td>3</td>\n",
       "      <td>1368.200</td>\n",
       "      <td>755.760</td>\n",
       "      <td>811.24</td>\n",
       "      <td>0.300</td>\n",
       "      <td>0</td>\n",
       "    </tr>\n",
       "    <tr>\n",
       "      <th>2</th>\n",
       "      <td>2</td>\n",
       "      <td>3</td>\n",
       "      <td>1368.200</td>\n",
       "      <td>758.552</td>\n",
       "      <td>811.68</td>\n",
       "      <td>1.915</td>\n",
       "      <td>1</td>\n",
       "    </tr>\n",
       "    <tr>\n",
       "      <th>3</th>\n",
       "      <td>3</td>\n",
       "      <td>3</td>\n",
       "      <td>1368.200</td>\n",
       "      <td>758.560</td>\n",
       "      <td>812.12</td>\n",
       "      <td>1.915</td>\n",
       "      <td>2</td>\n",
       "    </tr>\n",
       "    <tr>\n",
       "      <th>4</th>\n",
       "      <td>4</td>\n",
       "      <td>3</td>\n",
       "      <td>1368.192</td>\n",
       "      <td>758.560</td>\n",
       "      <td>812.44</td>\n",
       "      <td>2.815</td>\n",
       "      <td>3</td>\n",
       "    </tr>\n",
       "  </tbody>\n",
       "</table>\n",
       "</div>"
      ],
      "text/plain": [
       "   id  type         x        y       z  radius  parent\n",
       "0   0     1  1365.120  763.456  812.60   3.643      -1\n",
       "1   1     3  1368.200  755.760  811.24   0.300       0\n",
       "2   2     3  1368.200  758.552  811.68   1.915       1\n",
       "3   3     3  1368.200  758.560  812.12   1.915       2\n",
       "4   4     3  1368.192  758.560  812.44   2.815       3"
      ]
     },
     "execution_count": 2,
     "metadata": {},
     "output_type": "execute_result"
    }
   ],
   "source": [
    "sk_df = client.skeleton.get_skeleton(example_cell_id, output_format='swc')\n",
    "\n",
    "sk_df.head()"
   ]
  },
  {
   "cell_type": "markdown",
   "id": "79fad651-d665-4477-9444-6571e747f869",
   "metadata": {},
   "source": [
    "Skeletons are \"tree-like\", where every vertex (except the root vertex) has a single parent that is closer to the root than it, and any number of child vertices. Because of this, for a skeleton there are well-defined directions \"away from root\" and \"towards root\" and few types of vertices have special names:\n",
    "\n",
    "You can see these vertices and edges represented in the alternative `dict` skeleton output."
   ]
  },
  {
   "cell_type": "code",
   "execution_count": 3,
   "id": "96328dcc-781e-4425-9858-58491c5e9e4b",
   "metadata": {},
   "outputs": [
    {
     "data": {
      "text/plain": [
       "dict_keys(['meta', 'edges', 'mesh_to_skel_map', 'root', 'vertices', 'compartment', 'radius'])"
      ]
     },
     "execution_count": 3,
     "metadata": {},
     "output_type": "execute_result"
    }
   ],
   "source": [
    "sk_dict = client.skeleton.get_skeleton(example_cell_id, output_format='dict')\n",
    "\n",
    "sk_dict.keys()"
   ]
  },
  {
   "cell_type": "markdown",
   "id": "34b63287-753f-4672-9168-01d301a6df12",
   "metadata": {},
   "source": [
    "Alternately, you can query a set of root_ids, for example all of the **proofread cells** in the dataset, and bulk download the skeletons"
   ]
  },
  {
   "cell_type": "code",
   "execution_count": 4,
   "id": "c9fee259-8741-4d3b-81a3-d0a1c2beda6a",
   "metadata": {},
   "outputs": [
    {
     "data": {
      "text/plain": [
       "0    864691135308929350\n",
       "1    864691135163673901\n",
       "2    864691136812081779\n",
       "Name: pt_root_id, dtype: int64"
      ]
     },
     "execution_count": 4,
     "metadata": {},
     "output_type": "execute_result"
    }
   ],
   "source": [
    "prf_root_ids = client.materialize.tables.proofreading_status_and_strategy(\n",
    "    status_axon='t').query()['pt_root_id']\n",
    "prf_root_ids.head(3)"
   ]
  },
  {
   "cell_type": "code",
   "execution_count": 5,
   "id": "9260c7ec-4780-4043-a435-b81e42d6a791",
   "metadata": {
    "scrolled": true
   },
   "outputs": [
    {
     "data": {
      "text/plain": [
       "dict_keys(['864691135308929350', '864691135163673901', '864691136812081779'])"
      ]
     },
     "execution_count": 5,
     "metadata": {},
     "output_type": "execute_result"
    }
   ],
   "source": [
    "all_sk_dict = client.skeleton.get_bulk_skeletons(\n",
    "    prf_root_ids.head(3), \n",
    "    generate_missing_skeletons=True,\n",
    "    output_format='dict',\n",
    "    skeleton_version=4)\n",
    "\n",
    "all_sk_dict.keys()"
   ]
  },
  {
   "cell_type": "code",
   "execution_count": 6,
   "id": "44de057f-12ec-42c9-bb47-321b5a7ed56b",
   "metadata": {
    "scrolled": true
   },
   "outputs": [
    {
     "data": {
      "text/plain": [
       "dict_keys(['meta', 'edges', 'mesh_to_skel_map', 'root', 'vertices', 'compartment', 'radius', 'lvl2_ids'])"
      ]
     },
     "execution_count": 6,
     "metadata": {},
     "output_type": "execute_result"
    }
   ],
   "source": [
    "all_sk_dict['864691135308929350'].keys()"
   ]
  },
  {
   "cell_type": "markdown",
   "id": "46c6517d-e907-47a1-b4d1-b16dada360b7",
   "metadata": {},
   "source": [
    "### convert dictionary to meshwork skeleton\n",
    "We use the python package __Meshparty__ to convert between mesh representations of neurons, and skeleton representations. \n",
    "\n",
    "See [Download Meshes | MeshParty](06-cloudvolume-download-meshes.html) for more details.\n",
    "\n",
    "Skeletons are \"tree-like\", where every vertex (except the root vertex) has a single parent that is closer to the root than it, and any number of child vertices. Because of this, for a skeleton there are well-defined directions \"away from root\" and \"towards root\" and few types of vertices have special names:\n",
    "\n",
    "Converting the pregenerated skeleton `sk_dict` to a meshwork object `sk` converts the skeleton to a graph object, for convenient representation and analysis."
   ]
  },
  {
   "cell_type": "code",
   "execution_count": 7,
   "id": "e1b32cf4-e581-4383-92f6-668b3b8e057a",
   "metadata": {},
   "outputs": [],
   "source": [
    "from meshparty.skeleton import Skeleton\n",
    "\n",
    "sk = Skeleton.from_dict(sk_dict)"
   ]
  },
  {
   "cell_type": "markdown",
   "id": "18b3a8d6-1efa-4e8d-870d-5bebdfc834b8",
   "metadata": {},
   "source": [
    "## Plot with skeleton_plot\n",
    "\n",
    "\n",
    "Our convenience package __skeleton_plot__ renders the skeleton in aligned, 2D views.\n",
    "\n",
    "```python\n",
    "pip install skeleton_plot\n",
    "```\n",
    "\n",
    "Our convenience package __skeleton_plot__ renders the skeleton in aligned, 2D views, with the compartments labeled in different colors. Here, _dendrite_ is red, _axon_ is blue, and _soma_ (the root of the connected graph) is olive"
   ]
  },
  {
   "cell_type": "code",
   "execution_count": 8,
   "id": "6ce2582a-f097-4ca3-8fb3-40d6730f6f64",
   "metadata": {},
   "outputs": [
    {
     "data": {
      "image/png": "[encoded data removed]",
      "text/plain": [
       "<Figure size 640x480 with 1 Axes>"
      ]
     },
     "metadata": {},
     "output_type": "display_data"
    }
   ],
   "source": [
    "from skeleton_plot.plot_tools import plot_skel\n",
    "\n",
    "plot_skel(sk=sk,\n",
    "          invert_y=True,\n",
    "          pull_compartment_colors=True,\n",
    "          plot_soma=True,\n",
    "         )"
   ]
  },
  {
   "cell_type": "markdown",
   "id": "9afb31f4-591f-4d14-a901-468235f1f26b",
   "metadata": {},
   "source": [
    "## Download or generate skeletons with `pcg_skel`\n",
    "\n",
    "`pcg_skel` is a package used to rapidly build neuronal skeletons from electron microscopy data in the CAVE ecosystem. It integrates structural data, connectivity data, and local features stored across many aspects of a CAVE system, and creates objects as [Meshparty](https://github.com/CAVEconnectome/MeshParty) meshes, skeletons, and MeshWork files for subsequent analysis. \n",
    "\n",
    "By harnessing the way the structural data is stored, you can build skeletons for even very large neurons quickly and with little memory use.\n",
    "\n",
    "To install pcg_skel, use pip. \n",
    "\n",
    "```python\n",
    "pip install pcg_skel\n",
    "```\n",
    "\n",
    "By loading a skeleton as a meshwork skeleton, you can easily 'rehydrate' the mesh features of the neuron (annotations such as **synapses** and **compartment labels**) and MeshParty functions (such as *masking* and *pathlength*)"
   ]
  },
  {
   "cell_type": "code",
   "execution_count": 9,
   "id": "6d9ce395-bfae-498a-9380-ce06f6032ed8",
   "metadata": {},
   "outputs": [
    {
     "name": "stderr",
     "output_type": "stream",
     "text": [
      "WARNING:root:Deprecation: this method is to facilitate beta testing of this feature,             it will likely get removed in future versions. \n",
      "WARNING:root:Deprecation: this method is to facilitate beta testing of this feature,             it will likely get removed in future versions. \n"
     ]
    },
    {
     "data": {
      "text/plain": [
       "<meshparty.meshwork.meshwork.Meshwork at 0x29f79b4cc50>"
      ]
     },
     "execution_count": 9,
     "metadata": {},
     "output_type": "execute_result"
    }
   ],
   "source": [
    "from pcg_skel import get_meshwork_from_client\n",
    "\n",
    "sk_mesh = get_meshwork_from_client(example_cell_id,\n",
    "                                   client=client,\n",
    "                                   synapses=True,\n",
    "                                   restore_graph=True,\n",
    "                                   restore_properties=True,\n",
    "                                   skeleton_version=4,\n",
    ")\n",
    "sk_mesh"
   ]
  },
  {
   "cell_type": "markdown",
   "id": "50c2ef7a-a56c-49b4-bd21-66f8db50d99a",
   "metadata": {},
   "source": [
    "Skeletons are \"tree-like\", where every vertex (except the root vertex) has a single parent that is closer to the root than it, and any number of child vertices. Because of this, for a skeleton there are well-defined directions \"away from root\" and \"towards root\" and few types of vertices have special names:\n",
    "\n",
    "* `Branch point`: vertices with two or more children, where a neuronal process splits.\n",
    "* `End point`: vertices with no childen, where a neuronal process ends.\n",
    "* `Root point`: The one vertex with no parent node. By convention, we typically set the root vertex at the cell body, so these are equivalent to \"away from soma\" and \"towards soma\".\n",
    "* `Segment`: A collection of vertices along an unbranched region, between one branch point and the next end point or branch point downstream.\n",
    "\n",
    "MeshWork skeletons represent the neuron as a graph, with tools and properties to utilize the skeleton `csgraph`.\n",
    "\n",
    "**Properties**\n",
    "\n",
    "* `branch_points`: a list of skeleton vertices which are branches\n",
    "* `root`: the skeleton vertice which is the soma\n",
    "* `distance_to_root`: an array the length of vertices which tells you how far away from the root each vertex is\n",
    "* `root_position`: the position of the root node in nanometers\n",
    "* `end_points`: the tips of the neuron\n",
    "* `cover_paths`: a list of arrays containing vertex indices that describe individual paths that in total cover the neuron without repeating a vertex. Each path starts at an end point and continues toward root, stopping once it gets to a vertex already listed in a previously defined path. Paths are ordered to start with the end points farthest from root first. Each skeleton vertex appears in exactly one cover path.\n",
    "* `csgraph`: a scipy.sparse.csr.csr_matrix containing a graph representation of the skeleton. Useful to do more advanced graph operations and algorithms. https://docs.scipy.org/doc/scipy/reference/sparse.csgraph.html\n",
    "* `kdtree`: a scipy.spatial.ckdtree.cKDTree containing the vertices of skeleton as a kdtree. Useful for quickly finding points that are nearby. https://docs.scipy.org/doc/scipy/reference/generated/scipy.spatial.cKDTree.html\n",
    "\n",
    "**Methods**\n",
    "\n",
    "* `path_length(paths=None)`: the path length of the whole neuron if no arguments, or pass a list of paths to get the path length of that. A path is just a list of vertices which are connected by edges.\n",
    "* `path_to_root(vertex_index)`: returns the path to the root from the passed vertex\n",
    "* `path_between(source_index, target_index)`: the shortest path between the source vertex index and the target vertex index\n",
    "* `child_nodes(vertex_indices)`: a list of arrays listing the children of the vertex indices passed in\n",
    "* `parent_nodes(vertex_indices)`: an array listing the parent of the vertex indices passed in\n",
    "\n",
    "You access each of these properties and methods with `sk.skeleton.*` Use the ? to read more details about each one"
   ]
  },
  {
   "cell_type": "markdown",
   "id": "80e3958e-b3d0-4aaa-9b7a-fad88c2d482f",
   "metadata": {},
   "source": [
    "### Annotation properties\n",
    "\n",
    "`sk.anno` has set of annotation tables containing some additional information for analysis.\n",
    "Each annotation table has both a Pandas DataFrame object storing data and additional information that allow the rows of the DataFrame to be mapped to mesh and skeleton vertices.\n",
    "For the neurons that have been pre-computed, there is a consisent set of annotation tables:\n",
    "\n",
    "* `post_syn`: Postsynaptic sites (inputs) for the cell\n",
    "* `pre_syn`: Presynaptic sites (outputs) for the cell\n",
    "* `is_axon`: List of vertices that have been labeled as part of the axon\n",
    "* `lvl2_ids`: Gives the PCG level 2 id for each mesh vertex, largely for book-keeping reasons.\n",
    "* `segment_properties`: For each vertex, information about the approximate radius, surface area, volume, and length of the segment it is on.\n",
    "* `vol_prop`: For every vertex, information about the volume and surface area of the level 2 id it is associated with.\n",
    "\n",
    "To access one of the DataFrames, use the name of the table as an attribute of the `anno` object and then get the `.df` property. For example, to get the postsynaptic sites, we can do:"
   ]
  },
  {
   "cell_type": "code",
   "execution_count": 10,
   "id": "030c0934-e3c8-4c5b-9786-0549895d51bd",
   "metadata": {},
   "outputs": [
    {
     "data": {
      "text/html": [
       "<div>\n",
       "<style scoped>\n",
       "    .dataframe tbody tr th:only-of-type {\n",
       "        vertical-align: middle;\n",
       "    }\n",
       "\n",
       "    .dataframe tbody tr th {\n",
       "        vertical-align: top;\n",
       "    }\n",
       "\n",
       "    .dataframe thead th {\n",
       "        text-align: right;\n",
       "    }\n",
       "</style>\n",
       "<table border=\"1\" class=\"dataframe\">\n",
       "  <thead>\n",
       "    <tr style=\"text-align: right;\">\n",
       "      <th></th>\n",
       "      <th>id</th>\n",
       "      <th>size</th>\n",
       "      <th>pre_pt_supervoxel_id</th>\n",
       "      <th>post_pt_supervoxel_id</th>\n",
       "      <th>post_pt_root_id</th>\n",
       "      <th>pre_pt_position</th>\n",
       "      <th>post_pt_position</th>\n",
       "      <th>ctr_pt_position</th>\n",
       "      <th>post_pt_level2_id</th>\n",
       "      <th>post_pt_mesh_ind</th>\n",
       "      <th>post_pt_mesh_ind_filt</th>\n",
       "    </tr>\n",
       "  </thead>\n",
       "  <tbody>\n",
       "    <tr>\n",
       "      <th>0</th>\n",
       "      <td>456611088</td>\n",
       "      <td>5140</td>\n",
       "      <td>113239596703504810</td>\n",
       "      <td>113239596703516355</td>\n",
       "      <td>864691135572530981</td>\n",
       "      <td>[1410648.0, 729000.0, 850240.0]</td>\n",
       "      <td>[1410800.0, 728960.0, 850520.0]</td>\n",
       "      <td>[1410672.0, 728960.0, 850280.0]</td>\n",
       "      <td>185297190741082374</td>\n",
       "      <td>11880</td>\n",
       "      <td>11880</td>\n",
       "    </tr>\n",
       "    <tr>\n",
       "      <th>1</th>\n",
       "      <td>460786295</td>\n",
       "      <td>1904</td>\n",
       "      <td>114084296310348680</td>\n",
       "      <td>114084365029814954</td>\n",
       "      <td>864691135572530981</td>\n",
       "      <td>[1434984.0, 737808.0, 794360.0]</td>\n",
       "      <td>[1435488.0, 738120.0, 794120.0]</td>\n",
       "      <td>[1435224.0, 737856.0, 794400.0]</td>\n",
       "      <td>186141959067271764</td>\n",
       "      <td>13325</td>\n",
       "      <td>13325</td>\n",
       "    </tr>\n",
       "    <tr>\n",
       "      <th>2</th>\n",
       "      <td>415745273</td>\n",
       "      <td>14532</td>\n",
       "      <td>110214290325399938</td>\n",
       "      <td>110214290325398722</td>\n",
       "      <td>864691135572530981</td>\n",
       "      <td>[1322336.0, 744768.0, 807360.0]</td>\n",
       "      <td>[1322032.0, 744560.0, 807440.0]</td>\n",
       "      <td>[1322120.0, 744656.0, 807360.0]</td>\n",
       "      <td>182271884363039168</td>\n",
       "      <td>3695</td>\n",
       "      <td>3695</td>\n",
       "    </tr>\n",
       "  </tbody>\n",
       "</table>\n",
       "</div>"
      ],
      "text/plain": [
       "          id   size  pre_pt_supervoxel_id  post_pt_supervoxel_id  \\\n",
       "0  456611088   5140    113239596703504810     113239596703516355   \n",
       "1  460786295   1904    114084296310348680     114084365029814954   \n",
       "2  415745273  14532    110214290325399938     110214290325398722   \n",
       "\n",
       "      post_pt_root_id                  pre_pt_position  \\\n",
       "0  864691135572530981  [1410648.0, 729000.0, 850240.0]   \n",
       "1  864691135572530981  [1434984.0, 737808.0, 794360.0]   \n",
       "2  864691135572530981  [1322336.0, 744768.0, 807360.0]   \n",
       "\n",
       "                  post_pt_position                  ctr_pt_position  \\\n",
       "0  [1410800.0, 728960.0, 850520.0]  [1410672.0, 728960.0, 850280.0]   \n",
       "1  [1435488.0, 738120.0, 794120.0]  [1435224.0, 737856.0, 794400.0]   \n",
       "2  [1322032.0, 744560.0, 807440.0]  [1322120.0, 744656.0, 807360.0]   \n",
       "\n",
       "    post_pt_level2_id  post_pt_mesh_ind  post_pt_mesh_ind_filt  \n",
       "0  185297190741082374             11880                  11880  \n",
       "1  186141959067271764             13325                  13325  \n",
       "2  182271884363039168              3695                   3695  "
      ]
     },
     "execution_count": 10,
     "metadata": {},
     "output_type": "execute_result"
    }
   ],
   "source": [
    "sk_mesh.anno.post_syn.df.head(3)"
   ]
  },
  {
   "cell_type": "markdown",
   "id": "08c63ad9-8cfa-4667-8f4a-d82161f60177",
   "metadata": {},
   "source": [
    "However, in addition to these rows, you can also easily get the mesh vertex index or skeleton vertex index that a row corresponds to with `nrn.anno.post_syn.mesh_index` or `nrn.anno.post_syn.skel_index` respectively.\n",
    "This seems small, but it allows you to integrate skeleton-like measurements with annotations trivially.\n",
    "\n",
    "For example, to get the distance from the cell body for each postsynaptic site, we can do:"
   ]
  },
  {
   "cell_type": "code",
   "execution_count": 11,
   "id": "fe6fa2bb-ef6b-4d8d-a595-f5ed1c2bcb07",
   "metadata": {},
   "outputs": [
    {
     "data": {
      "text/plain": [
       "array([104938.90991211,  90399.17230225,  52673.86270142, ...,\n",
       "        70199.43048096, 212153.28248978,  91076.815979  ])"
      ]
     },
     "execution_count": 11,
     "metadata": {},
     "output_type": "execute_result"
    }
   ],
   "source": [
    "sk_mesh.distance_to_root(sk_mesh.anno.post_syn.mesh_index)"
   ]
  },
  {
   "cell_type": "markdown",
   "id": "98bc0b89-764f-4c54-9a40-45c4f8ddba3e",
   "metadata": {},
   "source": [
    "::: {.callout-note}\n",
    "Note that the `sk.distance_to_root`, like all basic meshwork object functions, expects a mesh vertex index rather than a skeleton vertex index.\n",
    ":::\n",
    "\n",
    "A common pattern is to copy a synapse dataframe and then add columns to it.\n",
    "For example, to add the distance to root to the postsynaptic sites, we can do:"
   ]
  },
  {
   "cell_type": "code",
   "execution_count": 12,
   "id": "8f74866b-2c14-46fb-81c1-fe51a8d2032c",
   "metadata": {},
   "outputs": [
    {
     "data": {
      "text/html": [
       "<div>\n",
       "<style scoped>\n",
       "    .dataframe tbody tr th:only-of-type {\n",
       "        vertical-align: middle;\n",
       "    }\n",
       "\n",
       "    .dataframe tbody tr th {\n",
       "        vertical-align: top;\n",
       "    }\n",
       "\n",
       "    .dataframe thead th {\n",
       "        text-align: right;\n",
       "    }\n",
       "</style>\n",
       "<table border=\"1\" class=\"dataframe\">\n",
       "  <thead>\n",
       "    <tr style=\"text-align: right;\">\n",
       "      <th></th>\n",
       "      <th>id</th>\n",
       "      <th>size</th>\n",
       "      <th>dist_to_root</th>\n",
       "    </tr>\n",
       "  </thead>\n",
       "  <tbody>\n",
       "    <tr>\n",
       "      <th>0</th>\n",
       "      <td>395248437</td>\n",
       "      <td>9532</td>\n",
       "      <td>550625.977657</td>\n",
       "    </tr>\n",
       "    <tr>\n",
       "      <th>1</th>\n",
       "      <td>440616430</td>\n",
       "      <td>4432</td>\n",
       "      <td>59338.621429</td>\n",
       "    </tr>\n",
       "    <tr>\n",
       "      <th>2</th>\n",
       "      <td>439592768</td>\n",
       "      <td>576</td>\n",
       "      <td>426225.854660</td>\n",
       "    </tr>\n",
       "  </tbody>\n",
       "</table>\n",
       "</div>"
      ],
      "text/plain": [
       "          id  size   dist_to_root\n",
       "0  395248437  9532  550625.977657\n",
       "1  440616430  4432   59338.621429\n",
       "2  439592768   576  426225.854660"
      ]
     },
     "execution_count": 12,
     "metadata": {},
     "output_type": "execute_result"
    }
   ],
   "source": [
    "syn_df = sk_mesh.anno.pre_syn.df.copy()\n",
    "syn_df['dist_to_root'] = sk_mesh.distance_to_root(sk_mesh.anno.pre_syn.mesh_index)\n",
    "syn_df.head(3)[['id','size','dist_to_root']]"
   ]
  },
  {
   "cell_type": "markdown",
   "id": "589f908e-89ee-4494-8f61-1a3e3ca00698",
   "metadata": {},
   "source": [
    "This gives us the path-distance of every synapse from the `root` in nanometers (nm)."
   ]
  },
  {
   "cell_type": "markdown",
   "id": "67d4de66-2fc3-484e-a7a2-94acd4c7eeaa",
   "metadata": {},
   "source": [
    "### Calculate `path_length()` of axon and dendrite\n",
    "\n",
    "Given the skeleton graph, it is trivial to estimate the pathlength (sum of all branch lengths) for a neuron:"
   ]
  },
  {
   "cell_type": "code",
   "execution_count": 13,
   "id": "88ea335a-9a28-405b-b91b-d99d7aff5bdc",
   "metadata": {},
   "outputs": [
    {
     "data": {
      "text/plain": [
       "np.float32(14.846251)"
      ]
     },
     "execution_count": 13,
     "metadata": {},
     "output_type": "execute_result"
    }
   ],
   "source": [
    "sk_mesh.path_length() / 1e6 # to convert from nm to mm"
   ]
  },
  {
   "cell_type": "markdown",
   "id": "8c146f4e-047a-452f-8e56-bb2f520d358d",
   "metadata": {},
   "source": [
    "However, the axon and dendrite compartments differ dramatically in their geometric and physiological properties. You generally will want to treat these seperately.\n",
    "\n",
    "Fortunately the meshwork skeleton includes annotations as to whether the compartment is likely axon or not:\n",
    "\n",
    "```\n",
    "sk_mesh.anno.is_axon\n",
    "\n",
    "````\n",
    "\n",
    "and you can *mask* the neuron skeleton by the type of comparment simply by using these annotations as an index:"
   ]
  },
  {
   "cell_type": "code",
   "execution_count": 14,
   "id": "ba013a61-18bb-47f2-9b69-496d54fc9eaa",
   "metadata": {},
   "outputs": [
    {
     "name": "stdout",
     "output_type": "stream",
     "text": [
      "Axon path length is 7.599738121032715 mm\n",
      "Total path length is 14.846250534057617 mm\n"
     ]
    }
   ],
   "source": [
    "# Apply a mask to the mesh using the axon labels\n",
    "sk_mesh.apply_mask(sk_mesh.anno.is_axon.mesh_mask)\n",
    "\n",
    "print (f'Axon path length is {sk_mesh.path_length() / 1e6} mm')\n",
    "\n",
    "# Reset the mask\n",
    "sk_mesh.reset_mask()\n",
    "\n",
    "print (f'Total path length is {sk_mesh.path_length() / 1e6} mm')"
   ]
  }
 ],
 "metadata": {
  "kernelspec": {
   "display_name": "microns2025",
   "language": "python",
   "name": "microns2025"
  },
  "language_info": {
   "codemirror_mode": {
    "name": "ipython",
    "version": 3
   },
   "file_extension": ".py",
   "mimetype": "text/x-python",
   "name": "python",
   "nbconvert_exporter": "python",
   "pygments_lexer": "ipython3",
   "version": "3.11.11"
  }
 },
 "nbformat": 4,
 "nbformat_minor": 5
}
