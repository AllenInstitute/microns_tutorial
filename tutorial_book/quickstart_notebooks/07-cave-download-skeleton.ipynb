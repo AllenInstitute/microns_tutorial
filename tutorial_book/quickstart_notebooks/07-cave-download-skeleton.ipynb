{
 "cells": [
  {
   "cell_type": "markdown",
   "id": "dc5e1488-fea4-4470-b7da-6c2686b2dbc6",
   "metadata": {
    "tags": []
   },
   "source": [
    "---\n",
    "title: \"Download Skeletons\"\n",
    "aliases: \n",
    "    - em_py_04_skeleton_pathlength.html\n",
    "draft: false\n",
    "format: \n",
    "    html:\n",
    "        toc: true \n",
    "        code-fold: false\n",
    "        code-links:\n",
    "          - text: Download Quickstart Notebooks\n",
    "            icon: file-code\n",
    "            href: https://github.com/AllenInstitute/microns_tutorial/tree/main/tutorial_book/quickstart_notebooks\n",
    "execute:\n",
    "    eval: False\n",
    "    warning: False\n",
    "jupyter: python3\n",
    "---"
   ]
  },
  {
   "cell_type": "markdown",
   "id": "323c1e07-0303-41ee-830f-9b113ba6995f",
   "metadata": {},
   "source": [
    "# Connected morphological representations: skeletons\n",
    "\n",
    "Often in thinking about neurons, you want to measure things along a linear dimension of a neuron.\n",
    "\n",
    "However, the segmentation and meshes are a full complex 3d shape that makes this non-trivial. There are methods for reducing the shape of a segmented neuron down to a linear tree like structure usually referred to as a __skeleton__. We have precalculated skeletons for a large number of cells in the dataset, and make the skeleton generation available on our server, on demand. \n",
    "\n",
    "The meshes that one sees in Neuroglancer are available to download through the python client [cloud-volume](https://github.com/seung-lab/cloud-volume), and can be loaded for analysis and visualization in other tools.\n",
    "\n",
    "{{< include _morphological_representations.qmd >}}\n",
    "\n"
   ]
  },
  {
   "attachments": {},
   "cell_type": "markdown",
   "id": "173a243a-464c-4d90-aad2-67204589f84e",
   "metadata": {},
   "source": [
    "## What is a Precomputed skeleton?\n",
    "\n",
    "These skeletons are stored in the cloud as a bytes-IO object, which can be viewed in __Neuroglancer__, or downloaded with __CAVEclient.skeleton__ module. These precomputed skeletons also contain annotations on the skeletons that have the synapses, which skeleton nodes are axon and which are dendrite, and which are likely the apical dendrite of excitatory neurons.\n",
    "\n",
    "\n",
    "![pyChunkedGraph Skeleton](../img/skeleton-cartoon.png)\n",
    "\n",
    "For more on how skeletons are generated from the mesh objects, and additional tools for generating, cacheing, and downloading meshes, [see the Skeleton Service documentation](https://caveconnectome.github.io/CAVEclient/tutorials/skeletonization/)"
   ]
  },
  {
   "cell_type": "markdown",
   "id": "6b74a5c4-991d-4eb5-9e7e-a5ac6f25f506",
   "metadata": {},
   "source": [
    "## CAVEclient to download skeletons\n",
    "Retrieve a skeleton using `get_skeleton()`. The available output_formats (described below) are:\n",
    "\n",
    "* `dict` containing vertices, edges, radius, compartment, and various metadata (default if unspecified)\n",
    "* `swc` a Pandas Dataframe in the SWC format, with ordered vertices, edges, compartment labels, and radius.\n",
    "\n",
    "Note: if the skeleton doesn't exist in the server cache, it may take 20-60 seconds to generate the skeleton before it is returned. This function will block during that time. Any subsequent retrieval of the same skeleton should go very quickly however."
   ]
  },
  {
   "cell_type": "markdown",
   "id": "caa304d2-649a-40ff-ac45-55eb2ef66a9b",
   "metadata": {},
   "source": [
    "::: {.callout-important}\n",
    "## Initial Setup\n",
    "Before using any programmatic access to the data, [you first need to set up your CAVEclient token](em_py_01_caveclient_setup.html).\n",
    ":::"
   ]
  },
  {
   "cell_type": "code",
   "execution_count": 1,
   "id": "77b3b569-d8cf-40cd-aea3-6c51042d5d3b",
   "metadata": {},
   "outputs": [],
   "source": [
    "from caveclient import CAVEclient\n",
    "import numpy as np\n",
    "import pandas as pd\n",
    "\n",
    "client = CAVEclient(\"minnie65_public\")\n",
    "\n",
    "# specify the materialization version, for consistency across time\",\n",
    "client.version = 1300\n",
    "\n",
    "# Example: pyramidal cell in v1300\n",
    "example_cell_id = 864691135572530981"
   ]
  },
  {
   "cell_type": "code",
   "execution_count": 2,
   "id": "8664e1d0-3fc3-41b2-a212-061bedf48c7f",
   "metadata": {},
   "outputs": [
    {
     "data": {
      "text/html": [
       "<div>\n",
       "<style scoped>\n",
       "    .dataframe tbody tr th:only-of-type {\n",
       "        vertical-align: middle;\n",
       "    }\n",
       "\n",
       "    .dataframe tbody tr th {\n",
       "        vertical-align: top;\n",
       "    }\n",
       "\n",
       "    .dataframe thead th {\n",
       "        text-align: right;\n",
       "    }\n",
       "</style>\n",
       "<table border=\"1\" class=\"dataframe\">\n",
       "  <thead>\n",
       "    <tr style=\"text-align: right;\">\n",
       "      <th></th>\n",
       "      <th>id</th>\n",
       "      <th>type</th>\n",
       "      <th>x</th>\n",
       "      <th>y</th>\n",
       "      <th>z</th>\n",
       "      <th>radius</th>\n",
       "      <th>parent</th>\n",
       "    </tr>\n",
       "  </thead>\n",
       "  <tbody>\n",
       "    <tr>\n",
       "      <th>0</th>\n",
       "      <td>0</td>\n",
       "      <td>1</td>\n",
       "      <td>1365.120</td>\n",
       "      <td>763.456</td>\n",
       "      <td>812.60</td>\n",
       "      <td>3.643</td>\n",
       "      <td>-1</td>\n",
       "    </tr>\n",
       "    <tr>\n",
       "      <th>1</th>\n",
       "      <td>1</td>\n",
       "      <td>3</td>\n",
       "      <td>1368.200</td>\n",
       "      <td>755.760</td>\n",
       "      <td>811.24</td>\n",
       "      <td>0.300</td>\n",
       "      <td>0</td>\n",
       "    </tr>\n",
       "    <tr>\n",
       "      <th>2</th>\n",
       "      <td>2</td>\n",
       "      <td>3</td>\n",
       "      <td>1368.200</td>\n",
       "      <td>758.552</td>\n",
       "      <td>811.68</td>\n",
       "      <td>1.915</td>\n",
       "      <td>1</td>\n",
       "    </tr>\n",
       "    <tr>\n",
       "      <th>3</th>\n",
       "      <td>3</td>\n",
       "      <td>3</td>\n",
       "      <td>1368.200</td>\n",
       "      <td>758.560</td>\n",
       "      <td>812.12</td>\n",
       "      <td>1.915</td>\n",
       "      <td>2</td>\n",
       "    </tr>\n",
       "    <tr>\n",
       "      <th>4</th>\n",
       "      <td>4</td>\n",
       "      <td>3</td>\n",
       "      <td>1368.192</td>\n",
       "      <td>758.560</td>\n",
       "      <td>812.44</td>\n",
       "      <td>2.815</td>\n",
       "      <td>3</td>\n",
       "    </tr>\n",
       "  </tbody>\n",
       "</table>\n",
       "</div>"
      ],
      "text/plain": [
       "   id  type         x        y       z  radius  parent\n",
       "0   0     1  1365.120  763.456  812.60   3.643      -1\n",
       "1   1     3  1368.200  755.760  811.24   0.300       0\n",
       "2   2     3  1368.200  758.552  811.68   1.915       1\n",
       "3   3     3  1368.200  758.560  812.12   1.915       2\n",
       "4   4     3  1368.192  758.560  812.44   2.815       3"
      ]
     },
     "execution_count": 2,
     "metadata": {},
     "output_type": "execute_result"
    }
   ],
   "source": [
    "sk_df = client.skeleton.get_skeleton(example_cell_id, output_format='swc')\n",
    "\n",
    "sk_df.head()"
   ]
  },
  {
   "cell_type": "markdown",
   "id": "79fad651-d665-4477-9444-6571e747f869",
   "metadata": {},
   "source": [
    "Skeletons are \"tree-like\", where every vertex (except the root vertex) has a single parent that is closer to the root than it, and any number of child vertices. Because of this, for a skeleton there are well-defined directions \"away from root\" and \"towards root\" and few types of vertices have special names:\n",
    "\n",
    "You can see these vertices and edges represented in the alternative `dict` skeleton output."
   ]
  },
  {
   "cell_type": "code",
   "execution_count": 3,
   "id": "96328dcc-781e-4425-9858-58491c5e9e4b",
   "metadata": {},
   "outputs": [
    {
     "data": {
      "text/plain": [
       "dict_keys(['meta', 'edges', 'mesh_to_skel_map', 'root', 'vertices', 'compartment', 'radius'])"
      ]
     },
     "execution_count": 3,
     "metadata": {},
     "output_type": "execute_result"
    }
   ],
   "source": [
    "sk_dict = client.skeleton.get_skeleton(example_cell_id, output_format='dict')\n",
    "\n",
    "sk_dict.keys()"
   ]
  },
  {
   "cell_type": "markdown",
   "id": "34b63287-753f-4672-9168-01d301a6df12",
   "metadata": {},
   "source": [
    "Alternately, you can query a set of root_ids, for example all of the **proofread cells** in the dataset, and bulk download the skeletons"
   ]
  },
  {
   "cell_type": "code",
   "execution_count": 4,
   "id": "c9fee259-8741-4d3b-81a3-d0a1c2beda6a",
   "metadata": {},
   "outputs": [
    {
     "data": {
      "text/plain": [
       "0    864691135441799752\n",
       "1    864691135855890478\n",
       "2    864691136521831825\n",
       "Name: pt_root_id, dtype: int64"
      ]
     },
     "execution_count": 4,
     "metadata": {},
     "output_type": "execute_result"
    }
   ],
   "source": [
    "prf_root_ids = client.materialize.tables.proofreading_status_and_strategy(\n",
    "    status_axon='t').query()['pt_root_id']\n",
    "prf_root_ids.head(3)"
   ]
  },
  {
   "cell_type": "code",
   "execution_count": 6,
   "id": "3be30983-b96d-4a37-87e0-7a423bbec1b5",
   "metadata": {
    "scrolled": true
   },
   "outputs": [
    {
     "data": {
      "text/plain": [
       "dict_keys(['864691135441799752', '864691135855890478', '864691136521831825'])"
      ]
     },
     "execution_count": 6,
     "metadata": {},
     "output_type": "execute_result"
    }
   ],
   "source": [
    "all_sk_dict = client.skeleton.get_bulk_skeletons(\n",
    "    prf_root_ids.head(3), \n",
    "    generate_missing_skeletons=False,\n",
    "    output_format='dict',\n",
    "    skeleton_version=4)\n",
    "\n",
    "all_sk_dict.keys()"
   ]
  },
  {
   "cell_type": "markdown",
   "id": "0c195ff0-3aa5-42cc-a263-34d38bdad4a4",
   "metadata": {},
   "source": [
    "## Download or generate skeletons with `pcg_skel`\n",
    "\n",
    "`pcg_skel` is a package used to rapidly build neuronal skeletons from electron microscopy data in the CAVE ecosystem. It integrates structural data, connectivity data, and local features stored across many aspects of a CAVE system, and creates objects as [Meshparty](https://github.com/CAVEconnectome/MeshParty) meshes, skeletons, and MeshWork files for subsequent analysis. \n",
    "\n",
    "By harnessing the way the structural data is stored, you can build skeletons for even very large neurons quickly and with little memory use.\n",
    "\n",
    "To install pcg_skel, use pip. \n",
    "\n",
    "```python\n",
    "pip install pcg_skel\n",
    "```\n",
    "\n",
    "By loading a skeleton with MeshParty, you can easily 'rehydrate' the mesh features of the neuron (such as synapses) and MeshParty functions (such as masking)"
   ]
  },
  {
   "cell_type": "code",
   "execution_count": 10,
   "id": "6d9ce395-bfae-498a-9380-ce06f6032ed8",
   "metadata": {},
   "outputs": [
    {
     "name": "stderr",
     "output_type": "stream",
     "text": [
      "WARNING:root:Deprecation: this method is to facilitate beta testing of this feature,             it will likely get removed in future versions. \n",
      "WARNING:root:Deprecation: this method is to facilitate beta testing of this feature,             it will likely get removed in future versions. \n"
     ]
    },
    {
     "data": {
      "text/plain": [
       "<meshparty.meshwork.meshwork.Meshwork at 0x279297d9ad0>"
      ]
     },
     "execution_count": 10,
     "metadata": {},
     "output_type": "execute_result"
    }
   ],
   "source": [
    "from pcg_skel import get_meshwork_from_client\n",
    "\n",
    "sk_mesh = get_meshwork_from_client(example_cell_id,\n",
    "                                   client=client,\n",
    "                                   synapses=True,\n",
    "                                   # restore_graph=True,\n",
    "                                   restore_properties=True,\n",
    "                                   skeleton_version=4,\n",
    ")\n",
    "sk_mesh"
   ]
  },
  {
   "cell_type": "markdown",
   "id": "932eb2d1-a645-4541-b972-b4d68070efb9",
   "metadata": {},
   "source": [
    "## Plot with `skeleton_plot`\n",
    "\n",
    "Our convenience package __skeleton_plot__ renders the skeleton in aligned, 2D views.\n",
    "\n",
    "```python\n",
    "pip install skeleton_plot\n",
    "```"
   ]
  },
  {
   "cell_type": "code",
   "execution_count": 11,
   "id": "f737a84b-16b8-4558-9516-a75c01ce2a89",
   "metadata": {},
   "outputs": [
    {
     "data": {
      "image/png": "[encoded data removed]",
      "text/plain": [
       "<Figure size 640x480 with 1 Axes>"
      ]
     },
     "metadata": {},
     "output_type": "display_data"
    }
   ],
   "source": [
    "import skeleton_plot\n",
    "\n",
    "skeleton_plot.plot_tools.plot_skel(sk=sk_mesh.skeleton,\n",
    "                                   invert_y=True,\n",
    "                                   pull_compartment_colors=False,\n",
    "                                   plot_soma=True)"
   ]
  },
  {
   "cell_type": "code",
   "execution_count": null,
   "id": "d83f3b4b-7162-41b7-92ff-638bccd48cab",
   "metadata": {},
   "outputs": [],
   "source": []
  }
 ],
 "metadata": {
  "kernelspec": {
   "display_name": "microns2025",
   "language": "python",
   "name": "microns2025"
  },
  "language_info": {
   "codemirror_mode": {
    "name": "ipython",
    "version": 3
   },
   "file_extension": ".py",
   "mimetype": "text/x-python",
   "name": "python",
   "nbconvert_exporter": "python",
   "pygments_lexer": "ipython3",
   "version": "3.11.11"
  }
 },
 "nbformat": 4,
 "nbformat_minor": 5
}
