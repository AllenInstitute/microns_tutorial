{
 "cells": [
  {
   "cell_type": "markdown",
   "id": "32761f34",
   "metadata": {},
   "source": [
    "---\n",
    "title: \"CAVE Query: Proofread Cells\"\n",
    "format: \n",
    "    html:\n",
    "        toc: true \n",
    "        code-fold: false\n",
    "        code-links:\n",
    "          - text: Download Quickstart Notebooks\n",
    "            icon: file-code\n",
    "            href: https://github.com/AllenInstitute/microns_tutorial/tree/main/tutorial_book/quickstart_notebooks\n",
    "execute:\n",
    "    eval: False\n",
    "    warning: False\n",
    "jupyter: python3\n",
    "---"
   ]
  },
  {
   "cell_type": "markdown",
   "id": "fd5db5c8-a340-43cc-894a-7e3097539245",
   "metadata": {},
   "source": [
    "{{< include ../_annotation_tables/_version_warning.qmd >}}"
   ]
  },
  {
   "cell_type": "markdown",
   "id": "76eba75b-c986-4924-9701-2e00f652400b",
   "metadata": {},
   "source": [
    "The **Connectome Annotation Versioning Engine (CAVE)** is a suite of tools developed at the Allen Institute and Seung Lab to manage large connectomics data.  \n",
    "\n",
    "::: {.callout-important}\n",
    "## Initial Setup\n",
    "Before using any programmatic access to the data, [you first need to set up your CAVEclient token](em_py_01_caveclient_setup.html).\n",
    ":::"
   ]
  },
  {
   "cell_type": "markdown",
   "id": "6e839112",
   "metadata": {},
   "source": [
    "## CAVEclient\n",
    "\n",
    "Most programmatic access to the CAVE services occurs through CAVEclient, a Python client to access various types of data from the online services.\n",
    "\n",
    "Full documentation for CAVEclient [is available here](http://caveclient.readthedocs.io).\n",
    "\n",
    "To initialize a caveclient, we give it a **datastack**, which is a name that defines a particular combination of imagery, segmentation, and annotation database.\n",
    "For the MICrONs public data, we use the datastack name `minnie65_public`."
   ]
  },
  {
   "cell_type": "code",
   "execution_count": 1,
   "id": "3ebc5ac7",
   "metadata": {},
   "outputs": [
    {
     "data": {
      "text/plain": [
       "'This is the publicly released version of the minnie65 volume and segmentation. '"
      ]
     },
     "execution_count": 1,
     "metadata": {},
     "output_type": "execute_result"
    }
   ],
   "source": [
    "import numpy as np\n",
    "import pandas as pd\n",
    "\n",
    "from caveclient import CAVEclient\n",
    "datastack_name = 'minnie65_public'\n",
    "client = CAVEclient(datastack_name)\n",
    "\n",
    "# Show the description of the datastack\n",
    "client.info.get_datastack_info()['description']"
   ]
  },
  {
   "cell_type": "markdown",
   "id": "32cc2955-9f74-4351-a215-e888a0f25d7e",
   "metadata": {},
   "source": [
    "### Materialization versions\n",
    "\n",
    "Data in CAVE is timestamped and periodically versioned - each (materialization) version corresponds to a specific timestamp. Individual versions are made publicly available. The Materialization client allows one to interact with the materialized annotation tables that were posted to the annotation service. These are called **queries** to the dataset, and available from `client.materialize`. For more, see the [CAVEclient Documentation](https://caveconnectome.github.io/CAVEclient/tutorials/materialization/).\n",
    "\n",
    "Periodic updates are made to the public datastack, which will include updates to the available tables. Some cells will have different `pt_root_id` because they have undergone [proofreading](../proofreading.html). \n",
    "\n",
    "::: {.callout-tip}\n",
    "For analysis consistency, is worth checking the version of the data you are using, and consider specifying the version with `client.version = your_version`\n",
    "\n",
    "Read more about [setting the version of your analysis](/materialization-version.html#how-to-set-the-version-of-your-analysis)\n",
    ":::"
   ]
  },
  {
   "cell_type": "code",
   "execution_count": 2,
   "id": "b8e8a165-6cae-44b4-b7c9-b52ae94eec37",
   "metadata": {
    "tags": []
   },
   "outputs": [
    {
     "data": {
      "text/plain": [
       "[1300, 1078, 117, 661, 343, 1181, 795, 943]"
      ]
     },
     "execution_count": 2,
     "metadata": {},
     "output_type": "execute_result"
    }
   ],
   "source": [
    "# see the available materialization versions\n",
    "client.materialize.get_versions()"
   ]
  },
  {
   "cell_type": "markdown",
   "id": "605e2aa8-59b1-4c62-a39b-5d19e9cff594",
   "metadata": {},
   "source": [
    "And these are their associated timestamps (all timestamps are in UTC):\n",
    "\n"
   ]
  },
  {
   "cell_type": "code",
   "execution_count": 3,
   "id": "3c9d7b64-56b6-4567-8307-775dcf139ca4",
   "metadata": {},
   "outputs": [
    {
     "name": "stdout",
     "output_type": "stream",
     "text": [
      "Version 1300: 2025-01-13 10:10:01.286229+00:00\n",
      "Version 1078: 2024-06-05 10:10:01.203215+00:00\n",
      "Version 117: 2021-06-11 08:10:00.215114+00:00\n",
      "Version 661: 2023-04-06 20:17:09.199182+00:00\n",
      "Version 343: 2022-02-24 08:10:00.184668+00:00\n",
      "Version 1181: 2024-09-16 10:10:01.121167+00:00\n",
      "Version 795: 2023-08-23 08:10:01.404268+00:00\n",
      "Version 943: 2024-01-22 08:10:01.497934+00:00\n"
     ]
    }
   ],
   "source": [
    "for version in client.materialize.get_versions():\n",
    "    print(f\"Version {version}: {client.materialize.get_timestamp(version)}\")"
   ]
  },
  {
   "cell_type": "code",
   "execution_count": 4,
   "id": "a066a177-5d23-4898-9765-4f4e620be719",
   "metadata": {
    "tags": []
   },
   "outputs": [],
   "source": [
    "# set materialization version, for consistency\n",
    "client.version = 1300 # current public as of 1/13/2025"
   ]
  },
  {
   "cell_type": "markdown",
   "id": "9e523a4d-1ee3-46bc-950e-2ae89424076c",
   "metadata": {},
   "source": [
    "## Querying Proofread neurons"
   ]
  },
  {
   "cell_type": "markdown",
   "id": "234f71c7-4078-42f7-afbd-3af6a6924ff3",
   "metadata": {},
   "source": [
    "### Proofread neurons\n",
    "\n",
    "Proofreading is necessary to obtain accurate reconstructions of a cell. In the MICrONS dataset, the general rule is that dendrites onto cells with a _single_ cell body are sufficiently proofread to trust synaptic connections onto a cell. Axons on the other hand require so much proofreading that only ~1800 cells have axons such that their outputs should be used for analysis.\n",
    "\n",
    "{{< include /_annotation_tables/_proofreading_status_and_strategy.qmd >}}"
   ]
  },
  {
   "cell_type": "markdown",
   "id": "58a90f58-820f-40bf-9d22-a60af70efe0b",
   "metadata": {},
   "source": [
    "Here we query and return the table as of version **1300**.\n",
    "\n",
    "For the commands used for querying tables, see the [previous quickstart notebook on CAVE queries](02-cave-query-cell-types.html#querying-tables)"
   ]
  },
  {
   "cell_type": "code",
   "execution_count": 5,
   "id": "78de0c65-effb-402c-a77b-5adbe426126d",
   "metadata": {},
   "outputs": [],
   "source": [
    "proof_all_df = client.materialize.query_table(\"proofreading_status_and_strategy\", \n",
    "                                              desired_resolution=[1, 1, 1], \n",
    "                                              split_positions=True)"
   ]
  },
  {
   "cell_type": "code",
   "execution_count": 6,
   "id": "b89e1d76-0275-475e-9ddc-04bca7d83043",
   "metadata": {},
   "outputs": [
    {
     "data": {
      "text/plain": [
       "strategy_axon\n",
       "axon_partially_extended    1459\n",
       "none                        149\n",
       "axon_interareal             130\n",
       "axon_fully_extended         127\n",
       "Name: count, dtype: int64"
      ]
     },
     "execution_count": 6,
     "metadata": {},
     "output_type": "execute_result"
    }
   ],
   "source": [
    "proof_all_df[\"strategy_axon\"].value_counts()"
   ]
  },
  {
   "cell_type": "markdown",
   "id": "80da9718-3864-409b-8a2f-5aea9ae5e87d",
   "metadata": {},
   "source": [
    "### Filtering Queries by proofreading status\n",
    "We can filter our query to only return rows that match a condition by adding a filter to our query:"
   ]
  },
  {
   "cell_type": "code",
   "execution_count": 7,
   "id": "104bac4e-6bc1-4a20-8da5-170fc61eaaa9",
   "metadata": {},
   "outputs": [
    {
     "data": {
      "text/html": [
       "<div>\n",
       "<style scoped>\n",
       "    .dataframe tbody tr th:only-of-type {\n",
       "        vertical-align: middle;\n",
       "    }\n",
       "\n",
       "    .dataframe tbody tr th {\n",
       "        vertical-align: top;\n",
       "    }\n",
       "\n",
       "    .dataframe thead th {\n",
       "        text-align: right;\n",
       "    }\n",
       "</style>\n",
       "<table border=\"1\" class=\"dataframe\">\n",
       "  <thead>\n",
       "    <tr style=\"text-align: right;\">\n",
       "      <th></th>\n",
       "      <th>id</th>\n",
       "      <th>created</th>\n",
       "      <th>superceded_id</th>\n",
       "      <th>valid</th>\n",
       "      <th>pt_position_x</th>\n",
       "      <th>pt_position_y</th>\n",
       "      <th>pt_position_z</th>\n",
       "      <th>valid_id</th>\n",
       "      <th>status_dendrite</th>\n",
       "      <th>status_axon</th>\n",
       "      <th>strategy_dendrite</th>\n",
       "      <th>strategy_axon</th>\n",
       "      <th>pt_supervoxel_id</th>\n",
       "      <th>pt_root_id</th>\n",
       "    </tr>\n",
       "  </thead>\n",
       "  <tbody>\n",
       "    <tr>\n",
       "      <th>1711</th>\n",
       "      <td>3062</td>\n",
       "      <td>2025-01-12 03:00:00.936352+00:00</td>\n",
       "      <td>NaN</td>\n",
       "      <td>t</td>\n",
       "      <td>705920.0</td>\n",
       "      <td>705664.0</td>\n",
       "      <td>903960.0</td>\n",
       "      <td>864691135867413893</td>\n",
       "      <td>t</td>\n",
       "      <td>t</td>\n",
       "      <td>dendrite_clean</td>\n",
       "      <td>axon_partially_extended</td>\n",
       "      <td>89031992993240476</td>\n",
       "      <td>864691135867413893</td>\n",
       "    </tr>\n",
       "    <tr>\n",
       "      <th>1712</th>\n",
       "      <td>3063</td>\n",
       "      <td>2025-01-12 03:00:00.954516+00:00</td>\n",
       "      <td>NaN</td>\n",
       "      <td>t</td>\n",
       "      <td>684800.0</td>\n",
       "      <td>659968.0</td>\n",
       "      <td>891160.0</td>\n",
       "      <td>864691135276601317</td>\n",
       "      <td>t</td>\n",
       "      <td>t</td>\n",
       "      <td>dendrite_clean</td>\n",
       "      <td>axon_partially_extended</td>\n",
       "      <td>88326724936602021</td>\n",
       "      <td>864691135276601317</td>\n",
       "    </tr>\n",
       "    <tr>\n",
       "      <th>1713</th>\n",
       "      <td>3064</td>\n",
       "      <td>2025-01-12 03:00:00.972946+00:00</td>\n",
       "      <td>NaN</td>\n",
       "      <td>t</td>\n",
       "      <td>742400.0</td>\n",
       "      <td>667008.0</td>\n",
       "      <td>830000.0</td>\n",
       "      <td>864691135742247787</td>\n",
       "      <td>t</td>\n",
       "      <td>t</td>\n",
       "      <td>dendrite_clean</td>\n",
       "      <td>axon_partially_extended</td>\n",
       "      <td>90297324450184090</td>\n",
       "      <td>864691135742247787</td>\n",
       "    </tr>\n",
       "    <tr>\n",
       "      <th>1714</th>\n",
       "      <td>3065</td>\n",
       "      <td>2025-01-12 03:00:00.992770+00:00</td>\n",
       "      <td>NaN</td>\n",
       "      <td>t</td>\n",
       "      <td>689472.0</td>\n",
       "      <td>839744.0</td>\n",
       "      <td>904880.0</td>\n",
       "      <td>864691135591960075</td>\n",
       "      <td>t</td>\n",
       "      <td>t</td>\n",
       "      <td>dendrite_extended</td>\n",
       "      <td>axon_fully_extended</td>\n",
       "      <td>88473509805848805</td>\n",
       "      <td>864691135591960075</td>\n",
       "    </tr>\n",
       "    <tr>\n",
       "      <th>1715</th>\n",
       "      <td>3066</td>\n",
       "      <td>2025-01-12 03:00:01.012280+00:00</td>\n",
       "      <td>NaN</td>\n",
       "      <td>t</td>\n",
       "      <td>746880.0</td>\n",
       "      <td>612224.0</td>\n",
       "      <td>891720.0</td>\n",
       "      <td>864691135939049988</td>\n",
       "      <td>t</td>\n",
       "      <td>t</td>\n",
       "      <td>dendrite_clean</td>\n",
       "      <td>axon_partially_extended</td>\n",
       "      <td>90436206713993499</td>\n",
       "      <td>864691135939049988</td>\n",
       "    </tr>\n",
       "  </tbody>\n",
       "</table>\n",
       "</div>"
      ],
      "text/plain": [
       "        id                          created  superceded_id valid  \\\n",
       "1711  3062 2025-01-12 03:00:00.936352+00:00            NaN     t   \n",
       "1712  3063 2025-01-12 03:00:00.954516+00:00            NaN     t   \n",
       "1713  3064 2025-01-12 03:00:00.972946+00:00            NaN     t   \n",
       "1714  3065 2025-01-12 03:00:00.992770+00:00            NaN     t   \n",
       "1715  3066 2025-01-12 03:00:01.012280+00:00            NaN     t   \n",
       "\n",
       "      pt_position_x  pt_position_y  pt_position_z            valid_id  \\\n",
       "1711       705920.0       705664.0       903960.0  864691135867413893   \n",
       "1712       684800.0       659968.0       891160.0  864691135276601317   \n",
       "1713       742400.0       667008.0       830000.0  864691135742247787   \n",
       "1714       689472.0       839744.0       904880.0  864691135591960075   \n",
       "1715       746880.0       612224.0       891720.0  864691135939049988   \n",
       "\n",
       "     status_dendrite status_axon  strategy_dendrite            strategy_axon  \\\n",
       "1711               t           t     dendrite_clean  axon_partially_extended   \n",
       "1712               t           t     dendrite_clean  axon_partially_extended   \n",
       "1713               t           t     dendrite_clean  axon_partially_extended   \n",
       "1714               t           t  dendrite_extended      axon_fully_extended   \n",
       "1715               t           t     dendrite_clean  axon_partially_extended   \n",
       "\n",
       "       pt_supervoxel_id          pt_root_id  \n",
       "1711  89031992993240476  864691135867413893  \n",
       "1712  88326724936602021  864691135276601317  \n",
       "1713  90297324450184090  864691135742247787  \n",
       "1714  88473509805848805  864691135591960075  \n",
       "1715  90436206713993499  864691135939049988  "
      ]
     },
     "execution_count": 7,
     "metadata": {},
     "output_type": "execute_result"
    }
   ],
   "source": [
    "proof_axon_df = client.materialize.query_table(\"proofreading_status_and_strategy\", \n",
    "                                               filter_in_dict={\"strategy_axon\": [\"axon_partially_extended\", \"axon_fully_extended\", \"axon_interareal\"]}, \n",
    "                                               desired_resolution=[1, 1, 1], \n",
    "                                               split_positions=True)\n",
    "proof_axon_df.tail()"
   ]
  },
  {
   "cell_type": "markdown",
   "id": "d264f4b0-7b4f-4f72-a399-8eb0ac51abf1",
   "metadata": {},
   "source": [
    "A more unified filter interface is available through a \"table manager\" interface.\n",
    "\n",
    "Rather than passing a table name to the `query_table` function, `client.materialize.tables` has a subproperty for each table in the database that can be used to filter that table.\n",
    "\n",
    "The general pattern for usage is\n",
    "\n",
    "``` python\n",
    "client.materialize.tables.{table_name}({filter options}).query({format and timestamp options})\n",
    "```\n",
    "\n",
    "where `{table_name}` is the name of the table you want to filter, `{filter options}` is a collection of arguments for filtering the query, and `{format and timestamp options}` are those parameters controlling the format and timestamp of the query.\n",
    "\n",
    "::: {.callout-caution}\n",
    "Use of this functionality will show a brief warning that the interface is experimental. This is because the interface is still being developed and may change in the near future in response to user feedback.\n",
    ":::\n",
    "\n",
    "With this, we can easily query all proofread cells with proofread axons:"
   ]
  },
  {
   "cell_type": "code",
   "execution_count": 8,
   "id": "e07c63af-3c81-487b-90f3-ca3b4b220bf8",
   "metadata": {},
   "outputs": [
    {
     "data": {
      "text/html": [
       "<div>\n",
       "<style scoped>\n",
       "    .dataframe tbody tr th:only-of-type {\n",
       "        vertical-align: middle;\n",
       "    }\n",
       "\n",
       "    .dataframe tbody tr th {\n",
       "        vertical-align: top;\n",
       "    }\n",
       "\n",
       "    .dataframe thead th {\n",
       "        text-align: right;\n",
       "    }\n",
       "</style>\n",
       "<table border=\"1\" class=\"dataframe\">\n",
       "  <thead>\n",
       "    <tr style=\"text-align: right;\">\n",
       "      <th></th>\n",
       "      <th>pt_root_id</th>\n",
       "      <th>status_axon</th>\n",
       "      <th>status_dendrite</th>\n",
       "      <th>strategy_axon</th>\n",
       "      <th>strategy_dendrite</th>\n",
       "    </tr>\n",
       "  </thead>\n",
       "  <tbody>\n",
       "    <tr>\n",
       "      <th>1711</th>\n",
       "      <td>864691135867413893</td>\n",
       "      <td>t</td>\n",
       "      <td>t</td>\n",
       "      <td>axon_partially_extended</td>\n",
       "      <td>dendrite_clean</td>\n",
       "    </tr>\n",
       "    <tr>\n",
       "      <th>1712</th>\n",
       "      <td>864691135276601317</td>\n",
       "      <td>t</td>\n",
       "      <td>t</td>\n",
       "      <td>axon_partially_extended</td>\n",
       "      <td>dendrite_clean</td>\n",
       "    </tr>\n",
       "    <tr>\n",
       "      <th>1713</th>\n",
       "      <td>864691135742247787</td>\n",
       "      <td>t</td>\n",
       "      <td>t</td>\n",
       "      <td>axon_partially_extended</td>\n",
       "      <td>dendrite_clean</td>\n",
       "    </tr>\n",
       "    <tr>\n",
       "      <th>1714</th>\n",
       "      <td>864691135591960075</td>\n",
       "      <td>t</td>\n",
       "      <td>t</td>\n",
       "      <td>axon_fully_extended</td>\n",
       "      <td>dendrite_extended</td>\n",
       "    </tr>\n",
       "    <tr>\n",
       "      <th>1715</th>\n",
       "      <td>864691135939049988</td>\n",
       "      <td>t</td>\n",
       "      <td>t</td>\n",
       "      <td>axon_partially_extended</td>\n",
       "      <td>dendrite_clean</td>\n",
       "    </tr>\n",
       "  </tbody>\n",
       "</table>\n",
       "</div>"
      ],
      "text/plain": [
       "              pt_root_id status_axon status_dendrite            strategy_axon  \\\n",
       "1711  864691135867413893           t               t  axon_partially_extended   \n",
       "1712  864691135276601317           t               t  axon_partially_extended   \n",
       "1713  864691135742247787           t               t  axon_partially_extended   \n",
       "1714  864691135591960075           t               t      axon_fully_extended   \n",
       "1715  864691135939049988           t               t  axon_partially_extended   \n",
       "\n",
       "      strategy_dendrite  \n",
       "1711     dendrite_clean  \n",
       "1712     dendrite_clean  \n",
       "1713     dendrite_clean  \n",
       "1714  dendrite_extended  \n",
       "1715     dendrite_clean  "
      ]
     },
     "execution_count": 8,
     "metadata": {},
     "output_type": "execute_result"
    }
   ],
   "source": [
    "proof_axon_df = client.materialize.tables.proofreading_status_and_strategy(strategy_axon=[\"axon_partially_extended\", \"axon_fully_extended\", \"axon_interareal\"]).query(\n",
    "    select_columns=['pt_root_id','status_axon','status_dendrite','strategy_axon','strategy_dendrite'],\n",
    ")\n",
    "proof_axon_df.tail()"
   ]
  },
  {
   "cell_type": "markdown",
   "id": "477006a8-07f2-4a4c-9f2a-800f2eec6050",
   "metadata": {},
   "source": [
    "## Combining proofread cells and cell types"
   ]
  },
  {
   "cell_type": "markdown",
   "id": "464f167f-0a00-4247-bce3-91bb9918da09",
   "metadata": {},
   "source": [
    "For analysis, often you are interested in neurons that are at the intersection of two or more groups. For example: **proofread cells** that are also **layer 2/3 pyramidal cells**. The general workflow for this type of analysis is to:\n",
    "\n",
    "1. Query from one table, for example the `proofreading_status_and_strategy` table\n",
    "2. Query from another table, for example the `aibs_metamodel_celltypes_v661`\n",
    "3. Merge the two tables on the shared index, in this case `pt_root_id`\n",
    "\n",
    "We covered [querying cell types in the previous quickstart notebook](02-cave-query-cell-types.html). Now lets put that together with the proofreading query:"
   ]
  },
  {
   "cell_type": "code",
   "execution_count": 9,
   "id": "367285c0-ac12-4091-b279-bdaa2bb1903e",
   "metadata": {},
   "outputs": [
    {
     "name": "stderr",
     "output_type": "stream",
     "text": [
      "The `client.materialize.tables` interface is experimental and might experience breaking changes before the feature is stabilized.\n"
     ]
    }
   ],
   "source": [
    "# Query proofread cells with status_axon==True\n",
    "proof_df = client.materialize.tables.proofreading_status_and_strategy(status_axon=\"t\").query(\n",
    "    select_columns=['pt_root_id','status_axon','status_dendrite','strategy_axon','strategy_dendrite'],\n",
    ")\n",
    "\n",
    "# Query cell types\n",
    "cell_type_df = client.materialize.tables.aibs_metamodel_celltypes_v661().query(\n",
    "    select_columns = {'nucleus_detection_v0': ['pt_root_id', 'id'],\n",
    "                      'aibs_metamodel_celltypes_v661': ['classification_system','cell_type'],\n",
    "                     },\n",
    ")"
   ]
  },
  {
   "cell_type": "markdown",
   "id": "c52887ff-034c-4f75-866e-7629b1b032ba",
   "metadata": {},
   "source": [
    "::: {.callout-tip}\n",
    "Note the 'select_columns' argument differs between the two tables. Thay is because the second table, `aibs_metamodel_celltypes_v661` is itself a reference on `nucleus_detection_v0`. That means the `id` column returned here is the same as the **nucleus id** of the cell. This is handy for referencing the same cell across materialization versions as the **nucleus id** does not change, whereas the `pt_root_id` will change with proofreading.\n",
    ":::\n",
    "\n",
    "Now we can merge the two tables together on the shared index! \n",
    "\n",
    "But it is worth checking if there are duplicates in either of the tables. How you handle duplicates will depend on your question, and the table you are using. Here we might see duplicates from multi-soma merges in the cell type table"
   ]
  },
  {
   "cell_type": "code",
   "execution_count": 10,
   "id": "7f6bfa07-2f34-4b96-bd6e-70a8d8fbba94",
   "metadata": {},
   "outputs": [
    {
     "data": {
      "text/plain": [
       "pt_root_id\n",
       "864691134966128927    350\n",
       "0                     175\n",
       "864691137020183406    102\n",
       "864691136974041116     60\n",
       "864691135303545767     43\n",
       "                     ... \n",
       "864691135571655661      1\n",
       "864691135571652845      1\n",
       "864691135571650797      1\n",
       "864691135571649317      1\n",
       "864691135777169085      1\n",
       "Name: count, Length: 91423, dtype: int64"
      ]
     },
     "execution_count": 10,
     "metadata": {},
     "output_type": "execute_result"
    }
   ],
   "source": [
    "cell_type_df.value_counts('pt_root_id')"
   ]
  },
  {
   "cell_type": "markdown",
   "id": "61a29d7a-65fd-4451-9256-dea5f9c56b7f",
   "metadata": {},
   "source": [
    "For analytical simplicity, we will drop any multi-soma objects. We will also rename the `id` column for clarity"
   ]
  },
  {
   "cell_type": "code",
   "execution_count": 11,
   "id": "ebae041b-af55-436f-af2f-93cfb018bd5a",
   "metadata": {},
   "outputs": [
    {
     "data": {
      "text/html": [
       "<div>\n",
       "<style scoped>\n",
       "    .dataframe tbody tr th:only-of-type {\n",
       "        vertical-align: middle;\n",
       "    }\n",
       "\n",
       "    .dataframe tbody tr th {\n",
       "        vertical-align: top;\n",
       "    }\n",
       "\n",
       "    .dataframe thead th {\n",
       "        text-align: right;\n",
       "    }\n",
       "</style>\n",
       "<table border=\"1\" class=\"dataframe\">\n",
       "  <thead>\n",
       "    <tr style=\"text-align: right;\">\n",
       "      <th></th>\n",
       "      <th>pt_root_id</th>\n",
       "      <th>nucleus_id</th>\n",
       "      <th>classification_system</th>\n",
       "      <th>cell_type</th>\n",
       "    </tr>\n",
       "  </thead>\n",
       "  <tbody>\n",
       "    <tr>\n",
       "      <th>0</th>\n",
       "      <td>864691136274724621</td>\n",
       "      <td>336365</td>\n",
       "      <td>excitatory_neuron</td>\n",
       "      <td>5P-IT</td>\n",
       "    </tr>\n",
       "    <tr>\n",
       "      <th>1</th>\n",
       "      <td>864691135489403194</td>\n",
       "      <td>110648</td>\n",
       "      <td>excitatory_neuron</td>\n",
       "      <td>23P</td>\n",
       "    </tr>\n",
       "    <tr>\n",
       "      <th>2</th>\n",
       "      <td>864691136147292311</td>\n",
       "      <td>112071</td>\n",
       "      <td>excitatory_neuron</td>\n",
       "      <td>23P</td>\n",
       "    </tr>\n",
       "    <tr>\n",
       "      <th>3</th>\n",
       "      <td>864691136050858227</td>\n",
       "      <td>197927</td>\n",
       "      <td>nonneuron</td>\n",
       "      <td>oligo</td>\n",
       "    </tr>\n",
       "    <tr>\n",
       "      <th>4</th>\n",
       "      <td>864691135809440972</td>\n",
       "      <td>198087</td>\n",
       "      <td>nonneuron</td>\n",
       "      <td>astrocyte</td>\n",
       "    </tr>\n",
       "  </tbody>\n",
       "</table>\n",
       "</div>"
      ],
      "text/plain": [
       "           pt_root_id  nucleus_id classification_system  cell_type\n",
       "0  864691136274724621      336365     excitatory_neuron      5P-IT\n",
       "1  864691135489403194      110648     excitatory_neuron        23P\n",
       "2  864691136147292311      112071     excitatory_neuron        23P\n",
       "3  864691136050858227      197927             nonneuron      oligo\n",
       "4  864691135809440972      198087             nonneuron  astrocyte"
      ]
     },
     "execution_count": 11,
     "metadata": {},
     "output_type": "execute_result"
    }
   ],
   "source": [
    "# Drop duplicate pt_root_id and rename the nucleus_id\n",
    "cell_type_df = (cell_type_df\n",
    "                .drop_duplicates('pt_root_id', keep=False)\n",
    "                .rename(columns={'id': 'nucleus_id'})\n",
    "               )\n",
    "                        \n",
    "cell_type_df.head()"
   ]
  },
  {
   "cell_type": "markdown",
   "id": "00676bdd-a9d3-440f-a4b1-c84634fafc25",
   "metadata": {},
   "source": [
    "Now we can merge the two tables with `pandas.merge`, on index `pt_root_id`. We will keep the inner join of the two tables: cells that 1) are proofread, and 2) have a cell type"
   ]
  },
  {
   "cell_type": "code",
   "execution_count": 12,
   "id": "6a4dc552-8125-4b92-ab5d-84a33439c286",
   "metadata": {},
   "outputs": [
    {
     "data": {
      "text/html": [
       "<div>\n",
       "<style scoped>\n",
       "    .dataframe tbody tr th:only-of-type {\n",
       "        vertical-align: middle;\n",
       "    }\n",
       "\n",
       "    .dataframe tbody tr th {\n",
       "        vertical-align: top;\n",
       "    }\n",
       "\n",
       "    .dataframe thead th {\n",
       "        text-align: right;\n",
       "    }\n",
       "</style>\n",
       "<table border=\"1\" class=\"dataframe\">\n",
       "  <thead>\n",
       "    <tr style=\"text-align: right;\">\n",
       "      <th></th>\n",
       "      <th>pt_root_id</th>\n",
       "      <th>status_axon</th>\n",
       "      <th>status_dendrite</th>\n",
       "      <th>strategy_axon</th>\n",
       "      <th>strategy_dendrite</th>\n",
       "      <th>nucleus_id</th>\n",
       "      <th>classification_system</th>\n",
       "      <th>cell_type</th>\n",
       "    </tr>\n",
       "  </thead>\n",
       "  <tbody>\n",
       "    <tr>\n",
       "      <th>1700</th>\n",
       "      <td>864691135867413893</td>\n",
       "      <td>t</td>\n",
       "      <td>t</td>\n",
       "      <td>axon_partially_extended</td>\n",
       "      <td>dendrite_clean</td>\n",
       "      <td>263073</td>\n",
       "      <td>excitatory_neuron</td>\n",
       "      <td>5P-IT</td>\n",
       "    </tr>\n",
       "    <tr>\n",
       "      <th>1701</th>\n",
       "      <td>864691135276601317</td>\n",
       "      <td>t</td>\n",
       "      <td>t</td>\n",
       "      <td>axon_partially_extended</td>\n",
       "      <td>dendrite_clean</td>\n",
       "      <td>262889</td>\n",
       "      <td>excitatory_neuron</td>\n",
       "      <td>4P</td>\n",
       "    </tr>\n",
       "    <tr>\n",
       "      <th>1702</th>\n",
       "      <td>864691135742247787</td>\n",
       "      <td>t</td>\n",
       "      <td>t</td>\n",
       "      <td>axon_partially_extended</td>\n",
       "      <td>dendrite_clean</td>\n",
       "      <td>298800</td>\n",
       "      <td>excitatory_neuron</td>\n",
       "      <td>4P</td>\n",
       "    </tr>\n",
       "    <tr>\n",
       "      <th>1703</th>\n",
       "      <td>864691135591960075</td>\n",
       "      <td>t</td>\n",
       "      <td>t</td>\n",
       "      <td>axon_fully_extended</td>\n",
       "      <td>dendrite_extended</td>\n",
       "      <td>269591</td>\n",
       "      <td>excitatory_neuron</td>\n",
       "      <td>5P-IT</td>\n",
       "    </tr>\n",
       "    <tr>\n",
       "      <th>1704</th>\n",
       "      <td>864691135939049988</td>\n",
       "      <td>t</td>\n",
       "      <td>t</td>\n",
       "      <td>axon_partially_extended</td>\n",
       "      <td>dendrite_clean</td>\n",
       "      <td>296761</td>\n",
       "      <td>excitatory_neuron</td>\n",
       "      <td>4P</td>\n",
       "    </tr>\n",
       "  </tbody>\n",
       "</table>\n",
       "</div>"
      ],
      "text/plain": [
       "              pt_root_id status_axon status_dendrite            strategy_axon  \\\n",
       "1700  864691135867413893           t               t  axon_partially_extended   \n",
       "1701  864691135276601317           t               t  axon_partially_extended   \n",
       "1702  864691135742247787           t               t  axon_partially_extended   \n",
       "1703  864691135591960075           t               t      axon_fully_extended   \n",
       "1704  864691135939049988           t               t  axon_partially_extended   \n",
       "\n",
       "      strategy_dendrite  nucleus_id classification_system cell_type  \n",
       "1700     dendrite_clean      263073     excitatory_neuron     5P-IT  \n",
       "1701     dendrite_clean      262889     excitatory_neuron        4P  \n",
       "1702     dendrite_clean      298800     excitatory_neuron        4P  \n",
       "1703  dendrite_extended      269591     excitatory_neuron     5P-IT  \n",
       "1704     dendrite_clean      296761     excitatory_neuron        4P  "
      ]
     },
     "execution_count": 12,
     "metadata": {},
     "output_type": "execute_result"
    }
   ],
   "source": [
    "proof_cell_type_df = pd.merge(proof_df, cell_type_df, on='pt_root_id', how='inner')\n",
    "proof_cell_type_df.tail()"
   ]
  },
  {
   "cell_type": "markdown",
   "id": "023b987a-e199-4311-9a10-09cf4cdbad1b",
   "metadata": {},
   "source": [
    "And we have the list of all proofread cells, by their cell type!\n",
    "\n",
    "We can do this same kind of query more simply by: querying the second table by BOTH the root ids of interest and the cell type of interest. If we wanted only the **proofread 23P cells**, we could do:"
   ]
  },
  {
   "cell_type": "code",
   "execution_count": 13,
   "id": "3f487eb4-87b8-483f-9d90-0c26fd589fb7",
   "metadata": {},
   "outputs": [
    {
     "name": "stderr",
     "output_type": "stream",
     "text": [
      "The `client.materialize.tables` interface is experimental and might experience breaking changes before the feature is stabilized.\n"
     ]
    },
    {
     "data": {
      "text/html": [
       "<div>\n",
       "<style scoped>\n",
       "    .dataframe tbody tr th:only-of-type {\n",
       "        vertical-align: middle;\n",
       "    }\n",
       "\n",
       "    .dataframe tbody tr th {\n",
       "        vertical-align: top;\n",
       "    }\n",
       "\n",
       "    .dataframe thead th {\n",
       "        text-align: right;\n",
       "    }\n",
       "</style>\n",
       "<table border=\"1\" class=\"dataframe\">\n",
       "  <thead>\n",
       "    <tr style=\"text-align: right;\">\n",
       "      <th></th>\n",
       "      <th>pt_root_id</th>\n",
       "      <th>nucleus_id</th>\n",
       "      <th>classification_system</th>\n",
       "      <th>cell_type</th>\n",
       "      <th>status_axon</th>\n",
       "      <th>status_dendrite</th>\n",
       "      <th>strategy_axon</th>\n",
       "      <th>strategy_dendrite</th>\n",
       "    </tr>\n",
       "  </thead>\n",
       "  <tbody>\n",
       "    <tr>\n",
       "      <th>0</th>\n",
       "      <td>864691135473477426</td>\n",
       "      <td>258375</td>\n",
       "      <td>excitatory_neuron</td>\n",
       "      <td>23P</td>\n",
       "      <td>t</td>\n",
       "      <td>t</td>\n",
       "      <td>axon_partially_extended</td>\n",
       "      <td>dendrite_clean</td>\n",
       "    </tr>\n",
       "    <tr>\n",
       "      <th>1</th>\n",
       "      <td>864691135257669039</td>\n",
       "      <td>258377</td>\n",
       "      <td>excitatory_neuron</td>\n",
       "      <td>23P</td>\n",
       "      <td>t</td>\n",
       "      <td>t</td>\n",
       "      <td>axon_partially_extended</td>\n",
       "      <td>dendrite_clean</td>\n",
       "    </tr>\n",
       "    <tr>\n",
       "      <th>2</th>\n",
       "      <td>864691135763593014</td>\n",
       "      <td>258403</td>\n",
       "      <td>excitatory_neuron</td>\n",
       "      <td>23P</td>\n",
       "      <td>t</td>\n",
       "      <td>t</td>\n",
       "      <td>axon_partially_extended</td>\n",
       "      <td>dendrite_clean</td>\n",
       "    </tr>\n",
       "    <tr>\n",
       "      <th>3</th>\n",
       "      <td>864691135763433270</td>\n",
       "      <td>258225</td>\n",
       "      <td>excitatory_neuron</td>\n",
       "      <td>23P</td>\n",
       "      <td>t</td>\n",
       "      <td>t</td>\n",
       "      <td>axon_partially_extended</td>\n",
       "      <td>dendrite_clean</td>\n",
       "    </tr>\n",
       "    <tr>\n",
       "      <th>4</th>\n",
       "      <td>864691135645874159</td>\n",
       "      <td>292833</td>\n",
       "      <td>excitatory_neuron</td>\n",
       "      <td>23P</td>\n",
       "      <td>t</td>\n",
       "      <td>t</td>\n",
       "      <td>axon_partially_extended</td>\n",
       "      <td>dendrite_clean</td>\n",
       "    </tr>\n",
       "  </tbody>\n",
       "</table>\n",
       "</div>"
      ],
      "text/plain": [
       "           pt_root_id  nucleus_id classification_system cell_type status_axon  \\\n",
       "0  864691135473477426      258375     excitatory_neuron       23P           t   \n",
       "1  864691135257669039      258377     excitatory_neuron       23P           t   \n",
       "2  864691135763593014      258403     excitatory_neuron       23P           t   \n",
       "3  864691135763433270      258225     excitatory_neuron       23P           t   \n",
       "4  864691135645874159      292833     excitatory_neuron       23P           t   \n",
       "\n",
       "  status_dendrite            strategy_axon strategy_dendrite  \n",
       "0               t  axon_partially_extended    dendrite_clean  \n",
       "1               t  axon_partially_extended    dendrite_clean  \n",
       "2               t  axon_partially_extended    dendrite_clean  \n",
       "3               t  axon_partially_extended    dendrite_clean  \n",
       "4               t  axon_partially_extended    dendrite_clean  "
      ]
     },
     "execution_count": 13,
     "metadata": {},
     "output_type": "execute_result"
    }
   ],
   "source": [
    "# Query the proofread 23P cells, and merge the proofreading status\n",
    "proof_23p_df = (client.materialize.tables.aibs_metamodel_celltypes_v661(pt_root_id=proof_df.pt_root_id, cell_type='23P').query(\n",
    "    select_columns = {'nucleus_detection_v0': ['pt_root_id', 'id'],\n",
    "                      'aibs_metamodel_celltypes_v661': ['classification_system','cell_type'],\n",
    "                     },  )\n",
    "                .rename(columns={'id': 'nucleus_id'})\n",
    "                .merge(proof_df, on='pt_root_id', how='inner')\n",
    "               )\n",
    "\n",
    "proof_23p_df.head()"
   ]
  }
 ],
 "metadata": {
  "kernelspec": {
   "display_name": "microns",
   "language": "python",
   "name": "microns"
  },
  "language_info": {
   "codemirror_mode": {
    "name": "ipython",
    "version": 3
   },
   "file_extension": ".py",
   "mimetype": "text/x-python",
   "name": "python",
   "nbconvert_exporter": "python",
   "pygments_lexer": "ipython3",
   "version": "3.8.17"
  }
 },
 "nbformat": 4,
 "nbformat_minor": 5
}
