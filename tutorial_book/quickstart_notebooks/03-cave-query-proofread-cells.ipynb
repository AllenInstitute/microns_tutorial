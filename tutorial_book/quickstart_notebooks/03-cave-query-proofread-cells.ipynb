{
 "cells": [
  {
   "cell_type": "markdown",
   "id": "32761f34",
   "metadata": {},
   "source": [
    "---\n",
    "title: \"CAVE Query: Proofread Cells\"\n",
    "format: \n",
    "    html:\n",
    "        toc: true \n",
    "        code-fold: false\n",
    "        code-links:\n",
    "          - text: Download Quickstart Notebooks\n",
    "            icon: file-code\n",
    "            href: https://github.com/AllenInstitute/microns_tutorial/tree/main/tutorial_book/quickstart_notebooks\n",
    "execute:\n",
    "    eval: False\n",
    "    warning: False\n",
    "jupyter: python3\n",
    "---"
   ]
  },
  {
   "cell_type": "markdown",
   "id": "76eba75b-c986-4924-9701-2e00f652400b",
   "metadata": {},
   "source": [
    "The **Connectome Annotation Versioning Engine (CAVE)** is a suite of tools developed at the Allen Institute and Seung Lab to manage large connectomics data.  \n",
    "\n",
    "::: {.callout-important}\n",
    "## Initial Setup\n",
    "Before using any programmatic access to the data, [you first need to set up your CAVEclient token](em_py_01_caveclient_setup.html).\n",
    ":::"
   ]
  },
  {
   "cell_type": "markdown",
   "id": "6e839112",
   "metadata": {},
   "source": [
    "## CAVEclient\n",
    "\n",
    "Most programmatic access to the CAVE services occurs through CAVEclient, a Python client to access various types of data from the online services.\n",
    "\n",
    "Full documentation for CAVEclient [is available here](http://caveclient.readthedocs.io).\n",
    "\n",
    "To initialize a caveclient, we give it a **datastack**, which is a name that defines a particular combination of imagery, segmentation, and annotation database.\n",
    "For the MICrONs public data, we use the datastack name `minnie65_public`."
   ]
  },
  {
   "cell_type": "code",
   "execution_count": 1,
   "id": "3ebc5ac7",
   "metadata": {},
   "outputs": [
    {
     "data": {
      "text/plain": [
       "'This is the publicly released version of the minnie65 volume and segmentation. '"
      ]
     },
     "execution_count": 1,
     "metadata": {},
     "output_type": "execute_result"
    }
   ],
   "source": [
    "from caveclient import CAVEclient\n",
    "datastack_name = 'minnie65_public'\n",
    "client = CAVEclient(datastack_name)\n",
    "\n",
    "# Show the description of the datastack\n",
    "client.info.get_datastack_info()['description']"
   ]
  },
  {
   "cell_type": "markdown",
   "id": "4fce5f20-e0d4-4c87-b4b9-8525747c56c5",
   "metadata": {},
   "source": [
    "### Materialization versions\n",
    "Data in CAVE is timestamped and periodically versioned - each (materialization) version corresponds to a specific timestamp. Individual versions are made publicly available. The materialization service provides annotation queries to the dataset. It is available under `client.materialize`.\n",
    "\n",
    "Periodic updates are made to the public datastack, which will include updates to the available tables. Some cells will have different `pt_root_id` because they have undergone [proofreading](/em_03_proofreading.html). \n",
    "\n",
    "It is worth checking the version of the data you are using, and specifying the version for analysis consistency."
   ]
  },
  {
   "cell_type": "code",
   "execution_count": 2,
   "id": "b8e8a165-6cae-44b4-b7c9-b52ae94eec37",
   "metadata": {
    "tags": []
   },
   "outputs": [
    {
     "data": {
      "text/plain": [
       "[1300, 1078, 117, 661, 343, 1181, 795, 943]"
      ]
     },
     "execution_count": 2,
     "metadata": {},
     "output_type": "execute_result"
    }
   ],
   "source": [
    "# see the available materialization versions\n",
    "client.materialize.get_versions()"
   ]
  },
  {
   "cell_type": "markdown",
   "id": "605e2aa8-59b1-4c62-a39b-5d19e9cff594",
   "metadata": {},
   "source": [
    "And these are their associated timestamps (all timestamps are in UTC):\n",
    "\n"
   ]
  },
  {
   "cell_type": "code",
   "execution_count": 3,
   "id": "3c9d7b64-56b6-4567-8307-775dcf139ca4",
   "metadata": {},
   "outputs": [
    {
     "name": "stdout",
     "output_type": "stream",
     "text": [
      "Version 1300: 2025-01-13 10:10:01.286229+00:00\n",
      "Version 1078: 2024-06-05 10:10:01.203215+00:00\n",
      "Version 117: 2021-06-11 08:10:00.215114+00:00\n",
      "Version 661: 2023-04-06 20:17:09.199182+00:00\n",
      "Version 343: 2022-02-24 08:10:00.184668+00:00\n",
      "Version 1181: 2024-09-16 10:10:01.121167+00:00\n",
      "Version 795: 2023-08-23 08:10:01.404268+00:00\n",
      "Version 943: 2024-01-22 08:10:01.497934+00:00\n"
     ]
    }
   ],
   "source": [
    "for version in client.materialize.get_versions():\n",
    "    print(f\"Version {version}: {client.materialize.get_timestamp(version)}\")"
   ]
  },
  {
   "cell_type": "code",
   "execution_count": 4,
   "id": "a066a177-5d23-4898-9765-4f4e620be719",
   "metadata": {
    "tags": []
   },
   "outputs": [],
   "source": [
    "# set materialization version, for consistency\n",
    "materialization = 1300 # current public as of 1/13/2025\n",
    "client.version = materialization"
   ]
  },
  {
   "cell_type": "markdown",
   "id": "9e523a4d-1ee3-46bc-950e-2ae89424076c",
   "metadata": {},
   "source": [
    "## Querying Proofread neurons"
   ]
  },
  {
   "cell_type": "markdown",
   "id": "234f71c7-4078-42f7-afbd-3af6a6924ff3",
   "metadata": {},
   "source": [
    "### Proofread neurons\n",
    "\n",
    "Proofreading is necessary to obtain accurate reconstructions of a cell. In the MICrONS dataset, the general rule is that dendrites onto cells with a _single_ cell body are sufficiently proofread to trust synaptic connections onto a cell. Axons on the other hand require so much proofread that only ~1,000 cells have axons that were proofread to various degrees such that their outputs can be used for analysis.\n",
    "\n",
    "The table `proofreading_status_and_strategy` contains proofreading information about ~1,300 neurons. <a href=https://www.microns-explorer.org/manifests/mm3-proofreading>This website</a> provides the most detailed overview. In brief, axons annotated with any `strategy_axon` were cleaned of false mergers but not all were fully extended. The most important distinction is axons annotated with `axon_column_truncated` were only proofread within a certain volume wheras others were proofread without such bias. "
   ]
  },
  {
   "cell_type": "code",
   "execution_count": 5,
   "id": "78de0c65-effb-402c-a77b-5adbe426126d",
   "metadata": {},
   "outputs": [],
   "source": [
    "proof_all_df = client.materialize.query_table(\"proofreading_status_and_strategy\", desired_resolution=[1, 1, 1], split_positions=True)"
   ]
  },
  {
   "cell_type": "code",
   "execution_count": 6,
   "id": "b89e1d76-0275-475e-9ddc-04bca7d83043",
   "metadata": {},
   "outputs": [
    {
     "data": {
      "text/plain": [
       "strategy_axon\n",
       "axon_partially_extended    1459\n",
       "none                        149\n",
       "axon_interareal             130\n",
       "axon_fully_extended         127\n",
       "Name: count, dtype: int64"
      ]
     },
     "execution_count": 6,
     "metadata": {},
     "output_type": "execute_result"
    }
   ],
   "source": [
    "proof_all_df[\"strategy_axon\"].value_counts()"
   ]
  },
  {
   "cell_type": "markdown",
   "id": "80da9718-3864-409b-8a2f-5aea9ae5e87d",
   "metadata": {},
   "source": [
    "We can filter our query to only return rows that match a condition by adding a filter to our query:"
   ]
  },
  {
   "cell_type": "code",
   "execution_count": 7,
   "id": "104bac4e-6bc1-4a20-8da5-170fc61eaaa9",
   "metadata": {},
   "outputs": [],
   "source": [
    "proof_df = client.materialize.query_table(\"proofreading_status_and_strategy\", filter_in_dict={\"strategy_axon\": [\"axon_partially_extended\", \"axon_fully_extended\", \"axon_interareal\", \"axon_column_truncated\"]}, desired_resolution=[1, 1, 1], split_positions=True)"
   ]
  },
  {
   "cell_type": "code",
   "execution_count": 8,
   "id": "f192ca62-ab4a-4f3d-bb0e-e91b44102cfa",
   "metadata": {},
   "outputs": [
    {
     "data": {
      "text/plain": [
       "strategy_axon\n",
       "axon_partially_extended    1459\n",
       "axon_interareal             130\n",
       "axon_fully_extended         127\n",
       "Name: count, dtype: int64"
      ]
     },
     "execution_count": 8,
     "metadata": {},
     "output_type": "execute_result"
    }
   ],
   "source": [
    "proof_df[\"strategy_axon\"].value_counts()"
   ]
  }
 ],
 "metadata": {
  "kernelspec": {
   "display_name": "microns",
   "language": "python",
   "name": "microns"
  },
  "language_info": {
   "codemirror_mode": {
    "name": "ipython",
    "version": 3
   },
   "file_extension": ".py",
   "mimetype": "text/x-python",
   "name": "python",
   "nbconvert_exporter": "python",
   "pygments_lexer": "ipython3",
   "version": "3.8.17"
  }
 },
 "nbformat": 4,
 "nbformat_minor": 5
}
