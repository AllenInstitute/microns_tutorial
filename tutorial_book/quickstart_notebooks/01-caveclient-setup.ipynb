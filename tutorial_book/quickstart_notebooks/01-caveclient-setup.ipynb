{
 "cells": [
  {
   "cell_type": "markdown",
   "id": "b8357d11-25e8-42e0-91b0-14d37f77d752",
   "metadata": {},
   "source": [
    "---\n",
    "title: \"CAVEclient Setup\"\n",
    "aliases:\n",
    "    - quickstart_notebooks/01-caveclient-setup.html\n",
    "format: \n",
    "    html:\n",
    "        toc: true \n",
    "        code-fold: false\n",
    "        code-links:\n",
    "          - text: Download Quickstart Notebooks\n",
    "            icon: file-code\n",
    "            href: https://github.com/AllenInstitute/microns_tutorial/tree/main/tutorial_book/quickstart_notebooks\n",
    "execute:\n",
    "    eval: False\n",
    "    warning: False\n",
    "jupyter: python3\n",
    "---"
   ]
  },
  {
   "cell_type": "markdown",
   "id": "a1bc0230-ac6d-4f17-ac23-a5e5262b25f1",
   "metadata": {},
   "source": [
    "The **Connectome Annotation Versioning Engine (CAVE)** is a suite of tools developed at the Allen Institute and Seung Lab to manage large connectomics data.  \n",
    "\n",
    "The CAVEclient is the main way to programmatically access the MICrONS data using Python.  \n",
    "In particular, the CAVEclient provides an interface to query the CAVE database for annotations such as synapses, as well as to get a variety of other kinds of information.  "
   ]
  },
  {
   "cell_type": "markdown",
   "id": "b7d9482c-8af8-4ea2-b639-dd6e4a5c9a0a",
   "metadata": {},
   "source": [
    "::: {.callout-important}\n",
    "## Initial Setup\n",
    "This process only needs to happen once per computer\n",
    ":::"
   ]
  },
  {
   "cell_type": "markdown",
   "id": "1f241538-191d-49e5-811c-90fa1d86e6ed",
   "metadata": {},
   "source": [
    "## Installation\n",
    "\n",
    "To install caveclient, use pip: `pip install caveclient`.\n",
    "\n",
    "Once you have installed caveclient, to use it you need to set up your user token in one of two ways:\n"
   ]
  },
  {
   "cell_type": "markdown",
   "id": "b4d21a4d-f16d-4584-ad12-e86b4374b743",
   "metadata": {},
   "source": [
    "## Setting up credentials \n",
    "\n",
    "To access the data programmatically, you need to set up a user token.\n",
    "This token is assigned by the server and functions as a both a username and password to access any aspect of the data.\n",
    "You will need to save this token to your computer using the tools."
   ]
  },
  {
   "cell_type": "markdown",
   "id": "4d31f892-823b-4b7f-822f-342f08a93231",
   "metadata": {},
   "source": [
    "### Scenario 1: New User, No Previous Account\n",
    "If you have never interacted with CAVE before, you will need to both create an account and get a token.\n",
    "Note that you can only have one token at a time, and thus if you create a new token any computer running a previous one will no longer have access."
   ]
  },
  {
   "cell_type": "markdown",
   "id": "49c98159-aa74-480d-ae1f-dd0d68793e81",
   "metadata": {},
   "source": [
    "Step 1: Log into a CAVE site to set up a new account with a GMail-associated email address. To do this, click [this link](https://minnie.microns-daf.com/materialize/views/datastack/minnie65_public) and acknowledge the terms of service associated with the MICrONS dataset. Once you have done this, your account is automatically created."
   ]
  },
  {
   "cell_type": "markdown",
   "id": "1b49bc1c-b691-4dd5-a578-5e0172329f89",
   "metadata": {},
   "source": [
    "Step 2: Generate a token.\n",
    "To generate a token, run the following code in a Jupyter notebook:"
   ]
  },
  {
   "cell_type": "code",
   "execution_count": null,
   "id": "b7f2fd3f-2d42-4504-aab3-48f9289c0009",
   "metadata": {},
   "outputs": [],
   "source": [
    "from caveclient import CAVEclient\n",
    "client = CAVEclient()\n",
    "client.auth.setup_token(make_new=True)"
   ]
  },
  {
   "cell_type": "markdown",
   "id": "d4c7e31e-926b-4062-b8cd-1f0811ea4fa2",
   "metadata": {},
   "source": [
    "This will open a new browser window and ask you to log in.  \n",
    "You will show you a web page with an alphanumeric string that is your token.  \n",
    "Copy your token, and save it to your computer using the following:  "
   ]
  },
  {
   "cell_type": "code",
   "execution_count": null,
   "id": "1072bff6-03fb-43c3-9d18-c99be6e55d26",
   "metadata": {},
   "outputs": [],
   "source": [
    "client.auth.save_token(token=YOUR_TOKEN)"
   ]
  },
  {
   "cell_type": "markdown",
   "id": "9d1217e2-60e4-46f0-80ce-327fa9ddf01d",
   "metadata": {},
   "source": [
    "Note that the token must be formatted as a string."
   ]
  },
  {
   "cell_type": "markdown",
   "id": "5c6c88e5-3f69-4b08-8382-1567b9b26cfe",
   "metadata": {
    "tags": []
   },
   "source": [
    "To check if your setup works, run the following:"
   ]
  },
  {
   "cell_type": "code",
   "execution_count": null,
   "id": "ae6e794c-99d2-4acc-b4d6-6ad2310da4f1",
   "metadata": {},
   "outputs": [],
   "source": [
    "client = CAVEclient('minnie65_public')"
   ]
  },
  {
   "cell_type": "markdown",
   "id": "4a0ce8bf-7c2c-45a1-8a8c-6e43c953a903",
   "metadata": {},
   "source": [
    "If you don't get any errors, your setup has worked and you can move on!"
   ]
  },
  {
   "cell_type": "markdown",
   "id": "13890a31-f2e2-4993-9b7b-ecbba6bb3395",
   "metadata": {},
   "source": [
    "### Scenario 2: Existing user, New computer\n",
    "\n",
    "If you have already created an account and token but not set up your computer yet, you can use the same token on a new computer."
   ]
  },
  {
   "cell_type": "markdown",
   "id": "ef14c201-27cd-4e66-8343-69ae0438f15a",
   "metadata": {},
   "source": [
    "Step 1) Find your token by running the following code in a Jupyter notebook:"
   ]
  },
  {
   "cell_type": "code",
   "execution_count": null,
   "id": "56724b03-08e5-47bf-9c47-8b6f83fa6c2f",
   "metadata": {},
   "outputs": [],
   "source": [
    "from caveclient import CAVEclient\n",
    "client = CAVEclient()\n",
    "client.auth.setup_token(make_new=False)"
   ]
  },
  {
   "cell_type": "markdown",
   "id": "5b5542e4-f4f9-4a51-ba8e-386b8391362e",
   "metadata": {},
   "source": [
    "This will open a new browser window and ask you to log in.  \n",
    "After lgging in, the page will display your current token (the value after the `token:`).  \n",
    "Copy this token, and save it to your computer using the following:  "
   ]
  },
  {
   "cell_type": "code",
   "execution_count": null,
   "id": "1a0293c7-dd90-4fb4-b256-a626d36868fa",
   "metadata": {},
   "outputs": [],
   "source": [
    "client.auth.save_token(token=YOUR_TOKEN, overwrite=True)"
   ]
  },
  {
   "cell_type": "markdown",
   "id": "761cc26a-58d1-462d-9fea-779346812cfb",
   "metadata": {},
   "source": [
    "Note that the token must be formatted as a string."
   ]
  },
  {
   "cell_type": "markdown",
   "id": "bef95401-304b-47a4-b1e6-44f1d501ee8b",
   "metadata": {},
   "source": [
    "To check if your setup works, run the following:"
   ]
  },
  {
   "cell_type": "code",
   "execution_count": null,
   "id": "cc3289bd-f2b3-44eb-9e13-4ec237cbda5a",
   "metadata": {},
   "outputs": [],
   "source": [
    "client = CAVEclient('minnie65_public')"
   ]
  },
  {
   "cell_type": "markdown",
   "id": "ae4d6d65-e754-4017-b3cc-a12c404929c8",
   "metadata": {},
   "source": [
    "If you don't get any errors, your setup has worked and you can move on!"
   ]
  },
  {
   "cell_type": "markdown",
   "id": "69b4fd5f-b922-438d-9875-eb0f91c920c5",
   "metadata": {},
   "source": [
    "### Something went wrong?\n",
    "\n",
    "If you are having trouble with authentication or permissions, it is probably because the token you are trying to use is not the one CAVE expects."
   ]
  },
  {
   "cell_type": "markdown",
   "id": "4dad992f-10af-4630-8b58-132c5adec5dd",
   "metadata": {},
   "source": [
    "To find your current token, run the following code in a Jupyter notebook:"
   ]
  },
  {
   "cell_type": "code",
   "execution_count": null,
   "id": "1f61f0aa-4c8d-4b41-bb42-916c017083d3",
   "metadata": {},
   "outputs": [],
   "source": [
    "client = CAVEclient()\n",
    "client.auth.token"
   ]
  },
  {
   "cell_type": "markdown",
   "id": "66b28515-ca0c-4f09-88b1-31678c4c93b0",
   "metadata": {},
   "source": [
    "The notebook will print the token your computer is sending to the server.\n",
    "\n",
    "If this token is not the one you find from running the code in Scenario 2, follow the steps there to set up your computer with the correct token."
   ]
  }
 ],
 "metadata": {
  "kernelspec": {
   "display_name": "microns",
   "language": "python",
   "name": "microns"
  },
  "language_info": {
   "codemirror_mode": {
    "name": "ipython",
    "version": 3
   },
   "file_extension": ".py",
   "mimetype": "text/x-python",
   "name": "python",
   "nbconvert_exporter": "python",
   "pygments_lexer": "ipython3",
   "version": "3.8.17"
  }
 },
 "nbformat": 4,
 "nbformat_minor": 5
}
