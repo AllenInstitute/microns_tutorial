{
 "cells": [
  {
   "cell_type": "markdown",
   "id": "26c56379-b4e4-414b-a7e6-b74e8b67136a",
   "metadata": {},
   "source": [
    "---\n",
    "title: \"Functional Data\"\n",
    "draft: true\n",
    "format: \n",
    "    html:\n",
    "        toc: true\n",
    "bibliography: references.bib\n",
    "---"
   ]
  },
  {
   "cell_type": "markdown",
   "id": "50be26c2-3110-4cbc-af31-cc3734527a1f",
   "metadata": {},
   "source": [
    "The functional data for the MICrONS project is available on DataJoint, and is hosted publicly. There are several ways to access the data.\n",
    " \n",
    "* General instructions and links are at https://www.microns-explorer.org/cortical-mm3#f-data\n",
    "* The scan and stack metadata, synchronized stimulus movies, synchronized behavioral traces, cell segmentation masks, calcium traces, and inferred spikes are available as a containerized MYSQL v5.7 database, schematized using DataJoint. This file is available for download [here](https://bossdb-open-data.s3.amazonaws.com/iarpa_microns/minnie/functional_data/two_photon_processed_data_and_metadata/database_v8/functional_data_database_container_image_v8.tar) (97 GB).\n",
    "* **Instructions for using the container are available** at https://github.com/cajal/microns-nda-access  \n",
    "* Further tutorials for interacting with the DataJoint Schemas and data are available at https://github.com/cajal/microns_phase3_nda\n",
    "* You can get access to a hosted database and interactive notebooks by following the instructions on this fork of the nda: https://github.com/datajoint/microns_phase3_nda, and running in GitHub Codespaces\n",
    "* See also the microns page on DataJoint https://www.datajoint.com/microns\n",
    "\n",
    "## Combining Structural and Functional information\n",
    "The functional data is all in DataJoint, while the EM data is all in connectome annotation versioning engine (CAVE). The two datasets are merged on the unit ID of the cell using a coregistration table in the EM dataset. \n",
    " \n",
    "For more on accessing the EM data:\n",
    "* Python tools overview https://tutorial.microns-explorer.org/python-tools.html\n",
    "* CAVEclient quickstart https://tutorial.microns-explorer.org/quickstart_notebooks/01-caveclient-setup.html\n",
    "* Example using CAVE to match the EM and functional cells https://github.com/cajal/microns_phase3_nda/blob/v8/tutorial_notebooks/Matched_Cell_Functional_Data.ipynb"
   ]
  }
 ],
 "metadata": {
  "kernelspec": {
   "display_name": "microns2025",
   "language": "python",
   "name": "microns2025"
  },
  "language_info": {
   "codemirror_mode": {
    "name": "ipython",
    "version": 3
   },
   "file_extension": ".py",
   "mimetype": "text/x-python",
   "name": "python",
   "nbconvert_exporter": "python",
   "pygments_lexer": "ipython3",
   "version": "3.11.11"
  }
 },
 "nbformat": 4,
 "nbformat_minor": 5
}
