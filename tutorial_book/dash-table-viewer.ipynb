{
 "cells": [
  {
   "cell_type": "markdown",
   "id": "ab064c07-3dcf-4e86-8558-c50c7bd2827f",
   "metadata": {
    "tags": []
   },
   "source": [
    "---\n",
    "title: \"Dash Apps: Table Viewer\"\n",
    "aliases:\n",
    "    - em_05_dash_apps.html\n",
    "format: \n",
    "    html:\n",
    "        toc: true\n",
    "bibliography: references.bib\n",
    "---"
   ]
  },
  {
   "cell_type": "markdown",
   "id": "f72669a9-d223-4e16-823e-1cfdf4ce5ceb",
   "metadata": {},
   "source": [
    "We have created two webapps to help explore and visualize the data. These apps were created using the [Dash](https://plotly.com/dash/) framework, hence the name."
   ]
  },
  {
   "cell_type": "markdown",
   "id": "8b1ff5f3-c332-4068-a1b6-b8afc304f027",
   "metadata": {},
   "source": [
    "## Table Viewer\n",
    "\n",
    "The [**Table Viewer**](https://minnie.microns-daf.com/dash/datastack/minnie65_public/apps/table_viewer/?datastack=%22minnie65_public%22) app allows you to query individual tables in the database, filter them, and visualize the results in Neuroglancer.\n",
    "\n",
    "![Table viewer input options](img/table-viewer.png)\n"
   ]
  },
  {
   "cell_type": "markdown",
   "id": "0f02b9b2-16d6-4ba7-85df-54ae18acd768",
   "metadata": {},
   "source": [
    "In the Table Viewer, you first select one of the tables from a dropdown in the upper left side.\n",
    "\n",
    "The `Live Query` option is not relevent for the public data.\n",
    "\n",
    "Filter options allow you to limit the query to a subset of the data, if desired.\n",
    "Note that filtering can occur in the tables afterward as well.\n",
    "\n",
    "The `Cell IDs` field lets you put in one or more root IDs, cell IDs (i.e. \"Nucleus ID\"), or IDs from the annotation table being queried.\n",
    "Note that if you use this option, you havet to set the dropdown to the appropriate ID type.\n",
    "\n",
    "The `Value Search` field lets you search for a particular value, such as a specific cell type.\n",
    "\n",
    "Once you have selected your table and set any pre-query filters, click the `Submit` button to run the query.\n",
    "When the query is done, a green bar will appear below the query input stating that it's showing the state of the table you queried.\n",
    "\n",
    "The first set of controls allow you to build a Neuroglancer link for the whole table using the \"Generate Link\" button.\n",
    "\n",
    "Optionally, if you would like to make a link where different values of a given column — example, different cell types — are shown in different layers, you can turn on the \"Group Annotations\" toggle on the right and select the column you want to use for groupings.\n",
    "\n",
    "After setting these controls, click the \"Generate Link\" button to create the Neuroglancer link.\n",
    "\n",
    "![Table viewer query results.](img/table-viewer-table.png)"
   ]
  },
  {
   "cell_type": "markdown",
   "id": "1865ad5d-0a93-4646-8df2-b3b93cc04cd0",
   "metadata": {},
   "source": [
    "The table itself is shown below the controls.\n",
    "You can sort the table by clicking on the column headers, and filter the table by typing in the filter box below the column headers.  \n",
    "\n",
    "For example, if you want to find only cells with cell type \"5P-NP\" in a cell type column, simply type `5P-NP` in the box under the column header. Similarly, to find only cells whose nucleus volume is greater than 500, type `>500` in the box under the `volume` column header in a table with nucleus information.\n",
    "\n",
    "In addition, individual rows can be selected by clicking on the checkbox to the left of the row.\n",
    "\n",
    "The left button along the top is a Neuroglancer link specific to the selected rows, if present, or the table as filtered if no rows are selected.\n",
    "\n",
    "The orange button will deselect all checkboxes, and the \"Export to CSV\" will download the table as filtered to a CSV.\n",
    "\n",
    "::: {.callout-warning}\n",
    "If the table is too large (well beyond 10,000 rows), there are too many annotations to show in Neuroglancer and no link will be automatically generated.\n",
    ":::"
   ]
  }
 ],
 "metadata": {
  "kernelspec": {
   "display_name": "microns",
   "language": "python",
   "name": "microns"
  },
  "language_info": {
   "codemirror_mode": {
    "name": "ipython",
    "version": 3
   },
   "file_extension": ".py",
   "mimetype": "text/x-python",
   "name": "python",
   "nbconvert_exporter": "python",
   "pygments_lexer": "ipython3",
   "version": "3.8.17"
  }
 },
 "nbformat": 4,
 "nbformat_minor": 5
}
