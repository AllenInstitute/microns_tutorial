{
 "cells": [
  {
   "cell_type": "markdown",
   "id": "c64977f0-2004-4454-92b8-2f209e695608",
   "metadata": {},
   "source": [
    "---\n",
    "title: \"Annotation Tables\"\n",
    "aliases:\n",
    "    - programmatic_access/em_py_03_annotation_tables.html\n",
    "format: \n",
    "    html:\n",
    "        toc: true \n",
    "        code-fold: false\n",
    "execute:\n",
    "    eval: False\n",
    "    warning: False\n",
    "jupyter: python3\n",
    "bibliography: references.bib\n",
    "---"
   ]
  },
  {
   "cell_type": "markdown",
   "id": "cbd54ae9-cb69-4e93-b40b-5ba4218f1710",
   "metadata": {},
   "source": [
    "{{< include _annotation_tables/_version_tip.qmd >}}"
   ]
  },
  {
   "cell_type": "markdown",
   "id": "56ee7642-d393-4a0c-9fd6-f384fdbcb621",
   "metadata": {},
   "source": [
    "The `minnie65_public` data release includes a number of annotation tables that help label the dataset.\n",
    "This section describes the content of each of these tables — [see here for instructions for how to query and filter tables](/quickstart_notebooks/em_py_02_cave_quickstart.html).\n",
    "\n",
    "\n",
    "Unless otherwise specificied (i.e. via `desired_resolution`), all positions are in units of 4,4,40 nm/voxel resolution.\n"
   ]
  },
  {
   "cell_type": "markdown",
   "id": "405b0e7f-3a28-43f6-af6a-5c69a15f9510",
   "metadata": {},
   "source": [
    "## Common Fields\n",
    "\n",
    "Several fields (or column names) are common to many tables.\n",
    "These fall into two main classes: the spatial point columns that are how we assign annotations to cells via points in the 3d space and book-keeping columns, that are used internally to track the state of the data."
   ]
  },
  {
   "cell_type": "markdown",
   "id": "5ccacf94-6ede-40f5-b22b-182d7d42f8f8",
   "metadata": {},
   "source": [
    "### Spatial Point Columns\n",
    "\n",
    "Most tables have one or more **Bound Spatial Points**, which is a location in the 3d space that tells the annotation to remain associated with the root id at that location.\n",
    "\n",
    "Bound spatial points have will have one prefix, usually `pt` (i.e. \"point\") and three associated columns with different suffixes: `_position`, `_supervoxel_id`, and `_root_id`.\n",
    "\n",
    "For a given prefix `{pt}`, the three columns are as follows:\n",
    "\n",
    "* The `{pt}_position` indicates the location of the point in 3d space.\n",
    "* The `{pt}_supervoxel_id` indicates a unique identifier in the segmentation, and is mostly internal bookkeeping.\n",
    "* The `{pt}_root_id` indicates the root id of the annotation at that location."
   ]
  },
  {
   "cell_type": "markdown",
   "id": "001f2f52-ff83-49e9-b809-d79cbc4671a3",
   "metadata": {},
   "source": [
    "### Book-keeping Columns\n",
    "\n",
    "Several columns are common to many or all tables, and mostly used as internal book-keeping.\n",
    "Rather than describe these for every table, they will just be mentioned briefly here:\n",
    "\n",
    "| Column | Description |\n",
    "| :--- | :--- |\n",
    "| `id` | A unique ID specific to the annotation within that table |\n",
    "| `created` | Internal bookkeeping column, should always be `t` for data you can download |\n",
    "| `valid` | A unique ID specific to the annotation within that table |\n",
    "| `target_id` | Some tables reference other tables, particularly the nucleus table. If present, this column will be the same as `id` |\n",
    "| `created_ref` / `valid_ref` / `id_ref` (optional) | For reference tables, the data shows both the created/valid/id of the reference annotation and the target annotation. The values with the `_ref` suffix are those of the reference table (usually something like proofreading state or cell type) and the values without a suffix ar ethose of the target table (usually a nucleus) |\n",
    "\n",
    ": Common columns {.light .hover}\n"
   ]
  },
  {
   "cell_type": "markdown",
   "id": "7fbcfd54-3ae6-4f8e-a851-f1b9c614100a",
   "metadata": {},
   "source": [
    "## Synapse Table\n",
    "{{< include _annotation_tables/_synapses_pni_2.qmd >}}\n"
   ]
  },
  {
   "cell_type": "markdown",
   "id": "1803619c-3fec-41ea-99c7-6b72c281dcd5",
   "metadata": {},
   "source": [
    "## Nucleus tables\n",
    "\n",
    "The 'nucleus centroid' of a cell is unlikely to change with proofreading, and so is a useful static identifier for a given cell. The results of automatic nucleus segmentation and neuron-detection are avialable in the following tables. These tables are often the 'reference' table for other annotations."
   ]
  },
  {
   "cell_type": "markdown",
   "id": "9cda8212-e61f-4d32-989b-553ddc5a75b7",
   "metadata": {},
   "source": [
    "### Nucleus Detection Table\n",
    "{{< include _annotation_tables/_nucleus_detection_v0.qmd >}}\n",
    "\n",
    "### Nucleus brain area assignment\n",
    "{{< include _annotation_tables/_nucleus_functional_area_assignment.qmd >}}"
   ]
  },
  {
   "cell_type": "markdown",
   "id": "25b4ab42-0c89-4a69-850f-d17843b4a757",
   "metadata": {},
   "source": [
    ":::: {.callout-note appearance=\"minimal\" collapse=true}\n",
    "### Neuron-Nucleus Table\n",
    "\n",
    "::: {.callout-important}\n",
    "This table is superseded by other cell typing below, but remains here for convenient reference as it is relevant to other tables such as `aibs_metamodel_celltypes_v661`.\n",
    ":::\n",
    "\n",
    "{{< include _annotation_tables/_nucleus_ref_neuron_svm.qmd >}}\n",
    "\n",
    "::::"
   ]
  },
  {
   "cell_type": "markdown",
   "id": "405ad91a-8ee7-4ad7-aed4-022aff360269",
   "metadata": {},
   "source": [
    "## Cell Type Tables\n",
    "\n",
    "There are several tables that contain information about the cell type of neurons in the dataset, with each table representing a different method of doing the classificaiton.\n",
    "Because each method requires a different kind of information, not all cells are present in all tables.\n",
    "Each of the cell types tables has the same format and in all cases the `id` column references the nucleus id of the cell in question."
   ]
  },
  {
   "cell_type": "markdown",
   "id": "6fcf49eb-dca3-498d-9350-1242141a24b3",
   "metadata": {},
   "source": [
    "### Manual Cell Types (V1 Column)\n",
    "\n",
    "{{< include _annotation_tables/_allen_v1_column_types_slanted_ref.qmd >}}\n",
    "\n",
    "\n",
    "::: {.callout-note appearance=\"minimal\" collapse=true}\n",
    "### Manual Cell Types (non-neurons)\n",
    "| Cell Type | Subclass | Description |\n",
    "| :--- | :--- | :--- |\n",
    "| `OPC` | Non-neuronal | Oligodendrocyte precursor cell | \n",
    "| `astrocyte` | Non-neuronal | Astrocyte | \n",
    "| `microglia` | Non-neuronal | Microglia | \n",
    "| `pericyte` | Non-neuronal | Pericyte | \n",
    "| `oligo` | Non-neuronal | Oligodendrocyte | \n",
    "\n",
    ": AIBS Manual Cell Type definitions (non-neurons) {.light .hover}\n",
    "\n",
    ":::\n",
    "\n",
    "```python\n",
    "# Standard query\n",
    "client.materialize.query_table('aibs_column_nonneuronal_ref')\n",
    "\n",
    "# Content-aware query\n",
    "client.materialize.tables.aibs_column_nonneuronal_ref(id=example_nucleus_id).query()\n",
    "```"
   ]
  },
  {
   "cell_type": "markdown",
   "id": "8dd690f7-c69b-44e2-9e2f-fe65ae2245d5",
   "metadata": {},
   "source": [
    "### Predictions from soma/nucleus features\n",
    "\n",
    "{{< include _annotation_tables/_aibs_metamodel_celltypes_v661.qmd >}}\n",
    "\n",
    "Previous versions of this table include: `aibs_soma_nuc_metamodel_preds_v117` (run on a subset of data, the V1 column) and `aibs_soma_nuc_exc_mtype_preds_v117` (using training data labeled by another classifier: see `mtypes` below). "
   ]
  },
  {
   "cell_type": "markdown",
   "id": "66d31e0a-935c-42dc-b35e-5a2d2a1ec2c7",
   "metadata": {},
   "source": [
    "### Coarse prediction from spine detection\n",
    "\n",
    "{{< include _annotation_tables/_baylor_log_reg_cell_type_coarse_v1.qmd >}}"
   ]
  },
  {
   "cell_type": "markdown",
   "id": "f2409cbd-983e-4ac7-9f08-fb6351a0fc79",
   "metadata": {},
   "source": [
    "### Fine prediction from dendritic features\n",
    "\n",
    "{{< include _annotation_tables/_aibs_metamodel_mtypes_v661_v2.qmd >}}\n",
    "\n",
    "Previous versions of this table include: `aibs_soma_nuc_exc_mtype_preds_v117` (run at v117), `allen_column_mtypes_v1` and `allen_column_mtypes_v2` (run on a subset of data, the V1 column)"
   ]
  },
  {
   "cell_type": "markdown",
   "id": "657d160c-99c7-4622-b2e9-3b0d9e5c557f",
   "metadata": {},
   "source": [
    "## Proofreading Tables\n",
    "\n",
    "### Proofreading Status and Strategy\n",
    "{{< include _annotation_tables/_proofreading_status_and_strategy.qmd >}}\n"
   ]
  },
  {
   "cell_type": "markdown",
   "id": "5383f17e-6a55-48ac-889a-36e6f6eeaff0",
   "metadata": {
    "jp-MarkdownHeadingCollapsed": true,
    "tags": []
   },
   "source": [
    ":::: {.callout-note appearance=\"minimal\" collapse=true}\n",
    "#### Proofreading status at public release\n",
    "\n",
    "::: {.callout-important}\n",
    "This table is out-of-date, and remains here for convenient reference\n",
    ":::\n",
    "\n",
    "{{< include _annotation_tables/_proofreading_status_public_release.qmd >}}\n",
    "\n",
    "::::"
   ]
  },
  {
   "cell_type": "markdown",
   "id": "dad48339-6f05-401e-8681-bbefefb078ba",
   "metadata": {
    "tags": []
   },
   "source": [
    "## Functional Coregistration Tables\n",
    "\n",
    "To relate the structural data to functional data, cell bodies must be coregistered between the functional imaging and EM volumes. As with cell-typing, there are __manual__ and __automated__ methods for doing this, with the former having higher accuracy but lower throughput.\n",
    "\n",
    "* `coregistration_manual_v4` : The results of manually verified coregistration. This table is well-verified, but contains fewer `ROI`s (N=15,352 root ids, 19,181 ROIs).\n",
    "* `coregistration_auto_phase3_fwd_apl_vess_combined_v2` : The results of automated functional matching between the EM and 2-p functional data. This table is not manually verified, but contains more `ROI`s (N=35,466 root ids, N=83,046 ROIs).\n",
    "\n",
    "### Manual coregistration\n",
    "{{< include _annotation_tables/_coregistration_manual_v4.qmd >}}\n",
    "\n",
    "### Automated coregistration\n",
    "{{< include _annotation_tables/_coregistration_auto_phase3_fwd_apl_vess_combined_v2.qmd >}}\n"
   ]
  },
  {
   "cell_type": "markdown",
   "id": "2bb09258-ff18-4f81-861e-e530c4a6581a",
   "metadata": {},
   "source": [
    "### Functional properties\n",
    "\n",
    "{{< include _annotation_tables/_digital_twin_properties_bcm_coreg_v4.qmd >}}\n",
    "\n",
    "**Merged to Automatic Coregistration**\n",
    "\n",
    "Table name: `digital_twin_properties_bcm_coreg_auto_phase3_fwd_v2`\n",
    "\n",
    "Follows the same scheme as `digital_twin_properties_bcm_coreg_v4`, but uses the coregistration information from: `coregistration_auto_phase3_fwd_v2`.\n",
    "\n",
    "```python\n",
    "# Standard query\n",
    "client.materialize.query_table('digital_twin_properties_bcm_coreg_auto_phase3_fwd_v2')\n",
    "\n",
    "# Content-aware query\n",
    "client.materialize.tables.digital_twin_properties_bcm_coreg_auto_phase3_fwd_v2(id=example_nucleus_id).query()\n",
    "```\n",
    "\n",
    "Table name: `digital_twin_properties_bcm_coreg_apl_vess_fwd`\n",
    "\n",
    "Follows the same scheme as `digital_twin_properties_bcm_coreg_v4`, but uses the coregistration information from: `apl_functional_coreg_vess_fwd`.\n",
    "\n",
    "```python\n",
    "# Standard query\n",
    "client.materialize.query_table('digital_twin_properties_bcm_coreg_apl_vess_fwd')\n",
    "\n",
    "# Content-aware query\n",
    "client.materialize.tables.digital_twin_properties_bcm_coreg_apl_vess_fwd(id=example_nucleus_id).query()\n",
    "```\n"
   ]
  },
  {
   "cell_type": "markdown",
   "id": "02d1151a-7a2b-49bd-973a-5a582e53cb50",
   "metadata": {},
   "source": [
    "## Overview of relevant tables\n",
    "| Table Name | Number of Annotations | Description |\n",
    "| :--- | :--- | :--- |\n",
    "| `synapses_pni_2` | 337,312,429 | The locations of synapses and the segment ids of the pre and post-synaptic automated synapse detection\n",
    "| `nucleus_detection_v0` | 144,120 | The locations of nuclei detected via a fully automated method |\n",
    "| `nucleus_alternative_points`| 8,388 | A reference annotation table marking alternative segment_id lookup locations for a subset of nuclei in nucleus_detection_v0 that is more accurate than the centroid location listed there |\n",
    "| `nucleus_ref_neuron_svm` | 144,120 |  reference annotation indicating the output of a model detecting which nucleus detections are neurons versus which are not 1 |\n",
    "| `coregistration_manual_v4` | 19,181 |  A table indicating the association between individual units in the functional imaging data and nuclei in the structural data, derived from human powered matching. Includes residual and separation scores to help assess confidence |\n",
    "| `coregistration_auto_phase3_fwd_apl_vess_combined_v2` | 83,046 |  A table indicating the association between individual units in the functional imaging data and nuclei in the structural data, derived from the automated procedure. Includes residuals and separation scores to help assess confidence |\n",
    "| `proofreading_status_and_strategy` | 2020 |  A table indicating which neurons have been proofread on their axons or dendrites |\n",
    "| `aibs_column_nonneuronal_ref` | 542 | Cell type reference annotations from a human expert of non-neuronal cells located amongst the Minnie Column |\n",
    "| `allen_v1_column_types_slanted_ref` | 1,357 | Neuron cell type reference annotations from human experts of neuronal cells located amongst the Minnie Column |\n",
    "| `allen_column_mtypes_v1` | 1,357 | Neuron cell type reference annotations from data driven unsupervised clustering of neuronal cells |\n",
    "| `aibs_metamodel_mtypes_v661_v2`| 72,158| Reference annotations indicating the output of a model predicting cell types across the dataset based on the labels from allen_column_mtypes_v1.1 |\n",
    "| `aibs_metamodel_celltypes_v661` | 94,014 | Reference annotations indicating the output of a model predicting cell classes based on the labels from allen_v1_column_types_slanted_ref and aibs_column_nonneuronal_ref |\n",
    "| `baylor_log_reg_cell_type_coarse_v1` | 55,063 | Reference annotations indicated the output of a logistic regression model predicting whether the nucleus is part of an excitatory or inhibitory cell |\n",
    "| `baylor_gnn_cell_type_fine_model_v2` | 49,051 | Reference annotations indicated the output of a graph neural network model predicting the cell type based on the human labels in allen_v1_column_types_slanted_ref |\n",
    "| `vortex_astrocyte_proofreading_status` | 126 |  This table reports the status of a manually selected subset of astrocytes within the VISP column. Astrocyte seelection and proofreading performed as part of VORTEX.  |\n",
    "\n",
    ": heard you like tables--here's a table for your tables {.light .hover}"
   ]
  }
 ],
 "metadata": {
  "kernelspec": {
   "display_name": "microns",
   "language": "python",
   "name": "microns"
  },
  "language_info": {
   "codemirror_mode": {
    "name": "ipython",
    "version": 3
   },
   "file_extension": ".py",
   "mimetype": "text/x-python",
   "name": "python",
   "nbconvert_exporter": "python",
   "pygments_lexer": "ipython3",
   "version": "3.8.17"
  }
 },
 "nbformat": 4,
 "nbformat_minor": 5
}
