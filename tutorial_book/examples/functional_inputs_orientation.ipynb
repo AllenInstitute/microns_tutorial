{
 "cells": [
  {
   "cell_type": "markdown",
   "id": "ba5d7c10-e0bf-4d03-9072-6b8b4de9d340",
   "metadata": {},
   "source": [
    "---\n",
    "title: \"Label preferred-orientation of synaptic inputs\"\n",
    "format: \n",
    "    html:\n",
    "        toc: true \n",
    "        code-fold: false\n",
    "jupyter: python3\n",
    "---"
   ]
  },
  {
   "cell_type": "markdown",
   "id": "188459d6-0c25-46bf-a47d-6ccc9b8c6e1f",
   "metadata": {},
   "source": [
    "This example uses the plotting package **PyVista** for interactive rendering. Any rendering program that takes vertices and edges can work."
   ]
  },
  {
   "cell_type": "code",
   "execution_count": 2,
   "id": "d1e27f3f-79b0-4159-bb71-495381de8c78",
   "metadata": {},
   "outputs": [],
   "source": [
    "import pandas as pd\n",
    "import numpy as np\n",
    "\n",
    "from caveclient import CAVEclient\n",
    "import cloudvolume \n",
    "\n",
    "import pyvista as pv\n",
    "import matplotlib as mpl\n",
    "import matplotlib.pyplot as plt"
   ]
  },
  {
   "cell_type": "markdown",
   "id": "724cb424-2d06-46b5-9ca3-a03c41370aea",
   "metadata": {},
   "source": [
    "## Query the functional properties of coregistered cells"
   ]
  },
  {
   "cell_type": "code",
   "execution_count": 6,
   "id": "06503964-32cb-47b3-a39a-2094a6c0eea3",
   "metadata": {
    "tags": []
   },
   "outputs": [
    {
     "name": "stdout",
     "output_type": "stream",
     "text": [
      "12094\n"
     ]
    }
   ],
   "source": [
    "# Set version to the most recent major version with a flat segmentation\n",
    "client = CAVEclient(\"minnie65_public\")\n",
    "client.version = 1300\n",
    "\n",
    "# Query functional properties, keep value with highest cc_abs\n",
    "functional_df = client.materialize.tables.functional_properties_v3_bcm().query(\n",
    "    select_columns = {'nucleus_detection_v0': ['id', 'pt_root_id'],\n",
    "                      'functional_properties_v3_bcm': ['pref_dir','pref_ori','cc_abs'],\n",
    "                     },\n",
    ")\n",
    "print(len(functional_df))"
   ]
  },
  {
   "cell_type": "markdown",
   "id": "d1bf863a-c576-4ea1-816f-f02b28549cd5",
   "metadata": {},
   "source": [
    "This table includes duplicates on `pt_root_id` because some cells were recorded in more than one session. For this analysis, we will keep the derived properties from the recording with the highest quality, denoted under `cc_abs`"
   ]
  },
  {
   "cell_type": "code",
   "execution_count": 14,
   "id": "47c3c4dc-8e23-48a6-9078-9ab8a462041e",
   "metadata": {},
   "outputs": [
    {
     "name": "stdout",
     "output_type": "stream",
     "text": [
      "10631\n"
     ]
    }
   ],
   "source": [
    "# Keep the row with highest cc_abs\n",
    "functional_df = (functional_df\n",
    "                 .sort_values('cc_abs', ascending=False)\n",
    "                 .drop_duplicates(subset='id', keep='first')\n",
    "                 .reset_index(drop=True)\n",
    "                )\n",
    "\n",
    "print(len(functional_df))"
   ]
  },
  {
   "cell_type": "markdown",
   "id": "d9621074-81bd-4318-b368-be7a80e6c0d4",
   "metadata": {},
   "source": [
    "## Select an example functional cell"
   ]
  },
  {
   "cell_type": "code",
   "execution_count": 9,
   "id": "f20eb82d-ec13-4485-94ee-51c214879020",
   "metadata": {},
   "outputs": [
    {
     "data": {
      "text/html": [
       "<div>\n",
       "<style scoped>\n",
       "    .dataframe tbody tr th:only-of-type {\n",
       "        vertical-align: middle;\n",
       "    }\n",
       "\n",
       "    .dataframe tbody tr th {\n",
       "        vertical-align: top;\n",
       "    }\n",
       "\n",
       "    .dataframe thead th {\n",
       "        text-align: right;\n",
       "    }\n",
       "</style>\n",
       "<table border=\"1\" class=\"dataframe\">\n",
       "  <thead>\n",
       "    <tr style=\"text-align: right;\">\n",
       "      <th></th>\n",
       "      <th>id</th>\n",
       "      <th>pre_pt_root_id</th>\n",
       "      <th>post_pt_root_id</th>\n",
       "      <th>ctr_pt_position</th>\n",
       "    </tr>\n",
       "  </thead>\n",
       "  <tbody>\n",
       "    <tr>\n",
       "      <th>0</th>\n",
       "      <td>174174984</td>\n",
       "      <td>864691135392563698</td>\n",
       "      <td>864691135655627458</td>\n",
       "      <td>[186856, 191906, 22934]</td>\n",
       "    </tr>\n",
       "    <tr>\n",
       "      <th>1</th>\n",
       "      <td>162422539</td>\n",
       "      <td>864691135448388082</td>\n",
       "      <td>864691135655627458</td>\n",
       "      <td>[178626, 205198, 22722]</td>\n",
       "    </tr>\n",
       "    <tr>\n",
       "      <th>2</th>\n",
       "      <td>173960580</td>\n",
       "      <td>864691135615882692</td>\n",
       "      <td>864691135655627458</td>\n",
       "      <td>[185226, 196182, 22506]</td>\n",
       "    </tr>\n",
       "    <tr>\n",
       "      <th>3</th>\n",
       "      <td>189711855</td>\n",
       "      <td>864691136911120750</td>\n",
       "      <td>864691135655627458</td>\n",
       "      <td>[195675, 191580, 20316]</td>\n",
       "    </tr>\n",
       "    <tr>\n",
       "      <th>4</th>\n",
       "      <td>142643510</td>\n",
       "      <td>864691134753572256</td>\n",
       "      <td>864691135655627458</td>\n",
       "      <td>[170124, 106842, 19907]</td>\n",
       "    </tr>\n",
       "  </tbody>\n",
       "</table>\n",
       "</div>"
      ],
      "text/plain": [
       "          id      pre_pt_root_id     post_pt_root_id          ctr_pt_position\n",
       "0  174174984  864691135392563698  864691135655627458  [186856, 191906, 22934]\n",
       "1  162422539  864691135448388082  864691135655627458  [178626, 205198, 22722]\n",
       "2  173960580  864691135615882692  864691135655627458  [185226, 196182, 22506]\n",
       "3  189711855  864691136911120750  864691135655627458  [195675, 191580, 20316]\n",
       "4  142643510  864691134753572256  864691135655627458  [170124, 106842, 19907]"
      ]
     },
     "execution_count": 9,
     "metadata": {},
     "output_type": "execute_result"
    }
   ],
   "source": [
    "root_id = 864691135655627458\n",
    "\n",
    "# query the input synapses\n",
    "syn_df = client.materialize.synapse_query(post_ids=root_id)[['id','pre_pt_root_id','post_pt_root_id','ctr_pt_position']]\n",
    "syn_df.head()"
   ]
  },
  {
   "cell_type": "markdown",
   "id": "77e705b9-9935-483c-b09d-505910fb6ce8",
   "metadata": {},
   "source": [
    "## Merge the functional properties to the synapse table"
   ]
  },
  {
   "cell_type": "code",
   "execution_count": 15,
   "id": "4f1cb1b8-b5e5-47bd-baab-d32e07a49420",
   "metadata": {},
   "outputs": [
    {
     "data": {
      "text/html": [
       "<div>\n",
       "<style scoped>\n",
       "    .dataframe tbody tr th:only-of-type {\n",
       "        vertical-align: middle;\n",
       "    }\n",
       "\n",
       "    .dataframe tbody tr th {\n",
       "        vertical-align: top;\n",
       "    }\n",
       "\n",
       "    .dataframe thead th {\n",
       "        text-align: right;\n",
       "    }\n",
       "</style>\n",
       "<table border=\"1\" class=\"dataframe\">\n",
       "  <thead>\n",
       "    <tr style=\"text-align: right;\">\n",
       "      <th></th>\n",
       "      <th>id</th>\n",
       "      <th>pre_pt_root_id</th>\n",
       "      <th>post_pt_root_id</th>\n",
       "      <th>ctr_pt_position</th>\n",
       "      <th>pref_ori_pre</th>\n",
       "      <th>pref_ori_post</th>\n",
       "    </tr>\n",
       "  </thead>\n",
       "  <tbody>\n",
       "    <tr>\n",
       "      <th>8961</th>\n",
       "      <td>159745553</td>\n",
       "      <td>864691135539486066</td>\n",
       "      <td>864691135655627458</td>\n",
       "      <td>[178414, 121410, 21070]</td>\n",
       "      <td>2.646102</td>\n",
       "      <td>2.573279</td>\n",
       "    </tr>\n",
       "    <tr>\n",
       "      <th>9001</th>\n",
       "      <td>158198769</td>\n",
       "      <td>864691135519025802</td>\n",
       "      <td>864691135655627458</td>\n",
       "      <td>[175653, 124157, 20593]</td>\n",
       "      <td>0.102209</td>\n",
       "      <td>2.573279</td>\n",
       "    </tr>\n",
       "    <tr>\n",
       "      <th>9006</th>\n",
       "      <td>160833418</td>\n",
       "      <td>864691135293488822</td>\n",
       "      <td>864691135655627458</td>\n",
       "      <td>[178344, 125064, 21023]</td>\n",
       "      <td>1.344499</td>\n",
       "      <td>2.573279</td>\n",
       "    </tr>\n",
       "    <tr>\n",
       "      <th>9043</th>\n",
       "      <td>165737524</td>\n",
       "      <td>864691135993150913</td>\n",
       "      <td>864691135655627458</td>\n",
       "      <td>[179838, 104038, 20625]</td>\n",
       "      <td>1.417019</td>\n",
       "      <td>2.573279</td>\n",
       "    </tr>\n",
       "    <tr>\n",
       "      <th>9077</th>\n",
       "      <td>158328537</td>\n",
       "      <td>864691134990217850</td>\n",
       "      <td>864691135655627458</td>\n",
       "      <td>[178680, 203290, 22572]</td>\n",
       "      <td>2.914949</td>\n",
       "      <td>2.573279</td>\n",
       "    </tr>\n",
       "  </tbody>\n",
       "</table>\n",
       "</div>"
      ],
      "text/plain": [
       "             id      pre_pt_root_id     post_pt_root_id  \\\n",
       "8961  159745553  864691135539486066  864691135655627458   \n",
       "9001  158198769  864691135519025802  864691135655627458   \n",
       "9006  160833418  864691135293488822  864691135655627458   \n",
       "9043  165737524  864691135993150913  864691135655627458   \n",
       "9077  158328537  864691134990217850  864691135655627458   \n",
       "\n",
       "              ctr_pt_position  pref_ori_pre  pref_ori_post  \n",
       "8961  [178414, 121410, 21070]      2.646102       2.573279  \n",
       "9001  [175653, 124157, 20593]      0.102209       2.573279  \n",
       "9006  [178344, 125064, 21023]      1.344499       2.573279  \n",
       "9043  [179838, 104038, 20625]      1.417019       2.573279  \n",
       "9077  [178680, 203290, 22572]      2.914949       2.573279  "
      ]
     },
     "execution_count": 15,
     "metadata": {},
     "output_type": "execute_result"
    }
   ],
   "source": [
    "# Combine functional measure to synapse table (preferred orientation)\n",
    "\n",
    "coreg_syn_ori = (syn_df.merge(functional_df[['pt_root_id', 'pref_ori']],\n",
    "                              left_on='pre_pt_root_id',\n",
    "                              right_on='pt_root_id', \n",
    "                              how='left')\n",
    "                 .drop(columns={'pt_root_id'})\n",
    ")\n",
    "\n",
    "coreg_syn_ori = (coreg_syn_ori.merge(functional_df[['pt_root_id', 'pref_ori']],\n",
    "                                     left_on='post_pt_root_id', \n",
    "                                     right_on='pt_root_id', \n",
    "                                     how='left',\n",
    "                                     suffixes=['_pre','_post'])\n",
    "                   .drop(columns={'pt_root_id'})\n",
    ")\n",
    "\n",
    "# Drop the synaptic partners without an orientation preference (non coregistered cells)\n",
    "coreg_syn_ori = coreg_syn_ori.dropna(subset=['pref_ori_pre','pref_ori_post'])\n",
    "\n",
    "\n",
    "coreg_syn_ori.tail()"
   ]
  },
  {
   "cell_type": "markdown",
   "id": "154fb623-5c72-46f9-aa5d-3f762518f71e",
   "metadata": {},
   "source": [
    "## Load the static mesh for one cell"
   ]
  },
  {
   "cell_type": "code",
   "execution_count": 16,
   "id": "39f85210-9ffb-48bb-8639-dfd9af959074",
   "metadata": {
    "tags": []
   },
   "outputs": [],
   "source": [
    "# Set the static segmentaiton source to the most recent flat segmentation where that root id is valid\n",
    "seg_source = 'precomputed://gs://iarpa_microns/minnie/minnie65/seg_m1300'\n",
    "\n",
    "# load from cloudvolume\n",
    "cv = cloudvolume.CloudVolume(seg_source, progress=False, use_https=True)\n",
    "mesh = cv.mesh.get(root_id, lod=2)[root_id]"
   ]
  },
  {
   "cell_type": "code",
   "execution_count": 17,
   "id": "28ed5fc9-0214-49c4-a659-0538fa7d063c",
   "metadata": {
    "tags": []
   },
   "outputs": [],
   "source": [
    "# Render the mesh vertices for pyvista\n",
    "vertices = mesh.vertices\n",
    "faces = mesh.faces\n",
    "\n",
    "# add a column of all 3s to the faces\n",
    "padded_faces = np.concatenate([np.full((faces.shape[0], 1), 3), faces], axis=1)\n",
    "\n",
    "mesh_poly = pv.PolyData(vertices, faces=padded_faces)\n",
    "\n",
    "# Flip with y axis\n",
    "mesh_poly.points[:, 1] *= -1"
   ]
  },
  {
   "cell_type": "markdown",
   "id": "5da4f84f-dd19-46ee-af13-cb5aa0bf1e70",
   "metadata": {},
   "source": [
    "### set the color map for orientation"
   ]
  },
  {
   "cell_type": "code",
   "execution_count": 19,
   "id": "e845e050-d02a-4aac-b03c-d42cd14cd0eb",
   "metadata": {},
   "outputs": [
    {
     "data": {
      "image/png": "[encoded data removed]",
      "text/plain": [
       "<Figure size 400x400 with 1 Axes>"
      ]
     },
     "metadata": {},
     "output_type": "display_data"
    }
   ],
   "source": [
    "fig = plt.figure(figsize=[4,4])\n",
    "\n",
    "quant_steps = 2056\n",
    "colormap = plt.get_cmap('hsv', quant_steps)\n",
    "norm = mpl.colors.Normalize(0.0, np.pi)\n",
    "\n",
    "display_axes = fig.add_axes([0.1,0.1,0.8,0.8], projection='polar')\n",
    "norm = mpl.colors.Normalize(0.0, np.pi)\n",
    "\n",
    "# # Plot the colorbar onto the polar axis\n",
    "cb = mpl.colorbar.ColorbarBase(display_axes, cmap=colormap,\n",
    "                               norm=norm,\n",
    "                               orientation='horizontal') \n",
    "# use orientation horizontal so that the gradient goes around the wheel rather than centre out\n",
    "\n",
    "# aesthetics - get rid of border and axis labels                                   \n",
    "cb.outline.set_visible(False)                                 \n",
    "display_axes.set_rlim([-1,1])\n",
    "display_axes.set_title('Preferred orientation (degrees)', y=0, loc='center')\n",
    "plt.show() "
   ]
  },
  {
   "cell_type": "markdown",
   "id": "6feb4811-58aa-445a-9b71-0689878a4d1d",
   "metadata": {},
   "source": [
    "## Format the synapse positions"
   ]
  },
  {
   "cell_type": "code",
   "execution_count": 20,
   "id": "28ecc946-636d-4e8c-9cb2-979b73bc37ab",
   "metadata": {},
   "outputs": [],
   "source": [
    "# format the synapse positions\n",
    "presyn_positions = np.vstack(coreg_syn_ori.ctr_pt_position.to_numpy()).astype(float)\n",
    "presyn_positions = presyn_positions*np.tile([4,4,40],[len(presyn_positions),1])\n",
    "pre_syn_poly = pv.PolyData(presyn_positions)\n",
    "\n",
    "# Flip with y axis\n",
    "pre_syn_poly.points[:, 1] *= -1\n",
    "\n",
    "pre_syn_colors = colormap(coreg_syn_ori.pref_ori_pre)\n",
    "post_syn_color = colormap(coreg_syn_ori.pref_ori_post)[0]"
   ]
  },
  {
   "cell_type": "markdown",
   "id": "9acb40b4-ff05-42c8-b52b-df7f301882fb",
   "metadata": {},
   "source": [
    "## Initialize plotting object, add mesh and annotations"
   ]
  },
  {
   "cell_type": "code",
   "execution_count": 21,
   "id": "9135fff4-cb24-4681-94a8-2609a43b1555",
   "metadata": {},
   "outputs": [
    {
     "data": {
      "application/vnd.jupyter.widget-view+json": {
       "model_id": "a132c7caee4d4076a136a82108059f7e",
       "version_major": 2,
       "version_minor": 0
      },
      "text/plain": [
       "Widget(value='<iframe src=\"http://localhost:63154/index.html?ui=P_0x213f1395d50_0&reconnect=auto\" class=\"pyvis…"
      ]
     },
     "metadata": {},
     "output_type": "display_data"
    }
   ],
   "source": [
    "pv.set_jupyter_backend(\"client\")\n",
    "plotter = pv.Plotter(image_scale=10)\n",
    "\n",
    "plotter.add_mesh(mesh_poly, color=post_syn_color, opacity=0.3)\n",
    "plotter.add_mesh(pre_syn_poly, scalars=pre_syn_colors, rgb=True, point_size=10)\n",
    "\n",
    "plotter.camera_position = 'zy'\n",
    "plotter.set_background('#fbfbfb')\n",
    "\n",
    "plotter.show()"
   ]
  },
  {
   "cell_type": "code",
   "execution_count": 23,
   "id": "7ff7ec04-7e09-460a-bcb0-bca1175cad9e",
   "metadata": {},
   "outputs": [],
   "source": [
    "#| echo: false\n",
    "plotter.export_html('../img/interactives/coregistered_orientation_example.html')\n"
   ]
  },
  {
   "cell_type": "markdown",
   "id": "402373a2-0834-43c3-954e-2f1abb3e20b2",
   "metadata": {},
   "source": [
    "<center>Interactive: Preferred orientation of functionally-characterized cell inputs</center>\n",
    "\n",
    "<iframe src=\"../img/interactives/coregistered_orientation_example.html\" width=\"950px\" height=\"600px\" style=\"border: 2px;  \"></iframe>"
   ]
  }
 ],
 "metadata": {
  "kernelspec": {
   "display_name": "microns2025",
   "language": "python",
   "name": "microns2025"
  },
  "language_info": {
   "codemirror_mode": {
    "name": "ipython",
    "version": 3
   },
   "file_extension": ".py",
   "mimetype": "text/x-python",
   "name": "python",
   "nbconvert_exporter": "python",
   "pygments_lexer": "ipython3",
   "version": "3.11.11"
  }
 },
 "nbformat": 4,
 "nbformat_minor": 5
}
