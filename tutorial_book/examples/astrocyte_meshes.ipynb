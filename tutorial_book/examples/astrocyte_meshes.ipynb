{
 "cells": [
  {
   "cell_type": "markdown",
   "id": "ba5d7c10-e0bf-4d03-9072-6b8b4de9d340",
   "metadata": {},
   "source": [
    "---\n",
    "title: \"Download and render astrocyte meshes\"\n",
    "format: \n",
    "    html:\n",
    "        toc: true \n",
    "        code-fold: false\n",
    "jupyter: python3\n",
    "---"
   ]
  },
  {
   "cell_type": "markdown",
   "id": "188459d6-0c25-46bf-a47d-6ccc9b8c6e1f",
   "metadata": {},
   "source": [
    "This example uses the plotting package **PyVista** for interactive rendering. Any rendering program that takes vertices and edges can work."
   ]
  },
  {
   "cell_type": "code",
   "execution_count": 1,
   "id": "d1e27f3f-79b0-4159-bb71-495381de8c78",
   "metadata": {},
   "outputs": [],
   "source": [
    "import pandas as pd\n",
    "import numpy as np\n",
    "\n",
    "from caveclient import CAVEclient\n",
    "import pyvista as pv\n",
    "import cloudvolume \n",
    "import seaborn as sns"
   ]
  },
  {
   "cell_type": "markdown",
   "id": "63c282b1-f7ea-415a-86fe-1ac6b35b89a9",
   "metadata": {},
   "source": [
    "## Query the proofread astrocytes"
   ]
  },
  {
   "cell_type": "code",
   "execution_count": 2,
   "id": "7cc497c8-8508-4dfe-a74c-87a040cbfa12",
   "metadata": {
    "tags": []
   },
   "outputs": [
    {
     "name": "stdout",
     "output_type": "stream",
     "text": [
      "[864691136057675736 864691135852189639 864691135995876778\n",
      " 864691135527301979 864691135955003656 864691134886294010\n",
      " 864691135970105957 864691135772920395 864691135384083674\n",
      " 864691135234576473 864691135164125997 864691136298097435]\n"
     ]
    }
   ],
   "source": [
    "# Set version to the most recent datastack with a flat segmentation\n",
    "client = CAVEclient(\"minnie65_public\")\n",
    "client.version = 1300\n",
    "\n",
    "# Load the proofread astrocytes\n",
    "astrocyte_df = client.materialize.tables.vortex_astrocyte_proofreading_status(status='clean').query(\n",
    "    split_positions=True)\n",
    "\n",
    "# sort by y position\n",
    "astrocyte_df = astrocyte_df.sort_values('pt_position_y')\n",
    "\n",
    "root_ids = astrocyte_df.pt_root_id.unique()\n",
    "print(root_ids)"
   ]
  },
  {
   "cell_type": "markdown",
   "id": "6eb2a7eb-9f80-4a6e-babb-5c88f5bc830e",
   "metadata": {},
   "source": [
    "## Load the static meshes for all cells"
   ]
  },
  {
   "cell_type": "code",
   "execution_count": 3,
   "id": "83a42e91-f749-4fb9-9b02-f2e39a0d9277",
   "metadata": {
    "tags": []
   },
   "outputs": [],
   "source": [
    "# Set the static segmentaiton source\n",
    "seg_source = 'precomputed://gs://iarpa_microns/minnie/minnie65/seg_m1300'\n",
    "\n",
    "# load from cloudvolume\n",
    "cv = cloudvolume.CloudVolume(seg_source, progress=False, use_https=True)\n",
    "all_meshes = cv.mesh.get(root_ids, lod=3)"
   ]
  },
  {
   "cell_type": "markdown",
   "id": "9acb40b4-ff05-42c8-b52b-df7f301882fb",
   "metadata": {},
   "source": [
    "## Initialize plotting object, add all astrocytes"
   ]
  },
  {
   "cell_type": "code",
   "execution_count": 6,
   "id": "9135fff4-cb24-4681-94a8-2609a43b1555",
   "metadata": {},
   "outputs": [
    {
     "data": {
      "application/vnd.jupyter.widget-view+json": {
       "model_id": "ec73fcacf2b346d9a1b0ada3f073c60a",
       "version_major": 2,
       "version_minor": 0
      },
      "text/plain": [
       "Widget(value='<iframe src=\"http://localhost:54273/index.html?ui=P_0x204afa5cf90_1&reconnect=auto\" class=\"pyvis…"
      ]
     },
     "metadata": {},
     "output_type": "display_data"
    }
   ],
   "source": [
    "pv.set_jupyter_backend(\"client\")\n",
    "plotter = pv.Plotter()\n",
    "\n",
    "colormap = list(sns.color_palette('tab20').as_hex())\n",
    "\n",
    "# Plot the first 6 astrocytes\n",
    "for mm in range(6):\n",
    "    mesh = all_meshes[root_ids[mm]]\n",
    "\n",
    "    # Render the mesh vertices for pyvista\n",
    "    vertices = mesh.vertices\n",
    "    faces = mesh.faces\n",
    "    \n",
    "    # add a column of all 3s to the faces\n",
    "    padded_faces = np.concatenate([np.full((faces.shape[0], 1), 3), faces], axis=1)\n",
    "    \n",
    "    mesh_poly = pv.PolyData(vertices, faces=padded_faces)\n",
    "    \n",
    "    # Flip with y axis\n",
    "    mesh_poly.points[:, 1] *= -1\n",
    "\n",
    "    silhouette = dict(\n",
    "        color=colormap[mm],\n",
    "        line_width=0.5,\n",
    "    )\n",
    "\n",
    "    plotter.add_mesh(mesh_poly, color=colormap[mm], opacity=0.5, silhouette=silhouette)\n",
    "\n",
    "plotter.camera_position = 'zy'\n",
    "plotter.camera.zoom(1.0)\n",
    "plotter.set_background('#fbfbfb')\n",
    "\n",
    "plotter.show()"
   ]
  },
  {
   "cell_type": "code",
   "execution_count": 5,
   "id": "7ff7ec04-7e09-460a-bcb0-bca1175cad9e",
   "metadata": {},
   "outputs": [],
   "source": [
    "#| echo: false\n",
    "plotter.export_html('../img/interactives/six_astrocytes.html')\n"
   ]
  },
  {
   "cell_type": "markdown",
   "id": "402373a2-0834-43c3-954e-2f1abb3e20b2",
   "metadata": {},
   "source": [
    "<center> Interactive: Six 'cleaned' astrocytes </center>\n",
    "\n",
    "\n",
    "<iframe src=\"../img/interactives/six_astrocytes.html\" width=\"950px\" height=\"600px\" style=\"border: 2px;  \"></iframe>"
   ]
  }
 ],
 "metadata": {
  "kernelspec": {
   "display_name": "microns2025",
   "language": "python",
   "name": "microns2025"
  },
  "language_info": {
   "codemirror_mode": {
    "name": "ipython",
    "version": 3
   },
   "file_extension": ".py",
   "mimetype": "text/x-python",
   "name": "python",
   "nbconvert_exporter": "python",
   "pygments_lexer": "ipython3",
   "version": "3.11.11"
  }
 },
 "nbformat": 4,
 "nbformat_minor": 5
}
