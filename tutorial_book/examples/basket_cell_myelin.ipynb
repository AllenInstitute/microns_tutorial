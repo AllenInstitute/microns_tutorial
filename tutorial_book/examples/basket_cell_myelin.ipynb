{
 "cells": [
  {
   "cell_type": "markdown",
   "id": "ba5d7c10-e0bf-4d03-9072-6b8b4de9d340",
   "metadata": {},
   "source": [
    "---\n",
    "title: \"Apply myelin labels to basket cell axon\"\n",
    "format: \n",
    "    html:\n",
    "        toc: true \n",
    "        code-fold: false\n",
    "jupyter: python3\n",
    "---"
   ]
  },
  {
   "cell_type": "markdown",
   "id": "188459d6-0c25-46bf-a47d-6ccc9b8c6e1f",
   "metadata": {},
   "source": [
    "This example uses the plotting package **PyVista** for interactive rendering. Any rendering program that takes vertices and edges can work."
   ]
  },
  {
   "cell_type": "code",
   "execution_count": 1,
   "id": "d1e27f3f-79b0-4159-bb71-495381de8c78",
   "metadata": {},
   "outputs": [],
   "source": [
    "import pandas as pd\n",
    "import numpy as np\n",
    "\n",
    "from caveclient import CAVEclient\n",
    "import pyvista as pv\n",
    "import cloudvolume \n",
    "import seaborn as sns"
   ]
  },
  {
   "cell_type": "markdown",
   "id": "724cb424-2d06-46b5-9ca3-a03c41370aea",
   "metadata": {},
   "source": [
    "## Query a myelinated cell"
   ]
  },
  {
   "cell_type": "code",
   "execution_count": 2,
   "id": "06503964-32cb-47b3-a39a-2094a6c0eea3",
   "metadata": {
    "tags": []
   },
   "outputs": [
    {
     "name": "stderr",
     "output_type": "stream",
     "text": [
      "Table Owner Notice on vortex_manual_myelination_v0: Myelination status assessed for the axon of the VALID_ID, not the pt_root_id.\n",
      "Table Owner Notice on vortex_manual_nodes_of_ranvier: Nodes and myelination assessed for the VALID_ID; if pt_root_id does not match valid_id, the segment has undergone proofreading. Proceed with caution.\n"
     ]
    }
   ],
   "source": [
    "# Set version to first data release with manual myelination labels\n",
    "client = CAVEclient(\"minnie65_public\")\n",
    "client.version = 1078\n",
    "\n",
    "# Load the myelin values \n",
    "myelin_df = client.materialize.tables.vortex_manual_myelination_v0().query(\n",
    "    desired_resolution=[1,1,1])\n",
    "\n",
    "# Load the nodes of Ranvier\n",
    "nodes_df = client.materialize.tables.vortex_manual_nodes_of_ranvier().query(\n",
    "    desired_resolution=[1,1,1])"
   ]
  },
  {
   "cell_type": "code",
   "execution_count": 3,
   "id": "5ff6cdb1-3173-4a4f-a4f6-0574b7f6090c",
   "metadata": {},
   "outputs": [
    {
     "data": {
      "text/plain": [
       "array([864691135808631069, 864691136210378684, 864691135639556411,\n",
       "       864691135162983725, 864691136724881917])"
      ]
     },
     "execution_count": 3,
     "metadata": {},
     "output_type": "execute_result"
    }
   ],
   "source": [
    "myelin_df.valid_id.unique()"
   ]
  },
  {
   "cell_type": "code",
   "execution_count": 4,
   "id": "cfb7c725-50e1-4483-a9bf-29c21cdb1cd7",
   "metadata": {},
   "outputs": [],
   "source": [
    "# select an example myelinated basket cell\n",
    "root_id = 864691136210378684 "
   ]
  },
  {
   "cell_type": "markdown",
   "id": "154fb623-5c72-46f9-aa5d-3f762518f71e",
   "metadata": {},
   "source": [
    "## Load the static mesh for one cell"
   ]
  },
  {
   "cell_type": "code",
   "execution_count": 5,
   "id": "39f85210-9ffb-48bb-8639-dfd9af959074",
   "metadata": {
    "tags": []
   },
   "outputs": [],
   "source": [
    "# Set the static segmentaiton source to the most recent flat segmentation where that root id is valid\n",
    "seg_source = 'precomputed://gs://iarpa_microns/minnie/minnie65/seg_m943'\n",
    "\n",
    "# load from cloudvolume\n",
    "cv = cloudvolume.CloudVolume(seg_source, progress=False, use_https=True)\n",
    "mesh = cv.mesh.get(root_id, lod=2)[root_id]"
   ]
  },
  {
   "cell_type": "code",
   "execution_count": 6,
   "id": "28ed5fc9-0214-49c4-a659-0538fa7d063c",
   "metadata": {
    "tags": []
   },
   "outputs": [],
   "source": [
    "# Render the mesh vertices for pyvista\n",
    "vertices = mesh.vertices\n",
    "faces = mesh.faces\n",
    "\n",
    "# add a column of all 3s to the faces\n",
    "padded_faces = np.concatenate([np.full((faces.shape[0], 1), 3), faces], axis=1)\n",
    "\n",
    "mesh_poly = pv.PolyData(vertices, faces=padded_faces)\n",
    "\n",
    "# Flip with y axis\n",
    "mesh_poly.points[:, 1] *= -1"
   ]
  },
  {
   "cell_type": "code",
   "execution_count": 7,
   "id": "d111891a-5b9b-41cb-a603-05448ab41677",
   "metadata": {
    "tags": []
   },
   "outputs": [],
   "source": [
    "# Format the myelin annotations \n",
    "myelin_points = np.vstack(myelin_df.query(f\"(valid_id=={root_id}) & (tag=='t')\").pt_position.to_numpy()).astype(float)\n",
    "myelin_poly = pv.PolyData(myelin_points)\n",
    "\n",
    "# Flip with y axis\n",
    "myelin_poly.points[:, 1] *= -1"
   ]
  },
  {
   "cell_type": "code",
   "execution_count": 8,
   "id": "47c57286-7bb3-48f2-818b-cdd2331d0e4e",
   "metadata": {
    "tags": []
   },
   "outputs": [],
   "source": [
    "# Format the node annotations \n",
    "ranvier_points = np.vstack(nodes_df.query(f\"(valid_id=={root_id})\").pt_position.to_numpy()).astype(float)\n",
    "ranvier_poly = pv.PolyData(ranvier_points)\n",
    "\n",
    "# Flip with y axis\n",
    "ranvier_poly.points[:, 1] *= -1"
   ]
  },
  {
   "cell_type": "markdown",
   "id": "9acb40b4-ff05-42c8-b52b-df7f301882fb",
   "metadata": {},
   "source": [
    "## Initialize plotting object, add mesh and annotations"
   ]
  },
  {
   "cell_type": "code",
   "execution_count": 9,
   "id": "9135fff4-cb24-4681-94a8-2609a43b1555",
   "metadata": {},
   "outputs": [
    {
     "data": {
      "application/vnd.jupyter.widget-view+json": {
       "model_id": "be76d72b11b8474a860b82c0b3513fab",
       "version_major": 2,
       "version_minor": 0
      },
      "text/plain": [
       "Widget(value='<iframe src=\"http://localhost:54665/index.html?ui=P_0x1adb63b50d0_0&reconnect=auto\" class=\"pyvis…"
      ]
     },
     "metadata": {},
     "output_type": "display_data"
    }
   ],
   "source": [
    "pv.set_jupyter_backend(\"client\")\n",
    "plotter = pv.Plotter(image_scale=10)\n",
    "\n",
    "silhouette = dict(\n",
    "    color=[.06, .48, .67],\n",
    "    line_width=0.5,\n",
    ")\n",
    "\n",
    "plotter.add_mesh(mesh_poly, color=[.06, .48, .67], opacity=0.75, silhouette=silhouette)\n",
    "plotter.add_mesh(myelin_poly, point_size=6, color=\"orange\", opacity=0.5)\n",
    "\n",
    "plotter.camera_position = 'zy'\n",
    "plotter.camera.zoom(1.0)\n",
    "plotter.set_background('#fbfbfb')\n",
    "\n",
    "plotter.show()"
   ]
  },
  {
   "cell_type": "code",
   "execution_count": 5,
   "id": "7ff7ec04-7e09-460a-bcb0-bca1175cad9e",
   "metadata": {},
   "outputs": [],
   "source": [
    "#| echo: false\n",
    "plotter.export_html('../img/interactives/'basket_cell_myelinated.html')\n"
   ]
  },
  {
   "cell_type": "markdown",
   "id": "402373a2-0834-43c3-954e-2f1abb3e20b2",
   "metadata": {},
   "source": [
    "<center>Interactive: Myelination (yellow) annotated along basket cell axon (blue)</center>\n",
    "\n",
    "<iframe src=\"../img/interactives/basket_cell_myelinated.html\" width=\"950px\" height=\"600px\" style=\"border: 2px;  \"></iframe>"
   ]
  }
 ],
 "metadata": {
  "kernelspec": {
   "display_name": "microns2025",
   "language": "python",
   "name": "microns2025"
  },
  "language_info": {
   "codemirror_mode": {
    "name": "ipython",
    "version": 3
   },
   "file_extension": ".py",
   "mimetype": "text/x-python",
   "name": "python",
   "nbconvert_exporter": "python",
   "pygments_lexer": "ipython3",
   "version": "3.11.11"
  }
 },
 "nbformat": 4,
 "nbformat_minor": 5
}
