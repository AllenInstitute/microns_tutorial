{
 "cells": [
  {
   "cell_type": "markdown",
   "id": "223a40b5-4dea-430f-b40b-b98aa1620029",
   "metadata": {},
   "source": [
    "## Programmatic Interaction with Neuroglancer States"
   ]
  },
  {
   "cell_type": "markdown",
   "id": "f10de0da-ab62-4ebc-8099-5870e67c371d",
   "metadata": {},
   "source": [
    "Visualizing data in Neuroglancer is one of the easiest ways to explore it in its full context.\n",
    "The python package `nglui` was made to make it easy to generate Neuroglancer states from data, particularly pandas dataframes, in a progammatic manner.\n",
    "The package can be installed with `pip install nglui`."
   ]
  },
  {
   "cell_type": "markdown",
   "id": "f13f2bde-3184-4aa6-982a-d3193312af81",
   "metadata": {},
   "source": [
    ":::{important}\n",
    "The `nglui` package interacts prominantly with `caveclient` and annotations queried from the database.\n",
    "See the section on [querying the database](em:query-tables-section) to learn more.\n",
    ":::"
   ]
  },
  {
   "cell_type": "markdown",
   "id": "13347e09-8a82-40a7-90bf-ca81c3445077",
   "metadata": {},
   "source": [
    "### Parsing Neuroglancer states"
   ]
  },
  {
   "cell_type": "markdown",
   "id": "a7d062fb-a09a-4a10-af3e-85f8d5bcdf41",
   "metadata": {},
   "source": [
    "The `nglui.parser` package can be used to parse Neuroglancer states.  \n",
    "\n",
    "The simplest way to parse the annotations in a Neuroglancer state is to first save the state using the Share button, and then copy the state id (the last number in the URL).  \n",
    "For example, for the share URL `https://neuroglancer.neuvue.io/?json_url=https://global.daf-apis.com/nglstate/api/v1/5560000195854336`, the state id is `5560000195854336`  \n",
    "\n",
    "You can then download the json and then use the `annotation_dataframe` function to generate a comprehensive dataframe of all the annotations in the state.  "
   ]
  },
  {
   "cell_type": "code",
   "execution_count": null,
   "id": "88f2c1aa-03c0-4880-ae00-f6901d0246bf",
   "metadata": {},
   "outputs": [],
   "source": [
    "import os\n",
    "from caveclient import CAVEclient\n",
    "from nglui import parser\n",
    "\n",
    "client = CAVEclient('minnie65_public')\n",
    "\n",
    "state_id = 5560000195854336\n",
    "state = client.state.get_state_json(state_id)\n",
    "parser.annotation_dataframe(state)"
   ]
  },
  {
   "cell_type": "markdown",
   "id": "8bbd6fd9-46ce-44a9-9355-ab00ad910f9e",
   "metadata": {},
   "source": [
    "Note that tags in the dataframe are stored as a list of integers, with each integer corresponding to one of the tags in the list.  \n",
    "To get the mapping between the tag index and the tag name for each layer, you can use the `tag_dictionary` function."
   ]
  },
  {
   "cell_type": "code",
   "execution_count": null,
   "id": "5d108ad8-9e54-463b-8f85-39cf5fb47f45",
   "metadata": {},
   "outputs": [],
   "source": [
    "parser.tag_dictionary(state, layer_name='syns_out')"
   ]
  },
  {
   "cell_type": "markdown",
   "id": "8a82f2f8-2c99-45a7-a3c7-c3fc28448999",
   "metadata": {},
   "source": [
    "### Generating Neuroglancer States from Data"
   ]
  },
  {
   "cell_type": "markdown",
   "id": "a6fad6de-b722-43bd-b62e-21bbea1d9189",
   "metadata": {},
   "source": [
    "The `nglui.statebuilder` package is used to build Neuroglancer states that express arbitrary data.\n",
    "The general pattern is that one makes a \"StateBuilder\" object that has rules for how to build a Neuroglancer state layer by layer, including selecting certain neurons, and populate layers of annotations.  \n",
    "You then pass a DataFrame to the StateBuiler, and the rules tell it how to render the DataFrame into a Neuroglancer link.  \n",
    "The same set of rules can be used on similar dataframes but with different data, such as synapses from different neurons.  \n",
    "To understand the detailed use of the package, please see the [tutorial](https://github.com/seung-lab/NeuroglancerAnnotationUI/blob/master/examples/statebuilder_examples.ipynb).\n",
    "\n",
    "However, a number of basic helper functions allow `nglui` to be used for common functions in just a few lines.\n",
    "\n",
    "For example, to generate a Neuroglancer state that shows a neuron and its synaptic inputs and outputs, we can use the `make_neuron_neuroglancer_link` helper function."
   ]
  },
  {
   "cell_type": "code",
   "execution_count": null,
   "id": "657910bc-023f-4be4-839f-2845d164259a",
   "metadata": {},
   "outputs": [],
   "source": [
    "from nglui.statebuilder import helpers\n",
    "\n",
    "helpers.make_neuron_neuroglancer_link(\n",
    "    client,\n",
    "    864691135122603047,\n",
    "    show_inputs=True,\n",
    "    show_outputs=True,\n",
    ")"
   ]
  },
  {
   "cell_type": "markdown",
   "id": "d95e8f9c-391a-4b0e-908d-dac7b6743f1c",
   "metadata": {},
   "source": [
    "The main helper functions are:\n",
    "\n",
    "* `make_neuron_neuroglancer_link` - Shows one or more neurons and, optionally, synaptic inputs and/or outputs.\n",
    "* `make_synapse_neuroglancer_link` - Using a pre-downloaded synapse table, make a link that shows the synapse and the listed synaptic partners.\n",
    "* `make_point_statebuilder` - Generate a statebuilder that to map a dataframe containing points (by default, formatted like a cell types table) to a Neuroglancer link.\n",
    "\n",
    "In all cases, please look at the docstrings for more information on how to use the functions."
   ]
  }
 ],
 "metadata": {
  "kernelspec": {
   "display_name": "microns",
   "language": "python",
   "name": "microns"
  },
  "language_info": {
   "codemirror_mode": {
    "name": "ipython",
    "version": 3
   },
   "file_extension": ".py",
   "mimetype": "text/x-python",
   "name": "python",
   "nbconvert_exporter": "python",
   "pygments_lexer": "ipython3",
   "version": "3.8.17"
  }
 },
 "nbformat": 4,
 "nbformat_minor": 5
}
